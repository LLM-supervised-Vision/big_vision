{
 "cells": [
  {
   "cell_type": "code",
   "execution_count": 2,
   "metadata": {},
   "outputs": [
    {
     "name": "stderr",
     "output_type": "stream",
     "text": [
      "2024-08-13 19:19:39.602161: E external/local_xla/xla/stream_executor/cuda/cuda_fft.cc:485] Unable to register cuFFT factory: Attempting to register factory for plugin cuFFT when one has already been registered\n",
      "2024-08-13 19:19:39.625370: E external/local_xla/xla/stream_executor/cuda/cuda_dnn.cc:8454] Unable to register cuDNN factory: Attempting to register factory for plugin cuDNN when one has already been registered\n",
      "2024-08-13 19:19:39.632487: E external/local_xla/xla/stream_executor/cuda/cuda_blas.cc:1452] Unable to register cuBLAS factory: Attempting to register factory for plugin cuBLAS when one has already been registered\n",
      "2024-08-13 19:19:40.779464: W tensorflow/compiler/tf2tensorrt/utils/py_utils.cc:38] TF-TRT Warning: Could not find TensorRT\n"
     ]
    }
   ],
   "source": [
    "import sys\n",
    "sys.path.append('/home/austinwang/austin_big_vision')\n",
    "\n",
    "import io\n",
    "import jax\n",
    "import numpy as np\n",
    "import big_vision.utils as u\n",
    "from gemma import params as params_lib\n",
    "\n",
    "path_checkpoint = '/home/austinwang/gemma_ckpt/2b/'\n",
    "parameters = params_lib.load_and_format_params(path_checkpoint)\n",
    "\n",
    "local_np_save_path = '/home/austinwang/gemma2b.npz'"
   ]
  },
  {
   "cell_type": "code",
   "execution_count": 5,
   "metadata": {},
   "outputs": [],
   "source": [
    "def gemma_pyloop_to_scan(params_pyloop):\n",
    "  \"\"\"Converts a python for-loop gemma checkpoint to a lax.scan based one.\"\"\"\n",
    "  # On a high level, they are the same except that the for loop has separate\n",
    "  # array pytrees for each encoderblock, while the scan one has just one\n",
    "  # encoderblock pytree, with all block's params concatenated.\n",
    "\n",
    "  params_scan = jax.tree.map(lambda x: x, params_pyloop)  # Structural copy\n",
    "  t = params_scan[\"transformer\"]\n",
    "\n",
    "  # Find highest index of layers in the checkpoint (they start at 0):\n",
    "  layers = {k for k in t if k.startswith(\"layer_\")}\n",
    "  depth = 1 + max({int(k.split(\"_\")[-1]) for k in layers})\n",
    "\n",
    "  def stack(*values): return np.stack(values)\n",
    "\n",
    "  # Stack all layers into a single one:\n",
    "  t[\"layer\"] = jax.tree.map(stack, *[t[f\"layer_{lyr}\"] for lyr in range(depth)])\n",
    "\n",
    "  for lyr in range(depth): del t[f\"layer_{lyr}\"]\n",
    "\n",
    "  return params_scan\n"
   ]
  },
  {
   "cell_type": "code",
   "execution_count": 6,
   "metadata": {},
   "outputs": [],
   "source": [
    "ckpt = {'params': gemma_pyloop_to_scan(parameters)['transformer']}\n",
    "names_and_vals, _ = u.tree_flatten_with_names(ckpt)\n",
    "names_and_vals = [(n, v.astype(np.float32)) for n, v in names_and_vals] # convert bf16 pos_emb to fp32 to avoid void np.dtype error\n",
    "io_buffer = io.BytesIO()\n",
    "np.savez(io_buffer, **{k: v for k, v in names_and_vals})\n",
    "# save to local\n",
    "with open(local_np_save_path, \"wb\") as f: f.write(io_buffer.getvalue())"
   ]
  },
  {
   "cell_type": "code",
   "execution_count": 7,
   "metadata": {},
   "outputs": [
    {
     "name": "stdout",
     "output_type": "stream",
     "text": [
      "params/embedder/input_embedding (256128, 2048) float32\n",
      "params/final_norm/scale (2048,) float32\n",
      "params/layer/attn/attn_vec_einsum/w (18, 8, 256, 2048) float32\n",
      "params/layer/attn/kv_einsum/w (18, 2, 1, 2048, 256) float32\n",
      "params/layer/attn/q_einsum/w (18, 8, 2048, 256) float32\n",
      "params/layer/mlp/gating_einsum (18, 2, 2048, 16384) float32\n",
      "params/layer/mlp/linear (18, 16384, 2048) float32\n",
      "params/layer/pre_attention_norm/scale (18, 2048) float32\n",
      "params/layer/pre_ffw_norm/scale (18, 2048) float32\n"
     ]
    }
   ],
   "source": [
    "model_p = u.npload(local_np_save_path)\n",
    "for key in model_p.keys():\n",
    "    print(key, model_p[key].shape, model_p[key].dtype)"
   ]
  },
  {
   "cell_type": "code",
   "execution_count": null,
   "metadata": {},
   "outputs": [],
   "source": []
  }
 ],
 "metadata": {
  "kernelspec": {
   "display_name": "Python 3",
   "language": "python",
   "name": "python3"
  },
  "language_info": {
   "codemirror_mode": {
    "name": "ipython",
    "version": 3
   },
   "file_extension": ".py",
   "mimetype": "text/x-python",
   "name": "python",
   "nbconvert_exporter": "python",
   "pygments_lexer": "ipython3",
   "version": "3.10.14"
  }
 },
 "nbformat": 4,
 "nbformat_minor": 2
}
