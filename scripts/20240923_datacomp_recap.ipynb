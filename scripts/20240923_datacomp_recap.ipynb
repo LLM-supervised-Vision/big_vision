{
 "cells": [
  {
   "cell_type": "code",
   "execution_count": 1,
   "metadata": {},
   "outputs": [
    {
     "name": "stderr",
     "output_type": "stream",
     "text": [
      "2024-09-24 05:35:35.784348: E external/local_xla/xla/stream_executor/cuda/cuda_fft.cc:485] Unable to register cuFFT factory: Attempting to register factory for plugin cuFFT when one has already been registered\n",
      "2024-09-24 05:35:35.807048: E external/local_xla/xla/stream_executor/cuda/cuda_dnn.cc:8454] Unable to register cuDNN factory: Attempting to register factory for plugin cuDNN when one has already been registered\n",
      "2024-09-24 05:35:35.814022: E external/local_xla/xla/stream_executor/cuda/cuda_blas.cc:1452] Unable to register cuBLAS factory: Attempting to register factory for plugin cuBLAS when one has already been registered\n",
      "2024-09-24 05:35:35.829488: I tensorflow/core/platform/cpu_feature_guard.cc:210] This TensorFlow binary is optimized to use available CPU instructions in performance-critical operations.\n",
      "To enable the following instructions: AVX2 FMA, in other operations, rebuild TensorFlow with the appropriate compiler flags.\n",
      "2024-09-24 05:35:36.882559: W tensorflow/compiler/tf2tensorrt/utils/py_utils.cc:38] TF-TRT Warning: Could not find TensorRT\n",
      "/mnt/vlm-pd/miniconda3/envs/vlm/lib/python3.10/site-packages/tqdm/auto.py:21: TqdmWarning: IProgress not found. Please update jupyter and ipywidgets. See https://ipywidgets.readthedocs.io/en/stable/user_install.html\n",
      "  from .autonotebook import tqdm as notebook_tqdm\n",
      "8it [00:01,  8.65it/s]"
     ]
    },
    {
     "name": "stdout",
     "output_type": "stream",
     "text": [
      "Error downloading https://media.istockphoto.com/vectors/christmas-balls-with-stripes-and-snowflakes-new-year-tree-decoration-vector-id621497892: 400 Client Error: Bad Request for url: https://media.istockphoto.com/vectors/christmas-balls-with-stripes-and-snowflakes-new-year-tree-decoration-vector-id621497892\n"
     ]
    },
    {
     "name": "stderr",
     "output_type": "stream",
     "text": [
      "17it [00:06,  2.98it/s]"
     ]
    },
    {
     "name": "stdout",
     "output_type": "stream",
     "text": [
      "Error downloading http://img.cricketworld.com/images/c-045629/sharuban-kanthasamy.jpg: 403 Client Error: Forbidden for url: http://img.cricketworld.com/images/c-045629/sharuban-kanthasamy.jpg\n"
     ]
    },
    {
     "name": "stderr",
     "output_type": "stream",
     "text": [
      "23it [00:08,  3.67it/s]"
     ]
    },
    {
     "name": "stdout",
     "output_type": "stream",
     "text": [
      "Error downloading https://www.northernsoul.me.uk/wp-content/uploads/2021/03/Lennie-Henry-pic-300x225.jpg: 404 Client Error: Not Found for url: https://www.northernsoul.me.uk/wp-content/uploads/2021/03/Lennie-Henry-pic-300x225.jpg\n"
     ]
    },
    {
     "name": "stderr",
     "output_type": "stream",
     "text": [
      "34it [00:09,  8.22it/s]"
     ]
    },
    {
     "name": "stdout",
     "output_type": "stream",
     "text": [
      "Error downloading https://s3.envato.com/files/251112560/IMG_0989.jpg: 403 Client Error: Forbidden for url: https://s3.envato.com/files/251112560/IMG_0989.jpg\n"
     ]
    },
    {
     "name": "stderr",
     "output_type": "stream",
     "text": [
      "40it [00:10,  8.09it/s]"
     ]
    },
    {
     "name": "stdout",
     "output_type": "stream",
     "text": [
      "Error downloading https://i2.wp.com/noticieros.televisa.com/wp-content/uploads/2017/11/moodys-rebaja-la-nota-crediticia-de-pdvsa-por-incumplimiento-de-pago.jpg?resize=340%2C194&quality=95&ssl=1: 400 Client Error: Bad Request for url: https://i2.wp.com/noticieros.televisa.com/wp-content/uploads/2017/11/moodys-rebaja-la-nota-crediticia-de-pdvsa-por-incumplimiento-de-pago.jpg?resize=340%2C194&quality=95&ssl=1\n"
     ]
    },
    {
     "name": "stderr",
     "output_type": "stream",
     "text": [
      "49it [00:13,  3.38it/s]"
     ]
    },
    {
     "name": "stdout",
     "output_type": "stream",
     "text": [
      "Error downloading https://www.vicky-mar.com/wp-content/uploads/nc/vickymar/catalogs/mums-of-brides/8058-D-02-P.jpg: 404 Client Error: Not Found for url: https://www.vicky-mar.com/wp-content/uploads/nc/vickymar/catalogs/mums-of-brides/8058-D-02-P.jpg\n"
     ]
    },
    {
     "name": "stderr",
     "output_type": "stream",
     "text": [
      "51it [00:13,  3.02it/s]"
     ]
    },
    {
     "name": "stdout",
     "output_type": "stream",
     "text": [
      "Error downloading https://cdn.trendhunterstatic.com/phpthumbnails/193/193415/193415_3_80.jpeg: 404 Client Error: Not Found for url: https://cdn.trendhunterstatic.com/phpthumbnails/193/193415/193415_3_80.jpeg\n"
     ]
    },
    {
     "name": "stderr",
     "output_type": "stream",
     "text": [
      "56it [00:14,  4.78it/s]"
     ]
    },
    {
     "name": "stdout",
     "output_type": "stream",
     "text": [
      "Error downloading https://www.specsserver.com/CACHE/FROGQWYXAOEU.PNG?width=220&height=220&ccid=x8dff32d: 403 Client Error: Forbidden for url: https://www.specsserver.com/CACHE/FROGQWYXAOEU.PNG?width=220&height=220&ccid=x8dff32d\n"
     ]
    },
    {
     "name": "stderr",
     "output_type": "stream",
     "text": [
      "60it [00:15,  6.44it/s]"
     ]
    },
    {
     "name": "stdout",
     "output_type": "stream",
     "text": [
      "Error downloading https://www.tasteofhome.com/wp-content/uploads/2018/01/exps35009_RDS2028402D05_06_6b_WEB-2.jpg?fit=300,300: 403 Client Error: Forbidden for url: https://www.tasteofhome.com/wp-content/uploads/2018/01/exps35009_RDS2028402D05_06_6b_WEB-2.jpg?fit=300,300\n"
     ]
    },
    {
     "name": "stderr",
     "output_type": "stream",
     "text": [
      "79it [00:18,  6.09it/s]"
     ]
    },
    {
     "name": "stdout",
     "output_type": "stream",
     "text": [
      "Error downloading http://www.pumpupyourbook.com/wp-content/uploads/2010/06/The-Book-of-Unholy-Mischief-183x300.jpg: 406 Client Error: Not Acceptable for url: http://www.pumpupyourbook.com/wp-content/uploads/2010/06/The-Book-of-Unholy-Mischief-183x300.jpg\n"
     ]
    },
    {
     "name": "stderr",
     "output_type": "stream",
     "text": [
      "80it [00:19,  4.72it/s]"
     ]
    },
    {
     "name": "stdout",
     "output_type": "stream",
     "text": [
      "Error downloading http://www.supercoloring.com/sites/default/files/styles/coloring_medium/public/cif/2016/06/citroen-2-cv-coloring-page.png: 403 Client Error: Forbidden for url: https://www.supercoloring.com/sites/default/files/styles/coloring_medium/public/cif/2016/06/citroen-2-cv-coloring-page.png\n"
     ]
    },
    {
     "name": "stderr",
     "output_type": "stream",
     "text": [
      "87it [00:31,  1.52s/it]"
     ]
    },
    {
     "name": "stdout",
     "output_type": "stream",
     "text": [
      "Error downloading https://www.southerntrophyshop.com/images/p150x150/executive-gift-awards-BrNmFh.jpg: HTTPConnectionPool(host='107.167.170.110', port=80): Max retries exceeded with url: / (Caused by ConnectTimeoutError(<urllib3.connection.HTTPConnection object at 0x7f53d9b79030>, 'Connection to 107.167.170.110 timed out. (connect timeout=10)'))\n"
     ]
    },
    {
     "name": "stderr",
     "output_type": "stream",
     "text": [
      "100it [00:34,  2.89it/s]\n"
     ]
    }
   ],
   "source": [
    "import os\n",
    "import tensorflow as tf\n",
    "import requests\n",
    "from datasets import load_dataset\n",
    "import itertools\n",
    "from tqdm import tqdm\n",
    "from io import BytesIO\n",
    "from PIL import Image\n",
    "\n",
    "def download_image(url):\n",
    "    try:\n",
    "        response = requests.get(url, timeout=10)\n",
    "        response.raise_for_status()\n",
    "        img = Image.open(BytesIO(response.content))\n",
    "        img = img.convert('RGB')  # Convert to RGB to ensure consistency\n",
    "        width, height = img.size\n",
    "        img_byte_arr = BytesIO()\n",
    "        img.save(img_byte_arr, format='JPEG')\n",
    "        return img_byte_arr.getvalue(), width, height\n",
    "    except Exception as e:\n",
    "        print(f\"Error downloading {url}: {e}\")\n",
    "        return None, None, None\n",
    "\n",
    "def _bytes_feature(value):\n",
    "    return tf.train.Feature(bytes_list=tf.train.BytesList(value=[value]))\n",
    "\n",
    "def _int64_feature(value):\n",
    "    return tf.train.Feature(int64_list=tf.train.Int64List(value=[value]))\n",
    "\n",
    "def create_example(sample):\n",
    "    image_data, width, height = download_image(sample['url'])\n",
    "    if image_data is None:\n",
    "        return None\n",
    "    \n",
    "    feature = {\n",
    "        'image': _bytes_feature(image_data),\n",
    "        'url': _bytes_feature(sample['url'].encode('utf-8')),\n",
    "        're_caption': _bytes_feature(sample['re_caption'].encode('utf-8')),\n",
    "        'org_caption': _bytes_feature(sample['org_caption'].encode('utf-8')),\n",
    "        'width': _int64_feature(width),\n",
    "        'height': _int64_feature(height),\n",
    "    }\n",
    "    return tf.train.Example(features=tf.train.Features(feature=feature))\n",
    "\n",
    "def convert_to_tfrecord(dataset, output_file):\n",
    "    with tf.io.TFRecordWriter(output_file) as writer:\n",
    "        for sample in tqdm(dataset):\n",
    "            tf_example = create_example(sample)\n",
    "            if tf_example is not None:\n",
    "                writer.write(tf_example.SerializeToString())\n",
    "\n",
    "# Load the dataset\n",
    "ds = load_dataset(\"UCSC-VLAA/Recap-DataComp-1B\", split=\"preview\", streaming=True)\n",
    "\n",
    "# Take the first 1000 samples\n",
    "limited_ds = itertools.islice(ds, 100)\n",
    "\n",
    "# Convert the limited dataset to TFRecord\n",
    "out_dir = \"/home/austinwang/tensorflow_datasets/downloads\"\n",
    "out_path = os.path.join(out_dir, \"datacomp_recap_train.tfrecord\")\n",
    "if not os.path.exists(out_dir): os.makedirs(out_dir) \n",
    "convert_to_tfrecord(limited_ds, out_path)"
   ]
  },
  {
   "cell_type": "code",
   "execution_count": null,
   "metadata": {},
   "outputs": [],
   "source": [
    "\"\"\"\n",
    "export TFDS_NAME=datacomp_recap\n",
    "# export TFDS_DATA_DIR=gs://us-central2-storage/tensorflow_datasets/tensorflow_datasets\n",
    "export TFDS_DATA_DIR=~/tensorflow_datasets\n",
    "export TFDS_BUILDER_DIR=~/austin_big_vision/big_vision/datasets\n",
    "tfds build $TFDS_BUILDER_DIR/$TFDS_NAME --data_dir $TFDS_DATA_DIR\n",
    "\"\"\""
   ]
  }
 ],
 "metadata": {
  "kernelspec": {
   "display_name": "Python 3",
   "language": "python",
   "name": "python3"
  },
  "language_info": {
   "codemirror_mode": {
    "name": "ipython",
    "version": 3
   },
   "file_extension": ".py",
   "mimetype": "text/x-python",
   "name": "python",
   "nbconvert_exporter": "python",
   "pygments_lexer": "ipython3",
   "version": "3.10.14"
  }
 },
 "nbformat": 4,
 "nbformat_minor": 2
}
