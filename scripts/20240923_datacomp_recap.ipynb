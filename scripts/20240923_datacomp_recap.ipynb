{
 "cells": [
  {
   "cell_type": "code",
   "execution_count": 31,
   "metadata": {},
   "outputs": [],
   "source": [
    "from datasets import load_dataset\n",
    "\n",
    "ds = load_dataset(\"UCSC-VLAA/Recap-DataComp-1B\", split=\"preview\",streaming=True)"
   ]
  },
  {
   "cell_type": "code",
   "execution_count": 32,
   "metadata": {},
   "outputs": [
    {
     "data": {
      "text/plain": [
       "IterableDataset({\n",
       "    features: ['url', 're_caption', 'org_caption', 'sha256', 'key', 're_clip_score', 'org_clip_score', 're_length', 'org_length', 're_gpt4v_score', 'org_gpt4v_score'],\n",
       "    n_shards: 1\n",
       "})"
      ]
     },
     "execution_count": 32,
     "metadata": {},
     "output_type": "execute_result"
    }
   ],
   "source": [
    "ds"
   ]
  },
  {
   "cell_type": "code",
   "execution_count": 36,
   "metadata": {},
   "outputs": [
    {
     "name": "stdout",
     "output_type": "stream",
     "text": [
      "{'url': 'https://images-na.ssl-images-amazon.com/images/I/41kzIaKFE+L._AC._SR180,230.jpg', 're_caption': 'A modern coffee machine with a digital display and two white coffee cups filled with coffee is shown. The machine has a stainless steel finish and is accompanied by a milk frothing pitcher with a white liquid inside. The coffee machine is placed on a surface with a white background.', 'org_caption': 'Saeco Xelsis Automatic Espresso Machine, SM7685/04, Stainless Steel', 'sha256': '501ac5e3066ff4cdad97dafd8916a65673b5e6d961c6e31e59dbeadd7fd7e3c7', 'key': '000000000008', 're_clip_score': 1.0, 'org_clip_score': 5.960464477539064e-08, 're_length': 50, 'org_length': 8, 're_gpt4v_score': 5, 'org_gpt4v_score': 5}\n"
     ]
    }
   ],
   "source": [
    "count = 0\n",
    "for example in ds:\n",
    "    print(example)\n",
    "    count += 1\n",
    "    if count > 0:\n",
    "        break"
   ]
  },
  {
   "cell_type": "code",
   "execution_count": null,
   "metadata": {},
   "outputs": [],
   "source": [
    "# 'url'\n",
    "# 're_caption'\n",
    "# 'org_caption'\n",
    "# 'key'\n",
    "# 're_length'\n",
    "# 'org_length'"
   ]
  }
 ],
 "metadata": {
  "kernelspec": {
   "display_name": "Python 3",
   "language": "python",
   "name": "python3"
  },
  "language_info": {
   "codemirror_mode": {
    "name": "ipython",
    "version": 3
   },
   "file_extension": ".py",
   "mimetype": "text/x-python",
   "name": "python",
   "nbconvert_exporter": "python",
   "pygments_lexer": "ipython3",
   "version": "3.10.14"
  }
 },
 "nbformat": 4,
 "nbformat_minor": 2
}
