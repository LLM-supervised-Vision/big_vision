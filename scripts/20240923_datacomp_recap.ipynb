{
 "cells": [
  {
   "cell_type": "code",
   "execution_count": 42,
   "metadata": {},
   "outputs": [
    {
     "data": {
      "text/plain": [
       "IterableDataset({\n",
       "    features: ['url', 're_caption', 'org_caption', 'sha256', 'key', 're_clip_score', 'org_clip_score', 're_length', 'org_length', 're_gpt4v_score', 'org_gpt4v_score'],\n",
       "    n_shards: 1\n",
       "})"
      ]
     },
     "execution_count": 42,
     "metadata": {},
     "output_type": "execute_result"
    }
   ],
   "source": [
    "from datasets import load_dataset\n",
    "\n",
    "ds = load_dataset(\"UCSC-VLAA/Recap-DataComp-1B\", split=\"preview\",streaming=True)\n",
    "ds"
   ]
  },
  {
   "cell_type": "code",
   "execution_count": 47,
   "metadata": {},
   "outputs": [
    {
     "data": {
      "text/plain": [
       "<itertools.islice at 0x7f9daca80950>"
      ]
     },
     "execution_count": 47,
     "metadata": {},
     "output_type": "execute_result"
    }
   ],
   "source": [
    "import itertools\n",
    "limited_ds = itertools.islice(ds, 5)\n",
    "limited_ds"
   ]
  },
  {
   "cell_type": "code",
   "execution_count": 48,
   "metadata": {},
   "outputs": [
    {
     "name": "stdout",
     "output_type": "stream",
     "text": [
      "{'url': 'https://images-na.ssl-images-amazon.com/images/I/41kzIaKFE+L._AC._SR180,230.jpg', 're_caption': 'A modern coffee machine with a digital display and two white coffee cups filled with coffee is shown. The machine has a stainless steel finish and is accompanied by a milk frothing pitcher with a white liquid inside. The coffee machine is placed on a surface with a white background.', 'org_caption': 'Saeco Xelsis Automatic Espresso Machine, SM7685/04, Stainless Steel', 'sha256': '501ac5e3066ff4cdad97dafd8916a65673b5e6d961c6e31e59dbeadd7fd7e3c7', 'key': '000000000008', 're_clip_score': 1.0, 'org_clip_score': 5.960464477539064e-08, 're_length': 50, 'org_length': 8, 're_gpt4v_score': 5, 'org_gpt4v_score': 5}\n",
      "{'url': 'https://d2j6dbq0eux0bg.cloudfront.net/images/39097340/1998437688.jpg', 're_caption': 'A row of identical figures in black suits and ties is standing in a line against a white background.', 'org_caption': 'O 6-Car Flat End Offset Hopper Car Set, B&O 727022', 'sha256': '373b94704c9ae1147e396453d363beb3c8d1412326760b06291f61710e784913', 'key': '000000000013', 're_clip_score': 0.0, 'org_clip_score': 1.0, 're_length': 19, 'org_length': 10, 're_gpt4v_score': 5, 'org_gpt4v_score': 1}\n",
      "{'url': 'https://cdn4.iconfinder.com/data/icons/vaz2101/512/face_1-256.png', 're_caption': \"A black and white illustration of a car with a solid black body and a white license plate. The car has a rounded front with two headlights, a curved windshield, and a rear view mirror on the driver's side. The tires are black with a white wall, and the car is positioned on a white background with a checkered pattern at the top right corner.\", 'org_caption': 'car, face, filed, front, lada icon', 'sha256': 'c44d58ea7686ef1930058646a176e0aac47beaed308a58c4391103e200ed86be', 'key': '000000000019', 're_clip_score': 1.0, 'org_clip_score': 0.0, 're_length': 65, 'org_length': 6, 're_gpt4v_score': 3, 'org_gpt4v_score': 4}\n",
      "{'url': 'https://merchbar.imgix.net/product/cdified/upc/85/093624898504.jpg?w=390&h=390&quality=60&auto=compress%252Cformat', 're_caption': \"A CD cover featuring two women sitting next to each other. The text 'Hey, I'm Just Like You' is prominently displayed at the top. The women are wearing casual clothing, with one wearing a t-shirt and the other in a hoodie. The background is a plain white color.\", 'org_caption': \"Tegan and Sara HEY, I'M JUST LIKE YOU CD\", 'sha256': '99b4a6d90d48e2cc7e12de7009f76b5a6e3312dff90117860fe303dc45f380dd', 'key': '000000000041', 're_clip_score': 1.0, 'org_clip_score': 6.556510925292969e-06, 're_length': 48, 'org_length': 9, 're_gpt4v_score': 5, 'org_gpt4v_score': 5}\n",
      "{'url': 'https://lastfm.freetls.fastly.net/i/u/avatar170s/76253440c7ce4f4cb32214825fb20eb5', 're_caption': 'A man with a full afro hairstyle wearing a white suit jacket and a white shirt.', 'org_caption': 'Lionel Richie', 'sha256': '6825f76451bb4ec3d39d9192838c4ce7985c5c842d5b3fc861b29c3909cf4ca5', 'key': '000000000043', 're_clip_score': 0.0, 'org_clip_score': 1.0, 're_length': 16, 'org_length': 2, 're_gpt4v_score': 1, 'org_gpt4v_score': 5}\n"
     ]
    }
   ],
   "source": [
    "for example in limited_ds:\n",
    "    print(example)"
   ]
  },
  {
   "cell_type": "code",
   "execution_count": 49,
   "metadata": {},
   "outputs": [
    {
     "name": "stderr",
     "output_type": "stream",
     "text": [
      "2024-09-23 20:53:59.915021: E external/local_xla/xla/stream_executor/cuda/cuda_fft.cc:485] Unable to register cuFFT factory: Attempting to register factory for plugin cuFFT when one has already been registered\n",
      "2024-09-23 20:53:59.937434: E external/local_xla/xla/stream_executor/cuda/cuda_dnn.cc:8454] Unable to register cuDNN factory: Attempting to register factory for plugin cuDNN when one has already been registered\n",
      "2024-09-23 20:53:59.944199: E external/local_xla/xla/stream_executor/cuda/cuda_blas.cc:1452] Unable to register cuBLAS factory: Attempting to register factory for plugin cuBLAS when one has already been registered\n",
      "2024-09-23 20:53:59.959666: I tensorflow/core/platform/cpu_feature_guard.cc:210] This TensorFlow binary is optimized to use available CPU instructions in performance-critical operations.\n",
      "To enable the following instructions: AVX2 FMA, in other operations, rebuild TensorFlow with the appropriate compiler flags.\n",
      "2024-09-23 20:54:01.098659: W tensorflow/compiler/tf2tensorrt/utils/py_utils.cc:38] TF-TRT Warning: Could not find TensorRT\n",
      "1000it [00:00, 1224.30it/s]\n"
     ]
    }
   ],
   "source": [
    "from datasets import load_dataset\n",
    "import tensorflow as tf\n",
    "import itertools\n",
    "from tqdm import tqdm\n",
    "\n",
    "def _bytes_feature(value):\n",
    "    \"\"\"Returns a bytes_list from a string / byte.\"\"\"\n",
    "    if isinstance(value, type(tf.constant(0))):\n",
    "        value = value.numpy()\n",
    "    return tf.train.Feature(bytes_list=tf.train.BytesList(value=[value]))\n",
    "\n",
    "def _int64_feature(value):\n",
    "    \"\"\"Returns an int64_list from a bool / enum / int / uint.\"\"\"\n",
    "    return tf.train.Feature(int64_list=tf.train.Int64List(value=[value]))\n",
    "\n",
    "def create_example(sample):\n",
    "    feature = {\n",
    "        'image': _bytes_feature(sample['url'].encode('utf-8')),\n",
    "        'url': _bytes_feature(sample['url'].encode('utf-8')),\n",
    "        're_caption': _bytes_feature(sample['re_caption'].encode('utf-8')),\n",
    "        'org_caption': _bytes_feature(sample['org_caption'].encode('utf-8')),\n",
    "        'original_width': _int64_feature(sample.get('original_width', -1)),  # Use -1 as default if not present\n",
    "        'original_height': _int64_feature(sample.get('original_height', -1))  # Use -1 as default if not present\n",
    "    }\n",
    "    return tf.train.Example(features=tf.train.Features(feature=feature))\n",
    "\n",
    "def convert_to_tfrecord(dataset, output_file):\n",
    "    with tf.io.TFRecordWriter(output_file) as writer:\n",
    "        for sample in tqdm(dataset):\n",
    "            tf_example = create_example(sample)\n",
    "            writer.write(tf_example.SerializeToString())\n",
    "\n",
    "# Load the dataset\n",
    "ds = load_dataset(\"UCSC-VLAA/Recap-DataComp-1B\", split=\"preview\", streaming=True)\n",
    "\n",
    "# Take the first 1000 samples\n",
    "limited_ds = itertools.islice(ds, 1000)\n",
    "\n",
    "# Convert the limited dataset to TFRecord\n",
    "out_path = '~/recap_datacomp_1k.tfrecord'\n",
    "convert_to_tfrecord(limited_ds, out_path)"
   ]
  },
  {
   "cell_type": "code",
   "execution_count": null,
   "metadata": {},
   "outputs": [],
   "source": []
  }
 ],
 "metadata": {
  "kernelspec": {
   "display_name": "Python 3",
   "language": "python",
   "name": "python3"
  },
  "language_info": {
   "codemirror_mode": {
    "name": "ipython",
    "version": 3
   },
   "file_extension": ".py",
   "mimetype": "text/x-python",
   "name": "python",
   "nbconvert_exporter": "python",
   "pygments_lexer": "ipython3",
   "version": "3.10.14"
  }
 },
 "nbformat": 4,
 "nbformat_minor": 2
}
