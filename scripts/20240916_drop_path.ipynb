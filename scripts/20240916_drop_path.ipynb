{
 "cells": [
  {
   "cell_type": "code",
   "execution_count": 48,
   "metadata": {},
   "outputs": [],
   "source": [
    "import jax\n",
    "import jax.numpy as jnp\n",
    "import flax.linen as nn\n",
    "\n",
    "\n",
    "class ResidualMLPBlock(nn.Module):\n",
    "  @nn.compact\n",
    "  def __call__(self, carry, x):\n",
    "    h = nn.Dense(features=x.shape[-1])(x)\n",
    "    h = nn.relu(h)\n",
    "    o = x+h\n",
    "    return carry+1, o\n",
    "\n",
    "class ResidualMLP(nn.Module):\n",
    "  n_layers: int = 4\n",
    "  remat_policy: str = \"nothing_saveable\"\n",
    "\n",
    "  @nn.compact\n",
    "  def __call__(self, x):\n",
    "    block = nn.remat(\n",
    "      ResidualMLPBlock, \n",
    "      prevent_cse=False,\n",
    "      static_argnums=(2,),\n",
    "      policy=getattr(jax.checkpoint_policies, self.remat_policy, None),\n",
    "    )\n",
    "\n",
    "    ScanMLP = nn.scan(\n",
    "      block, \n",
    "      variable_axes={'params': 0},\n",
    "      split_rngs={'params': True},\n",
    "      in_axes=nn.broadcast,\n",
    "      length=self.n_layers)\n",
    "    \n",
    "    carry = 0\n",
    "    carry, x = ScanMLP()(carry, x)\n",
    "    return carry, x"
   ]
  },
  {
   "cell_type": "code",
   "execution_count": 49,
   "metadata": {},
   "outputs": [
    {
     "data": {
      "text/plain": [
       "{'params': {'ScanCheckpointResidualMLPBlock_0': {'Dense_0': {'bias': (2, 3),\n",
       "    'kernel': (2, 3, 3)}}}}"
      ]
     },
     "execution_count": 49,
     "metadata": {},
     "output_type": "execute_result"
    }
   ],
   "source": [
    "batch_size = 1\n",
    "feature_dim = 3\n",
    "layers = 2\n",
    "rng = jax.random.key(42)\n",
    "\n",
    "model = ResidualMLP(n_layers=layers)\n",
    "x = jnp.ones((batch_size, feature_dim))\n",
    "variables = model.init(rng, x)\n",
    "y = model.apply(variables, x)\n",
    "jax.tree.map(lambda x: x.shape, variables)"
   ]
  },
  {
   "cell_type": "code",
   "execution_count": null,
   "metadata": {},
   "outputs": [],
   "source": []
  }
 ],
 "metadata": {
  "kernelspec": {
   "display_name": "Python 3",
   "language": "python",
   "name": "python3"
  },
  "language_info": {
   "codemirror_mode": {
    "name": "ipython",
    "version": 3
   },
   "file_extension": ".py",
   "mimetype": "text/x-python",
   "name": "python",
   "nbconvert_exporter": "python",
   "pygments_lexer": "ipython3",
   "version": "3.10.14"
  }
 },
 "nbformat": 4,
 "nbformat_minor": 2
}
