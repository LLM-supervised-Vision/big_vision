{
 "cells": [
  {
   "cell_type": "code",
   "execution_count": 21,
   "metadata": {},
   "outputs": [],
   "source": [
    "import jax\n",
    "import jax.numpy as jnp\n",
    "import flax.linen as nn\n",
    "\n",
    "\n",
    "class ResidualMLPBlock(nn.Module):\n",
    "  @nn.compact\n",
    "  def __call__(self, x, _):\n",
    "\n",
    "    h = nn.Dense(features=x.shape[-1])(x)\n",
    "    h = nn.relu(h)\n",
    "    return x + h, None\n",
    "\n",
    "class ResidualMLP(nn.Module):\n",
    "  n_layers: int = 4\n",
    "  remat_policy: str = \"nothing_saveable\"\n",
    "\n",
    "  @nn.compact\n",
    "  def __call__(self, x):\n",
    "    block = nn.remat(\n",
    "      ResidualMLPBlock, \n",
    "      prevent_cse=False,\n",
    "      static_argnums=(2,),\n",
    "      policy=getattr(jax.checkpoint_policies, self.remat_policy, None),\n",
    "    )\n",
    "\n",
    "    ScanMLP = nn.scan(\n",
    "      block, \n",
    "      variable_axes={'params': 0},\n",
    "      variable_broadcast=False, \n",
    "      split_rngs={'params': True},\n",
    "      length=self.n_layers)\n",
    "    x, _ = ScanMLP()(x, None)\n",
    "    return x"
   ]
  },
  {
   "cell_type": "code",
   "execution_count": 22,
   "metadata": {},
   "outputs": [],
   "source": [
    "batch_size = 1\n",
    "feature_dim = 4\n",
    "rng = jax.random.key(42)\n",
    "\n",
    "model = ResidualMLP(n_layers=4)\n",
    "x = jnp.ones((batch_size, feature_dim))\n",
    "variables = model.init(rng, x)\n",
    "y = model.apply(variables, x)"
   ]
  },
  {
   "cell_type": "code",
   "execution_count": null,
   "metadata": {},
   "outputs": [],
   "source": []
  }
 ],
 "metadata": {
  "kernelspec": {
   "display_name": "Python 3",
   "language": "python",
   "name": "python3"
  },
  "language_info": {
   "codemirror_mode": {
    "name": "ipython",
    "version": 3
   },
   "file_extension": ".py",
   "mimetype": "text/x-python",
   "name": "python",
   "nbconvert_exporter": "python",
   "pygments_lexer": "ipython3",
   "version": "3.10.14"
  }
 },
 "nbformat": 4,
 "nbformat_minor": 2
}
