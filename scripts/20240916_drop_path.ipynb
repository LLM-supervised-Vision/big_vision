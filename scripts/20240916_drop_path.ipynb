{
 "cells": [
  {
   "cell_type": "code",
   "execution_count": 1,
   "metadata": {},
   "outputs": [],
   "source": [
    "import jax\n",
    "import jax.numpy as jnp\n",
    "import flax.linen as nn\n",
    "\n",
    "batch_size = 32\n",
    "feature_dim = 768\n",
    "layers = 12\n",
    "rng = jax.random.key(42)\n",
    "x = jnp.ones((batch_size, feature_dim))"
   ]
  },
  {
   "cell_type": "markdown",
   "metadata": {},
   "source": [
    "# Mine"
   ]
  },
  {
   "cell_type": "code",
   "execution_count": 2,
   "metadata": {},
   "outputs": [
    {
     "name": "stdout",
     "output_type": "stream",
     "text": [
      "variable shapes: {'params': {'ScanCheckpointResidualMLPBlock_0': {'Dense_0': {'bias': (12, 768), 'kernel': (12, 768, 768)}}}}\n",
      "layer_id: 12\n",
      "y shape: (12, 32, 768)\n"
     ]
    }
   ],
   "source": [
    "class ResidualMLPBlock(nn.Module):\n",
    "  feature_dim: int = 3\n",
    "  @nn.compact\n",
    "  def __call__(self, layer_id, x):\n",
    "    h = nn.Dense(features=self.feature_dim)(x)\n",
    "    h = nn.relu(h)\n",
    "    o = x+h\n",
    "    return layer_id+1, o\n",
    "    # out = {}\n",
    "    # out['layer_id'] = layer_id\n",
    "    # out['o'] = o\n",
    "    # return layer_id+1, o, out\n",
    "\n",
    "class ResidualMLP(nn.Module):\n",
    "  n_layers: int = 4\n",
    "  feature_dim: int = 3\n",
    "  remat_policy: str = \"nothing_saveable\"\n",
    "\n",
    "  @nn.compact\n",
    "  def __call__(self, x):\n",
    "\n",
    "    block = nn.remat(\n",
    "      ResidualMLPBlock, \n",
    "      prevent_cse=False,\n",
    "      policy=getattr(jax.checkpoint_policies, self.remat_policy, None),\n",
    "    )\n",
    "\n",
    "    ScanMLP = nn.scan(\n",
    "      block, \n",
    "      variable_axes={'params': 0},\n",
    "      split_rngs={'params': True},\n",
    "      in_axes=nn.broadcast,\n",
    "      length=self.n_layers)\n",
    "\n",
    "    init_layer_id = 0\n",
    "    final_layer_id, y = ScanMLP(\n",
    "      feature_dim=self.feature_dim,\n",
    "    )(init_layer_id, x)\n",
    "    return final_layer_id, y\n",
    "  \n",
    "\n",
    "model = ResidualMLP(n_layers=layers, feature_dim=feature_dim)\n",
    "variables = model.init(rng, x)\n",
    "layer_id, y = model.apply(variables, x)\n",
    "print(f\"variable shapes: {jax.tree.map(lambda x: x.shape, variables)}\")\n",
    "print(f\"layer_id: {layer_id}\")\n",
    "print(f\"y shape: {y.shape}\")"
   ]
  },
  {
   "cell_type": "markdown",
   "metadata": {},
   "source": [
    "# Big Vision"
   ]
  },
  {
   "cell_type": "code",
   "execution_count": 3,
   "metadata": {},
   "outputs": [
    {
     "name": "stdout",
     "output_type": "stream",
     "text": [
      "variable shapes: {'params': {'ScanCheckpointResidualMLPBlock_0': {'Dense_0': {'bias': (12, 768), 'kernel': (12, 768, 768)}}}}\n",
      "y shape: (32, 768)\n",
      "scan_out shapes: {'o': (12, 32, 768)}\n"
     ]
    }
   ],
   "source": [
    "class ResidualMLPBlock(nn.Module):\n",
    "  feature_dim: int = 3\n",
    "  @nn.compact\n",
    "  def __call__(self, x, deterministic=True):\n",
    "    out = {}\n",
    "    h = nn.Dense(features=self.feature_dim)(x)\n",
    "    h = nn.relu(h)\n",
    "    o = out['o'] = x+h\n",
    "    return o, out\n",
    "\n",
    "class ResidualMLP(nn.Module):\n",
    "  n_layers: int = 4\n",
    "  feature_dim: int = 3\n",
    "  remat_policy: str = \"nothing_saveable\"\n",
    "\n",
    "  @nn.compact\n",
    "  def __call__(self, x, deterministic=True):\n",
    "    block = nn.remat(\n",
    "      ResidualMLPBlock, \n",
    "      prevent_cse=False,\n",
    "      static_argnums=(2,),\n",
    "      policy=getattr(jax.checkpoint_policies, self.remat_policy, None),)\n",
    "    \n",
    "    ScanMLP = nn.scan(\n",
    "      block, \n",
    "      variable_axes={'params': 0},\n",
    "      split_rngs={'params': True},\n",
    "      in_axes=nn.broadcast,\n",
    "      length=self.n_layers)\n",
    "    \n",
    "    x, scan_out = ScanMLP(\n",
    "      feature_dim=self.feature_dim\n",
    "    )(x,deterministic)\n",
    "    return x, scan_out\n",
    "\n",
    "\n",
    "model = ResidualMLP(n_layers=layers, feature_dim=feature_dim)\n",
    "variables = model.init(rng, x)\n",
    "y, scan_out = model.apply(variables, x, True)\n",
    "print(f\"variable shapes: {jax.tree.map(lambda x: x.shape, variables)}\")\n",
    "print(f\"y shape: {y.shape}\")\n",
    "print(f\"scan_out shapes: {jax.tree.map(lambda x: x.shape, scan_out)}\")"
   ]
  },
  {
   "cell_type": "code",
   "execution_count": null,
   "metadata": {},
   "outputs": [],
   "source": []
  },
  {
   "cell_type": "code",
   "execution_count": null,
   "metadata": {},
   "outputs": [],
   "source": []
  }
 ],
 "metadata": {
  "kernelspec": {
   "display_name": "Python 3",
   "language": "python",
   "name": "python3"
  },
  "language_info": {
   "codemirror_mode": {
    "name": "ipython",
    "version": 3
   },
   "file_extension": ".py",
   "mimetype": "text/x-python",
   "name": "python",
   "nbconvert_exporter": "python",
   "pygments_lexer": "ipython3",
   "version": "3.10.14"
  }
 },
 "nbformat": 4,
 "nbformat_minor": 2
}
