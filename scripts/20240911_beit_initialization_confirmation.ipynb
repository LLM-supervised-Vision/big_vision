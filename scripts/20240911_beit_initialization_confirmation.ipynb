{
 "cells": [
  {
   "cell_type": "code",
   "execution_count": 2,
   "metadata": {},
   "outputs": [
    {
     "name": "stdout",
     "output_type": "stream",
     "text": [
      "The autoreload extension is already loaded. To reload it, use:\n",
      "  %reload_ext autoreload\n",
      "/home/austinwang/InternVL/classification\n"
     ]
    },
    {
     "name": "stderr",
     "output_type": "stream",
     "text": [
      "/mnt/vlm-pd/miniconda3/envs/vlm/lib/python3.10/site-packages/IPython/core/magics/osm.py:393: UserWarning: This is now an optional IPython functionality, using bookmarks requires you to install the `pickleshare` library.\n",
      "  bkms = self.shell.db.get('bookmarks', {})\n",
      "/mnt/vlm-pd/miniconda3/envs/vlm/lib/python3.10/site-packages/IPython/core/magics/osm.py:417: UserWarning: This is now an optional IPython functionality, setting dhist requires you to install the `pickleshare` library.\n",
      "  self.shell.db['dhist'] = compress_dhist(dhist)[-100:]\n"
     ]
    }
   ],
   "source": [
    "%load_ext autoreload\n",
    "%autoreload 2\n",
    "%cd ~/InternVL/classification/\n",
    "import torch\n"
   ]
  },
  {
   "cell_type": "code",
   "execution_count": 13,
   "metadata": {},
   "outputs": [],
   "source": [
    "# Input Initialization\n",
    "dummy_img = torch.randn(2, 3, 224, 224)"
   ]
  },
  {
   "cell_type": "markdown",
   "metadata": {},
   "source": [
    "# Torch Model"
   ]
  },
  {
   "cell_type": "code",
   "execution_count": 10,
   "metadata": {},
   "outputs": [
    {
     "name": "stdout",
     "output_type": "stream",
     "text": [
      "pretrained: None\n"
     ]
    }
   ],
   "source": [
    "# from modeling_pretrain import beit_base_patch16_224_8k_vocab\n",
    "# model = beit_base_patch16_224_8k_vocab(pretrained=False)\n",
    "from models.build import build_model\n",
    "# initialize config\n",
    "import ml_collections\n",
    "config_dict = {\n",
    "    \"MODEL\": {\n",
    "        \"TYPE\": \"intern_vit_6b\",\n",
    "        \"NUM_CLASSES\": 0,\n",
    "        \"DROP_PATH_RATE\": 0.0,\n",
    "        \"INTERN_VIT_6B\": {\n",
    "            \"PATCH_SIZE\": 16,\n",
    "            \"EMBED_DIM\": 768,\n",
    "            \"NUM_HEADS\": 12,\n",
    "            \"MLP_RATIO\": 4,\n",
    "            \"QKV_BIAS\": True,\n",
    "            \"INIT_VALUES\": 1e-6,\n",
    "            \"QK_NORMALIZATION\": False,\n",
    "            \"DEPTH\": 12,\n",
    "            \"USE_FLASH_ATTN\": False,\n",
    "            \"PRETRAIN_SIZE\": 224,\n",
    "            \"PRETRAINED\": None,\n",
    "            \"CLS_TARGET\": \"clip_projector\",\n",
    "            \"HEAD_NORM_TYPE\": \"none\",\n",
    "            \"FREEZE_VIT\": False,\n",
    "        },\n",
    "    },\n",
    "    \"DATA\": {\n",
    "        \"IMG_SIZE\": 224\n",
    "    },\n",
    "    \"TRAIN\": {\n",
    "        \"USE_CHECKPOINT\": False\n",
    "    }\n",
    "}\n",
    "config = ml_collections.ConfigDict(config_dict)\n",
    "model = build_model(config=config)"
   ]
  },
  {
   "cell_type": "code",
   "execution_count": 11,
   "metadata": {},
   "outputs": [
    {
     "data": {
      "text/plain": [
       "InternViT6B(\n",
       "  (patch_embed): PatchEmbed(\n",
       "    (proj): Conv2d(3, 768, kernel_size=(16, 16), stride=(16, 16))\n",
       "    (norm): Identity()\n",
       "  )\n",
       "  (pos_drop): Identity()\n",
       "  (blocks): ModuleList(\n",
       "    (0-11): 12 x Block(\n",
       "      (norm1): RMSNorm()\n",
       "      (attn): Attention(\n",
       "        (qkv): Linear(in_features=768, out_features=2304, bias=True)\n",
       "        (attn_drop): Dropout(p=0.0, inplace=False)\n",
       "        (proj): Linear(in_features=768, out_features=768, bias=True)\n",
       "        (proj_drop): Dropout(p=0.0, inplace=False)\n",
       "        (q_norm): Identity()\n",
       "        (k_norm): Identity()\n",
       "      )\n",
       "      (ls1): LayerScale()\n",
       "      (drop_path1): Identity()\n",
       "      (norm2): RMSNorm()\n",
       "      (mlp): Mlp(\n",
       "        (fc1): Linear(in_features=768, out_features=3072, bias=True)\n",
       "        (act): GELU(approximate='none')\n",
       "        (drop1): Dropout(p=0.0, inplace=False)\n",
       "        (fc2): Linear(in_features=3072, out_features=768, bias=True)\n",
       "        (drop2): Dropout(p=0.0, inplace=False)\n",
       "      )\n",
       "      (ls2): LayerScale()\n",
       "      (drop_path2): Identity()\n",
       "    )\n",
       "  )\n",
       "  (clip_projector): AttentionPoolingBlock(\n",
       "    (norm1_q): LayerNorm((768,), eps=1e-05, elementwise_affine=True)\n",
       "    (norm1_k): LayerNorm((768,), eps=1e-05, elementwise_affine=True)\n",
       "    (norm1_v): LayerNorm((768,), eps=1e-05, elementwise_affine=True)\n",
       "    (cross_attn): CrossAttention(\n",
       "      (q): Linear(in_features=768, out_features=768, bias=False)\n",
       "      (k): Linear(in_features=768, out_features=768, bias=False)\n",
       "      (v): Linear(in_features=768, out_features=768, bias=False)\n",
       "      (attn_drop): Dropout(p=0.0, inplace=False)\n",
       "      (proj): Linear(in_features=768, out_features=768, bias=True)\n",
       "      (proj_drop): Dropout(p=0.0, inplace=False)\n",
       "    )\n",
       "    (drop_path): Identity()\n",
       "  )\n",
       "  (norm): LayerNorm((768,), eps=1e-06, elementwise_affine=True)\n",
       "  (head): Identity()\n",
       ")"
      ]
     },
     "execution_count": 11,
     "metadata": {},
     "output_type": "execute_result"
    }
   ],
   "source": [
    "model"
   ]
  },
  {
   "cell_type": "code",
   "execution_count": 14,
   "metadata": {},
   "outputs": [],
   "source": [
    "out = model(dummy_img)"
   ]
  },
  {
   "cell_type": "code",
   "execution_count": 16,
   "metadata": {},
   "outputs": [
    {
     "data": {
      "text/plain": [
       "torch.Size([2, 768])"
      ]
     },
     "execution_count": 16,
     "metadata": {},
     "output_type": "execute_result"
    }
   ],
   "source": [
    "out.shape"
   ]
  },
  {
   "cell_type": "code",
   "execution_count": null,
   "metadata": {},
   "outputs": [],
   "source": []
  }
 ],
 "metadata": {
  "kernelspec": {
   "display_name": "Python 3",
   "language": "python",
   "name": "python3"
  },
  "language_info": {
   "codemirror_mode": {
    "name": "ipython",
    "version": 3
   },
   "file_extension": ".py",
   "mimetype": "text/x-python",
   "name": "python",
   "nbconvert_exporter": "python",
   "pygments_lexer": "ipython3",
   "version": "3.10.14"
  }
 },
 "nbformat": 4,
 "nbformat_minor": 2
}
