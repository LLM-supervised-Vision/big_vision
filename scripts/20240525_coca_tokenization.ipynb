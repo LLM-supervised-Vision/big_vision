{
 "cells": [
  {
   "cell_type": "code",
   "execution_count": 20,
   "metadata": {},
   "outputs": [
    {
     "name": "stdout",
     "output_type": "stream",
     "text": [
      "True eos indices: [61 38 41 62 33 30 42 18  7 37 58 57 45 22 62  7 11 56 24 62 59 54 49 31\n",
      " 63 19 26  7 24 56  9 30 36 57 53 55 53 23 44 43 32 50 23 14 57 40  4  2\n",
      " 19 10 15  8 40 48 18 42 62 50 32 43 19 50 40 51 53 43 60 53 18 58 60 52\n",
      " 32 62 47 36 43 12  6  5  3 46 54 56 59 16 44 17 63 29 10  6 47 23 17  2\n",
      " 13 33 58 20  2 42 39 35 15 36 54 34  9 30 23  3 30 47 18 49 11 62 40 45\n",
      "  2 55 57 38 13 24 34 57]\n",
      "Targets shape: (128, 64)\n"
     ]
    }
   ],
   "source": [
    "import jax.numpy as jnp\n",
    "from jax import random\n",
    "\n",
    "# Set seed for reproducibility\n",
    "seed = 0\n",
    "key = random.PRNGKey(seed)\n",
    "\n",
    "# Generate simulated targets\n",
    "batch_size = 128\n",
    "sequence_length = 64\n",
    "embedding_size = 768\n",
    "\n",
    "# Parameters for the special tokens\n",
    "eos_id = 1\n",
    "pad_id = 0\n",
    "\n",
    "# Generating non-padded parts of the sequence with random IDs (excluding 0 and 1)\n",
    "non_pad_tokens = random.randint(key, (batch_size, sequence_length), minval=2, maxval=100)\n",
    "\n",
    "# Generate the ground truth eos indices\n",
    "true_eos_indices = random.randint(key, (batch_size,), minval=1, maxval=sequence_length)\n",
    "print(\"True eos indices:\", true_eos_indices)\n",
    "\n",
    "# Generate the targets by replacing the token at the eos index with the eos token and padding the rest\n",
    "targets = jnp.array([jnp.concatenate((non_pad_tokens[i, :true_eos_indices[i]], jnp.array([eos_id]), jnp.full(sequence_length - true_eos_indices[i] - 1, pad_id))) for i in range(batch_size)])\n",
    "print(\"Targets shape:\", targets.shape)\n",
    "\n",
    "# # Print an example\n",
    "# example_idx = 5\n",
    "# print(f\"true_eos_indices[{example_idx}] : \\n{true_eos_indices[example_idx]}\")\n",
    "# print(f\"non_pad_tokens[{example_idx}] : \\n{non_pad_tokens[example_idx]}\")\n",
    "# print(f\"targets[{example_idx}] : \\n{targets[example_idx]}\")"
   ]
  },
  {
   "cell_type": "code",
   "execution_count": 22,
   "metadata": {},
   "outputs": [
    {
     "name": "stdout",
     "output_type": "stream",
     "text": [
      "Txt_encoded shape: (128, 64, 768)\n",
      "Indices of eos tokens: [61 38 41 62 33 30 42 18  7 37 58 57 45 22 62  7 11 56 24 62 59 54 49 31\n",
      " 63 19 26  7 24 56  9 30 36 57 53 55 53 23 44 43 32 50 23 14 57 40  4  2\n",
      " 19 10 15  8 40 48 18 42 62 50 32 43 19 50 40 51 53 43 60 53 18 58 60 52\n",
      " 32 62 47 36 43 12  6  5  3 46 54 56 59 16 44 17 63 29 10  6 47 23 17  2\n",
      " 13 33 58 20  2 42 39 35 15 36 54 34  9 30 23  3 30 47 18 49 11 62 40 45\n",
      "  2 55 57 38 13 24 34 57]\n",
      "Shape of extracted features: (128, 768)\n",
      "Check if the indices match the last position of each sequence:\n",
      "[ True  True  True  True  True  True  True  True  True  True  True  True\n",
      "  True  True  True  True  True  True  True  True  True  True  True  True\n",
      "  True  True  True  True  True  True  True  True  True  True  True  True\n",
      "  True  True  True  True  True  True  True  True  True  True  True  True\n",
      "  True  True  True  True  True  True  True  True  True  True  True  True\n",
      "  True  True  True  True  True  True  True  True  True  True  True  True\n",
      "  True  True  True  True  True  True  True  True  True  True  True  True\n",
      "  True  True  True  True  True  True  True  True  True  True  True  True\n",
      "  True  True  True  True  True  True  True  True  True  True  True  True\n",
      "  True  True  True  True  True  True  True  True  True  True  True  True\n",
      "  True  True  True  True  True  True  True  True]\n"
     ]
    }
   ],
   "source": [
    "# Generate simulated txt_encoded array\n",
    "txt_encoded = random.normal(key, (batch_size, sequence_length, embedding_size))\n",
    "print(\"Txt_encoded shape:\", txt_encoded.shape)\n",
    "\n",
    "# Your implementation to extract cls token features\n",
    "eos_indices = jnp.where(targets == eos_id, size=128)  # This should now identify only the final eos tokens\n",
    "contrastive_ztxt = txt_encoded[eos_indices[0], eos_indices[1], :]\n",
    "\n",
    "# Print some outputs to verify\n",
    "print(\"Indices of eos tokens:\", eos_indices[1])\n",
    "print(\"Shape of extracted features:\", contrastive_ztxt.shape)\n",
    "\n",
    "# Optional: Verify if the indices match the expected positions (all should be at the last index)\n",
    "print(\"Check if the indices match the last position of each sequence:\")\n",
    "print(eos_indices[1] == true_eos_indices)\n"
   ]
  },
  {
   "cell_type": "code",
   "execution_count": null,
   "metadata": {},
   "outputs": [],
   "source": []
  }
 ],
 "metadata": {
  "kernelspec": {
   "display_name": "Python 3",
   "language": "python",
   "name": "python3"
  },
  "language_info": {
   "codemirror_mode": {
    "name": "ipython",
    "version": 3
   },
   "file_extension": ".py",
   "mimetype": "text/x-python",
   "name": "python",
   "nbconvert_exporter": "python",
   "pygments_lexer": "ipython3",
   "version": "3.11.8"
  }
 },
 "nbformat": 4,
 "nbformat_minor": 2
}
