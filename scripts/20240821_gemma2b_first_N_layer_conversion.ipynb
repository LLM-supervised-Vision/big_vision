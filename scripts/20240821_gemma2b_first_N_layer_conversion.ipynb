{
 "cells": [
  {
   "cell_type": "code",
   "execution_count": 5,
   "metadata": {},
   "outputs": [],
   "source": [
    "import sys\n",
    "sys.path.append('/home/austinwang/austin_big_vision')\n",
    "\n",
    "import io\n",
    "import numpy as np\n",
    "import big_vision.utils as u\n",
    "import tensorflow as tf\n",
    "\n",
    "num_lyr = 6\n",
    "gemma2b_path = '/home/austinwang/gemma2b.npz'\n",
    "local_np_save_path = '/home/austinwang/gemma2b_first_{num_lyr}.npz'\n",
    "gcs_np_save_path = 'gs://us-central2-storage/tensorflow_datasets/gemma2b_first_{num_lyr}_gs.npz'"
   ]
  },
  {
   "cell_type": "code",
   "execution_count": 6,
   "metadata": {},
   "outputs": [
    {
     "name": "stdout",
     "output_type": "stream",
     "text": [
      "params/embedder/input_embedding (256128, 2048) float32\n",
      "params/final_norm/scale (2048,) float32\n",
      "params/layers/attn/attn_vec_einsum/w (18, 8, 256, 2048) float32\n",
      "params/layers/attn/kv_einsum/w (18, 2, 1, 2048, 256) float32\n",
      "params/layers/attn/q_einsum/w (18, 8, 2048, 256) float32\n",
      "params/layers/mlp/gating_einsum (18, 2, 2048, 16384) float32\n",
      "params/layers/mlp/linear (18, 16384, 2048) float32\n",
      "params/layers/pre_attention_norm/scale (18, 2048) float32\n",
      "params/layers/pre_ffw_norm/scale (18, 2048) float32\n"
     ]
    }
   ],
   "source": [
    "gemma2b = np.load(gemma2b_path)\n",
    "for k in gemma2b.keys():\n",
    "    print(k, gemma2b[k].shape, gemma2b[k].dtype)"
   ]
  },
  {
   "cell_type": "code",
   "execution_count": 7,
   "metadata": {},
   "outputs": [],
   "source": [
    "gemma2b_half = {}\n",
    "for k in gemma2b.keys():\n",
    "    if gemma2b[k].shape[0] == 18:\n",
    "        gemma2b_half[k] = gemma2b[k][:num_lyr]\n",
    "    elif k == 'params/final_norm/scale':\n",
    "        pass\n",
    "    else:\n",
    "        gemma2b_half[k] = gemma2b[k]\n",
    "names_and_vals = [(n,v) for n,v in gemma2b_half.items()]\n",
    "io_buffer = io.BytesIO()\n",
    "np.savez(io_buffer, **{k: v for k, v in names_and_vals})\n",
    "\n",
    "# save to local\n",
    "with open(local_np_save_path, \"wb\") as f: f.write(io_buffer.getvalue())\n",
    "# save to gcs\n",
    "with tf.io.gfile.GFile(gcs_np_save_path, \"wb\") as f: f.write(io_buffer.getvalue())"
   ]
  },
  {
   "cell_type": "code",
   "execution_count": 8,
   "metadata": {},
   "outputs": [
    {
     "name": "stdout",
     "output_type": "stream",
     "text": [
      "params/embedder/input_embedding (256128, 2048) float32\n",
      "params/layers/attn/attn_vec_einsum/w (6, 8, 256, 2048) float32\n",
      "params/layers/attn/kv_einsum/w (6, 2, 1, 2048, 256) float32\n",
      "params/layers/attn/q_einsum/w (6, 8, 2048, 256) float32\n",
      "params/layers/mlp/gating_einsum (6, 2, 2048, 16384) float32\n",
      "params/layers/mlp/linear (6, 16384, 2048) float32\n",
      "params/layers/pre_attention_norm/scale (6, 2048) float32\n",
      "params/layers/pre_ffw_norm/scale (6, 2048) float32\n",
      "params/embedder/input_embedding (256128, 2048) float32\n",
      "params/layers/attn/attn_vec_einsum/w (6, 8, 256, 2048) float32\n",
      "params/layers/attn/kv_einsum/w (6, 2, 1, 2048, 256) float32\n",
      "params/layers/attn/q_einsum/w (6, 8, 2048, 256) float32\n",
      "params/layers/mlp/gating_einsum (6, 2, 2048, 16384) float32\n",
      "params/layers/mlp/linear (6, 16384, 2048) float32\n",
      "params/layers/pre_attention_norm/scale (6, 2048) float32\n",
      "params/layers/pre_ffw_norm/scale (6, 2048) float32\n"
     ]
    }
   ],
   "source": [
    "def load_npz(npz_path):\n",
    "    model_p = u.npload(npz_path)\n",
    "    for key in model_p.keys():\n",
    "        print(key, model_p[key].shape, model_p[key].dtype)\n",
    "\n",
    "load_npz(local_np_save_path)\n",
    "load_npz(gcs_np_save_path)"
   ]
  }
 ],
 "metadata": {
  "kernelspec": {
   "display_name": "Python 3",
   "language": "python",
   "name": "python3"
  },
  "language_info": {
   "codemirror_mode": {
    "name": "ipython",
    "version": 3
   },
   "file_extension": ".py",
   "mimetype": "text/x-python",
   "name": "python",
   "nbconvert_exporter": "python",
   "pygments_lexer": "ipython3",
   "version": "3.10.14"
  }
 },
 "nbformat": 4,
 "nbformat_minor": 2
}
