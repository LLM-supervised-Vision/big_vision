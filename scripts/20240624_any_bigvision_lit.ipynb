{
 "cells": [
  {
   "cell_type": "code",
   "execution_count": 1,
   "metadata": {},
   "outputs": [
    {
     "name": "stderr",
     "output_type": "stream",
     "text": [
      "/mnt/vlm-pd/miniconda3/envs/vlm/lib/python3.11/site-packages/IPython/core/magics/osm.py:393: UserWarning: using bookmarks requires you to install the `pickleshare` library.\n",
      "  bkms = self.shell.db.get('bookmarks', {})\n",
      "/mnt/vlm-pd/miniconda3/envs/vlm/lib/python3.11/site-packages/IPython/core/magics/osm.py:417: UserWarning: using dhist requires you to install the `pickleshare` library.\n",
      "  self.shell.db['dhist'] = compress_dhist(dhist)[-100:]\n"
     ]
    },
    {
     "name": "stdout",
     "output_type": "stream",
     "text": [
      "/home/austinwang/austin_big_vision\n"
     ]
    }
   ],
   "source": [
    "%cd ~/austin_big_vision\n",
    "import jax\n",
    "import jax.numpy as jnp\n",
    "import ml_collections"
   ]
  },
  {
   "cell_type": "markdown",
   "metadata": {},
   "source": [
    "# ViT"
   ]
  },
  {
   "cell_type": "code",
   "execution_count": null,
   "metadata": {},
   "outputs": [],
   "source": [
    "import big_vision.models.vit as model_mod\n",
    "model_cfg = ml_collections.ConfigDict()\n",
    "model_cfg.num_classes = None\n",
    "model_cfg.patch_size = (16, 16)\n",
    "model_cfg.width = 768\n",
    "model_cfg.depth = 12\n",
    "model_cfg.mlp_dim = None  # Defaults to 4x input dim\n",
    "model_cfg.num_heads = 12\n",
    "model_cfg.posemb = \"learn\"  # Can also be \"sincos2d\"\n",
    "model_cfg.rep_size = False\n",
    "model_cfg.dropout = 0.0\n",
    "model_cfg.pool_type = \"map\"  # Can also be \"map\" or \"tok\"\n",
    "model_cfg.head_zeroinit = True\n",
    "model_cfg.mask = None\n",
    "model_cfg.normalize_qk = False\n",
    "model_cfg.scan = True\n",
    "model_cfg.remat_policy = \"nothing_saveable\"\n",
    "model_cfg.dtype_mm = \"bfloat16\"\n",
    "\n",
    "model = model_mod.Model(**model_cfg)\n",
    "\n",
    "VARIANT, RES = 'B/16', 224\n",
    "CKPT = 'gs://us-central2-storage/tensorflow_datasets/cappa_bs16384_warm0.02_lr1e-3_wd1e-4_bf16_b2-0.95_6lyr_06-15_2102/checkpoint.bv-000183105/'\n",
    "TXTVARIANT, EMBDIM, SEQLEN, VOCAB = 'B', 768, 64, 32_000\n",
    "\n",
    "init_shapes, init_types = [(1, RES, RES, 3), (1, SEQLEN,)],['bfloat16', 'int32']\n",
    "init_params = [\n",
    "    jnp.zeros(shape, dtype)\n",
    "    for shape, dtype in zip(init_shapes, init_types)\n",
    "]\n",
    "# params = model_mod.load(init_params, f'{CKPT}:img', model_cfg)\n",
    "params = model_mod.load(init_params, f'{CKPT}:img', model_cfg)"
   ]
  },
  {
   "cell_type": "markdown",
   "metadata": {},
   "source": [
    "# CapPa"
   ]
  },
  {
   "cell_type": "code",
   "execution_count": null,
   "metadata": {},
   "outputs": [],
   "source": [
    "import importlib\n",
    "\n",
    "model_cfg = ml_collections.ConfigDict()\n",
    "model_name = \"proj.cappa.cappa\"\n",
    "model_cfg.num_heads = 8\n",
    "model_cfg.num_layers = 6\n",
    "model_cfg.mlp_dim = 2048\n",
    "model_cfg.emb_dim = 512\n",
    "model_cfg.enc_dropout_rate = 0.\n",
    "model_cfg.vocab_size = 32_000\n",
    "model_cfg.seq_len = 256\n",
    "model_cfg.patches = (16, 16)\n",
    "model_cfg.input_seq_len = 768\n",
    "model_cfg.posemb_type = \"learn\"\n",
    "model_cfg.patch_dropout = 0.\n",
    "model_cfg.decoder_num_heads = 0\n",
    "model_cfg.decoder_num_layers = 0\n",
    "model_cfg.decoder_mlp_dim = 0\n",
    "model_cfg.decoder_emb_dim = 0\n",
    "model_cfg.dec_dropout_rate = 0.\n",
    "model_cfg.masked_pred_prob = 0.\n",
    "model_cfg.masking_ratio = 0.\n",
    "model_cfg.decoder_bias = True\n",
    "model_cfg.scan = False\n",
    "model_cfg.remat_policy = \"nothing_saveable\"\n",
    "model_cfg.dtype_mm = \"float32\"\n",
    "\n",
    "model_mod = importlib.import_module(f\"big_vision.models.{model_name}\")\n",
    "model = model_mod.Model(**model_cfg)\n",
    "\n",
    "CKPT = 'gs://us-central2-storage/tensorflow_datasets/cappa_bs16384_warm0.02_lr1e-3_wd1e-4_bf16_b2-0.95_6lyr_06-15_2102/checkpoint.bv-000183105/'"
   ]
  },
  {
   "cell_type": "code",
   "execution_count": null,
   "metadata": {},
   "outputs": [],
   "source": []
  }
 ],
 "metadata": {
  "kernelspec": {
   "display_name": "Python 3",
   "language": "python",
   "name": "python3"
  },
  "language_info": {
   "codemirror_mode": {
    "name": "ipython",
    "version": 3
   },
   "file_extension": ".py",
   "mimetype": "text/x-python",
   "name": "python",
   "nbconvert_exporter": "python",
   "pygments_lexer": "ipython3",
   "version": "3.11.8"
  }
 },
 "nbformat": 4,
 "nbformat_minor": 2
}
