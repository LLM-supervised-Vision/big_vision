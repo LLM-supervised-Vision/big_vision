{
 "cells": [
  {
   "cell_type": "code",
   "execution_count": 1,
   "metadata": {},
   "outputs": [
    {
     "name": "stdout",
     "output_type": "stream",
     "text": [
      "/home/austinwang/austin_big_vision\n"
     ]
    },
    {
     "name": "stderr",
     "output_type": "stream",
     "text": [
      "/mnt/vlm-pd/miniconda3/envs/vlm/lib/python3.11/site-packages/IPython/core/magics/osm.py:393: UserWarning: using bookmarks requires you to install the `pickleshare` library.\n",
      "  bkms = self.shell.db.get('bookmarks', {})\n",
      "/mnt/vlm-pd/miniconda3/envs/vlm/lib/python3.11/site-packages/IPython/core/magics/osm.py:417: UserWarning: using dhist requires you to install the `pickleshare` library.\n",
      "  self.shell.db['dhist'] = compress_dhist(dhist)[-100:]\n"
     ]
    }
   ],
   "source": [
    "%cd ~/austin_big_vision\n",
    "import jax\n",
    "import jax.numpy as jnp\n",
    "import ml_collections"
   ]
  },
  {
   "cell_type": "markdown",
   "metadata": {},
   "source": [
    "# CapPa ViT"
   ]
  },
  {
   "cell_type": "code",
   "execution_count": 5,
   "metadata": {},
   "outputs": [
    {
     "name": "stderr",
     "output_type": "stream",
     "text": [
      "/tmp/ipykernel_1027117/63146067.py:27: DeprecationWarning: jax.tree_map is deprecated: use jax.tree.map (jax v0.4.25 or newer) or jax.tree_util.tree_map (any JAX version).\n",
      "  jax.tree_map(jnp.shape, params)\n"
     ]
    },
    {
     "data": {
      "text/plain": [
       "{'Transformer': {'encoder_norm': {'bias': (768,), 'scale': (768,)},\n",
       "  'encoderblock': {'LayerNorm_0': {'bias': (12, 768), 'scale': (12, 768)},\n",
       "   'LayerNorm_1': {'bias': (12, 768), 'scale': (12, 768)},\n",
       "   'MlpBlock_0': {'Dense_0': {'bias': (12, 3072), 'kernel': (12, 768, 3072)},\n",
       "    'Dense_1': {'bias': (12, 768), 'kernel': (12, 3072, 768)}},\n",
       "   'MultiHeadDotProductAttention_0': {'key': {'bias': (12, 12, 64),\n",
       "     'kernel': (12, 768, 12, 64)},\n",
       "    'key_ln': {'scale': (12, 64)},\n",
       "    'out': {'bias': (12, 768), 'kernel': (12, 12, 64, 768)},\n",
       "    'query': {'bias': (12, 12, 64), 'kernel': (12, 768, 12, 64)},\n",
       "    'query_ln': {'scale': (12, 64)},\n",
       "    'value': {'bias': (12, 12, 64), 'kernel': (12, 768, 12, 64)}}}},\n",
       " 'embedding': {'bias': (768,), 'kernel': (16, 16, 3, 768)},\n",
       " 'pos_embedding': (1, 196, 768)}"
      ]
     },
     "execution_count": 5,
     "metadata": {},
     "output_type": "execute_result"
    }
   ],
   "source": [
    "import big_vision.models.vit as model_mod\n",
    "model_cfg = ml_collections.ConfigDict()\n",
    "model_cfg.num_classes = None\n",
    "model_cfg.patch_size = (16, 16)\n",
    "model_cfg.width = 768\n",
    "model_cfg.depth = 12\n",
    "model_cfg.mlp_dim = None  # Defaults to 4x input dim\n",
    "model_cfg.num_heads = 12\n",
    "model_cfg.posemb = \"learn\"  # Can also be \"sincos2d\"\n",
    "model_cfg.rep_size = False\n",
    "model_cfg.dropout = 0.0\n",
    "model_cfg.pool_type = \"map\"  # Can also be \"map\" or \"tok\"\n",
    "model_cfg.head_zeroinit = True\n",
    "model_cfg.mask = None\n",
    "model_cfg.normalize_qk = False\n",
    "model_cfg.scan = True\n",
    "model_cfg.remat_policy = \"nothing_saveable\"\n",
    "model_cfg.dtype_mm = \"bfloat16\"\n",
    "\n",
    "model = model_mod.Model(**model_cfg)\n",
    "\n",
    "cappa_ckpt = 'gs://us-central2-storage/tensorflow_datasets/cappa_bs16384_warm0.02_lr1e-3_wd1e-4_bf16_b2-0.95_6lyr_06-15_2102/checkpoint.bv-000183105'\n",
    "cappa_path = cappa_ckpt+':encoder'\n",
    "\n",
    "init_params = None\n",
    "params = model_mod.load(init_params, cappa_path, model_cfg)\n",
    "jax.tree_map(jnp.shape, params)"
   ]
  },
  {
   "cell_type": "markdown",
   "metadata": {},
   "source": [
    "# SigLIP ViT"
   ]
  },
  {
   "cell_type": "code",
   "execution_count": 6,
   "metadata": {},
   "outputs": [
    {
     "name": "stderr",
     "output_type": "stream",
     "text": [
      "/tmp/ipykernel_1027117/3292360820.py:6: DeprecationWarning: jax.tree_map is deprecated: use jax.tree.map (jax v0.4.25 or newer) or jax.tree_util.tree_map (any JAX version).\n",
      "  jax.tree_map(jnp.shape, params)\n"
     ]
    },
    {
     "data": {
      "text/plain": [
       "{'MAPHead_0': {'LayerNorm_0': {'bias': (768,), 'scale': (768,)},\n",
       "  'MlpBlock_0': {'Dense_0': {'bias': (3072,), 'kernel': (768, 3072)},\n",
       "   'Dense_1': {'bias': (768,), 'kernel': (3072, 768)}},\n",
       "  'MultiHeadDotProductAttention_0': {'key': {'bias': (12, 64),\n",
       "    'kernel': (768, 12, 64)},\n",
       "   'out': {'bias': (768,), 'kernel': (12, 64, 768)},\n",
       "   'query': {'bias': (12, 64), 'kernel': (768, 12, 64)},\n",
       "   'value': {'bias': (12, 64), 'kernel': (768, 12, 64)}},\n",
       "  'probe': (1, 1, 768)},\n",
       " 'Transformer': {'encoder_norm': {'bias': (768,), 'scale': (768,)},\n",
       "  'encoderblock': {'LayerNorm_0': {'bias': (12, 768), 'scale': (12, 768)},\n",
       "   'LayerNorm_1': {'bias': (12, 768), 'scale': (12, 768)},\n",
       "   'MlpBlock_0': {'Dense_0': {'bias': (12, 3072), 'kernel': (12, 768, 3072)},\n",
       "    'Dense_1': {'bias': (12, 768), 'kernel': (12, 3072, 768)}},\n",
       "   'MultiHeadDotProductAttention_0': {'key': {'bias': (12, 12, 64),\n",
       "     'kernel': (12, 768, 12, 64)},\n",
       "    'out': {'bias': (12, 768), 'kernel': (12, 12, 64, 768)},\n",
       "    'query': {'bias': (12, 12, 64), 'kernel': (12, 768, 12, 64)},\n",
       "    'value': {'bias': (12, 12, 64), 'kernel': (12, 768, 12, 64)}}}},\n",
       " 'embedding': {'bias': (768,), 'kernel': (16, 16, 3, 768)},\n",
       " 'pos_embedding': (1, 196, 768)}"
      ]
     },
     "execution_count": 6,
     "metadata": {},
     "output_type": "execute_result"
    }
   ],
   "source": [
    "siglip_ckpt = 'gs://us-central2-storage/tensorflow_datasets/vit-b-16_3b_pretraining/siglip_replication_pod_04-11_2247/checkpoint.bv-000183105'\n",
    "siglip_path = siglip_ckpt+':img'\n",
    "\n",
    "init_params = None\n",
    "params = model_mod.load(init_params, siglip_path, model_cfg)\n",
    "jax.tree_map(jnp.shape, params)"
   ]
  },
  {
   "cell_type": "code",
   "execution_count": null,
   "metadata": {},
   "outputs": [],
   "source": []
  }
 ],
 "metadata": {
  "kernelspec": {
   "display_name": "Python 3",
   "language": "python",
   "name": "python3"
  },
  "language_info": {
   "codemirror_mode": {
    "name": "ipython",
    "version": 3
   },
   "file_extension": ".py",
   "mimetype": "text/x-python",
   "name": "python",
   "nbconvert_exporter": "python",
   "pygments_lexer": "ipython3",
   "version": "3.11.8"
  }
 },
 "nbformat": 4,
 "nbformat_minor": 2
}
