{
 "cells": [
  {
   "cell_type": "code",
   "execution_count": 5,
   "metadata": {},
   "outputs": [
    {
     "name": "stderr",
     "output_type": "stream",
     "text": [
      "Converting to Parquet: 0it [00:00, ?it/s]"
     ]
    },
    {
     "name": "stderr",
     "output_type": "stream",
     "text": [
      "Converting to Parquet: 1it [01:53, 113.66s/it]"
     ]
    },
    {
     "name": "stdout",
     "output_type": "stream",
     "text": [
      "Skipping part 0, already processed\n",
      "Skipping part 1, already processed\n",
      "Skipping part 2, already processed\n",
      "Skipping part 3, already processed\n",
      "Skipping part 4, already processed\n",
      "Skipping part 5, already processed\n",
      "Skipping part 6, already processed\n",
      "Skipping part 7, already processed\n",
      "Skipping part 8, already processed\n",
      "Skipping part 9, already processed\n",
      "Skipping part 10, already processed\n",
      "Skipping part 11, already processed\n",
      "Skipping part 12, already processed\n",
      "Skipping part 13, already processed\n",
      "Skipping part 14, already processed\n",
      "Skipping part 15, already processed\n",
      "Skipping part 16, already processed\n",
      "Skipping part 17, already processed\n",
      "Skipping part 18, already processed\n",
      "Skipping part 19, already processed\n",
      "Skipping part 20, already processed\n",
      "Skipping part 21, already processed\n",
      "Skipping part 22, already processed\n",
      "Skipping part 23, already processed\n",
      "Skipping part 24, already processed\n",
      "Skipping part 25, already processed\n",
      "Skipping part 26, already processed\n",
      "Skipping part 27, already processed\n",
      "Skipping part 28, already processed\n",
      "Skipping part 29, already processed\n",
      "Skipping part 30, already processed\n",
      "Skipping part 31, already processed\n",
      "Skipping part 32, already processed\n",
      "Skipping part 33, already processed\n",
      "Skipping part 34, already processed\n",
      "Skipping part 35, already processed\n",
      "Skipping part 36, already processed\n",
      "Skipping part 37, already processed\n",
      "Skipping part 38, already processed\n",
      "Skipping part 39, already processed\n",
      "Skipping part 40, already processed\n",
      "Skipping part 41, already processed\n",
      "Skipping part 42, already processed\n",
      "Skipping part 43, already processed\n",
      "Skipping part 44, already processed\n"
     ]
    },
    {
     "name": "stderr",
     "output_type": "stream",
     "text": [
      "Converting to Parquet: 46it [01:54,  1.75s/it]"
     ]
    },
    {
     "name": "stdout",
     "output_type": "stream",
     "text": [
      "Uploaded tensorflow_datasets/tensorflow_datasets/downloads/manual_cambrian_dataset/cambrian_dataset_10M_part_00045.parquet\n",
      "Uploaded tensorflow_datasets/tensorflow_datasets/downloads/manual_cambrian_dataset/cambrian_dataset_10M_part_00046.parquet\n",
      "Uploaded tensorflow_datasets/tensorflow_datasets/downloads/manual_cambrian_dataset/cambrian_dataset_10M_part_00047.parquet\n",
      "Uploaded tensorflow_datasets/tensorflow_datasets/downloads/manual_cambrian_dataset/cambrian_dataset_10M_part_00048.parquet\n",
      "Uploaded tensorflow_datasets/tensorflow_datasets/downloads/manual_cambrian_dataset/cambrian_dataset_10M_part_00049.parquet\n",
      "Uploaded tensorflow_datasets/tensorflow_datasets/downloads/manual_cambrian_dataset/cambrian_dataset_10M_part_00050.parquet\n",
      "Uploaded tensorflow_datasets/tensorflow_datasets/downloads/manual_cambrian_dataset/cambrian_dataset_10M_part_00051.parquet\n",
      "Uploaded tensorflow_datasets/tensorflow_datasets/downloads/manual_cambrian_dataset/cambrian_dataset_10M_part_00052.parquet\n"
     ]
    },
    {
     "name": "stderr",
     "output_type": "stream",
     "text": [
      "Converting to Parquet: 54it [01:56,  1.47s/it]"
     ]
    },
    {
     "name": "stdout",
     "output_type": "stream",
     "text": [
      "Uploaded tensorflow_datasets/tensorflow_datasets/downloads/manual_cambrian_dataset/cambrian_dataset_10M_part_00053.parquet\n",
      "Uploaded tensorflow_datasets/tensorflow_datasets/downloads/manual_cambrian_dataset/cambrian_dataset_10M_part_00054.parquet\n",
      "Uploaded tensorflow_datasets/tensorflow_datasets/downloads/manual_cambrian_dataset/cambrian_dataset_10M_part_00055.parquet\n"
     ]
    },
    {
     "name": "stderr",
     "output_type": "stream",
     "text": [
      "Converting to Parquet: 58it [01:57,  1.31s/it]"
     ]
    },
    {
     "name": "stdout",
     "output_type": "stream",
     "text": [
      "Uploaded tensorflow_datasets/tensorflow_datasets/downloads/manual_cambrian_dataset/cambrian_dataset_10M_part_00056.parquet\n",
      "Uploaded tensorflow_datasets/tensorflow_datasets/downloads/manual_cambrian_dataset/cambrian_dataset_10M_part_00057.parquet\n"
     ]
    },
    {
     "name": "stderr",
     "output_type": "stream",
     "text": [
      "Converting to Parquet: 60it [01:58,  1.22s/it]"
     ]
    },
    {
     "name": "stdout",
     "output_type": "stream",
     "text": [
      "Uploaded tensorflow_datasets/tensorflow_datasets/downloads/manual_cambrian_dataset/cambrian_dataset_10M_part_00058.parquet\n",
      "Uploaded tensorflow_datasets/tensorflow_datasets/downloads/manual_cambrian_dataset/cambrian_dataset_10M_part_00059.parquet\n"
     ]
    },
    {
     "name": "stderr",
     "output_type": "stream",
     "text": [
      "Converting to Parquet: 62it [01:58,  1.11s/it]"
     ]
    },
    {
     "name": "stdout",
     "output_type": "stream",
     "text": [
      "Uploaded tensorflow_datasets/tensorflow_datasets/downloads/manual_cambrian_dataset/cambrian_dataset_10M_part_00060.parquet\n",
      "Uploaded tensorflow_datasets/tensorflow_datasets/downloads/manual_cambrian_dataset/cambrian_dataset_10M_part_00061.parquet\n",
      "Uploaded tensorflow_datasets/tensorflow_datasets/downloads/manual_cambrian_dataset/cambrian_dataset_10M_part_00062.parquet\n"
     ]
    },
    {
     "name": "stderr",
     "output_type": "stream",
     "text": [
      "Converting to Parquet: 64it [01:59,  1.02s/it]"
     ]
    },
    {
     "name": "stdout",
     "output_type": "stream",
     "text": [
      "Uploaded tensorflow_datasets/tensorflow_datasets/downloads/manual_cambrian_dataset/cambrian_dataset_10M_part_00063.parquet\n"
     ]
    },
    {
     "name": "stderr",
     "output_type": "stream",
     "text": [
      "Converting to Parquet: 65it [01:59,  1.03it/s]"
     ]
    },
    {
     "name": "stdout",
     "output_type": "stream",
     "text": [
      "Uploaded tensorflow_datasets/tensorflow_datasets/downloads/manual_cambrian_dataset/cambrian_dataset_10M_part_00064.parquet\n"
     ]
    },
    {
     "name": "stderr",
     "output_type": "stream",
     "text": [
      "Converting to Parquet: 66it [02:00,  1.09it/s]"
     ]
    },
    {
     "name": "stdout",
     "output_type": "stream",
     "text": [
      "Uploaded tensorflow_datasets/tensorflow_datasets/downloads/manual_cambrian_dataset/cambrian_dataset_10M_part_00065.parquet\n"
     ]
    },
    {
     "name": "stderr",
     "output_type": "stream",
     "text": [
      "Converting to Parquet: 67it [02:00,  1.16it/s]"
     ]
    },
    {
     "name": "stdout",
     "output_type": "stream",
     "text": [
      "Uploaded tensorflow_datasets/tensorflow_datasets/downloads/manual_cambrian_dataset/cambrian_dataset_10M_part_00066.parquet\n"
     ]
    },
    {
     "name": "stderr",
     "output_type": "stream",
     "text": [
      "Converting to Parquet: 68it [02:01,  1.26it/s]"
     ]
    },
    {
     "name": "stdout",
     "output_type": "stream",
     "text": [
      "Uploaded tensorflow_datasets/tensorflow_datasets/downloads/manual_cambrian_dataset/cambrian_dataset_10M_part_00067.parquet\n"
     ]
    },
    {
     "name": "stderr",
     "output_type": "stream",
     "text": [
      "Converting to Parquet: 69it [02:01,  1.39it/s]"
     ]
    },
    {
     "name": "stdout",
     "output_type": "stream",
     "text": [
      "Uploaded tensorflow_datasets/tensorflow_datasets/downloads/manual_cambrian_dataset/cambrian_dataset_10M_part_00068.parquet\n"
     ]
    },
    {
     "name": "stderr",
     "output_type": "stream",
     "text": [
      "Converting to Parquet: 70it [02:01,  1.52it/s]"
     ]
    },
    {
     "name": "stdout",
     "output_type": "stream",
     "text": [
      "Uploaded tensorflow_datasets/tensorflow_datasets/downloads/manual_cambrian_dataset/cambrian_dataset_10M_part_00069.parquet\n"
     ]
    },
    {
     "name": "stderr",
     "output_type": "stream",
     "text": [
      "Converting to Parquet: 71it [02:02,  1.58it/s]"
     ]
    },
    {
     "name": "stdout",
     "output_type": "stream",
     "text": [
      "Uploaded tensorflow_datasets/tensorflow_datasets/downloads/manual_cambrian_dataset/cambrian_dataset_10M_part_00070.parquet\n"
     ]
    },
    {
     "name": "stderr",
     "output_type": "stream",
     "text": [
      "Converting to Parquet: 72it [02:02,  1.68it/s]"
     ]
    },
    {
     "name": "stdout",
     "output_type": "stream",
     "text": [
      "Uploaded tensorflow_datasets/tensorflow_datasets/downloads/manual_cambrian_dataset/cambrian_dataset_10M_part_00071.parquet\n"
     ]
    },
    {
     "name": "stderr",
     "output_type": "stream",
     "text": [
      "Converting to Parquet: 73it [02:03,  1.67it/s]"
     ]
    },
    {
     "name": "stdout",
     "output_type": "stream",
     "text": [
      "Uploaded tensorflow_datasets/tensorflow_datasets/downloads/manual_cambrian_dataset/cambrian_dataset_10M_part_00072.parquet\n"
     ]
    },
    {
     "name": "stderr",
     "output_type": "stream",
     "text": [
      "Converting to Parquet: 74it [02:04,  1.78it/s]"
     ]
    },
    {
     "name": "stdout",
     "output_type": "stream",
     "text": [
      "Uploaded tensorflow_datasets/tensorflow_datasets/downloads/manual_cambrian_dataset/cambrian_dataset_10M_part_00073.parquet\n"
     ]
    },
    {
     "name": "stderr",
     "output_type": "stream",
     "text": [
      "Converting to Parquet: 75it [02:04,  1.92it/s]"
     ]
    },
    {
     "name": "stdout",
     "output_type": "stream",
     "text": [
      "Uploaded tensorflow_datasets/tensorflow_datasets/downloads/manual_cambrian_dataset/cambrian_dataset_10M_part_00074.parquet\n"
     ]
    },
    {
     "name": "stderr",
     "output_type": "stream",
     "text": [
      "Converting to Parquet: 76it [02:04,  2.04it/s]"
     ]
    },
    {
     "name": "stdout",
     "output_type": "stream",
     "text": [
      "Uploaded tensorflow_datasets/tensorflow_datasets/downloads/manual_cambrian_dataset/cambrian_dataset_10M_part_00075.parquet\n"
     ]
    },
    {
     "name": "stderr",
     "output_type": "stream",
     "text": [
      "Converting to Parquet: 77it [02:05,  2.12it/s]"
     ]
    },
    {
     "name": "stdout",
     "output_type": "stream",
     "text": [
      "Uploaded tensorflow_datasets/tensorflow_datasets/downloads/manual_cambrian_dataset/cambrian_dataset_10M_part_00076.parquet\n"
     ]
    },
    {
     "name": "stderr",
     "output_type": "stream",
     "text": [
      "Converting to Parquet: 78it [02:05,  2.33it/s]"
     ]
    },
    {
     "name": "stdout",
     "output_type": "stream",
     "text": [
      "Uploaded tensorflow_datasets/tensorflow_datasets/downloads/manual_cambrian_dataset/cambrian_dataset_10M_part_00077.parquet\n"
     ]
    },
    {
     "name": "stderr",
     "output_type": "stream",
     "text": [
      "Converting to Parquet: 80it [02:06,  3.15it/s]"
     ]
    },
    {
     "name": "stdout",
     "output_type": "stream",
     "text": [
      "Uploaded tensorflow_datasets/tensorflow_datasets/downloads/manual_cambrian_dataset/cambrian_dataset_10M_part_00078.parquet\n",
      "Uploaded tensorflow_datasets/tensorflow_datasets/downloads/manual_cambrian_dataset/cambrian_dataset_10M_part_00079.parquet\n"
     ]
    },
    {
     "name": "stderr",
     "output_type": "stream",
     "text": [
      "Converting to Parquet: 82it [02:06,  4.01it/s]"
     ]
    },
    {
     "name": "stdout",
     "output_type": "stream",
     "text": [
      "Uploaded tensorflow_datasets/tensorflow_datasets/downloads/manual_cambrian_dataset/cambrian_dataset_10M_part_00080.parquet\n",
      "Uploaded tensorflow_datasets/tensorflow_datasets/downloads/manual_cambrian_dataset/cambrian_dataset_10M_part_00081.parquet\n"
     ]
    },
    {
     "name": "stderr",
     "output_type": "stream",
     "text": [
      "Converting to Parquet: 84it [02:06,  4.72it/s]"
     ]
    },
    {
     "name": "stdout",
     "output_type": "stream",
     "text": [
      "Uploaded tensorflow_datasets/tensorflow_datasets/downloads/manual_cambrian_dataset/cambrian_dataset_10M_part_00082.parquet\n",
      "Uploaded tensorflow_datasets/tensorflow_datasets/downloads/manual_cambrian_dataset/cambrian_dataset_10M_part_00083.parquet\n"
     ]
    },
    {
     "name": "stderr",
     "output_type": "stream",
     "text": [
      "Converting to Parquet: 86it [02:07,  5.08it/s]"
     ]
    },
    {
     "name": "stdout",
     "output_type": "stream",
     "text": [
      "Uploaded tensorflow_datasets/tensorflow_datasets/downloads/manual_cambrian_dataset/cambrian_dataset_10M_part_00084.parquet\n",
      "Uploaded tensorflow_datasets/tensorflow_datasets/downloads/manual_cambrian_dataset/cambrian_dataset_10M_part_00085.parquet\n"
     ]
    },
    {
     "name": "stderr",
     "output_type": "stream",
     "text": [
      "Converting to Parquet: 87it [02:07,  5.30it/s]"
     ]
    },
    {
     "name": "stdout",
     "output_type": "stream",
     "text": [
      "Uploaded tensorflow_datasets/tensorflow_datasets/downloads/manual_cambrian_dataset/cambrian_dataset_10M_part_00086.parquet\n"
     ]
    },
    {
     "name": "stderr",
     "output_type": "stream",
     "text": [
      "Converting to Parquet: 88it [02:07,  4.78it/s]"
     ]
    },
    {
     "name": "stdout",
     "output_type": "stream",
     "text": [
      "Uploaded tensorflow_datasets/tensorflow_datasets/downloads/manual_cambrian_dataset/cambrian_dataset_10M_part_00087.parquet\n"
     ]
    },
    {
     "name": "stderr",
     "output_type": "stream",
     "text": [
      "Converting to Parquet: 89it [02:07,  4.74it/s]"
     ]
    },
    {
     "name": "stdout",
     "output_type": "stream",
     "text": [
      "Uploaded tensorflow_datasets/tensorflow_datasets/downloads/manual_cambrian_dataset/cambrian_dataset_10M_part_00088.parquet\n"
     ]
    },
    {
     "name": "stderr",
     "output_type": "stream",
     "text": [
      "Converting to Parquet: 91it [02:08,  4.92it/s]"
     ]
    },
    {
     "name": "stdout",
     "output_type": "stream",
     "text": [
      "Uploaded tensorflow_datasets/tensorflow_datasets/downloads/manual_cambrian_dataset/cambrian_dataset_10M_part_00089.parquet\n",
      "Uploaded tensorflow_datasets/tensorflow_datasets/downloads/manual_cambrian_dataset/cambrian_dataset_10M_part_00090.parquet\n"
     ]
    },
    {
     "name": "stderr",
     "output_type": "stream",
     "text": [
      "Converting to Parquet: 93it [02:08,  5.73it/s]"
     ]
    },
    {
     "name": "stdout",
     "output_type": "stream",
     "text": [
      "Uploaded tensorflow_datasets/tensorflow_datasets/downloads/manual_cambrian_dataset/cambrian_dataset_10M_part_00091.parquet\n",
      "Uploaded tensorflow_datasets/tensorflow_datasets/downloads/manual_cambrian_dataset/cambrian_dataset_10M_part_00092.parquet\n"
     ]
    },
    {
     "name": "stderr",
     "output_type": "stream",
     "text": [
      "Converting to Parquet: 94it [02:08,  6.05it/s]"
     ]
    },
    {
     "name": "stdout",
     "output_type": "stream",
     "text": [
      "Uploaded tensorflow_datasets/tensorflow_datasets/downloads/manual_cambrian_dataset/cambrian_dataset_10M_part_00093.parquet\n"
     ]
    },
    {
     "name": "stderr",
     "output_type": "stream",
     "text": [
      "Converting to Parquet: 96it [02:08,  5.79it/s]"
     ]
    },
    {
     "name": "stdout",
     "output_type": "stream",
     "text": [
      "Uploaded tensorflow_datasets/tensorflow_datasets/downloads/manual_cambrian_dataset/cambrian_dataset_10M_part_00094.parquet\n",
      "Uploaded tensorflow_datasets/tensorflow_datasets/downloads/manual_cambrian_dataset/cambrian_dataset_10M_part_00095.parquet\n"
     ]
    },
    {
     "name": "stderr",
     "output_type": "stream",
     "text": [
      "Converting to Parquet: 98it [02:09,  6.18it/s]"
     ]
    },
    {
     "name": "stdout",
     "output_type": "stream",
     "text": [
      "Uploaded tensorflow_datasets/tensorflow_datasets/downloads/manual_cambrian_dataset/cambrian_dataset_10M_part_00096.parquet\n",
      "Uploaded tensorflow_datasets/tensorflow_datasets/downloads/manual_cambrian_dataset/cambrian_dataset_10M_part_00097.parquet\n"
     ]
    },
    {
     "name": "stderr",
     "output_type": "stream",
     "text": [
      "Converting to Parquet: 100it [02:09,  6.25it/s]"
     ]
    },
    {
     "name": "stdout",
     "output_type": "stream",
     "text": [
      "Uploaded tensorflow_datasets/tensorflow_datasets/downloads/manual_cambrian_dataset/cambrian_dataset_10M_part_00098.parquet\n",
      "Uploaded tensorflow_datasets/tensorflow_datasets/downloads/manual_cambrian_dataset/cambrian_dataset_10M_part_00099.parquet\n"
     ]
    },
    {
     "name": "stderr",
     "output_type": "stream",
     "text": [
      "Converting to Parquet: 102it [02:09,  6.50it/s]"
     ]
    },
    {
     "name": "stdout",
     "output_type": "stream",
     "text": [
      "Uploaded tensorflow_datasets/tensorflow_datasets/downloads/manual_cambrian_dataset/cambrian_dataset_10M_part_00100.parquet\n",
      "Uploaded tensorflow_datasets/tensorflow_datasets/downloads/manual_cambrian_dataset/cambrian_dataset_10M_part_00101.parquet\n"
     ]
    },
    {
     "name": "stderr",
     "output_type": "stream",
     "text": [
      "Converting to Parquet: 104it [02:10,  6.68it/s]"
     ]
    },
    {
     "name": "stdout",
     "output_type": "stream",
     "text": [
      "Uploaded tensorflow_datasets/tensorflow_datasets/downloads/manual_cambrian_dataset/cambrian_dataset_10M_part_00102.parquet\n",
      "Uploaded tensorflow_datasets/tensorflow_datasets/downloads/manual_cambrian_dataset/cambrian_dataset_10M_part_00103.parquet\n"
     ]
    },
    {
     "name": "stderr",
     "output_type": "stream",
     "text": [
      "Converting to Parquet: 106it [02:10,  7.50it/s]"
     ]
    },
    {
     "name": "stdout",
     "output_type": "stream",
     "text": [
      "Uploaded tensorflow_datasets/tensorflow_datasets/downloads/manual_cambrian_dataset/cambrian_dataset_10M_part_00104.parquet\n",
      "Uploaded tensorflow_datasets/tensorflow_datasets/downloads/manual_cambrian_dataset/cambrian_dataset_10M_part_00105.parquet\n"
     ]
    },
    {
     "name": "stderr",
     "output_type": "stream",
     "text": [
      "Converting to Parquet: 108it [02:10,  7.26it/s]"
     ]
    },
    {
     "name": "stdout",
     "output_type": "stream",
     "text": [
      "Uploaded tensorflow_datasets/tensorflow_datasets/downloads/manual_cambrian_dataset/cambrian_dataset_10M_part_00106.parquet\n",
      "Uploaded tensorflow_datasets/tensorflow_datasets/downloads/manual_cambrian_dataset/cambrian_dataset_10M_part_00107.parquet\n"
     ]
    },
    {
     "name": "stderr",
     "output_type": "stream",
     "text": [
      "Converting to Parquet: 110it [02:10,  6.98it/s]"
     ]
    },
    {
     "name": "stdout",
     "output_type": "stream",
     "text": [
      "Uploaded tensorflow_datasets/tensorflow_datasets/downloads/manual_cambrian_dataset/cambrian_dataset_10M_part_00108.parquet\n",
      "Uploaded tensorflow_datasets/tensorflow_datasets/downloads/manual_cambrian_dataset/cambrian_dataset_10M_part_00109.parquet\n"
     ]
    },
    {
     "name": "stderr",
     "output_type": "stream",
     "text": [
      "Converting to Parquet: 112it [02:11,  7.24it/s]"
     ]
    },
    {
     "name": "stdout",
     "output_type": "stream",
     "text": [
      "Uploaded tensorflow_datasets/tensorflow_datasets/downloads/manual_cambrian_dataset/cambrian_dataset_10M_part_00110.parquet\n",
      "Uploaded tensorflow_datasets/tensorflow_datasets/downloads/manual_cambrian_dataset/cambrian_dataset_10M_part_00111.parquet\n"
     ]
    },
    {
     "name": "stderr",
     "output_type": "stream",
     "text": [
      "Converting to Parquet: 114it [02:11,  7.18it/s]"
     ]
    },
    {
     "name": "stdout",
     "output_type": "stream",
     "text": [
      "Uploaded tensorflow_datasets/tensorflow_datasets/downloads/manual_cambrian_dataset/cambrian_dataset_10M_part_00112.parquet\n",
      "Uploaded tensorflow_datasets/tensorflow_datasets/downloads/manual_cambrian_dataset/cambrian_dataset_10M_part_00113.parquet\n"
     ]
    },
    {
     "name": "stderr",
     "output_type": "stream",
     "text": [
      "Converting to Parquet: 116it [02:11,  7.29it/s]"
     ]
    },
    {
     "name": "stdout",
     "output_type": "stream",
     "text": [
      "Uploaded tensorflow_datasets/tensorflow_datasets/downloads/manual_cambrian_dataset/cambrian_dataset_10M_part_00114.parquet\n",
      "Uploaded tensorflow_datasets/tensorflow_datasets/downloads/manual_cambrian_dataset/cambrian_dataset_10M_part_00115.parquet\n"
     ]
    },
    {
     "name": "stderr",
     "output_type": "stream",
     "text": [
      "Converting to Parquet: 118it [02:12,  6.54it/s]"
     ]
    },
    {
     "name": "stdout",
     "output_type": "stream",
     "text": [
      "Uploaded tensorflow_datasets/tensorflow_datasets/downloads/manual_cambrian_dataset/cambrian_dataset_10M_part_00116.parquet\n",
      "Uploaded tensorflow_datasets/tensorflow_datasets/downloads/manual_cambrian_dataset/cambrian_dataset_10M_part_00117.parquet\n"
     ]
    },
    {
     "name": "stderr",
     "output_type": "stream",
     "text": [
      "Converting to Parquet: 120it [02:12,  7.04it/s]"
     ]
    },
    {
     "name": "stdout",
     "output_type": "stream",
     "text": [
      "Uploaded tensorflow_datasets/tensorflow_datasets/downloads/manual_cambrian_dataset/cambrian_dataset_10M_part_00118.parquet\n",
      "Uploaded tensorflow_datasets/tensorflow_datasets/downloads/manual_cambrian_dataset/cambrian_dataset_10M_part_00119.parquet\n"
     ]
    },
    {
     "name": "stderr",
     "output_type": "stream",
     "text": [
      "Converting to Parquet: 122it [02:12,  7.37it/s]"
     ]
    },
    {
     "name": "stdout",
     "output_type": "stream",
     "text": [
      "Uploaded tensorflow_datasets/tensorflow_datasets/downloads/manual_cambrian_dataset/cambrian_dataset_10M_part_00120.parquet\n",
      "Uploaded tensorflow_datasets/tensorflow_datasets/downloads/manual_cambrian_dataset/cambrian_dataset_10M_part_00121.parquet\n"
     ]
    },
    {
     "name": "stderr",
     "output_type": "stream",
     "text": [
      "Converting to Parquet: 124it [02:12,  7.40it/s]"
     ]
    },
    {
     "name": "stdout",
     "output_type": "stream",
     "text": [
      "Uploaded tensorflow_datasets/tensorflow_datasets/downloads/manual_cambrian_dataset/cambrian_dataset_10M_part_00122.parquet\n",
      "Uploaded tensorflow_datasets/tensorflow_datasets/downloads/manual_cambrian_dataset/cambrian_dataset_10M_part_00123.parquet\n"
     ]
    },
    {
     "name": "stderr",
     "output_type": "stream",
     "text": [
      "Converting to Parquet: 126it [02:13,  7.17it/s]"
     ]
    },
    {
     "name": "stdout",
     "output_type": "stream",
     "text": [
      "Uploaded tensorflow_datasets/tensorflow_datasets/downloads/manual_cambrian_dataset/cambrian_dataset_10M_part_00124.parquet\n",
      "Uploaded tensorflow_datasets/tensorflow_datasets/downloads/manual_cambrian_dataset/cambrian_dataset_10M_part_00125.parquet\n"
     ]
    },
    {
     "name": "stderr",
     "output_type": "stream",
     "text": [
      "Converting to Parquet: 128it [02:13,  6.85it/s]"
     ]
    },
    {
     "name": "stdout",
     "output_type": "stream",
     "text": [
      "Uploaded tensorflow_datasets/tensorflow_datasets/downloads/manual_cambrian_dataset/cambrian_dataset_10M_part_00126.parquet\n",
      "Uploaded tensorflow_datasets/tensorflow_datasets/downloads/manual_cambrian_dataset/cambrian_dataset_10M_part_00127.parquet\n"
     ]
    },
    {
     "name": "stderr",
     "output_type": "stream",
     "text": [
      "Converting to Parquet: 130it [02:13,  7.10it/s]"
     ]
    },
    {
     "name": "stdout",
     "output_type": "stream",
     "text": [
      "Uploaded tensorflow_datasets/tensorflow_datasets/downloads/manual_cambrian_dataset/cambrian_dataset_10M_part_00128.parquet\n",
      "Uploaded tensorflow_datasets/tensorflow_datasets/downloads/manual_cambrian_dataset/cambrian_dataset_10M_part_00129.parquet\n"
     ]
    },
    {
     "name": "stderr",
     "output_type": "stream",
     "text": [
      "Converting to Parquet: 132it [02:14,  7.42it/s]"
     ]
    },
    {
     "name": "stdout",
     "output_type": "stream",
     "text": [
      "Uploaded tensorflow_datasets/tensorflow_datasets/downloads/manual_cambrian_dataset/cambrian_dataset_10M_part_00130.parquet\n",
      "Uploaded tensorflow_datasets/tensorflow_datasets/downloads/manual_cambrian_dataset/cambrian_dataset_10M_part_00131.parquet\n"
     ]
    },
    {
     "name": "stderr",
     "output_type": "stream",
     "text": [
      "Converting to Parquet: 134it [02:14,  7.46it/s]"
     ]
    },
    {
     "name": "stdout",
     "output_type": "stream",
     "text": [
      "Uploaded tensorflow_datasets/tensorflow_datasets/downloads/manual_cambrian_dataset/cambrian_dataset_10M_part_00132.parquet\n",
      "Uploaded tensorflow_datasets/tensorflow_datasets/downloads/manual_cambrian_dataset/cambrian_dataset_10M_part_00133.parquet\n"
     ]
    },
    {
     "name": "stderr",
     "output_type": "stream",
     "text": [
      "Converting to Parquet: 136it [02:14,  7.92it/s]"
     ]
    },
    {
     "name": "stdout",
     "output_type": "stream",
     "text": [
      "Uploaded tensorflow_datasets/tensorflow_datasets/downloads/manual_cambrian_dataset/cambrian_dataset_10M_part_00134.parquet\n",
      "Uploaded tensorflow_datasets/tensorflow_datasets/downloads/manual_cambrian_dataset/cambrian_dataset_10M_part_00135.parquet\n"
     ]
    },
    {
     "name": "stderr",
     "output_type": "stream",
     "text": [
      "Converting to Parquet: 138it [02:14,  7.65it/s]"
     ]
    },
    {
     "name": "stdout",
     "output_type": "stream",
     "text": [
      "Uploaded tensorflow_datasets/tensorflow_datasets/downloads/manual_cambrian_dataset/cambrian_dataset_10M_part_00136.parquet\n",
      "Uploaded tensorflow_datasets/tensorflow_datasets/downloads/manual_cambrian_dataset/cambrian_dataset_10M_part_00137.parquet\n"
     ]
    },
    {
     "name": "stderr",
     "output_type": "stream",
     "text": [
      "Converting to Parquet: 140it [02:15,  7.78it/s]"
     ]
    },
    {
     "name": "stdout",
     "output_type": "stream",
     "text": [
      "Uploaded tensorflow_datasets/tensorflow_datasets/downloads/manual_cambrian_dataset/cambrian_dataset_10M_part_00138.parquet\n",
      "Uploaded tensorflow_datasets/tensorflow_datasets/downloads/manual_cambrian_dataset/cambrian_dataset_10M_part_00139.parquet\n"
     ]
    },
    {
     "name": "stderr",
     "output_type": "stream",
     "text": [
      "Converting to Parquet: 142it [02:15,  7.39it/s]"
     ]
    },
    {
     "name": "stdout",
     "output_type": "stream",
     "text": [
      "Uploaded tensorflow_datasets/tensorflow_datasets/downloads/manual_cambrian_dataset/cambrian_dataset_10M_part_00140.parquet\n",
      "Uploaded tensorflow_datasets/tensorflow_datasets/downloads/manual_cambrian_dataset/cambrian_dataset_10M_part_00141.parquet\n"
     ]
    },
    {
     "name": "stderr",
     "output_type": "stream",
     "text": [
      "Converting to Parquet: 144it [02:15,  7.33it/s]"
     ]
    },
    {
     "name": "stdout",
     "output_type": "stream",
     "text": [
      "Uploaded tensorflow_datasets/tensorflow_datasets/downloads/manual_cambrian_dataset/cambrian_dataset_10M_part_00142.parquet\n",
      "Uploaded tensorflow_datasets/tensorflow_datasets/downloads/manual_cambrian_dataset/cambrian_dataset_10M_part_00143.parquet\n"
     ]
    },
    {
     "name": "stderr",
     "output_type": "stream",
     "text": [
      "Converting to Parquet: 146it [02:15,  7.44it/s]"
     ]
    },
    {
     "name": "stdout",
     "output_type": "stream",
     "text": [
      "Uploaded tensorflow_datasets/tensorflow_datasets/downloads/manual_cambrian_dataset/cambrian_dataset_10M_part_00144.parquet\n",
      "Uploaded tensorflow_datasets/tensorflow_datasets/downloads/manual_cambrian_dataset/cambrian_dataset_10M_part_00145.parquet\n"
     ]
    },
    {
     "name": "stderr",
     "output_type": "stream",
     "text": [
      "Converting to Parquet: 148it [02:16,  7.75it/s]"
     ]
    },
    {
     "name": "stdout",
     "output_type": "stream",
     "text": [
      "Uploaded tensorflow_datasets/tensorflow_datasets/downloads/manual_cambrian_dataset/cambrian_dataset_10M_part_00146.parquet\n",
      "Uploaded tensorflow_datasets/tensorflow_datasets/downloads/manual_cambrian_dataset/cambrian_dataset_10M_part_00147.parquet\n"
     ]
    },
    {
     "name": "stderr",
     "output_type": "stream",
     "text": [
      "Converting to Parquet: 150it [02:16,  7.71it/s]"
     ]
    },
    {
     "name": "stdout",
     "output_type": "stream",
     "text": [
      "Uploaded tensorflow_datasets/tensorflow_datasets/downloads/manual_cambrian_dataset/cambrian_dataset_10M_part_00148.parquet\n",
      "Uploaded tensorflow_datasets/tensorflow_datasets/downloads/manual_cambrian_dataset/cambrian_dataset_10M_part_00149.parquet\n"
     ]
    },
    {
     "name": "stderr",
     "output_type": "stream",
     "text": [
      "Converting to Parquet: 152it [02:16,  7.86it/s]"
     ]
    },
    {
     "name": "stdout",
     "output_type": "stream",
     "text": [
      "Uploaded tensorflow_datasets/tensorflow_datasets/downloads/manual_cambrian_dataset/cambrian_dataset_10M_part_00150.parquet\n",
      "Uploaded tensorflow_datasets/tensorflow_datasets/downloads/manual_cambrian_dataset/cambrian_dataset_10M_part_00151.parquet\n"
     ]
    },
    {
     "name": "stderr",
     "output_type": "stream",
     "text": [
      "Converting to Parquet: 154it [02:16,  7.70it/s]"
     ]
    },
    {
     "name": "stdout",
     "output_type": "stream",
     "text": [
      "Uploaded tensorflow_datasets/tensorflow_datasets/downloads/manual_cambrian_dataset/cambrian_dataset_10M_part_00152.parquet\n",
      "Uploaded tensorflow_datasets/tensorflow_datasets/downloads/manual_cambrian_dataset/cambrian_dataset_10M_part_00153.parquet\n"
     ]
    },
    {
     "name": "stderr",
     "output_type": "stream",
     "text": [
      "Converting to Parquet: 156it [02:17,  8.04it/s]"
     ]
    },
    {
     "name": "stdout",
     "output_type": "stream",
     "text": [
      "Uploaded tensorflow_datasets/tensorflow_datasets/downloads/manual_cambrian_dataset/cambrian_dataset_10M_part_00154.parquet\n",
      "Uploaded tensorflow_datasets/tensorflow_datasets/downloads/manual_cambrian_dataset/cambrian_dataset_10M_part_00155.parquet\n"
     ]
    },
    {
     "name": "stderr",
     "output_type": "stream",
     "text": [
      "Converting to Parquet: 158it [02:17,  7.78it/s]"
     ]
    },
    {
     "name": "stdout",
     "output_type": "stream",
     "text": [
      "Uploaded tensorflow_datasets/tensorflow_datasets/downloads/manual_cambrian_dataset/cambrian_dataset_10M_part_00156.parquet\n",
      "Uploaded tensorflow_datasets/tensorflow_datasets/downloads/manual_cambrian_dataset/cambrian_dataset_10M_part_00157.parquet\n"
     ]
    },
    {
     "name": "stderr",
     "output_type": "stream",
     "text": [
      "Converting to Parquet: 160it [02:17,  7.38it/s]"
     ]
    },
    {
     "name": "stdout",
     "output_type": "stream",
     "text": [
      "Uploaded tensorflow_datasets/tensorflow_datasets/downloads/manual_cambrian_dataset/cambrian_dataset_10M_part_00158.parquet\n",
      "Uploaded tensorflow_datasets/tensorflow_datasets/downloads/manual_cambrian_dataset/cambrian_dataset_10M_part_00159.parquet\n"
     ]
    },
    {
     "name": "stderr",
     "output_type": "stream",
     "text": [
      "Converting to Parquet: 162it [02:17,  7.47it/s]"
     ]
    },
    {
     "name": "stdout",
     "output_type": "stream",
     "text": [
      "Uploaded tensorflow_datasets/tensorflow_datasets/downloads/manual_cambrian_dataset/cambrian_dataset_10M_part_00160.parquet\n",
      "Uploaded tensorflow_datasets/tensorflow_datasets/downloads/manual_cambrian_dataset/cambrian_dataset_10M_part_00161.parquet\n"
     ]
    },
    {
     "name": "stderr",
     "output_type": "stream",
     "text": [
      "Converting to Parquet: 164it [02:18,  7.02it/s]"
     ]
    },
    {
     "name": "stdout",
     "output_type": "stream",
     "text": [
      "Uploaded tensorflow_datasets/tensorflow_datasets/downloads/manual_cambrian_dataset/cambrian_dataset_10M_part_00162.parquet\n",
      "Uploaded tensorflow_datasets/tensorflow_datasets/downloads/manual_cambrian_dataset/cambrian_dataset_10M_part_00163.parquet\n"
     ]
    },
    {
     "name": "stderr",
     "output_type": "stream",
     "text": [
      "Converting to Parquet: 166it [02:18,  7.25it/s]"
     ]
    },
    {
     "name": "stdout",
     "output_type": "stream",
     "text": [
      "Uploaded tensorflow_datasets/tensorflow_datasets/downloads/manual_cambrian_dataset/cambrian_dataset_10M_part_00164.parquet\n",
      "Uploaded tensorflow_datasets/tensorflow_datasets/downloads/manual_cambrian_dataset/cambrian_dataset_10M_part_00165.parquet\n"
     ]
    },
    {
     "name": "stderr",
     "output_type": "stream",
     "text": [
      "Converting to Parquet: 168it [02:18,  7.02it/s]"
     ]
    },
    {
     "name": "stdout",
     "output_type": "stream",
     "text": [
      "Uploaded tensorflow_datasets/tensorflow_datasets/downloads/manual_cambrian_dataset/cambrian_dataset_10M_part_00166.parquet\n",
      "Uploaded tensorflow_datasets/tensorflow_datasets/downloads/manual_cambrian_dataset/cambrian_dataset_10M_part_00167.parquet\n"
     ]
    },
    {
     "name": "stderr",
     "output_type": "stream",
     "text": [
      "Converting to Parquet: 170it [02:19,  7.07it/s]"
     ]
    },
    {
     "name": "stdout",
     "output_type": "stream",
     "text": [
      "Uploaded tensorflow_datasets/tensorflow_datasets/downloads/manual_cambrian_dataset/cambrian_dataset_10M_part_00168.parquet\n",
      "Uploaded tensorflow_datasets/tensorflow_datasets/downloads/manual_cambrian_dataset/cambrian_dataset_10M_part_00169.parquet\n"
     ]
    },
    {
     "name": "stderr",
     "output_type": "stream",
     "text": [
      "Converting to Parquet: 172it [02:19,  7.19it/s]"
     ]
    },
    {
     "name": "stdout",
     "output_type": "stream",
     "text": [
      "Uploaded tensorflow_datasets/tensorflow_datasets/downloads/manual_cambrian_dataset/cambrian_dataset_10M_part_00170.parquet\n",
      "Uploaded tensorflow_datasets/tensorflow_datasets/downloads/manual_cambrian_dataset/cambrian_dataset_10M_part_00171.parquet\n"
     ]
    },
    {
     "name": "stderr",
     "output_type": "stream",
     "text": [
      "Converting to Parquet: 174it [02:19,  7.18it/s]"
     ]
    },
    {
     "name": "stdout",
     "output_type": "stream",
     "text": [
      "Uploaded tensorflow_datasets/tensorflow_datasets/downloads/manual_cambrian_dataset/cambrian_dataset_10M_part_00172.parquet\n",
      "Uploaded tensorflow_datasets/tensorflow_datasets/downloads/manual_cambrian_dataset/cambrian_dataset_10M_part_00173.parquet\n"
     ]
    },
    {
     "name": "stderr",
     "output_type": "stream",
     "text": [
      "Converting to Parquet: 176it [02:19,  7.32it/s]"
     ]
    },
    {
     "name": "stdout",
     "output_type": "stream",
     "text": [
      "Uploaded tensorflow_datasets/tensorflow_datasets/downloads/manual_cambrian_dataset/cambrian_dataset_10M_part_00174.parquet\n",
      "Uploaded tensorflow_datasets/tensorflow_datasets/downloads/manual_cambrian_dataset/cambrian_dataset_10M_part_00175.parquet\n"
     ]
    },
    {
     "name": "stderr",
     "output_type": "stream",
     "text": [
      "Converting to Parquet: 178it [02:20,  6.54it/s]"
     ]
    },
    {
     "name": "stdout",
     "output_type": "stream",
     "text": [
      "Uploaded tensorflow_datasets/tensorflow_datasets/downloads/manual_cambrian_dataset/cambrian_dataset_10M_part_00176.parquet\n",
      "Uploaded tensorflow_datasets/tensorflow_datasets/downloads/manual_cambrian_dataset/cambrian_dataset_10M_part_00177.parquet\n"
     ]
    },
    {
     "name": "stderr",
     "output_type": "stream",
     "text": [
      "Converting to Parquet: 180it [02:20,  7.28it/s]"
     ]
    },
    {
     "name": "stdout",
     "output_type": "stream",
     "text": [
      "Uploaded tensorflow_datasets/tensorflow_datasets/downloads/manual_cambrian_dataset/cambrian_dataset_10M_part_00178.parquet\n",
      "Uploaded tensorflow_datasets/tensorflow_datasets/downloads/manual_cambrian_dataset/cambrian_dataset_10M_part_00179.parquet\n"
     ]
    },
    {
     "name": "stderr",
     "output_type": "stream",
     "text": [
      "Converting to Parquet: 182it [02:20,  7.42it/s]"
     ]
    },
    {
     "name": "stdout",
     "output_type": "stream",
     "text": [
      "Uploaded tensorflow_datasets/tensorflow_datasets/downloads/manual_cambrian_dataset/cambrian_dataset_10M_part_00180.parquet\n",
      "Uploaded tensorflow_datasets/tensorflow_datasets/downloads/manual_cambrian_dataset/cambrian_dataset_10M_part_00181.parquet\n"
     ]
    },
    {
     "name": "stderr",
     "output_type": "stream",
     "text": [
      "Converting to Parquet: 184it [02:21,  7.80it/s]"
     ]
    },
    {
     "name": "stdout",
     "output_type": "stream",
     "text": [
      "Uploaded tensorflow_datasets/tensorflow_datasets/downloads/manual_cambrian_dataset/cambrian_dataset_10M_part_00182.parquet\n",
      "Uploaded tensorflow_datasets/tensorflow_datasets/downloads/manual_cambrian_dataset/cambrian_dataset_10M_part_00183.parquet\n"
     ]
    },
    {
     "name": "stderr",
     "output_type": "stream",
     "text": [
      "Converting to Parquet: 186it [02:21,  7.30it/s]"
     ]
    },
    {
     "name": "stdout",
     "output_type": "stream",
     "text": [
      "Uploaded tensorflow_datasets/tensorflow_datasets/downloads/manual_cambrian_dataset/cambrian_dataset_10M_part_00184.parquet\n",
      "Uploaded tensorflow_datasets/tensorflow_datasets/downloads/manual_cambrian_dataset/cambrian_dataset_10M_part_00185.parquet\n"
     ]
    },
    {
     "name": "stderr",
     "output_type": "stream",
     "text": [
      "Converting to Parquet: 188it [02:21,  6.77it/s]"
     ]
    },
    {
     "name": "stdout",
     "output_type": "stream",
     "text": [
      "Uploaded tensorflow_datasets/tensorflow_datasets/downloads/manual_cambrian_dataset/cambrian_dataset_10M_part_00186.parquet\n",
      "Uploaded tensorflow_datasets/tensorflow_datasets/downloads/manual_cambrian_dataset/cambrian_dataset_10M_part_00187.parquet\n"
     ]
    },
    {
     "name": "stderr",
     "output_type": "stream",
     "text": [
      "Converting to Parquet: 190it [02:21,  6.71it/s]"
     ]
    },
    {
     "name": "stdout",
     "output_type": "stream",
     "text": [
      "Uploaded tensorflow_datasets/tensorflow_datasets/downloads/manual_cambrian_dataset/cambrian_dataset_10M_part_00188.parquet\n",
      "Uploaded tensorflow_datasets/tensorflow_datasets/downloads/manual_cambrian_dataset/cambrian_dataset_10M_part_00189.parquet\n"
     ]
    },
    {
     "name": "stderr",
     "output_type": "stream",
     "text": [
      "Converting to Parquet: 192it [02:22,  6.46it/s]"
     ]
    },
    {
     "name": "stdout",
     "output_type": "stream",
     "text": [
      "Uploaded tensorflow_datasets/tensorflow_datasets/downloads/manual_cambrian_dataset/cambrian_dataset_10M_part_00190.parquet\n",
      "Uploaded tensorflow_datasets/tensorflow_datasets/downloads/manual_cambrian_dataset/cambrian_dataset_10M_part_00191.parquet\n"
     ]
    },
    {
     "name": "stderr",
     "output_type": "stream",
     "text": [
      "Converting to Parquet: 194it [02:22,  7.09it/s]"
     ]
    },
    {
     "name": "stdout",
     "output_type": "stream",
     "text": [
      "Uploaded tensorflow_datasets/tensorflow_datasets/downloads/manual_cambrian_dataset/cambrian_dataset_10M_part_00192.parquet\n",
      "Uploaded tensorflow_datasets/tensorflow_datasets/downloads/manual_cambrian_dataset/cambrian_dataset_10M_part_00193.parquet\n"
     ]
    },
    {
     "name": "stderr",
     "output_type": "stream",
     "text": [
      "Converting to Parquet: 196it [02:22,  7.70it/s]"
     ]
    },
    {
     "name": "stdout",
     "output_type": "stream",
     "text": [
      "Uploaded tensorflow_datasets/tensorflow_datasets/downloads/manual_cambrian_dataset/cambrian_dataset_10M_part_00194.parquet\n",
      "Uploaded tensorflow_datasets/tensorflow_datasets/downloads/manual_cambrian_dataset/cambrian_dataset_10M_part_00195.parquet\n"
     ]
    },
    {
     "name": "stderr",
     "output_type": "stream",
     "text": [
      "Converting to Parquet: 198it [02:23,  7.45it/s]"
     ]
    },
    {
     "name": "stdout",
     "output_type": "stream",
     "text": [
      "Uploaded tensorflow_datasets/tensorflow_datasets/downloads/manual_cambrian_dataset/cambrian_dataset_10M_part_00196.parquet\n",
      "Uploaded tensorflow_datasets/tensorflow_datasets/downloads/manual_cambrian_dataset/cambrian_dataset_10M_part_00197.parquet\n"
     ]
    },
    {
     "name": "stderr",
     "output_type": "stream",
     "text": [
      "Converting to Parquet: 200it [02:23,  7.35it/s]"
     ]
    },
    {
     "name": "stdout",
     "output_type": "stream",
     "text": [
      "Uploaded tensorflow_datasets/tensorflow_datasets/downloads/manual_cambrian_dataset/cambrian_dataset_10M_part_00198.parquet\n",
      "Uploaded tensorflow_datasets/tensorflow_datasets/downloads/manual_cambrian_dataset/cambrian_dataset_10M_part_00199.parquet\n"
     ]
    },
    {
     "name": "stderr",
     "output_type": "stream",
     "text": [
      "Converting to Parquet: 202it [02:23,  7.59it/s]"
     ]
    },
    {
     "name": "stdout",
     "output_type": "stream",
     "text": [
      "Uploaded tensorflow_datasets/tensorflow_datasets/downloads/manual_cambrian_dataset/cambrian_dataset_10M_part_00200.parquet\n",
      "Uploaded tensorflow_datasets/tensorflow_datasets/downloads/manual_cambrian_dataset/cambrian_dataset_10M_part_00201.parquet\n"
     ]
    },
    {
     "name": "stderr",
     "output_type": "stream",
     "text": [
      "Converting to Parquet: 204it [02:23,  8.02it/s]"
     ]
    },
    {
     "name": "stdout",
     "output_type": "stream",
     "text": [
      "Uploaded tensorflow_datasets/tensorflow_datasets/downloads/manual_cambrian_dataset/cambrian_dataset_10M_part_00202.parquet\n",
      "Uploaded tensorflow_datasets/tensorflow_datasets/downloads/manual_cambrian_dataset/cambrian_dataset_10M_part_00203.parquet\n"
     ]
    },
    {
     "name": "stderr",
     "output_type": "stream",
     "text": [
      "Converting to Parquet: 206it [02:24,  7.95it/s]"
     ]
    },
    {
     "name": "stdout",
     "output_type": "stream",
     "text": [
      "Uploaded tensorflow_datasets/tensorflow_datasets/downloads/manual_cambrian_dataset/cambrian_dataset_10M_part_00204.parquet\n",
      "Uploaded tensorflow_datasets/tensorflow_datasets/downloads/manual_cambrian_dataset/cambrian_dataset_10M_part_00205.parquet\n"
     ]
    },
    {
     "name": "stderr",
     "output_type": "stream",
     "text": [
      "Converting to Parquet: 208it [02:24,  8.06it/s]"
     ]
    },
    {
     "name": "stdout",
     "output_type": "stream",
     "text": [
      "Uploaded tensorflow_datasets/tensorflow_datasets/downloads/manual_cambrian_dataset/cambrian_dataset_10M_part_00206.parquet\n",
      "Uploaded tensorflow_datasets/tensorflow_datasets/downloads/manual_cambrian_dataset/cambrian_dataset_10M_part_00207.parquet\n"
     ]
    },
    {
     "name": "stderr",
     "output_type": "stream",
     "text": [
      "Converting to Parquet: 210it [02:24,  7.78it/s]"
     ]
    },
    {
     "name": "stdout",
     "output_type": "stream",
     "text": [
      "Uploaded tensorflow_datasets/tensorflow_datasets/downloads/manual_cambrian_dataset/cambrian_dataset_10M_part_00208.parquet\n",
      "Uploaded tensorflow_datasets/tensorflow_datasets/downloads/manual_cambrian_dataset/cambrian_dataset_10M_part_00209.parquet\n"
     ]
    },
    {
     "name": "stderr",
     "output_type": "stream",
     "text": [
      "Converting to Parquet: 212it [02:24,  7.21it/s]"
     ]
    },
    {
     "name": "stdout",
     "output_type": "stream",
     "text": [
      "Uploaded tensorflow_datasets/tensorflow_datasets/downloads/manual_cambrian_dataset/cambrian_dataset_10M_part_00210.parquet\n",
      "Uploaded tensorflow_datasets/tensorflow_datasets/downloads/manual_cambrian_dataset/cambrian_dataset_10M_part_00211.parquet\n"
     ]
    },
    {
     "name": "stderr",
     "output_type": "stream",
     "text": [
      "Converting to Parquet: 214it [02:25,  7.33it/s]"
     ]
    },
    {
     "name": "stdout",
     "output_type": "stream",
     "text": [
      "Uploaded tensorflow_datasets/tensorflow_datasets/downloads/manual_cambrian_dataset/cambrian_dataset_10M_part_00212.parquet\n",
      "Uploaded tensorflow_datasets/tensorflow_datasets/downloads/manual_cambrian_dataset/cambrian_dataset_10M_part_00213.parquet\n"
     ]
    },
    {
     "name": "stderr",
     "output_type": "stream",
     "text": [
      "Converting to Parquet: 216it [02:25,  7.46it/s]"
     ]
    },
    {
     "name": "stdout",
     "output_type": "stream",
     "text": [
      "Uploaded tensorflow_datasets/tensorflow_datasets/downloads/manual_cambrian_dataset/cambrian_dataset_10M_part_00214.parquet\n",
      "Uploaded tensorflow_datasets/tensorflow_datasets/downloads/manual_cambrian_dataset/cambrian_dataset_10M_part_00215.parquet\n"
     ]
    },
    {
     "name": "stderr",
     "output_type": "stream",
     "text": [
      "Converting to Parquet: 218it [02:25,  7.79it/s]"
     ]
    },
    {
     "name": "stdout",
     "output_type": "stream",
     "text": [
      "Uploaded tensorflow_datasets/tensorflow_datasets/downloads/manual_cambrian_dataset/cambrian_dataset_10M_part_00216.parquet\n",
      "Uploaded tensorflow_datasets/tensorflow_datasets/downloads/manual_cambrian_dataset/cambrian_dataset_10M_part_00217.parquet\n"
     ]
    },
    {
     "name": "stderr",
     "output_type": "stream",
     "text": [
      "Converting to Parquet: 220it [02:25,  7.39it/s]"
     ]
    },
    {
     "name": "stdout",
     "output_type": "stream",
     "text": [
      "Uploaded tensorflow_datasets/tensorflow_datasets/downloads/manual_cambrian_dataset/cambrian_dataset_10M_part_00218.parquet\n",
      "Uploaded tensorflow_datasets/tensorflow_datasets/downloads/manual_cambrian_dataset/cambrian_dataset_10M_part_00219.parquet\n"
     ]
    },
    {
     "name": "stderr",
     "output_type": "stream",
     "text": [
      "Converting to Parquet: 222it [02:26,  7.45it/s]"
     ]
    },
    {
     "name": "stdout",
     "output_type": "stream",
     "text": [
      "Uploaded tensorflow_datasets/tensorflow_datasets/downloads/manual_cambrian_dataset/cambrian_dataset_10M_part_00220.parquet\n",
      "Uploaded tensorflow_datasets/tensorflow_datasets/downloads/manual_cambrian_dataset/cambrian_dataset_10M_part_00221.parquet\n"
     ]
    },
    {
     "name": "stderr",
     "output_type": "stream",
     "text": [
      "Converting to Parquet: 223it [02:26,  7.19it/s]"
     ]
    },
    {
     "name": "stdout",
     "output_type": "stream",
     "text": [
      "Uploaded tensorflow_datasets/tensorflow_datasets/downloads/manual_cambrian_dataset/cambrian_dataset_10M_part_00222.parquet\n"
     ]
    },
    {
     "name": "stderr",
     "output_type": "stream",
     "text": [
      "Converting to Parquet: 224it [02:26,  6.32it/s]"
     ]
    },
    {
     "name": "stdout",
     "output_type": "stream",
     "text": [
      "Uploaded tensorflow_datasets/tensorflow_datasets/downloads/manual_cambrian_dataset/cambrian_dataset_10M_part_00223.parquet\n"
     ]
    },
    {
     "name": "stderr",
     "output_type": "stream",
     "text": [
      "Converting to Parquet: 226it [02:26,  5.59it/s]"
     ]
    },
    {
     "name": "stdout",
     "output_type": "stream",
     "text": [
      "Uploaded tensorflow_datasets/tensorflow_datasets/downloads/manual_cambrian_dataset/cambrian_dataset_10M_part_00224.parquet\n",
      "Uploaded tensorflow_datasets/tensorflow_datasets/downloads/manual_cambrian_dataset/cambrian_dataset_10M_part_00225.parquet\n"
     ]
    },
    {
     "name": "stderr",
     "output_type": "stream",
     "text": [
      "Converting to Parquet: 228it [02:27,  6.30it/s]"
     ]
    },
    {
     "name": "stdout",
     "output_type": "stream",
     "text": [
      "Uploaded tensorflow_datasets/tensorflow_datasets/downloads/manual_cambrian_dataset/cambrian_dataset_10M_part_00226.parquet\n",
      "Uploaded tensorflow_datasets/tensorflow_datasets/downloads/manual_cambrian_dataset/cambrian_dataset_10M_part_00227.parquet\n"
     ]
    },
    {
     "name": "stderr",
     "output_type": "stream",
     "text": [
      "Converting to Parquet: 230it [02:27,  6.86it/s]"
     ]
    },
    {
     "name": "stdout",
     "output_type": "stream",
     "text": [
      "Uploaded tensorflow_datasets/tensorflow_datasets/downloads/manual_cambrian_dataset/cambrian_dataset_10M_part_00228.parquet\n",
      "Uploaded tensorflow_datasets/tensorflow_datasets/downloads/manual_cambrian_dataset/cambrian_dataset_10M_part_00229.parquet\n"
     ]
    },
    {
     "name": "stderr",
     "output_type": "stream",
     "text": [
      "Converting to Parquet: 232it [02:27,  7.06it/s]"
     ]
    },
    {
     "name": "stdout",
     "output_type": "stream",
     "text": [
      "Uploaded tensorflow_datasets/tensorflow_datasets/downloads/manual_cambrian_dataset/cambrian_dataset_10M_part_00230.parquet\n",
      "Uploaded tensorflow_datasets/tensorflow_datasets/downloads/manual_cambrian_dataset/cambrian_dataset_10M_part_00231.parquet\n"
     ]
    },
    {
     "name": "stderr",
     "output_type": "stream",
     "text": [
      "Converting to Parquet: 234it [02:28,  6.78it/s]"
     ]
    },
    {
     "name": "stdout",
     "output_type": "stream",
     "text": [
      "Uploaded tensorflow_datasets/tensorflow_datasets/downloads/manual_cambrian_dataset/cambrian_dataset_10M_part_00232.parquet\n",
      "Uploaded tensorflow_datasets/tensorflow_datasets/downloads/manual_cambrian_dataset/cambrian_dataset_10M_part_00233.parquet\n"
     ]
    },
    {
     "name": "stderr",
     "output_type": "stream",
     "text": [
      "Converting to Parquet: 236it [02:28,  6.64it/s]"
     ]
    },
    {
     "name": "stdout",
     "output_type": "stream",
     "text": [
      "Uploaded tensorflow_datasets/tensorflow_datasets/downloads/manual_cambrian_dataset/cambrian_dataset_10M_part_00234.parquet\n",
      "Uploaded tensorflow_datasets/tensorflow_datasets/downloads/manual_cambrian_dataset/cambrian_dataset_10M_part_00235.parquet\n"
     ]
    },
    {
     "name": "stderr",
     "output_type": "stream",
     "text": [
      "Converting to Parquet: 238it [02:28,  6.73it/s]"
     ]
    },
    {
     "name": "stdout",
     "output_type": "stream",
     "text": [
      "Uploaded tensorflow_datasets/tensorflow_datasets/downloads/manual_cambrian_dataset/cambrian_dataset_10M_part_00236.parquet\n",
      "Uploaded tensorflow_datasets/tensorflow_datasets/downloads/manual_cambrian_dataset/cambrian_dataset_10M_part_00237.parquet\n"
     ]
    },
    {
     "name": "stderr",
     "output_type": "stream",
     "text": [
      "Converting to Parquet: 240it [02:28,  6.79it/s]"
     ]
    },
    {
     "name": "stdout",
     "output_type": "stream",
     "text": [
      "Uploaded tensorflow_datasets/tensorflow_datasets/downloads/manual_cambrian_dataset/cambrian_dataset_10M_part_00238.parquet\n",
      "Uploaded tensorflow_datasets/tensorflow_datasets/downloads/manual_cambrian_dataset/cambrian_dataset_10M_part_00239.parquet\n"
     ]
    },
    {
     "name": "stderr",
     "output_type": "stream",
     "text": [
      "Converting to Parquet: 241it [02:29,  6.90it/s]"
     ]
    },
    {
     "name": "stdout",
     "output_type": "stream",
     "text": [
      "Uploaded tensorflow_datasets/tensorflow_datasets/downloads/manual_cambrian_dataset/cambrian_dataset_10M_part_00240.parquet\n"
     ]
    },
    {
     "name": "stderr",
     "output_type": "stream",
     "text": [
      "Converting to Parquet: 243it [02:29,  6.34it/s]"
     ]
    },
    {
     "name": "stdout",
     "output_type": "stream",
     "text": [
      "Uploaded tensorflow_datasets/tensorflow_datasets/downloads/manual_cambrian_dataset/cambrian_dataset_10M_part_00241.parquet\n",
      "Uploaded tensorflow_datasets/tensorflow_datasets/downloads/manual_cambrian_dataset/cambrian_dataset_10M_part_00242.parquet\n"
     ]
    },
    {
     "name": "stderr",
     "output_type": "stream",
     "text": [
      "Converting to Parquet: 245it [02:29,  6.58it/s]"
     ]
    },
    {
     "name": "stdout",
     "output_type": "stream",
     "text": [
      "Uploaded tensorflow_datasets/tensorflow_datasets/downloads/manual_cambrian_dataset/cambrian_dataset_10M_part_00243.parquet\n",
      "Uploaded tensorflow_datasets/tensorflow_datasets/downloads/manual_cambrian_dataset/cambrian_dataset_10M_part_00244.parquet\n"
     ]
    },
    {
     "name": "stderr",
     "output_type": "stream",
     "text": [
      "Converting to Parquet: 247it [02:30,  6.91it/s]"
     ]
    },
    {
     "name": "stdout",
     "output_type": "stream",
     "text": [
      "Uploaded tensorflow_datasets/tensorflow_datasets/downloads/manual_cambrian_dataset/cambrian_dataset_10M_part_00245.parquet\n",
      "Uploaded tensorflow_datasets/tensorflow_datasets/downloads/manual_cambrian_dataset/cambrian_dataset_10M_part_00246.parquet\n"
     ]
    },
    {
     "name": "stderr",
     "output_type": "stream",
     "text": [
      "Converting to Parquet: 249it [02:30,  6.55it/s]"
     ]
    },
    {
     "name": "stdout",
     "output_type": "stream",
     "text": [
      "Uploaded tensorflow_datasets/tensorflow_datasets/downloads/manual_cambrian_dataset/cambrian_dataset_10M_part_00247.parquet\n",
      "Uploaded tensorflow_datasets/tensorflow_datasets/downloads/manual_cambrian_dataset/cambrian_dataset_10M_part_00248.parquet\n"
     ]
    },
    {
     "name": "stderr",
     "output_type": "stream",
     "text": [
      "Converting to Parquet: 251it [02:30,  6.57it/s]"
     ]
    },
    {
     "name": "stdout",
     "output_type": "stream",
     "text": [
      "Uploaded tensorflow_datasets/tensorflow_datasets/downloads/manual_cambrian_dataset/cambrian_dataset_10M_part_00249.parquet\n",
      "Uploaded tensorflow_datasets/tensorflow_datasets/downloads/manual_cambrian_dataset/cambrian_dataset_10M_part_00250.parquet\n"
     ]
    },
    {
     "name": "stderr",
     "output_type": "stream",
     "text": [
      "Converting to Parquet: 253it [02:30,  6.77it/s]"
     ]
    },
    {
     "name": "stdout",
     "output_type": "stream",
     "text": [
      "Uploaded tensorflow_datasets/tensorflow_datasets/downloads/manual_cambrian_dataset/cambrian_dataset_10M_part_00251.parquet\n",
      "Uploaded tensorflow_datasets/tensorflow_datasets/downloads/manual_cambrian_dataset/cambrian_dataset_10M_part_00252.parquet\n"
     ]
    },
    {
     "name": "stderr",
     "output_type": "stream",
     "text": [
      "Converting to Parquet: 255it [02:31,  7.00it/s]"
     ]
    },
    {
     "name": "stdout",
     "output_type": "stream",
     "text": [
      "Uploaded tensorflow_datasets/tensorflow_datasets/downloads/manual_cambrian_dataset/cambrian_dataset_10M_part_00253.parquet\n",
      "Uploaded tensorflow_datasets/tensorflow_datasets/downloads/manual_cambrian_dataset/cambrian_dataset_10M_part_00254.parquet\n"
     ]
    },
    {
     "name": "stderr",
     "output_type": "stream",
     "text": [
      "Converting to Parquet: 257it [02:31,  7.09it/s]"
     ]
    },
    {
     "name": "stdout",
     "output_type": "stream",
     "text": [
      "Uploaded tensorflow_datasets/tensorflow_datasets/downloads/manual_cambrian_dataset/cambrian_dataset_10M_part_00255.parquet\n",
      "Uploaded tensorflow_datasets/tensorflow_datasets/downloads/manual_cambrian_dataset/cambrian_dataset_10M_part_00256.parquet\n"
     ]
    },
    {
     "name": "stderr",
     "output_type": "stream",
     "text": [
      "Converting to Parquet: 259it [02:31,  7.27it/s]"
     ]
    },
    {
     "name": "stdout",
     "output_type": "stream",
     "text": [
      "Uploaded tensorflow_datasets/tensorflow_datasets/downloads/manual_cambrian_dataset/cambrian_dataset_10M_part_00257.parquet\n",
      "Uploaded tensorflow_datasets/tensorflow_datasets/downloads/manual_cambrian_dataset/cambrian_dataset_10M_part_00258.parquet\n"
     ]
    },
    {
     "name": "stderr",
     "output_type": "stream",
     "text": [
      "Converting to Parquet: 261it [02:32,  7.45it/s]"
     ]
    },
    {
     "name": "stdout",
     "output_type": "stream",
     "text": [
      "Uploaded tensorflow_datasets/tensorflow_datasets/downloads/manual_cambrian_dataset/cambrian_dataset_10M_part_00259.parquet\n",
      "Uploaded tensorflow_datasets/tensorflow_datasets/downloads/manual_cambrian_dataset/cambrian_dataset_10M_part_00260.parquet\n"
     ]
    },
    {
     "name": "stderr",
     "output_type": "stream",
     "text": [
      "Converting to Parquet: 263it [02:32,  7.15it/s]"
     ]
    },
    {
     "name": "stdout",
     "output_type": "stream",
     "text": [
      "Uploaded tensorflow_datasets/tensorflow_datasets/downloads/manual_cambrian_dataset/cambrian_dataset_10M_part_00261.parquet\n",
      "Uploaded tensorflow_datasets/tensorflow_datasets/downloads/manual_cambrian_dataset/cambrian_dataset_10M_part_00262.parquet\n"
     ]
    },
    {
     "name": "stderr",
     "output_type": "stream",
     "text": [
      "Converting to Parquet: 265it [02:32,  7.32it/s]"
     ]
    },
    {
     "name": "stdout",
     "output_type": "stream",
     "text": [
      "Uploaded tensorflow_datasets/tensorflow_datasets/downloads/manual_cambrian_dataset/cambrian_dataset_10M_part_00263.parquet\n",
      "Uploaded tensorflow_datasets/tensorflow_datasets/downloads/manual_cambrian_dataset/cambrian_dataset_10M_part_00264.parquet\n"
     ]
    },
    {
     "name": "stderr",
     "output_type": "stream",
     "text": [
      "Converting to Parquet: 267it [02:32,  7.41it/s]"
     ]
    },
    {
     "name": "stdout",
     "output_type": "stream",
     "text": [
      "Uploaded tensorflow_datasets/tensorflow_datasets/downloads/manual_cambrian_dataset/cambrian_dataset_10M_part_00265.parquet\n",
      "Uploaded tensorflow_datasets/tensorflow_datasets/downloads/manual_cambrian_dataset/cambrian_dataset_10M_part_00266.parquet\n"
     ]
    },
    {
     "name": "stderr",
     "output_type": "stream",
     "text": [
      "Converting to Parquet: 269it [02:33,  7.20it/s]"
     ]
    },
    {
     "name": "stdout",
     "output_type": "stream",
     "text": [
      "Uploaded tensorflow_datasets/tensorflow_datasets/downloads/manual_cambrian_dataset/cambrian_dataset_10M_part_00267.parquet\n",
      "Uploaded tensorflow_datasets/tensorflow_datasets/downloads/manual_cambrian_dataset/cambrian_dataset_10M_part_00268.parquet\n"
     ]
    },
    {
     "name": "stderr",
     "output_type": "stream",
     "text": [
      "Converting to Parquet: 271it [02:33,  6.96it/s]"
     ]
    },
    {
     "name": "stdout",
     "output_type": "stream",
     "text": [
      "Uploaded tensorflow_datasets/tensorflow_datasets/downloads/manual_cambrian_dataset/cambrian_dataset_10M_part_00269.parquet\n",
      "Uploaded tensorflow_datasets/tensorflow_datasets/downloads/manual_cambrian_dataset/cambrian_dataset_10M_part_00270.parquet\n"
     ]
    },
    {
     "name": "stderr",
     "output_type": "stream",
     "text": [
      "Converting to Parquet: 273it [02:33,  7.00it/s]"
     ]
    },
    {
     "name": "stdout",
     "output_type": "stream",
     "text": [
      "Uploaded tensorflow_datasets/tensorflow_datasets/downloads/manual_cambrian_dataset/cambrian_dataset_10M_part_00271.parquet\n",
      "Uploaded tensorflow_datasets/tensorflow_datasets/downloads/manual_cambrian_dataset/cambrian_dataset_10M_part_00272.parquet\n"
     ]
    },
    {
     "name": "stderr",
     "output_type": "stream",
     "text": [
      "Converting to Parquet: 275it [02:34,  7.22it/s]"
     ]
    },
    {
     "name": "stdout",
     "output_type": "stream",
     "text": [
      "Uploaded tensorflow_datasets/tensorflow_datasets/downloads/manual_cambrian_dataset/cambrian_dataset_10M_part_00273.parquet\n",
      "Uploaded tensorflow_datasets/tensorflow_datasets/downloads/manual_cambrian_dataset/cambrian_dataset_10M_part_00274.parquet\n"
     ]
    },
    {
     "name": "stderr",
     "output_type": "stream",
     "text": [
      "Converting to Parquet: 277it [02:34,  6.76it/s]"
     ]
    },
    {
     "name": "stdout",
     "output_type": "stream",
     "text": [
      "Uploaded tensorflow_datasets/tensorflow_datasets/downloads/manual_cambrian_dataset/cambrian_dataset_10M_part_00275.parquet\n",
      "Uploaded tensorflow_datasets/tensorflow_datasets/downloads/manual_cambrian_dataset/cambrian_dataset_10M_part_00276.parquet\n"
     ]
    },
    {
     "name": "stderr",
     "output_type": "stream",
     "text": [
      "Converting to Parquet: 279it [02:34,  7.13it/s]"
     ]
    },
    {
     "name": "stdout",
     "output_type": "stream",
     "text": [
      "Uploaded tensorflow_datasets/tensorflow_datasets/downloads/manual_cambrian_dataset/cambrian_dataset_10M_part_00277.parquet\n",
      "Uploaded tensorflow_datasets/tensorflow_datasets/downloads/manual_cambrian_dataset/cambrian_dataset_10M_part_00278.parquet\n"
     ]
    },
    {
     "name": "stderr",
     "output_type": "stream",
     "text": [
      "Converting to Parquet: 281it [02:34,  7.09it/s]"
     ]
    },
    {
     "name": "stdout",
     "output_type": "stream",
     "text": [
      "Uploaded tensorflow_datasets/tensorflow_datasets/downloads/manual_cambrian_dataset/cambrian_dataset_10M_part_00279.parquet\n",
      "Uploaded tensorflow_datasets/tensorflow_datasets/downloads/manual_cambrian_dataset/cambrian_dataset_10M_part_00280.parquet\n"
     ]
    },
    {
     "name": "stderr",
     "output_type": "stream",
     "text": [
      "Converting to Parquet: 283it [02:35,  7.43it/s]"
     ]
    },
    {
     "name": "stdout",
     "output_type": "stream",
     "text": [
      "Uploaded tensorflow_datasets/tensorflow_datasets/downloads/manual_cambrian_dataset/cambrian_dataset_10M_part_00281.parquet\n",
      "Uploaded tensorflow_datasets/tensorflow_datasets/downloads/manual_cambrian_dataset/cambrian_dataset_10M_part_00282.parquet\n"
     ]
    },
    {
     "name": "stderr",
     "output_type": "stream",
     "text": [
      "Converting to Parquet: 285it [02:35,  7.32it/s]"
     ]
    },
    {
     "name": "stdout",
     "output_type": "stream",
     "text": [
      "Uploaded tensorflow_datasets/tensorflow_datasets/downloads/manual_cambrian_dataset/cambrian_dataset_10M_part_00283.parquet\n",
      "Uploaded tensorflow_datasets/tensorflow_datasets/downloads/manual_cambrian_dataset/cambrian_dataset_10M_part_00284.parquet\n"
     ]
    },
    {
     "name": "stderr",
     "output_type": "stream",
     "text": [
      "Converting to Parquet: 287it [02:35,  7.50it/s]"
     ]
    },
    {
     "name": "stdout",
     "output_type": "stream",
     "text": [
      "Uploaded tensorflow_datasets/tensorflow_datasets/downloads/manual_cambrian_dataset/cambrian_dataset_10M_part_00285.parquet\n",
      "Uploaded tensorflow_datasets/tensorflow_datasets/downloads/manual_cambrian_dataset/cambrian_dataset_10M_part_00286.parquet\n"
     ]
    },
    {
     "name": "stderr",
     "output_type": "stream",
     "text": [
      "Converting to Parquet: 289it [02:35,  7.37it/s]"
     ]
    },
    {
     "name": "stdout",
     "output_type": "stream",
     "text": [
      "Uploaded tensorflow_datasets/tensorflow_datasets/downloads/manual_cambrian_dataset/cambrian_dataset_10M_part_00287.parquet\n",
      "Uploaded tensorflow_datasets/tensorflow_datasets/downloads/manual_cambrian_dataset/cambrian_dataset_10M_part_00288.parquet\n"
     ]
    },
    {
     "name": "stderr",
     "output_type": "stream",
     "text": [
      "Converting to Parquet: 291it [02:36,  7.18it/s]"
     ]
    },
    {
     "name": "stdout",
     "output_type": "stream",
     "text": [
      "Uploaded tensorflow_datasets/tensorflow_datasets/downloads/manual_cambrian_dataset/cambrian_dataset_10M_part_00289.parquet\n",
      "Uploaded tensorflow_datasets/tensorflow_datasets/downloads/manual_cambrian_dataset/cambrian_dataset_10M_part_00290.parquet\n"
     ]
    },
    {
     "name": "stderr",
     "output_type": "stream",
     "text": [
      "Converting to Parquet: 293it [02:36,  6.24it/s]"
     ]
    },
    {
     "name": "stdout",
     "output_type": "stream",
     "text": [
      "Uploaded tensorflow_datasets/tensorflow_datasets/downloads/manual_cambrian_dataset/cambrian_dataset_10M_part_00291.parquet\n",
      "Uploaded tensorflow_datasets/tensorflow_datasets/downloads/manual_cambrian_dataset/cambrian_dataset_10M_part_00292.parquet\n"
     ]
    },
    {
     "name": "stderr",
     "output_type": "stream",
     "text": [
      "Converting to Parquet: 295it [02:36,  7.12it/s]"
     ]
    },
    {
     "name": "stdout",
     "output_type": "stream",
     "text": [
      "Uploaded tensorflow_datasets/tensorflow_datasets/downloads/manual_cambrian_dataset/cambrian_dataset_10M_part_00293.parquet\n",
      "Uploaded tensorflow_datasets/tensorflow_datasets/downloads/manual_cambrian_dataset/cambrian_dataset_10M_part_00294.parquet\n"
     ]
    },
    {
     "name": "stderr",
     "output_type": "stream",
     "text": [
      "Converting to Parquet: 297it [02:37,  7.59it/s]"
     ]
    },
    {
     "name": "stdout",
     "output_type": "stream",
     "text": [
      "Uploaded tensorflow_datasets/tensorflow_datasets/downloads/manual_cambrian_dataset/cambrian_dataset_10M_part_00295.parquet\n",
      "Uploaded tensorflow_datasets/tensorflow_datasets/downloads/manual_cambrian_dataset/cambrian_dataset_10M_part_00296.parquet\n"
     ]
    },
    {
     "name": "stderr",
     "output_type": "stream",
     "text": [
      "Converting to Parquet: 299it [02:37,  7.50it/s]"
     ]
    },
    {
     "name": "stdout",
     "output_type": "stream",
     "text": [
      "Uploaded tensorflow_datasets/tensorflow_datasets/downloads/manual_cambrian_dataset/cambrian_dataset_10M_part_00297.parquet\n",
      "Uploaded tensorflow_datasets/tensorflow_datasets/downloads/manual_cambrian_dataset/cambrian_dataset_10M_part_00298.parquet\n"
     ]
    },
    {
     "name": "stderr",
     "output_type": "stream",
     "text": [
      "Converting to Parquet: 301it [02:37,  7.82it/s]"
     ]
    },
    {
     "name": "stdout",
     "output_type": "stream",
     "text": [
      "Uploaded tensorflow_datasets/tensorflow_datasets/downloads/manual_cambrian_dataset/cambrian_dataset_10M_part_00299.parquet\n",
      "Uploaded tensorflow_datasets/tensorflow_datasets/downloads/manual_cambrian_dataset/cambrian_dataset_10M_part_00300.parquet\n"
     ]
    },
    {
     "name": "stderr",
     "output_type": "stream",
     "text": [
      "Converting to Parquet: 303it [02:38,  6.27it/s]"
     ]
    },
    {
     "name": "stdout",
     "output_type": "stream",
     "text": [
      "Uploaded tensorflow_datasets/tensorflow_datasets/downloads/manual_cambrian_dataset/cambrian_dataset_10M_part_00301.parquet\n",
      "Uploaded tensorflow_datasets/tensorflow_datasets/downloads/manual_cambrian_dataset/cambrian_dataset_10M_part_00302.parquet\n"
     ]
    },
    {
     "name": "stderr",
     "output_type": "stream",
     "text": [
      "Converting to Parquet: 305it [02:38,  7.06it/s]"
     ]
    },
    {
     "name": "stdout",
     "output_type": "stream",
     "text": [
      "Uploaded tensorflow_datasets/tensorflow_datasets/downloads/manual_cambrian_dataset/cambrian_dataset_10M_part_00303.parquet\n",
      "Uploaded tensorflow_datasets/tensorflow_datasets/downloads/manual_cambrian_dataset/cambrian_dataset_10M_part_00304.parquet\n"
     ]
    },
    {
     "name": "stderr",
     "output_type": "stream",
     "text": [
      "Converting to Parquet: 307it [02:38,  6.90it/s]"
     ]
    },
    {
     "name": "stdout",
     "output_type": "stream",
     "text": [
      "Uploaded tensorflow_datasets/tensorflow_datasets/downloads/manual_cambrian_dataset/cambrian_dataset_10M_part_00305.parquet\n",
      "Uploaded tensorflow_datasets/tensorflow_datasets/downloads/manual_cambrian_dataset/cambrian_dataset_10M_part_00306.parquet\n"
     ]
    },
    {
     "name": "stderr",
     "output_type": "stream",
     "text": [
      "Converting to Parquet: 309it [02:38,  6.34it/s]"
     ]
    },
    {
     "name": "stdout",
     "output_type": "stream",
     "text": [
      "Uploaded tensorflow_datasets/tensorflow_datasets/downloads/manual_cambrian_dataset/cambrian_dataset_10M_part_00307.parquet\n",
      "Uploaded tensorflow_datasets/tensorflow_datasets/downloads/manual_cambrian_dataset/cambrian_dataset_10M_part_00308.parquet\n"
     ]
    },
    {
     "name": "stderr",
     "output_type": "stream",
     "text": [
      "Converting to Parquet: 311it [02:39,  7.16it/s]"
     ]
    },
    {
     "name": "stdout",
     "output_type": "stream",
     "text": [
      "Uploaded tensorflow_datasets/tensorflow_datasets/downloads/manual_cambrian_dataset/cambrian_dataset_10M_part_00309.parquet\n",
      "Uploaded tensorflow_datasets/tensorflow_datasets/downloads/manual_cambrian_dataset/cambrian_dataset_10M_part_00310.parquet\n"
     ]
    },
    {
     "name": "stderr",
     "output_type": "stream",
     "text": [
      "Converting to Parquet: 313it [02:39,  7.53it/s]"
     ]
    },
    {
     "name": "stdout",
     "output_type": "stream",
     "text": [
      "Uploaded tensorflow_datasets/tensorflow_datasets/downloads/manual_cambrian_dataset/cambrian_dataset_10M_part_00311.parquet\n",
      "Uploaded tensorflow_datasets/tensorflow_datasets/downloads/manual_cambrian_dataset/cambrian_dataset_10M_part_00312.parquet\n"
     ]
    },
    {
     "name": "stderr",
     "output_type": "stream",
     "text": [
      "Converting to Parquet: 315it [02:39,  7.52it/s]"
     ]
    },
    {
     "name": "stdout",
     "output_type": "stream",
     "text": [
      "Uploaded tensorflow_datasets/tensorflow_datasets/downloads/manual_cambrian_dataset/cambrian_dataset_10M_part_00313.parquet\n",
      "Uploaded tensorflow_datasets/tensorflow_datasets/downloads/manual_cambrian_dataset/cambrian_dataset_10M_part_00314.parquet\n"
     ]
    },
    {
     "name": "stderr",
     "output_type": "stream",
     "text": [
      "Converting to Parquet: 317it [02:39,  7.72it/s]"
     ]
    },
    {
     "name": "stdout",
     "output_type": "stream",
     "text": [
      "Uploaded tensorflow_datasets/tensorflow_datasets/downloads/manual_cambrian_dataset/cambrian_dataset_10M_part_00315.parquet\n",
      "Uploaded tensorflow_datasets/tensorflow_datasets/downloads/manual_cambrian_dataset/cambrian_dataset_10M_part_00316.parquet\n"
     ]
    },
    {
     "name": "stderr",
     "output_type": "stream",
     "text": [
      "Converting to Parquet: 319it [02:40,  7.28it/s]"
     ]
    },
    {
     "name": "stdout",
     "output_type": "stream",
     "text": [
      "Uploaded tensorflow_datasets/tensorflow_datasets/downloads/manual_cambrian_dataset/cambrian_dataset_10M_part_00317.parquet\n",
      "Uploaded tensorflow_datasets/tensorflow_datasets/downloads/manual_cambrian_dataset/cambrian_dataset_10M_part_00318.parquet\n"
     ]
    },
    {
     "name": "stderr",
     "output_type": "stream",
     "text": [
      "Converting to Parquet: 321it [02:40,  7.16it/s]"
     ]
    },
    {
     "name": "stdout",
     "output_type": "stream",
     "text": [
      "Uploaded tensorflow_datasets/tensorflow_datasets/downloads/manual_cambrian_dataset/cambrian_dataset_10M_part_00319.parquet\n",
      "Uploaded tensorflow_datasets/tensorflow_datasets/downloads/manual_cambrian_dataset/cambrian_dataset_10M_part_00320.parquet\n"
     ]
    },
    {
     "name": "stderr",
     "output_type": "stream",
     "text": [
      "Converting to Parquet: 323it [02:40,  7.55it/s]"
     ]
    },
    {
     "name": "stdout",
     "output_type": "stream",
     "text": [
      "Uploaded tensorflow_datasets/tensorflow_datasets/downloads/manual_cambrian_dataset/cambrian_dataset_10M_part_00321.parquet\n",
      "Uploaded tensorflow_datasets/tensorflow_datasets/downloads/manual_cambrian_dataset/cambrian_dataset_10M_part_00322.parquet\n"
     ]
    },
    {
     "name": "stderr",
     "output_type": "stream",
     "text": [
      "Converting to Parquet: 325it [02:41,  6.24it/s]"
     ]
    },
    {
     "name": "stdout",
     "output_type": "stream",
     "text": [
      "Uploaded tensorflow_datasets/tensorflow_datasets/downloads/manual_cambrian_dataset/cambrian_dataset_10M_part_00323.parquet\n",
      "Uploaded tensorflow_datasets/tensorflow_datasets/downloads/manual_cambrian_dataset/cambrian_dataset_10M_part_00324.parquet\n"
     ]
    },
    {
     "name": "stderr",
     "output_type": "stream",
     "text": [
      "Converting to Parquet: 327it [02:41,  6.74it/s]"
     ]
    },
    {
     "name": "stdout",
     "output_type": "stream",
     "text": [
      "Uploaded tensorflow_datasets/tensorflow_datasets/downloads/manual_cambrian_dataset/cambrian_dataset_10M_part_00325.parquet\n",
      "Uploaded tensorflow_datasets/tensorflow_datasets/downloads/manual_cambrian_dataset/cambrian_dataset_10M_part_00326.parquet\n"
     ]
    },
    {
     "name": "stderr",
     "output_type": "stream",
     "text": [
      "Converting to Parquet: 329it [02:41,  7.36it/s]"
     ]
    },
    {
     "name": "stdout",
     "output_type": "stream",
     "text": [
      "Uploaded tensorflow_datasets/tensorflow_datasets/downloads/manual_cambrian_dataset/cambrian_dataset_10M_part_00327.parquet\n",
      "Uploaded tensorflow_datasets/tensorflow_datasets/downloads/manual_cambrian_dataset/cambrian_dataset_10M_part_00328.parquet\n"
     ]
    },
    {
     "name": "stderr",
     "output_type": "stream",
     "text": [
      "Converting to Parquet: 331it [02:41,  7.39it/s]"
     ]
    },
    {
     "name": "stdout",
     "output_type": "stream",
     "text": [
      "Uploaded tensorflow_datasets/tensorflow_datasets/downloads/manual_cambrian_dataset/cambrian_dataset_10M_part_00329.parquet\n",
      "Uploaded tensorflow_datasets/tensorflow_datasets/downloads/manual_cambrian_dataset/cambrian_dataset_10M_part_00330.parquet\n"
     ]
    },
    {
     "name": "stderr",
     "output_type": "stream",
     "text": [
      "Converting to Parquet: 333it [02:42,  7.28it/s]"
     ]
    },
    {
     "name": "stdout",
     "output_type": "stream",
     "text": [
      "Uploaded tensorflow_datasets/tensorflow_datasets/downloads/manual_cambrian_dataset/cambrian_dataset_10M_part_00331.parquet\n",
      "Uploaded tensorflow_datasets/tensorflow_datasets/downloads/manual_cambrian_dataset/cambrian_dataset_10M_part_00332.parquet\n"
     ]
    },
    {
     "name": "stderr",
     "output_type": "stream",
     "text": [
      "Converting to Parquet: 335it [02:42,  6.97it/s]"
     ]
    },
    {
     "name": "stdout",
     "output_type": "stream",
     "text": [
      "Uploaded tensorflow_datasets/tensorflow_datasets/downloads/manual_cambrian_dataset/cambrian_dataset_10M_part_00333.parquet\n",
      "Uploaded tensorflow_datasets/tensorflow_datasets/downloads/manual_cambrian_dataset/cambrian_dataset_10M_part_00334.parquet\n"
     ]
    },
    {
     "name": "stderr",
     "output_type": "stream",
     "text": [
      "Converting to Parquet: 337it [02:42,  7.28it/s]"
     ]
    },
    {
     "name": "stdout",
     "output_type": "stream",
     "text": [
      "Uploaded tensorflow_datasets/tensorflow_datasets/downloads/manual_cambrian_dataset/cambrian_dataset_10M_part_00335.parquet\n",
      "Uploaded tensorflow_datasets/tensorflow_datasets/downloads/manual_cambrian_dataset/cambrian_dataset_10M_part_00336.parquet\n"
     ]
    },
    {
     "name": "stderr",
     "output_type": "stream",
     "text": [
      "Converting to Parquet: 339it [02:43,  7.33it/s]"
     ]
    },
    {
     "name": "stdout",
     "output_type": "stream",
     "text": [
      "Uploaded tensorflow_datasets/tensorflow_datasets/downloads/manual_cambrian_dataset/cambrian_dataset_10M_part_00337.parquet\n",
      "Uploaded tensorflow_datasets/tensorflow_datasets/downloads/manual_cambrian_dataset/cambrian_dataset_10M_part_00338.parquet\n"
     ]
    },
    {
     "name": "stderr",
     "output_type": "stream",
     "text": [
      "Converting to Parquet: 341it [02:43,  7.04it/s]"
     ]
    },
    {
     "name": "stdout",
     "output_type": "stream",
     "text": [
      "Uploaded tensorflow_datasets/tensorflow_datasets/downloads/manual_cambrian_dataset/cambrian_dataset_10M_part_00339.parquet\n",
      "Uploaded tensorflow_datasets/tensorflow_datasets/downloads/manual_cambrian_dataset/cambrian_dataset_10M_part_00340.parquet\n"
     ]
    },
    {
     "name": "stderr",
     "output_type": "stream",
     "text": [
      "Converting to Parquet: 342it [02:43,  7.13it/s]"
     ]
    },
    {
     "name": "stdout",
     "output_type": "stream",
     "text": [
      "Uploaded tensorflow_datasets/tensorflow_datasets/downloads/manual_cambrian_dataset/cambrian_dataset_10M_part_00341.parquet\n"
     ]
    },
    {
     "name": "stderr",
     "output_type": "stream",
     "text": [
      "Converting to Parquet: 344it [02:43,  6.14it/s]"
     ]
    },
    {
     "name": "stdout",
     "output_type": "stream",
     "text": [
      "Uploaded tensorflow_datasets/tensorflow_datasets/downloads/manual_cambrian_dataset/cambrian_dataset_10M_part_00342.parquet\n",
      "Uploaded tensorflow_datasets/tensorflow_datasets/downloads/manual_cambrian_dataset/cambrian_dataset_10M_part_00343.parquet\n"
     ]
    },
    {
     "name": "stderr",
     "output_type": "stream",
     "text": [
      "Converting to Parquet: 346it [02:44,  6.50it/s]"
     ]
    },
    {
     "name": "stdout",
     "output_type": "stream",
     "text": [
      "Uploaded tensorflow_datasets/tensorflow_datasets/downloads/manual_cambrian_dataset/cambrian_dataset_10M_part_00344.parquet\n",
      "Uploaded tensorflow_datasets/tensorflow_datasets/downloads/manual_cambrian_dataset/cambrian_dataset_10M_part_00345.parquet\n"
     ]
    },
    {
     "name": "stderr",
     "output_type": "stream",
     "text": [
      "Converting to Parquet: 348it [02:44,  6.84it/s]"
     ]
    },
    {
     "name": "stdout",
     "output_type": "stream",
     "text": [
      "Uploaded tensorflow_datasets/tensorflow_datasets/downloads/manual_cambrian_dataset/cambrian_dataset_10M_part_00346.parquet\n",
      "Uploaded tensorflow_datasets/tensorflow_datasets/downloads/manual_cambrian_dataset/cambrian_dataset_10M_part_00347.parquet\n"
     ]
    },
    {
     "name": "stderr",
     "output_type": "stream",
     "text": [
      "Converting to Parquet: 350it [02:44,  6.80it/s]"
     ]
    },
    {
     "name": "stdout",
     "output_type": "stream",
     "text": [
      "Uploaded tensorflow_datasets/tensorflow_datasets/downloads/manual_cambrian_dataset/cambrian_dataset_10M_part_00348.parquet\n",
      "Uploaded tensorflow_datasets/tensorflow_datasets/downloads/manual_cambrian_dataset/cambrian_dataset_10M_part_00349.parquet\n"
     ]
    },
    {
     "name": "stderr",
     "output_type": "stream",
     "text": [
      "Converting to Parquet: 352it [02:44,  6.81it/s]"
     ]
    },
    {
     "name": "stdout",
     "output_type": "stream",
     "text": [
      "Uploaded tensorflow_datasets/tensorflow_datasets/downloads/manual_cambrian_dataset/cambrian_dataset_10M_part_00350.parquet\n",
      "Uploaded tensorflow_datasets/tensorflow_datasets/downloads/manual_cambrian_dataset/cambrian_dataset_10M_part_00351.parquet\n"
     ]
    },
    {
     "name": "stderr",
     "output_type": "stream",
     "text": [
      "Converting to Parquet: 354it [02:45,  7.08it/s]"
     ]
    },
    {
     "name": "stdout",
     "output_type": "stream",
     "text": [
      "Uploaded tensorflow_datasets/tensorflow_datasets/downloads/manual_cambrian_dataset/cambrian_dataset_10M_part_00352.parquet\n",
      "Uploaded tensorflow_datasets/tensorflow_datasets/downloads/manual_cambrian_dataset/cambrian_dataset_10M_part_00353.parquet\n"
     ]
    },
    {
     "name": "stderr",
     "output_type": "stream",
     "text": [
      "Converting to Parquet: 356it [02:45,  7.29it/s]"
     ]
    },
    {
     "name": "stdout",
     "output_type": "stream",
     "text": [
      "Uploaded tensorflow_datasets/tensorflow_datasets/downloads/manual_cambrian_dataset/cambrian_dataset_10M_part_00354.parquet\n",
      "Uploaded tensorflow_datasets/tensorflow_datasets/downloads/manual_cambrian_dataset/cambrian_dataset_10M_part_00355.parquet\n"
     ]
    },
    {
     "name": "stderr",
     "output_type": "stream",
     "text": [
      "Converting to Parquet: 358it [02:45,  7.45it/s]"
     ]
    },
    {
     "name": "stdout",
     "output_type": "stream",
     "text": [
      "Uploaded tensorflow_datasets/tensorflow_datasets/downloads/manual_cambrian_dataset/cambrian_dataset_10M_part_00356.parquet\n",
      "Uploaded tensorflow_datasets/tensorflow_datasets/downloads/manual_cambrian_dataset/cambrian_dataset_10M_part_00357.parquet\n"
     ]
    },
    {
     "name": "stderr",
     "output_type": "stream",
     "text": [
      "Converting to Parquet: 360it [02:46,  7.59it/s]"
     ]
    },
    {
     "name": "stdout",
     "output_type": "stream",
     "text": [
      "Uploaded tensorflow_datasets/tensorflow_datasets/downloads/manual_cambrian_dataset/cambrian_dataset_10M_part_00358.parquet\n",
      "Uploaded tensorflow_datasets/tensorflow_datasets/downloads/manual_cambrian_dataset/cambrian_dataset_10M_part_00359.parquet\n"
     ]
    },
    {
     "name": "stderr",
     "output_type": "stream",
     "text": [
      "Converting to Parquet: 362it [02:46,  7.51it/s]"
     ]
    },
    {
     "name": "stdout",
     "output_type": "stream",
     "text": [
      "Uploaded tensorflow_datasets/tensorflow_datasets/downloads/manual_cambrian_dataset/cambrian_dataset_10M_part_00360.parquet\n",
      "Uploaded tensorflow_datasets/tensorflow_datasets/downloads/manual_cambrian_dataset/cambrian_dataset_10M_part_00361.parquet\n"
     ]
    },
    {
     "name": "stderr",
     "output_type": "stream",
     "text": [
      "Converting to Parquet: 364it [02:46,  5.97it/s]"
     ]
    },
    {
     "name": "stdout",
     "output_type": "stream",
     "text": [
      "Uploaded tensorflow_datasets/tensorflow_datasets/downloads/manual_cambrian_dataset/cambrian_dataset_10M_part_00362.parquet\n",
      "Uploaded tensorflow_datasets/tensorflow_datasets/downloads/manual_cambrian_dataset/cambrian_dataset_10M_part_00363.parquet\n"
     ]
    },
    {
     "name": "stderr",
     "output_type": "stream",
     "text": [
      "Converting to Parquet: 366it [02:47,  6.34it/s]"
     ]
    },
    {
     "name": "stdout",
     "output_type": "stream",
     "text": [
      "Uploaded tensorflow_datasets/tensorflow_datasets/downloads/manual_cambrian_dataset/cambrian_dataset_10M_part_00364.parquet\n",
      "Uploaded tensorflow_datasets/tensorflow_datasets/downloads/manual_cambrian_dataset/cambrian_dataset_10M_part_00365.parquet\n"
     ]
    },
    {
     "name": "stderr",
     "output_type": "stream",
     "text": [
      "Converting to Parquet: 368it [02:47,  6.62it/s]"
     ]
    },
    {
     "name": "stdout",
     "output_type": "stream",
     "text": [
      "Uploaded tensorflow_datasets/tensorflow_datasets/downloads/manual_cambrian_dataset/cambrian_dataset_10M_part_00366.parquet\n",
      "Uploaded tensorflow_datasets/tensorflow_datasets/downloads/manual_cambrian_dataset/cambrian_dataset_10M_part_00367.parquet\n"
     ]
    },
    {
     "name": "stderr",
     "output_type": "stream",
     "text": [
      "Converting to Parquet: 370it [02:47,  6.70it/s]"
     ]
    },
    {
     "name": "stdout",
     "output_type": "stream",
     "text": [
      "Uploaded tensorflow_datasets/tensorflow_datasets/downloads/manual_cambrian_dataset/cambrian_dataset_10M_part_00368.parquet\n",
      "Uploaded tensorflow_datasets/tensorflow_datasets/downloads/manual_cambrian_dataset/cambrian_dataset_10M_part_00369.parquet\n"
     ]
    },
    {
     "name": "stderr",
     "output_type": "stream",
     "text": [
      "Converting to Parquet: 372it [02:47,  6.93it/s]"
     ]
    },
    {
     "name": "stdout",
     "output_type": "stream",
     "text": [
      "Uploaded tensorflow_datasets/tensorflow_datasets/downloads/manual_cambrian_dataset/cambrian_dataset_10M_part_00370.parquet\n",
      "Uploaded tensorflow_datasets/tensorflow_datasets/downloads/manual_cambrian_dataset/cambrian_dataset_10M_part_00371.parquet\n"
     ]
    },
    {
     "name": "stderr",
     "output_type": "stream",
     "text": [
      "Converting to Parquet: 374it [02:48,  7.21it/s]"
     ]
    },
    {
     "name": "stdout",
     "output_type": "stream",
     "text": [
      "Uploaded tensorflow_datasets/tensorflow_datasets/downloads/manual_cambrian_dataset/cambrian_dataset_10M_part_00372.parquet\n",
      "Uploaded tensorflow_datasets/tensorflow_datasets/downloads/manual_cambrian_dataset/cambrian_dataset_10M_part_00373.parquet\n"
     ]
    },
    {
     "name": "stderr",
     "output_type": "stream",
     "text": [
      "Converting to Parquet: 376it [02:48,  6.90it/s]"
     ]
    },
    {
     "name": "stdout",
     "output_type": "stream",
     "text": [
      "Uploaded tensorflow_datasets/tensorflow_datasets/downloads/manual_cambrian_dataset/cambrian_dataset_10M_part_00374.parquet\n",
      "Uploaded tensorflow_datasets/tensorflow_datasets/downloads/manual_cambrian_dataset/cambrian_dataset_10M_part_00375.parquet\n"
     ]
    },
    {
     "name": "stderr",
     "output_type": "stream",
     "text": [
      "Converting to Parquet: 378it [02:48,  6.40it/s]"
     ]
    },
    {
     "name": "stdout",
     "output_type": "stream",
     "text": [
      "Uploaded tensorflow_datasets/tensorflow_datasets/downloads/manual_cambrian_dataset/cambrian_dataset_10M_part_00376.parquet\n",
      "Uploaded tensorflow_datasets/tensorflow_datasets/downloads/manual_cambrian_dataset/cambrian_dataset_10M_part_00377.parquet\n"
     ]
    },
    {
     "name": "stderr",
     "output_type": "stream",
     "text": [
      "Converting to Parquet: 380it [02:49,  6.26it/s]"
     ]
    },
    {
     "name": "stdout",
     "output_type": "stream",
     "text": [
      "Uploaded tensorflow_datasets/tensorflow_datasets/downloads/manual_cambrian_dataset/cambrian_dataset_10M_part_00378.parquet\n",
      "Uploaded tensorflow_datasets/tensorflow_datasets/downloads/manual_cambrian_dataset/cambrian_dataset_10M_part_00379.parquet\n"
     ]
    },
    {
     "name": "stderr",
     "output_type": "stream",
     "text": [
      "Converting to Parquet: 382it [02:49,  7.09it/s]"
     ]
    },
    {
     "name": "stdout",
     "output_type": "stream",
     "text": [
      "Uploaded tensorflow_datasets/tensorflow_datasets/downloads/manual_cambrian_dataset/cambrian_dataset_10M_part_00380.parquet\n",
      "Uploaded tensorflow_datasets/tensorflow_datasets/downloads/manual_cambrian_dataset/cambrian_dataset_10M_part_00381.parquet\n"
     ]
    },
    {
     "name": "stderr",
     "output_type": "stream",
     "text": [
      "Converting to Parquet: 384it [02:49,  7.62it/s]"
     ]
    },
    {
     "name": "stdout",
     "output_type": "stream",
     "text": [
      "Uploaded tensorflow_datasets/tensorflow_datasets/downloads/manual_cambrian_dataset/cambrian_dataset_10M_part_00382.parquet\n",
      "Uploaded tensorflow_datasets/tensorflow_datasets/downloads/manual_cambrian_dataset/cambrian_dataset_10M_part_00383.parquet\n"
     ]
    },
    {
     "name": "stderr",
     "output_type": "stream",
     "text": [
      "Converting to Parquet: 386it [02:49,  7.70it/s]"
     ]
    },
    {
     "name": "stdout",
     "output_type": "stream",
     "text": [
      "Uploaded tensorflow_datasets/tensorflow_datasets/downloads/manual_cambrian_dataset/cambrian_dataset_10M_part_00384.parquet\n",
      "Uploaded tensorflow_datasets/tensorflow_datasets/downloads/manual_cambrian_dataset/cambrian_dataset_10M_part_00385.parquet\n"
     ]
    },
    {
     "name": "stderr",
     "output_type": "stream",
     "text": [
      "Converting to Parquet: 388it [02:50,  7.50it/s]"
     ]
    },
    {
     "name": "stdout",
     "output_type": "stream",
     "text": [
      "Uploaded tensorflow_datasets/tensorflow_datasets/downloads/manual_cambrian_dataset/cambrian_dataset_10M_part_00386.parquet\n",
      "Uploaded tensorflow_datasets/tensorflow_datasets/downloads/manual_cambrian_dataset/cambrian_dataset_10M_part_00387.parquet\n"
     ]
    },
    {
     "name": "stderr",
     "output_type": "stream",
     "text": [
      "Converting to Parquet: 390it [02:50,  7.27it/s]"
     ]
    },
    {
     "name": "stdout",
     "output_type": "stream",
     "text": [
      "Uploaded tensorflow_datasets/tensorflow_datasets/downloads/manual_cambrian_dataset/cambrian_dataset_10M_part_00388.parquet\n",
      "Uploaded tensorflow_datasets/tensorflow_datasets/downloads/manual_cambrian_dataset/cambrian_dataset_10M_part_00389.parquet\n"
     ]
    },
    {
     "name": "stderr",
     "output_type": "stream",
     "text": [
      "Converting to Parquet: 392it [02:50,  7.46it/s]"
     ]
    },
    {
     "name": "stdout",
     "output_type": "stream",
     "text": [
      "Uploaded tensorflow_datasets/tensorflow_datasets/downloads/manual_cambrian_dataset/cambrian_dataset_10M_part_00390.parquet\n",
      "Uploaded tensorflow_datasets/tensorflow_datasets/downloads/manual_cambrian_dataset/cambrian_dataset_10M_part_00391.parquet\n"
     ]
    },
    {
     "name": "stderr",
     "output_type": "stream",
     "text": [
      "Converting to Parquet: 394it [02:50,  7.48it/s]"
     ]
    },
    {
     "name": "stdout",
     "output_type": "stream",
     "text": [
      "Uploaded tensorflow_datasets/tensorflow_datasets/downloads/manual_cambrian_dataset/cambrian_dataset_10M_part_00392.parquet\n",
      "Uploaded tensorflow_datasets/tensorflow_datasets/downloads/manual_cambrian_dataset/cambrian_dataset_10M_part_00393.parquet\n"
     ]
    },
    {
     "name": "stderr",
     "output_type": "stream",
     "text": [
      "Converting to Parquet: 396it [02:51,  7.52it/s]"
     ]
    },
    {
     "name": "stdout",
     "output_type": "stream",
     "text": [
      "Uploaded tensorflow_datasets/tensorflow_datasets/downloads/manual_cambrian_dataset/cambrian_dataset_10M_part_00394.parquet\n",
      "Uploaded tensorflow_datasets/tensorflow_datasets/downloads/manual_cambrian_dataset/cambrian_dataset_10M_part_00395.parquet\n"
     ]
    },
    {
     "name": "stderr",
     "output_type": "stream",
     "text": [
      "Converting to Parquet: 398it [02:51,  6.42it/s]"
     ]
    },
    {
     "name": "stdout",
     "output_type": "stream",
     "text": [
      "Uploaded tensorflow_datasets/tensorflow_datasets/downloads/manual_cambrian_dataset/cambrian_dataset_10M_part_00396.parquet\n",
      "Uploaded tensorflow_datasets/tensorflow_datasets/downloads/manual_cambrian_dataset/cambrian_dataset_10M_part_00397.parquet\n"
     ]
    },
    {
     "name": "stderr",
     "output_type": "stream",
     "text": [
      "Converting to Parquet: 400it [02:51,  6.81it/s]"
     ]
    },
    {
     "name": "stdout",
     "output_type": "stream",
     "text": [
      "Uploaded tensorflow_datasets/tensorflow_datasets/downloads/manual_cambrian_dataset/cambrian_dataset_10M_part_00398.parquet\n",
      "Uploaded tensorflow_datasets/tensorflow_datasets/downloads/manual_cambrian_dataset/cambrian_dataset_10M_part_00399.parquet\n"
     ]
    },
    {
     "name": "stderr",
     "output_type": "stream",
     "text": [
      "Converting to Parquet: 402it [02:52,  6.53it/s]"
     ]
    },
    {
     "name": "stdout",
     "output_type": "stream",
     "text": [
      "Uploaded tensorflow_datasets/tensorflow_datasets/downloads/manual_cambrian_dataset/cambrian_dataset_10M_part_00400.parquet\n",
      "Uploaded tensorflow_datasets/tensorflow_datasets/downloads/manual_cambrian_dataset/cambrian_dataset_10M_part_00401.parquet\n"
     ]
    },
    {
     "name": "stderr",
     "output_type": "stream",
     "text": [
      "Converting to Parquet: 404it [02:52,  7.16it/s]"
     ]
    },
    {
     "name": "stdout",
     "output_type": "stream",
     "text": [
      "Uploaded tensorflow_datasets/tensorflow_datasets/downloads/manual_cambrian_dataset/cambrian_dataset_10M_part_00402.parquet\n",
      "Uploaded tensorflow_datasets/tensorflow_datasets/downloads/manual_cambrian_dataset/cambrian_dataset_10M_part_00403.parquet\n"
     ]
    },
    {
     "name": "stderr",
     "output_type": "stream",
     "text": [
      "Converting to Parquet: 406it [02:52,  6.86it/s]"
     ]
    },
    {
     "name": "stdout",
     "output_type": "stream",
     "text": [
      "Uploaded tensorflow_datasets/tensorflow_datasets/downloads/manual_cambrian_dataset/cambrian_dataset_10M_part_00404.parquet\n",
      "Uploaded tensorflow_datasets/tensorflow_datasets/downloads/manual_cambrian_dataset/cambrian_dataset_10M_part_00405.parquet\n"
     ]
    },
    {
     "name": "stderr",
     "output_type": "stream",
     "text": [
      "Converting to Parquet: 408it [02:52,  7.12it/s]"
     ]
    },
    {
     "name": "stdout",
     "output_type": "stream",
     "text": [
      "Uploaded tensorflow_datasets/tensorflow_datasets/downloads/manual_cambrian_dataset/cambrian_dataset_10M_part_00406.parquet\n",
      "Uploaded tensorflow_datasets/tensorflow_datasets/downloads/manual_cambrian_dataset/cambrian_dataset_10M_part_00407.parquet\n"
     ]
    },
    {
     "name": "stderr",
     "output_type": "stream",
     "text": [
      "Converting to Parquet: 410it [02:53,  7.44it/s]"
     ]
    },
    {
     "name": "stdout",
     "output_type": "stream",
     "text": [
      "Uploaded tensorflow_datasets/tensorflow_datasets/downloads/manual_cambrian_dataset/cambrian_dataset_10M_part_00408.parquet\n",
      "Uploaded tensorflow_datasets/tensorflow_datasets/downloads/manual_cambrian_dataset/cambrian_dataset_10M_part_00409.parquet\n"
     ]
    },
    {
     "name": "stderr",
     "output_type": "stream",
     "text": [
      "Converting to Parquet: 412it [02:53,  6.74it/s]"
     ]
    },
    {
     "name": "stdout",
     "output_type": "stream",
     "text": [
      "Uploaded tensorflow_datasets/tensorflow_datasets/downloads/manual_cambrian_dataset/cambrian_dataset_10M_part_00410.parquet\n",
      "Uploaded tensorflow_datasets/tensorflow_datasets/downloads/manual_cambrian_dataset/cambrian_dataset_10M_part_00411.parquet\n"
     ]
    },
    {
     "name": "stderr",
     "output_type": "stream",
     "text": [
      "Converting to Parquet: 414it [02:53,  6.88it/s]"
     ]
    },
    {
     "name": "stdout",
     "output_type": "stream",
     "text": [
      "Uploaded tensorflow_datasets/tensorflow_datasets/downloads/manual_cambrian_dataset/cambrian_dataset_10M_part_00412.parquet\n",
      "Uploaded tensorflow_datasets/tensorflow_datasets/downloads/manual_cambrian_dataset/cambrian_dataset_10M_part_00413.parquet\n"
     ]
    },
    {
     "name": "stderr",
     "output_type": "stream",
     "text": [
      "Converting to Parquet: 415it [02:53,  7.11it/s]"
     ]
    },
    {
     "name": "stdout",
     "output_type": "stream",
     "text": [
      "Uploaded tensorflow_datasets/tensorflow_datasets/downloads/manual_cambrian_dataset/cambrian_dataset_10M_part_00414.parquet\n"
     ]
    },
    {
     "name": "stderr",
     "output_type": "stream",
     "text": [
      "Converting to Parquet: 417it [02:54,  6.41it/s]"
     ]
    },
    {
     "name": "stdout",
     "output_type": "stream",
     "text": [
      "Uploaded tensorflow_datasets/tensorflow_datasets/downloads/manual_cambrian_dataset/cambrian_dataset_10M_part_00415.parquet\n",
      "Uploaded tensorflow_datasets/tensorflow_datasets/downloads/manual_cambrian_dataset/cambrian_dataset_10M_part_00416.parquet\n"
     ]
    },
    {
     "name": "stderr",
     "output_type": "stream",
     "text": [
      "Converting to Parquet: 419it [02:54,  7.15it/s]"
     ]
    },
    {
     "name": "stdout",
     "output_type": "stream",
     "text": [
      "Uploaded tensorflow_datasets/tensorflow_datasets/downloads/manual_cambrian_dataset/cambrian_dataset_10M_part_00417.parquet\n",
      "Uploaded tensorflow_datasets/tensorflow_datasets/downloads/manual_cambrian_dataset/cambrian_dataset_10M_part_00418.parquet\n"
     ]
    },
    {
     "name": "stderr",
     "output_type": "stream",
     "text": [
      "Converting to Parquet: 421it [02:54,  7.23it/s]"
     ]
    },
    {
     "name": "stdout",
     "output_type": "stream",
     "text": [
      "Uploaded tensorflow_datasets/tensorflow_datasets/downloads/manual_cambrian_dataset/cambrian_dataset_10M_part_00419.parquet\n",
      "Uploaded tensorflow_datasets/tensorflow_datasets/downloads/manual_cambrian_dataset/cambrian_dataset_10M_part_00420.parquet\n"
     ]
    },
    {
     "name": "stderr",
     "output_type": "stream",
     "text": [
      "Converting to Parquet: 423it [02:55,  7.60it/s]"
     ]
    },
    {
     "name": "stdout",
     "output_type": "stream",
     "text": [
      "Uploaded tensorflow_datasets/tensorflow_datasets/downloads/manual_cambrian_dataset/cambrian_dataset_10M_part_00421.parquet\n",
      "Uploaded tensorflow_datasets/tensorflow_datasets/downloads/manual_cambrian_dataset/cambrian_dataset_10M_part_00422.parquet\n"
     ]
    },
    {
     "name": "stderr",
     "output_type": "stream",
     "text": [
      "Converting to Parquet: 425it [02:55,  7.51it/s]"
     ]
    },
    {
     "name": "stdout",
     "output_type": "stream",
     "text": [
      "Uploaded tensorflow_datasets/tensorflow_datasets/downloads/manual_cambrian_dataset/cambrian_dataset_10M_part_00423.parquet\n",
      "Uploaded tensorflow_datasets/tensorflow_datasets/downloads/manual_cambrian_dataset/cambrian_dataset_10M_part_00424.parquet\n"
     ]
    },
    {
     "name": "stderr",
     "output_type": "stream",
     "text": [
      "Converting to Parquet: 427it [02:55,  6.73it/s]"
     ]
    },
    {
     "name": "stdout",
     "output_type": "stream",
     "text": [
      "Uploaded tensorflow_datasets/tensorflow_datasets/downloads/manual_cambrian_dataset/cambrian_dataset_10M_part_00425.parquet\n",
      "Uploaded tensorflow_datasets/tensorflow_datasets/downloads/manual_cambrian_dataset/cambrian_dataset_10M_part_00426.parquet\n"
     ]
    },
    {
     "name": "stderr",
     "output_type": "stream",
     "text": [
      "Converting to Parquet: 429it [02:56,  6.33it/s]"
     ]
    },
    {
     "name": "stdout",
     "output_type": "stream",
     "text": [
      "Uploaded tensorflow_datasets/tensorflow_datasets/downloads/manual_cambrian_dataset/cambrian_dataset_10M_part_00427.parquet\n",
      "Uploaded tensorflow_datasets/tensorflow_datasets/downloads/manual_cambrian_dataset/cambrian_dataset_10M_part_00428.parquet\n"
     ]
    },
    {
     "name": "stderr",
     "output_type": "stream",
     "text": [
      "Converting to Parquet: 430it [02:56,  5.41it/s]"
     ]
    },
    {
     "name": "stdout",
     "output_type": "stream",
     "text": [
      "Uploaded tensorflow_datasets/tensorflow_datasets/downloads/manual_cambrian_dataset/cambrian_dataset_10M_part_00429.parquet\n"
     ]
    },
    {
     "name": "stderr",
     "output_type": "stream",
     "text": [
      "Converting to Parquet: 431it [02:56,  4.65it/s]"
     ]
    },
    {
     "name": "stdout",
     "output_type": "stream",
     "text": [
      "Uploaded tensorflow_datasets/tensorflow_datasets/downloads/manual_cambrian_dataset/cambrian_dataset_10M_part_00430.parquet\n"
     ]
    },
    {
     "name": "stderr",
     "output_type": "stream",
     "text": [
      "Converting to Parquet: 432it [02:56,  4.42it/s]"
     ]
    },
    {
     "name": "stdout",
     "output_type": "stream",
     "text": [
      "Uploaded tensorflow_datasets/tensorflow_datasets/downloads/manual_cambrian_dataset/cambrian_dataset_10M_part_00431.parquet\n"
     ]
    },
    {
     "name": "stderr",
     "output_type": "stream",
     "text": [
      "Converting to Parquet: 433it [02:57,  4.11it/s]"
     ]
    },
    {
     "name": "stdout",
     "output_type": "stream",
     "text": [
      "Uploaded tensorflow_datasets/tensorflow_datasets/downloads/manual_cambrian_dataset/cambrian_dataset_10M_part_00432.parquet\n"
     ]
    },
    {
     "name": "stderr",
     "output_type": "stream",
     "text": [
      "Converting to Parquet: 434it [02:57,  4.24it/s]"
     ]
    },
    {
     "name": "stdout",
     "output_type": "stream",
     "text": [
      "Uploaded tensorflow_datasets/tensorflow_datasets/downloads/manual_cambrian_dataset/cambrian_dataset_10M_part_00433.parquet\n"
     ]
    },
    {
     "name": "stderr",
     "output_type": "stream",
     "text": [
      "Converting to Parquet: 435it [02:57,  3.89it/s]"
     ]
    },
    {
     "name": "stdout",
     "output_type": "stream",
     "text": [
      "Uploaded tensorflow_datasets/tensorflow_datasets/downloads/manual_cambrian_dataset/cambrian_dataset_10M_part_00434.parquet\n"
     ]
    },
    {
     "name": "stderr",
     "output_type": "stream",
     "text": [
      "Converting to Parquet: 436it [02:57,  3.92it/s]"
     ]
    },
    {
     "name": "stdout",
     "output_type": "stream",
     "text": [
      "Uploaded tensorflow_datasets/tensorflow_datasets/downloads/manual_cambrian_dataset/cambrian_dataset_10M_part_00435.parquet\n"
     ]
    },
    {
     "name": "stderr",
     "output_type": "stream",
     "text": [
      "Converting to Parquet: 437it [02:58,  4.07it/s]"
     ]
    },
    {
     "name": "stdout",
     "output_type": "stream",
     "text": [
      "Uploaded tensorflow_datasets/tensorflow_datasets/downloads/manual_cambrian_dataset/cambrian_dataset_10M_part_00436.parquet\n"
     ]
    },
    {
     "name": "stderr",
     "output_type": "stream",
     "text": [
      "Converting to Parquet: 438it [02:58,  4.13it/s]"
     ]
    },
    {
     "name": "stdout",
     "output_type": "stream",
     "text": [
      "Uploaded tensorflow_datasets/tensorflow_datasets/downloads/manual_cambrian_dataset/cambrian_dataset_10M_part_00437.parquet\n"
     ]
    },
    {
     "name": "stderr",
     "output_type": "stream",
     "text": [
      "Converting to Parquet: 439it [02:58,  4.20it/s]"
     ]
    },
    {
     "name": "stdout",
     "output_type": "stream",
     "text": [
      "Uploaded tensorflow_datasets/tensorflow_datasets/downloads/manual_cambrian_dataset/cambrian_dataset_10M_part_00438.parquet\n"
     ]
    },
    {
     "name": "stderr",
     "output_type": "stream",
     "text": [
      "Converting to Parquet: 440it [02:58,  4.31it/s]"
     ]
    },
    {
     "name": "stdout",
     "output_type": "stream",
     "text": [
      "Uploaded tensorflow_datasets/tensorflow_datasets/downloads/manual_cambrian_dataset/cambrian_dataset_10M_part_00439.parquet\n"
     ]
    },
    {
     "name": "stderr",
     "output_type": "stream",
     "text": [
      "Converting to Parquet: 441it [02:59,  4.31it/s]"
     ]
    },
    {
     "name": "stdout",
     "output_type": "stream",
     "text": [
      "Uploaded tensorflow_datasets/tensorflow_datasets/downloads/manual_cambrian_dataset/cambrian_dataset_10M_part_00440.parquet\n"
     ]
    },
    {
     "name": "stderr",
     "output_type": "stream",
     "text": [
      "Converting to Parquet: 442it [02:59,  4.15it/s]"
     ]
    },
    {
     "name": "stdout",
     "output_type": "stream",
     "text": [
      "Uploaded tensorflow_datasets/tensorflow_datasets/downloads/manual_cambrian_dataset/cambrian_dataset_10M_part_00441.parquet\n"
     ]
    },
    {
     "name": "stderr",
     "output_type": "stream",
     "text": [
      "Converting to Parquet: 443it [02:59,  4.18it/s]"
     ]
    },
    {
     "name": "stdout",
     "output_type": "stream",
     "text": [
      "Uploaded tensorflow_datasets/tensorflow_datasets/downloads/manual_cambrian_dataset/cambrian_dataset_10M_part_00442.parquet\n"
     ]
    },
    {
     "name": "stderr",
     "output_type": "stream",
     "text": [
      "Converting to Parquet: 444it [02:59,  4.27it/s]"
     ]
    },
    {
     "name": "stdout",
     "output_type": "stream",
     "text": [
      "Uploaded tensorflow_datasets/tensorflow_datasets/downloads/manual_cambrian_dataset/cambrian_dataset_10M_part_00443.parquet\n"
     ]
    },
    {
     "name": "stderr",
     "output_type": "stream",
     "text": [
      "Converting to Parquet: 445it [02:59,  4.19it/s]"
     ]
    },
    {
     "name": "stdout",
     "output_type": "stream",
     "text": [
      "Uploaded tensorflow_datasets/tensorflow_datasets/downloads/manual_cambrian_dataset/cambrian_dataset_10M_part_00444.parquet\n"
     ]
    },
    {
     "name": "stderr",
     "output_type": "stream",
     "text": [
      "Converting to Parquet: 446it [03:00,  3.98it/s]"
     ]
    },
    {
     "name": "stdout",
     "output_type": "stream",
     "text": [
      "Uploaded tensorflow_datasets/tensorflow_datasets/downloads/manual_cambrian_dataset/cambrian_dataset_10M_part_00445.parquet\n"
     ]
    },
    {
     "name": "stderr",
     "output_type": "stream",
     "text": [
      "Converting to Parquet: 447it [03:00,  4.09it/s]"
     ]
    },
    {
     "name": "stdout",
     "output_type": "stream",
     "text": [
      "Uploaded tensorflow_datasets/tensorflow_datasets/downloads/manual_cambrian_dataset/cambrian_dataset_10M_part_00446.parquet\n"
     ]
    },
    {
     "name": "stderr",
     "output_type": "stream",
     "text": [
      "Converting to Parquet: 448it [03:00,  4.10it/s]"
     ]
    },
    {
     "name": "stdout",
     "output_type": "stream",
     "text": [
      "Uploaded tensorflow_datasets/tensorflow_datasets/downloads/manual_cambrian_dataset/cambrian_dataset_10M_part_00447.parquet\n"
     ]
    },
    {
     "name": "stderr",
     "output_type": "stream",
     "text": [
      "Converting to Parquet: 449it [03:00,  4.12it/s]"
     ]
    },
    {
     "name": "stdout",
     "output_type": "stream",
     "text": [
      "Uploaded tensorflow_datasets/tensorflow_datasets/downloads/manual_cambrian_dataset/cambrian_dataset_10M_part_00448.parquet\n"
     ]
    },
    {
     "name": "stderr",
     "output_type": "stream",
     "text": [
      "Converting to Parquet: 450it [03:01,  4.19it/s]"
     ]
    },
    {
     "name": "stdout",
     "output_type": "stream",
     "text": [
      "Uploaded tensorflow_datasets/tensorflow_datasets/downloads/manual_cambrian_dataset/cambrian_dataset_10M_part_00449.parquet\n"
     ]
    },
    {
     "name": "stderr",
     "output_type": "stream",
     "text": [
      "Converting to Parquet: 451it [03:01,  3.95it/s]"
     ]
    },
    {
     "name": "stdout",
     "output_type": "stream",
     "text": [
      "Uploaded tensorflow_datasets/tensorflow_datasets/downloads/manual_cambrian_dataset/cambrian_dataset_10M_part_00450.parquet\n"
     ]
    },
    {
     "name": "stderr",
     "output_type": "stream",
     "text": [
      "Converting to Parquet: 452it [03:01,  4.01it/s]"
     ]
    },
    {
     "name": "stdout",
     "output_type": "stream",
     "text": [
      "Uploaded tensorflow_datasets/tensorflow_datasets/downloads/manual_cambrian_dataset/cambrian_dataset_10M_part_00451.parquet\n"
     ]
    },
    {
     "name": "stderr",
     "output_type": "stream",
     "text": [
      "Converting to Parquet: 453it [03:02,  3.79it/s]"
     ]
    },
    {
     "name": "stdout",
     "output_type": "stream",
     "text": [
      "Uploaded tensorflow_datasets/tensorflow_datasets/downloads/manual_cambrian_dataset/cambrian_dataset_10M_part_00452.parquet\n"
     ]
    },
    {
     "name": "stderr",
     "output_type": "stream",
     "text": [
      "Converting to Parquet: 454it [03:02,  3.74it/s]"
     ]
    },
    {
     "name": "stdout",
     "output_type": "stream",
     "text": [
      "Uploaded tensorflow_datasets/tensorflow_datasets/downloads/manual_cambrian_dataset/cambrian_dataset_10M_part_00453.parquet\n"
     ]
    },
    {
     "name": "stderr",
     "output_type": "stream",
     "text": [
      "Converting to Parquet: 455it [03:02,  3.67it/s]"
     ]
    },
    {
     "name": "stdout",
     "output_type": "stream",
     "text": [
      "Uploaded tensorflow_datasets/tensorflow_datasets/downloads/manual_cambrian_dataset/cambrian_dataset_10M_part_00454.parquet\n"
     ]
    },
    {
     "name": "stderr",
     "output_type": "stream",
     "text": [
      "Converting to Parquet: 456it [03:02,  3.87it/s]"
     ]
    },
    {
     "name": "stdout",
     "output_type": "stream",
     "text": [
      "Uploaded tensorflow_datasets/tensorflow_datasets/downloads/manual_cambrian_dataset/cambrian_dataset_10M_part_00455.parquet\n"
     ]
    },
    {
     "name": "stderr",
     "output_type": "stream",
     "text": [
      "Converting to Parquet: 457it [03:03,  4.02it/s]"
     ]
    },
    {
     "name": "stdout",
     "output_type": "stream",
     "text": [
      "Uploaded tensorflow_datasets/tensorflow_datasets/downloads/manual_cambrian_dataset/cambrian_dataset_10M_part_00456.parquet\n"
     ]
    },
    {
     "name": "stderr",
     "output_type": "stream",
     "text": [
      "Converting to Parquet: 458it [03:03,  4.08it/s]"
     ]
    },
    {
     "name": "stdout",
     "output_type": "stream",
     "text": [
      "Uploaded tensorflow_datasets/tensorflow_datasets/downloads/manual_cambrian_dataset/cambrian_dataset_10M_part_00457.parquet\n"
     ]
    },
    {
     "name": "stderr",
     "output_type": "stream",
     "text": [
      "Converting to Parquet: 459it [03:03,  4.21it/s]"
     ]
    },
    {
     "name": "stdout",
     "output_type": "stream",
     "text": [
      "Uploaded tensorflow_datasets/tensorflow_datasets/downloads/manual_cambrian_dataset/cambrian_dataset_10M_part_00458.parquet\n"
     ]
    },
    {
     "name": "stderr",
     "output_type": "stream",
     "text": [
      "Converting to Parquet: 460it [03:03,  4.13it/s]"
     ]
    },
    {
     "name": "stdout",
     "output_type": "stream",
     "text": [
      "Uploaded tensorflow_datasets/tensorflow_datasets/downloads/manual_cambrian_dataset/cambrian_dataset_10M_part_00459.parquet\n"
     ]
    },
    {
     "name": "stderr",
     "output_type": "stream",
     "text": [
      "Converting to Parquet: 461it [03:03,  4.09it/s]"
     ]
    },
    {
     "name": "stdout",
     "output_type": "stream",
     "text": [
      "Uploaded tensorflow_datasets/tensorflow_datasets/downloads/manual_cambrian_dataset/cambrian_dataset_10M_part_00460.parquet\n"
     ]
    },
    {
     "name": "stderr",
     "output_type": "stream",
     "text": [
      "Converting to Parquet: 462it [03:04,  4.07it/s]"
     ]
    },
    {
     "name": "stdout",
     "output_type": "stream",
     "text": [
      "Uploaded tensorflow_datasets/tensorflow_datasets/downloads/manual_cambrian_dataset/cambrian_dataset_10M_part_00461.parquet\n"
     ]
    },
    {
     "name": "stderr",
     "output_type": "stream",
     "text": [
      "Converting to Parquet: 463it [03:04,  3.72it/s]"
     ]
    },
    {
     "name": "stdout",
     "output_type": "stream",
     "text": [
      "Uploaded tensorflow_datasets/tensorflow_datasets/downloads/manual_cambrian_dataset/cambrian_dataset_10M_part_00462.parquet\n"
     ]
    },
    {
     "name": "stderr",
     "output_type": "stream",
     "text": [
      "Converting to Parquet: 464it [03:04,  3.83it/s]"
     ]
    },
    {
     "name": "stdout",
     "output_type": "stream",
     "text": [
      "Uploaded tensorflow_datasets/tensorflow_datasets/downloads/manual_cambrian_dataset/cambrian_dataset_10M_part_00463.parquet\n"
     ]
    },
    {
     "name": "stderr",
     "output_type": "stream",
     "text": [
      "Converting to Parquet: 465it [03:05,  3.98it/s]"
     ]
    },
    {
     "name": "stdout",
     "output_type": "stream",
     "text": [
      "Uploaded tensorflow_datasets/tensorflow_datasets/downloads/manual_cambrian_dataset/cambrian_dataset_10M_part_00464.parquet\n"
     ]
    },
    {
     "name": "stderr",
     "output_type": "stream",
     "text": [
      "Converting to Parquet: 466it [03:05,  4.05it/s]"
     ]
    },
    {
     "name": "stdout",
     "output_type": "stream",
     "text": [
      "Uploaded tensorflow_datasets/tensorflow_datasets/downloads/manual_cambrian_dataset/cambrian_dataset_10M_part_00465.parquet\n"
     ]
    },
    {
     "name": "stderr",
     "output_type": "stream",
     "text": [
      "Converting to Parquet: 467it [03:05,  4.08it/s]"
     ]
    },
    {
     "name": "stdout",
     "output_type": "stream",
     "text": [
      "Uploaded tensorflow_datasets/tensorflow_datasets/downloads/manual_cambrian_dataset/cambrian_dataset_10M_part_00466.parquet\n"
     ]
    },
    {
     "name": "stderr",
     "output_type": "stream",
     "text": [
      "Converting to Parquet: 468it [03:05,  4.06it/s]"
     ]
    },
    {
     "name": "stdout",
     "output_type": "stream",
     "text": [
      "Uploaded tensorflow_datasets/tensorflow_datasets/downloads/manual_cambrian_dataset/cambrian_dataset_10M_part_00467.parquet\n"
     ]
    },
    {
     "name": "stderr",
     "output_type": "stream",
     "text": [
      "Converting to Parquet: 469it [03:06,  4.08it/s]"
     ]
    },
    {
     "name": "stdout",
     "output_type": "stream",
     "text": [
      "Uploaded tensorflow_datasets/tensorflow_datasets/downloads/manual_cambrian_dataset/cambrian_dataset_10M_part_00468.parquet\n"
     ]
    },
    {
     "name": "stderr",
     "output_type": "stream",
     "text": [
      "Converting to Parquet: 470it [03:06,  4.16it/s]"
     ]
    },
    {
     "name": "stdout",
     "output_type": "stream",
     "text": [
      "Uploaded tensorflow_datasets/tensorflow_datasets/downloads/manual_cambrian_dataset/cambrian_dataset_10M_part_00469.parquet\n"
     ]
    },
    {
     "name": "stderr",
     "output_type": "stream",
     "text": [
      "Converting to Parquet: 471it [03:06,  4.29it/s]"
     ]
    },
    {
     "name": "stdout",
     "output_type": "stream",
     "text": [
      "Uploaded tensorflow_datasets/tensorflow_datasets/downloads/manual_cambrian_dataset/cambrian_dataset_10M_part_00470.parquet\n"
     ]
    },
    {
     "name": "stderr",
     "output_type": "stream",
     "text": [
      "Converting to Parquet: 472it [03:06,  4.27it/s]"
     ]
    },
    {
     "name": "stdout",
     "output_type": "stream",
     "text": [
      "Uploaded tensorflow_datasets/tensorflow_datasets/downloads/manual_cambrian_dataset/cambrian_dataset_10M_part_00471.parquet\n"
     ]
    },
    {
     "name": "stderr",
     "output_type": "stream",
     "text": [
      "Converting to Parquet: 473it [03:06,  4.10it/s]"
     ]
    },
    {
     "name": "stdout",
     "output_type": "stream",
     "text": [
      "Uploaded tensorflow_datasets/tensorflow_datasets/downloads/manual_cambrian_dataset/cambrian_dataset_10M_part_00472.parquet\n"
     ]
    },
    {
     "name": "stderr",
     "output_type": "stream",
     "text": [
      "Converting to Parquet: 474it [03:07,  4.06it/s]"
     ]
    },
    {
     "name": "stdout",
     "output_type": "stream",
     "text": [
      "Uploaded tensorflow_datasets/tensorflow_datasets/downloads/manual_cambrian_dataset/cambrian_dataset_10M_part_00473.parquet\n"
     ]
    },
    {
     "name": "stderr",
     "output_type": "stream",
     "text": [
      "Converting to Parquet: 475it [03:07,  4.04it/s]"
     ]
    },
    {
     "name": "stdout",
     "output_type": "stream",
     "text": [
      "Uploaded tensorflow_datasets/tensorflow_datasets/downloads/manual_cambrian_dataset/cambrian_dataset_10M_part_00474.parquet\n"
     ]
    },
    {
     "name": "stderr",
     "output_type": "stream",
     "text": [
      "Converting to Parquet: 476it [03:07,  3.96it/s]"
     ]
    },
    {
     "name": "stdout",
     "output_type": "stream",
     "text": [
      "Uploaded tensorflow_datasets/tensorflow_datasets/downloads/manual_cambrian_dataset/cambrian_dataset_10M_part_00475.parquet\n"
     ]
    },
    {
     "name": "stderr",
     "output_type": "stream",
     "text": [
      "Converting to Parquet: 477it [03:07,  4.08it/s]"
     ]
    },
    {
     "name": "stdout",
     "output_type": "stream",
     "text": [
      "Uploaded tensorflow_datasets/tensorflow_datasets/downloads/manual_cambrian_dataset/cambrian_dataset_10M_part_00476.parquet\n"
     ]
    },
    {
     "name": "stderr",
     "output_type": "stream",
     "text": [
      "Converting to Parquet: 478it [03:08,  4.03it/s]"
     ]
    },
    {
     "name": "stdout",
     "output_type": "stream",
     "text": [
      "Uploaded tensorflow_datasets/tensorflow_datasets/downloads/manual_cambrian_dataset/cambrian_dataset_10M_part_00477.parquet\n"
     ]
    },
    {
     "name": "stderr",
     "output_type": "stream",
     "text": [
      "Converting to Parquet: 480it [03:08,  4.37it/s]"
     ]
    },
    {
     "name": "stdout",
     "output_type": "stream",
     "text": [
      "Uploaded tensorflow_datasets/tensorflow_datasets/downloads/manual_cambrian_dataset/cambrian_dataset_10M_part_00478.parquet\n",
      "Uploaded tensorflow_datasets/tensorflow_datasets/downloads/manual_cambrian_dataset/cambrian_dataset_10M_part_00479.parquet\n"
     ]
    },
    {
     "name": "stderr",
     "output_type": "stream",
     "text": [
      "Converting to Parquet: 482it [03:09,  4.77it/s]"
     ]
    },
    {
     "name": "stdout",
     "output_type": "stream",
     "text": [
      "Uploaded tensorflow_datasets/tensorflow_datasets/downloads/manual_cambrian_dataset/cambrian_dataset_10M_part_00480.parquet\n",
      "Uploaded tensorflow_datasets/tensorflow_datasets/downloads/manual_cambrian_dataset/cambrian_dataset_10M_part_00481.parquet\n"
     ]
    },
    {
     "name": "stderr",
     "output_type": "stream",
     "text": [
      "Converting to Parquet: 483it [03:09,  4.66it/s]"
     ]
    },
    {
     "name": "stdout",
     "output_type": "stream",
     "text": [
      "Uploaded tensorflow_datasets/tensorflow_datasets/downloads/manual_cambrian_dataset/cambrian_dataset_10M_part_00482.parquet\n"
     ]
    },
    {
     "name": "stderr",
     "output_type": "stream",
     "text": [
      "Converting to Parquet: 484it [03:09,  4.49it/s]"
     ]
    },
    {
     "name": "stdout",
     "output_type": "stream",
     "text": [
      "Uploaded tensorflow_datasets/tensorflow_datasets/downloads/manual_cambrian_dataset/cambrian_dataset_10M_part_00483.parquet\n"
     ]
    },
    {
     "name": "stderr",
     "output_type": "stream",
     "text": [
      "Converting to Parquet: 485it [03:09,  4.45it/s]"
     ]
    },
    {
     "name": "stdout",
     "output_type": "stream",
     "text": [
      "Uploaded tensorflow_datasets/tensorflow_datasets/downloads/manual_cambrian_dataset/cambrian_dataset_10M_part_00484.parquet\n"
     ]
    },
    {
     "name": "stderr",
     "output_type": "stream",
     "text": [
      "Converting to Parquet: 486it [03:09,  4.45it/s]"
     ]
    },
    {
     "name": "stdout",
     "output_type": "stream",
     "text": [
      "Uploaded tensorflow_datasets/tensorflow_datasets/downloads/manual_cambrian_dataset/cambrian_dataset_10M_part_00485.parquet\n"
     ]
    },
    {
     "name": "stderr",
     "output_type": "stream",
     "text": [
      "Converting to Parquet: 487it [03:10,  4.02it/s]"
     ]
    },
    {
     "name": "stdout",
     "output_type": "stream",
     "text": [
      "Uploaded tensorflow_datasets/tensorflow_datasets/downloads/manual_cambrian_dataset/cambrian_dataset_10M_part_00486.parquet\n"
     ]
    },
    {
     "name": "stderr",
     "output_type": "stream",
     "text": [
      "Converting to Parquet: 488it [03:10,  4.12it/s]"
     ]
    },
    {
     "name": "stdout",
     "output_type": "stream",
     "text": [
      "Uploaded tensorflow_datasets/tensorflow_datasets/downloads/manual_cambrian_dataset/cambrian_dataset_10M_part_00487.parquet\n"
     ]
    },
    {
     "name": "stderr",
     "output_type": "stream",
     "text": [
      "Converting to Parquet: 489it [03:10,  3.76it/s]"
     ]
    },
    {
     "name": "stdout",
     "output_type": "stream",
     "text": [
      "Uploaded tensorflow_datasets/tensorflow_datasets/downloads/manual_cambrian_dataset/cambrian_dataset_10M_part_00488.parquet\n"
     ]
    },
    {
     "name": "stderr",
     "output_type": "stream",
     "text": [
      "Converting to Parquet: 490it [03:11,  3.95it/s]"
     ]
    },
    {
     "name": "stdout",
     "output_type": "stream",
     "text": [
      "Uploaded tensorflow_datasets/tensorflow_datasets/downloads/manual_cambrian_dataset/cambrian_dataset_10M_part_00489.parquet\n"
     ]
    },
    {
     "name": "stderr",
     "output_type": "stream",
     "text": [
      "Converting to Parquet: 491it [03:11,  4.02it/s]"
     ]
    },
    {
     "name": "stdout",
     "output_type": "stream",
     "text": [
      "Uploaded tensorflow_datasets/tensorflow_datasets/downloads/manual_cambrian_dataset/cambrian_dataset_10M_part_00490.parquet\n"
     ]
    },
    {
     "name": "stderr",
     "output_type": "stream",
     "text": [
      "Converting to Parquet: 492it [03:11,  4.10it/s]"
     ]
    },
    {
     "name": "stdout",
     "output_type": "stream",
     "text": [
      "Uploaded tensorflow_datasets/tensorflow_datasets/downloads/manual_cambrian_dataset/cambrian_dataset_10M_part_00491.parquet\n"
     ]
    },
    {
     "name": "stderr",
     "output_type": "stream",
     "text": [
      "Converting to Parquet: 493it [03:11,  4.07it/s]"
     ]
    },
    {
     "name": "stdout",
     "output_type": "stream",
     "text": [
      "Uploaded tensorflow_datasets/tensorflow_datasets/downloads/manual_cambrian_dataset/cambrian_dataset_10M_part_00492.parquet\n"
     ]
    },
    {
     "name": "stderr",
     "output_type": "stream",
     "text": [
      "Converting to Parquet: 494it [03:11,  4.24it/s]"
     ]
    },
    {
     "name": "stdout",
     "output_type": "stream",
     "text": [
      "Uploaded tensorflow_datasets/tensorflow_datasets/downloads/manual_cambrian_dataset/cambrian_dataset_10M_part_00493.parquet\n"
     ]
    },
    {
     "name": "stderr",
     "output_type": "stream",
     "text": [
      "Converting to Parquet: 495it [03:12,  3.96it/s]"
     ]
    },
    {
     "name": "stdout",
     "output_type": "stream",
     "text": [
      "Uploaded tensorflow_datasets/tensorflow_datasets/downloads/manual_cambrian_dataset/cambrian_dataset_10M_part_00494.parquet\n"
     ]
    },
    {
     "name": "stderr",
     "output_type": "stream",
     "text": [
      "Converting to Parquet: 496it [03:12,  3.70it/s]"
     ]
    },
    {
     "name": "stdout",
     "output_type": "stream",
     "text": [
      "Uploaded tensorflow_datasets/tensorflow_datasets/downloads/manual_cambrian_dataset/cambrian_dataset_10M_part_00495.parquet\n"
     ]
    },
    {
     "name": "stderr",
     "output_type": "stream",
     "text": [
      "Converting to Parquet: 497it [03:12,  3.73it/s]"
     ]
    },
    {
     "name": "stdout",
     "output_type": "stream",
     "text": [
      "Uploaded tensorflow_datasets/tensorflow_datasets/downloads/manual_cambrian_dataset/cambrian_dataset_10M_part_00496.parquet\n"
     ]
    },
    {
     "name": "stderr",
     "output_type": "stream",
     "text": [
      "Converting to Parquet: 498it [03:13,  3.98it/s]"
     ]
    },
    {
     "name": "stdout",
     "output_type": "stream",
     "text": [
      "Uploaded tensorflow_datasets/tensorflow_datasets/downloads/manual_cambrian_dataset/cambrian_dataset_10M_part_00497.parquet\n"
     ]
    },
    {
     "name": "stderr",
     "output_type": "stream",
     "text": [
      "Converting to Parquet: 500it [03:13,  4.39it/s]"
     ]
    },
    {
     "name": "stdout",
     "output_type": "stream",
     "text": [
      "Uploaded tensorflow_datasets/tensorflow_datasets/downloads/manual_cambrian_dataset/cambrian_dataset_10M_part_00498.parquet\n",
      "Uploaded tensorflow_datasets/tensorflow_datasets/downloads/manual_cambrian_dataset/cambrian_dataset_10M_part_00499.parquet\n"
     ]
    },
    {
     "name": "stderr",
     "output_type": "stream",
     "text": [
      "Converting to Parquet: 501it [03:13,  4.34it/s]"
     ]
    },
    {
     "name": "stdout",
     "output_type": "stream",
     "text": [
      "Uploaded tensorflow_datasets/tensorflow_datasets/downloads/manual_cambrian_dataset/cambrian_dataset_10M_part_00500.parquet\n"
     ]
    },
    {
     "name": "stderr",
     "output_type": "stream",
     "text": [
      "Converting to Parquet: 502it [03:13,  3.87it/s]"
     ]
    },
    {
     "name": "stdout",
     "output_type": "stream",
     "text": [
      "Uploaded tensorflow_datasets/tensorflow_datasets/downloads/manual_cambrian_dataset/cambrian_dataset_10M_part_00501.parquet\n"
     ]
    },
    {
     "name": "stderr",
     "output_type": "stream",
     "text": [
      "Converting to Parquet: 503it [03:14,  3.70it/s]"
     ]
    },
    {
     "name": "stdout",
     "output_type": "stream",
     "text": [
      "Uploaded tensorflow_datasets/tensorflow_datasets/downloads/manual_cambrian_dataset/cambrian_dataset_10M_part_00502.parquet\n"
     ]
    },
    {
     "name": "stderr",
     "output_type": "stream",
     "text": [
      "Converting to Parquet: 504it [03:14,  3.55it/s]"
     ]
    },
    {
     "name": "stdout",
     "output_type": "stream",
     "text": [
      "Uploaded tensorflow_datasets/tensorflow_datasets/downloads/manual_cambrian_dataset/cambrian_dataset_10M_part_00503.parquet\n"
     ]
    },
    {
     "name": "stderr",
     "output_type": "stream",
     "text": [
      "Converting to Parquet: 505it [03:14,  3.38it/s]"
     ]
    },
    {
     "name": "stdout",
     "output_type": "stream",
     "text": [
      "Uploaded tensorflow_datasets/tensorflow_datasets/downloads/manual_cambrian_dataset/cambrian_dataset_10M_part_00504.parquet\n"
     ]
    },
    {
     "name": "stderr",
     "output_type": "stream",
     "text": [
      "Converting to Parquet: 506it [03:15,  3.22it/s]"
     ]
    },
    {
     "name": "stdout",
     "output_type": "stream",
     "text": [
      "Uploaded tensorflow_datasets/tensorflow_datasets/downloads/manual_cambrian_dataset/cambrian_dataset_10M_part_00505.parquet\n"
     ]
    },
    {
     "name": "stderr",
     "output_type": "stream",
     "text": [
      "Converting to Parquet: 507it [03:15,  3.25it/s]"
     ]
    },
    {
     "name": "stdout",
     "output_type": "stream",
     "text": [
      "Uploaded tensorflow_datasets/tensorflow_datasets/downloads/manual_cambrian_dataset/cambrian_dataset_10M_part_00506.parquet\n"
     ]
    },
    {
     "name": "stderr",
     "output_type": "stream",
     "text": [
      "Converting to Parquet: 508it [03:15,  3.24it/s]"
     ]
    },
    {
     "name": "stdout",
     "output_type": "stream",
     "text": [
      "Uploaded tensorflow_datasets/tensorflow_datasets/downloads/manual_cambrian_dataset/cambrian_dataset_10M_part_00507.parquet\n"
     ]
    },
    {
     "name": "stderr",
     "output_type": "stream",
     "text": [
      "Converting to Parquet: 509it [03:16,  3.21it/s]"
     ]
    },
    {
     "name": "stdout",
     "output_type": "stream",
     "text": [
      "Uploaded tensorflow_datasets/tensorflow_datasets/downloads/manual_cambrian_dataset/cambrian_dataset_10M_part_00508.parquet\n"
     ]
    },
    {
     "name": "stderr",
     "output_type": "stream",
     "text": [
      "Converting to Parquet: 510it [03:16,  3.06it/s]"
     ]
    },
    {
     "name": "stdout",
     "output_type": "stream",
     "text": [
      "Uploaded tensorflow_datasets/tensorflow_datasets/downloads/manual_cambrian_dataset/cambrian_dataset_10M_part_00509.parquet\n"
     ]
    },
    {
     "name": "stderr",
     "output_type": "stream",
     "text": [
      "Converting to Parquet: 511it [03:16,  3.14it/s]"
     ]
    },
    {
     "name": "stdout",
     "output_type": "stream",
     "text": [
      "Uploaded tensorflow_datasets/tensorflow_datasets/downloads/manual_cambrian_dataset/cambrian_dataset_10M_part_00510.parquet\n"
     ]
    },
    {
     "name": "stderr",
     "output_type": "stream",
     "text": [
      "Converting to Parquet: 512it [03:17,  3.13it/s]"
     ]
    },
    {
     "name": "stdout",
     "output_type": "stream",
     "text": [
      "Uploaded tensorflow_datasets/tensorflow_datasets/downloads/manual_cambrian_dataset/cambrian_dataset_10M_part_00511.parquet\n"
     ]
    },
    {
     "name": "stderr",
     "output_type": "stream",
     "text": [
      "Converting to Parquet: 513it [03:17,  3.13it/s]"
     ]
    },
    {
     "name": "stdout",
     "output_type": "stream",
     "text": [
      "Uploaded tensorflow_datasets/tensorflow_datasets/downloads/manual_cambrian_dataset/cambrian_dataset_10M_part_00512.parquet\n"
     ]
    },
    {
     "name": "stderr",
     "output_type": "stream",
     "text": [
      "Converting to Parquet: 514it [03:17,  3.07it/s]"
     ]
    },
    {
     "name": "stdout",
     "output_type": "stream",
     "text": [
      "Uploaded tensorflow_datasets/tensorflow_datasets/downloads/manual_cambrian_dataset/cambrian_dataset_10M_part_00513.parquet\n"
     ]
    },
    {
     "name": "stderr",
     "output_type": "stream",
     "text": [
      "Converting to Parquet: 515it [03:18,  3.13it/s]"
     ]
    },
    {
     "name": "stdout",
     "output_type": "stream",
     "text": [
      "Uploaded tensorflow_datasets/tensorflow_datasets/downloads/manual_cambrian_dataset/cambrian_dataset_10M_part_00514.parquet\n"
     ]
    },
    {
     "name": "stderr",
     "output_type": "stream",
     "text": [
      "Converting to Parquet: 516it [03:18,  3.15it/s]"
     ]
    },
    {
     "name": "stdout",
     "output_type": "stream",
     "text": [
      "Uploaded tensorflow_datasets/tensorflow_datasets/downloads/manual_cambrian_dataset/cambrian_dataset_10M_part_00515.parquet\n"
     ]
    },
    {
     "name": "stderr",
     "output_type": "stream",
     "text": [
      "Converting to Parquet: 517it [03:18,  3.23it/s]"
     ]
    },
    {
     "name": "stdout",
     "output_type": "stream",
     "text": [
      "Uploaded tensorflow_datasets/tensorflow_datasets/downloads/manual_cambrian_dataset/cambrian_dataset_10M_part_00516.parquet\n"
     ]
    },
    {
     "name": "stderr",
     "output_type": "stream",
     "text": [
      "Converting to Parquet: 518it [03:19,  3.29it/s]"
     ]
    },
    {
     "name": "stdout",
     "output_type": "stream",
     "text": [
      "Uploaded tensorflow_datasets/tensorflow_datasets/downloads/manual_cambrian_dataset/cambrian_dataset_10M_part_00517.parquet\n"
     ]
    },
    {
     "name": "stderr",
     "output_type": "stream",
     "text": [
      "Converting to Parquet: 519it [03:19,  3.20it/s]"
     ]
    },
    {
     "name": "stdout",
     "output_type": "stream",
     "text": [
      "Uploaded tensorflow_datasets/tensorflow_datasets/downloads/manual_cambrian_dataset/cambrian_dataset_10M_part_00518.parquet\n"
     ]
    },
    {
     "name": "stderr",
     "output_type": "stream",
     "text": [
      "Converting to Parquet: 520it [03:19,  3.07it/s]"
     ]
    },
    {
     "name": "stdout",
     "output_type": "stream",
     "text": [
      "Uploaded tensorflow_datasets/tensorflow_datasets/downloads/manual_cambrian_dataset/cambrian_dataset_10M_part_00519.parquet\n"
     ]
    },
    {
     "name": "stderr",
     "output_type": "stream",
     "text": [
      "Converting to Parquet: 521it [03:20,  2.93it/s]"
     ]
    },
    {
     "name": "stdout",
     "output_type": "stream",
     "text": [
      "Uploaded tensorflow_datasets/tensorflow_datasets/downloads/manual_cambrian_dataset/cambrian_dataset_10M_part_00520.parquet\n"
     ]
    },
    {
     "name": "stderr",
     "output_type": "stream",
     "text": [
      "Converting to Parquet: 522it [03:20,  3.08it/s]"
     ]
    },
    {
     "name": "stdout",
     "output_type": "stream",
     "text": [
      "Uploaded tensorflow_datasets/tensorflow_datasets/downloads/manual_cambrian_dataset/cambrian_dataset_10M_part_00521.parquet\n"
     ]
    },
    {
     "name": "stderr",
     "output_type": "stream",
     "text": [
      "Converting to Parquet: 523it [03:20,  3.10it/s]"
     ]
    },
    {
     "name": "stdout",
     "output_type": "stream",
     "text": [
      "Uploaded tensorflow_datasets/tensorflow_datasets/downloads/manual_cambrian_dataset/cambrian_dataset_10M_part_00522.parquet\n"
     ]
    },
    {
     "name": "stderr",
     "output_type": "stream",
     "text": [
      "Converting to Parquet: 524it [03:21,  3.15it/s]"
     ]
    },
    {
     "name": "stdout",
     "output_type": "stream",
     "text": [
      "Uploaded tensorflow_datasets/tensorflow_datasets/downloads/manual_cambrian_dataset/cambrian_dataset_10M_part_00523.parquet\n"
     ]
    },
    {
     "name": "stderr",
     "output_type": "stream",
     "text": [
      "Converting to Parquet: 525it [03:21,  3.12it/s]"
     ]
    },
    {
     "name": "stdout",
     "output_type": "stream",
     "text": [
      "Uploaded tensorflow_datasets/tensorflow_datasets/downloads/manual_cambrian_dataset/cambrian_dataset_10M_part_00524.parquet\n"
     ]
    },
    {
     "name": "stderr",
     "output_type": "stream",
     "text": [
      "Converting to Parquet: 526it [03:21,  3.12it/s]"
     ]
    },
    {
     "name": "stdout",
     "output_type": "stream",
     "text": [
      "Uploaded tensorflow_datasets/tensorflow_datasets/downloads/manual_cambrian_dataset/cambrian_dataset_10M_part_00525.parquet\n"
     ]
    },
    {
     "name": "stderr",
     "output_type": "stream",
     "text": [
      "Converting to Parquet: 527it [03:21,  3.11it/s]"
     ]
    },
    {
     "name": "stdout",
     "output_type": "stream",
     "text": [
      "Uploaded tensorflow_datasets/tensorflow_datasets/downloads/manual_cambrian_dataset/cambrian_dataset_10M_part_00526.parquet\n"
     ]
    },
    {
     "name": "stderr",
     "output_type": "stream",
     "text": [
      "Converting to Parquet: 528it [03:22,  3.08it/s]"
     ]
    },
    {
     "name": "stdout",
     "output_type": "stream",
     "text": [
      "Uploaded tensorflow_datasets/tensorflow_datasets/downloads/manual_cambrian_dataset/cambrian_dataset_10M_part_00527.parquet\n"
     ]
    },
    {
     "name": "stderr",
     "output_type": "stream",
     "text": [
      "Converting to Parquet: 529it [03:22,  3.11it/s]"
     ]
    },
    {
     "name": "stdout",
     "output_type": "stream",
     "text": [
      "Uploaded tensorflow_datasets/tensorflow_datasets/downloads/manual_cambrian_dataset/cambrian_dataset_10M_part_00528.parquet\n"
     ]
    },
    {
     "name": "stderr",
     "output_type": "stream",
     "text": [
      "Converting to Parquet: 530it [03:22,  3.16it/s]"
     ]
    },
    {
     "name": "stdout",
     "output_type": "stream",
     "text": [
      "Uploaded tensorflow_datasets/tensorflow_datasets/downloads/manual_cambrian_dataset/cambrian_dataset_10M_part_00529.parquet\n"
     ]
    },
    {
     "name": "stderr",
     "output_type": "stream",
     "text": [
      "Converting to Parquet: 531it [03:23,  3.13it/s]"
     ]
    },
    {
     "name": "stdout",
     "output_type": "stream",
     "text": [
      "Uploaded tensorflow_datasets/tensorflow_datasets/downloads/manual_cambrian_dataset/cambrian_dataset_10M_part_00530.parquet\n"
     ]
    },
    {
     "name": "stderr",
     "output_type": "stream",
     "text": [
      "Converting to Parquet: 532it [03:23,  3.04it/s]"
     ]
    },
    {
     "name": "stdout",
     "output_type": "stream",
     "text": [
      "Uploaded tensorflow_datasets/tensorflow_datasets/downloads/manual_cambrian_dataset/cambrian_dataset_10M_part_00531.parquet\n"
     ]
    },
    {
     "name": "stderr",
     "output_type": "stream",
     "text": [
      "Converting to Parquet: 533it [03:23,  3.05it/s]"
     ]
    },
    {
     "name": "stdout",
     "output_type": "stream",
     "text": [
      "Uploaded tensorflow_datasets/tensorflow_datasets/downloads/manual_cambrian_dataset/cambrian_dataset_10M_part_00532.parquet\n"
     ]
    },
    {
     "name": "stderr",
     "output_type": "stream",
     "text": [
      "Converting to Parquet: 534it [03:24,  3.16it/s]"
     ]
    },
    {
     "name": "stdout",
     "output_type": "stream",
     "text": [
      "Uploaded tensorflow_datasets/tensorflow_datasets/downloads/manual_cambrian_dataset/cambrian_dataset_10M_part_00533.parquet\n"
     ]
    },
    {
     "name": "stderr",
     "output_type": "stream",
     "text": [
      "Converting to Parquet: 535it [03:24,  3.15it/s]"
     ]
    },
    {
     "name": "stdout",
     "output_type": "stream",
     "text": [
      "Uploaded tensorflow_datasets/tensorflow_datasets/downloads/manual_cambrian_dataset/cambrian_dataset_10M_part_00534.parquet\n"
     ]
    },
    {
     "name": "stderr",
     "output_type": "stream",
     "text": [
      "Converting to Parquet: 536it [03:24,  3.07it/s]"
     ]
    },
    {
     "name": "stdout",
     "output_type": "stream",
     "text": [
      "Uploaded tensorflow_datasets/tensorflow_datasets/downloads/manual_cambrian_dataset/cambrian_dataset_10M_part_00535.parquet\n"
     ]
    },
    {
     "name": "stderr",
     "output_type": "stream",
     "text": [
      "Converting to Parquet: 537it [03:25,  3.20it/s]"
     ]
    },
    {
     "name": "stdout",
     "output_type": "stream",
     "text": [
      "Uploaded tensorflow_datasets/tensorflow_datasets/downloads/manual_cambrian_dataset/cambrian_dataset_10M_part_00536.parquet\n"
     ]
    },
    {
     "name": "stderr",
     "output_type": "stream",
     "text": [
      "Converting to Parquet: 538it [03:25,  3.17it/s]"
     ]
    },
    {
     "name": "stdout",
     "output_type": "stream",
     "text": [
      "Uploaded tensorflow_datasets/tensorflow_datasets/downloads/manual_cambrian_dataset/cambrian_dataset_10M_part_00537.parquet\n"
     ]
    },
    {
     "name": "stderr",
     "output_type": "stream",
     "text": [
      "Converting to Parquet: 539it [03:25,  3.25it/s]"
     ]
    },
    {
     "name": "stdout",
     "output_type": "stream",
     "text": [
      "Uploaded tensorflow_datasets/tensorflow_datasets/downloads/manual_cambrian_dataset/cambrian_dataset_10M_part_00538.parquet\n"
     ]
    },
    {
     "name": "stderr",
     "output_type": "stream",
     "text": [
      "Converting to Parquet: 540it [03:26,  3.23it/s]"
     ]
    },
    {
     "name": "stdout",
     "output_type": "stream",
     "text": [
      "Uploaded tensorflow_datasets/tensorflow_datasets/downloads/manual_cambrian_dataset/cambrian_dataset_10M_part_00539.parquet\n"
     ]
    },
    {
     "name": "stderr",
     "output_type": "stream",
     "text": [
      "Converting to Parquet: 541it [03:26,  3.19it/s]"
     ]
    },
    {
     "name": "stdout",
     "output_type": "stream",
     "text": [
      "Uploaded tensorflow_datasets/tensorflow_datasets/downloads/manual_cambrian_dataset/cambrian_dataset_10M_part_00540.parquet\n"
     ]
    },
    {
     "name": "stderr",
     "output_type": "stream",
     "text": [
      "Converting to Parquet: 542it [03:26,  3.19it/s]"
     ]
    },
    {
     "name": "stdout",
     "output_type": "stream",
     "text": [
      "Uploaded tensorflow_datasets/tensorflow_datasets/downloads/manual_cambrian_dataset/cambrian_dataset_10M_part_00541.parquet\n"
     ]
    },
    {
     "name": "stderr",
     "output_type": "stream",
     "text": [
      "Converting to Parquet: 543it [03:27,  3.20it/s]"
     ]
    },
    {
     "name": "stdout",
     "output_type": "stream",
     "text": [
      "Uploaded tensorflow_datasets/tensorflow_datasets/downloads/manual_cambrian_dataset/cambrian_dataset_10M_part_00542.parquet\n"
     ]
    },
    {
     "name": "stderr",
     "output_type": "stream",
     "text": [
      "Converting to Parquet: 544it [03:27,  3.17it/s]"
     ]
    },
    {
     "name": "stdout",
     "output_type": "stream",
     "text": [
      "Uploaded tensorflow_datasets/tensorflow_datasets/downloads/manual_cambrian_dataset/cambrian_dataset_10M_part_00543.parquet\n"
     ]
    },
    {
     "name": "stderr",
     "output_type": "stream",
     "text": [
      "Converting to Parquet: 545it [03:27,  3.26it/s]"
     ]
    },
    {
     "name": "stdout",
     "output_type": "stream",
     "text": [
      "Uploaded tensorflow_datasets/tensorflow_datasets/downloads/manual_cambrian_dataset/cambrian_dataset_10M_part_00544.parquet\n"
     ]
    },
    {
     "name": "stderr",
     "output_type": "stream",
     "text": [
      "Converting to Parquet: 546it [03:28,  3.05it/s]"
     ]
    },
    {
     "name": "stdout",
     "output_type": "stream",
     "text": [
      "Uploaded tensorflow_datasets/tensorflow_datasets/downloads/manual_cambrian_dataset/cambrian_dataset_10M_part_00545.parquet\n"
     ]
    },
    {
     "name": "stderr",
     "output_type": "stream",
     "text": [
      "Converting to Parquet: 547it [03:28,  3.06it/s]"
     ]
    },
    {
     "name": "stdout",
     "output_type": "stream",
     "text": [
      "Uploaded tensorflow_datasets/tensorflow_datasets/downloads/manual_cambrian_dataset/cambrian_dataset_10M_part_00546.parquet\n"
     ]
    },
    {
     "name": "stderr",
     "output_type": "stream",
     "text": [
      "Converting to Parquet: 548it [03:28,  3.10it/s]"
     ]
    },
    {
     "name": "stdout",
     "output_type": "stream",
     "text": [
      "Uploaded tensorflow_datasets/tensorflow_datasets/downloads/manual_cambrian_dataset/cambrian_dataset_10M_part_00547.parquet\n"
     ]
    },
    {
     "name": "stderr",
     "output_type": "stream",
     "text": [
      "Converting to Parquet: 549it [03:28,  3.13it/s]"
     ]
    },
    {
     "name": "stdout",
     "output_type": "stream",
     "text": [
      "Uploaded tensorflow_datasets/tensorflow_datasets/downloads/manual_cambrian_dataset/cambrian_dataset_10M_part_00548.parquet\n"
     ]
    },
    {
     "name": "stderr",
     "output_type": "stream",
     "text": [
      "Converting to Parquet: 550it [03:29,  3.10it/s]"
     ]
    },
    {
     "name": "stdout",
     "output_type": "stream",
     "text": [
      "Uploaded tensorflow_datasets/tensorflow_datasets/downloads/manual_cambrian_dataset/cambrian_dataset_10M_part_00549.parquet\n"
     ]
    },
    {
     "name": "stderr",
     "output_type": "stream",
     "text": [
      "Converting to Parquet: 551it [03:29,  3.09it/s]"
     ]
    },
    {
     "name": "stdout",
     "output_type": "stream",
     "text": [
      "Uploaded tensorflow_datasets/tensorflow_datasets/downloads/manual_cambrian_dataset/cambrian_dataset_10M_part_00550.parquet\n"
     ]
    },
    {
     "name": "stderr",
     "output_type": "stream",
     "text": [
      "Converting to Parquet: 552it [03:29,  3.11it/s]"
     ]
    },
    {
     "name": "stdout",
     "output_type": "stream",
     "text": [
      "Uploaded tensorflow_datasets/tensorflow_datasets/downloads/manual_cambrian_dataset/cambrian_dataset_10M_part_00551.parquet\n"
     ]
    },
    {
     "name": "stderr",
     "output_type": "stream",
     "text": [
      "Converting to Parquet: 553it [03:30,  3.15it/s]"
     ]
    },
    {
     "name": "stdout",
     "output_type": "stream",
     "text": [
      "Uploaded tensorflow_datasets/tensorflow_datasets/downloads/manual_cambrian_dataset/cambrian_dataset_10M_part_00552.parquet\n"
     ]
    },
    {
     "name": "stderr",
     "output_type": "stream",
     "text": [
      "Converting to Parquet: 554it [03:30,  3.12it/s]"
     ]
    },
    {
     "name": "stdout",
     "output_type": "stream",
     "text": [
      "Uploaded tensorflow_datasets/tensorflow_datasets/downloads/manual_cambrian_dataset/cambrian_dataset_10M_part_00553.parquet\n"
     ]
    },
    {
     "name": "stderr",
     "output_type": "stream",
     "text": [
      "Converting to Parquet: 555it [03:30,  3.13it/s]"
     ]
    },
    {
     "name": "stdout",
     "output_type": "stream",
     "text": [
      "Uploaded tensorflow_datasets/tensorflow_datasets/downloads/manual_cambrian_dataset/cambrian_dataset_10M_part_00554.parquet\n"
     ]
    },
    {
     "name": "stderr",
     "output_type": "stream",
     "text": [
      "Converting to Parquet: 556it [03:31,  3.21it/s]"
     ]
    },
    {
     "name": "stdout",
     "output_type": "stream",
     "text": [
      "Uploaded tensorflow_datasets/tensorflow_datasets/downloads/manual_cambrian_dataset/cambrian_dataset_10M_part_00555.parquet\n"
     ]
    },
    {
     "name": "stderr",
     "output_type": "stream",
     "text": [
      "Converting to Parquet: 557it [03:31,  3.11it/s]"
     ]
    },
    {
     "name": "stdout",
     "output_type": "stream",
     "text": [
      "Uploaded tensorflow_datasets/tensorflow_datasets/downloads/manual_cambrian_dataset/cambrian_dataset_10M_part_00556.parquet\n"
     ]
    },
    {
     "name": "stderr",
     "output_type": "stream",
     "text": [
      "Converting to Parquet: 558it [03:31,  3.26it/s]"
     ]
    },
    {
     "name": "stdout",
     "output_type": "stream",
     "text": [
      "Uploaded tensorflow_datasets/tensorflow_datasets/downloads/manual_cambrian_dataset/cambrian_dataset_10M_part_00557.parquet\n"
     ]
    },
    {
     "name": "stderr",
     "output_type": "stream",
     "text": [
      "Converting to Parquet: 559it [03:32,  3.15it/s]"
     ]
    },
    {
     "name": "stdout",
     "output_type": "stream",
     "text": [
      "Uploaded tensorflow_datasets/tensorflow_datasets/downloads/manual_cambrian_dataset/cambrian_dataset_10M_part_00558.parquet\n"
     ]
    },
    {
     "name": "stderr",
     "output_type": "stream",
     "text": [
      "Converting to Parquet: 560it [03:32,  3.23it/s]"
     ]
    },
    {
     "name": "stdout",
     "output_type": "stream",
     "text": [
      "Uploaded tensorflow_datasets/tensorflow_datasets/downloads/manual_cambrian_dataset/cambrian_dataset_10M_part_00559.parquet\n"
     ]
    },
    {
     "name": "stderr",
     "output_type": "stream",
     "text": [
      "Converting to Parquet: 561it [03:32,  3.31it/s]"
     ]
    },
    {
     "name": "stdout",
     "output_type": "stream",
     "text": [
      "Uploaded tensorflow_datasets/tensorflow_datasets/downloads/manual_cambrian_dataset/cambrian_dataset_10M_part_00560.parquet\n"
     ]
    },
    {
     "name": "stderr",
     "output_type": "stream",
     "text": [
      "Converting to Parquet: 562it [03:33,  3.33it/s]"
     ]
    },
    {
     "name": "stdout",
     "output_type": "stream",
     "text": [
      "Uploaded tensorflow_datasets/tensorflow_datasets/downloads/manual_cambrian_dataset/cambrian_dataset_10M_part_00561.parquet\n"
     ]
    },
    {
     "name": "stderr",
     "output_type": "stream",
     "text": [
      "Converting to Parquet: 563it [03:33,  3.30it/s]"
     ]
    },
    {
     "name": "stdout",
     "output_type": "stream",
     "text": [
      "Uploaded tensorflow_datasets/tensorflow_datasets/downloads/manual_cambrian_dataset/cambrian_dataset_10M_part_00562.parquet\n"
     ]
    },
    {
     "name": "stderr",
     "output_type": "stream",
     "text": [
      "Converting to Parquet: 564it [03:33,  3.27it/s]"
     ]
    },
    {
     "name": "stdout",
     "output_type": "stream",
     "text": [
      "Uploaded tensorflow_datasets/tensorflow_datasets/downloads/manual_cambrian_dataset/cambrian_dataset_10M_part_00563.parquet\n"
     ]
    },
    {
     "name": "stderr",
     "output_type": "stream",
     "text": [
      "Converting to Parquet: 565it [03:33,  3.27it/s]"
     ]
    },
    {
     "name": "stdout",
     "output_type": "stream",
     "text": [
      "Uploaded tensorflow_datasets/tensorflow_datasets/downloads/manual_cambrian_dataset/cambrian_dataset_10M_part_00564.parquet\n"
     ]
    },
    {
     "name": "stderr",
     "output_type": "stream",
     "text": [
      "Converting to Parquet: 566it [03:34,  3.19it/s]"
     ]
    },
    {
     "name": "stdout",
     "output_type": "stream",
     "text": [
      "Uploaded tensorflow_datasets/tensorflow_datasets/downloads/manual_cambrian_dataset/cambrian_dataset_10M_part_00565.parquet\n"
     ]
    },
    {
     "name": "stderr",
     "output_type": "stream",
     "text": [
      "Converting to Parquet: 567it [03:34,  3.32it/s]"
     ]
    },
    {
     "name": "stdout",
     "output_type": "stream",
     "text": [
      "Uploaded tensorflow_datasets/tensorflow_datasets/downloads/manual_cambrian_dataset/cambrian_dataset_10M_part_00566.parquet\n"
     ]
    },
    {
     "name": "stderr",
     "output_type": "stream",
     "text": [
      "Converting to Parquet: 568it [03:34,  3.27it/s]"
     ]
    },
    {
     "name": "stdout",
     "output_type": "stream",
     "text": [
      "Uploaded tensorflow_datasets/tensorflow_datasets/downloads/manual_cambrian_dataset/cambrian_dataset_10M_part_00567.parquet\n"
     ]
    },
    {
     "name": "stderr",
     "output_type": "stream",
     "text": [
      "Converting to Parquet: 569it [03:35,  3.25it/s]"
     ]
    },
    {
     "name": "stdout",
     "output_type": "stream",
     "text": [
      "Uploaded tensorflow_datasets/tensorflow_datasets/downloads/manual_cambrian_dataset/cambrian_dataset_10M_part_00568.parquet\n"
     ]
    },
    {
     "name": "stderr",
     "output_type": "stream",
     "text": [
      "Converting to Parquet: 570it [03:35,  3.13it/s]"
     ]
    },
    {
     "name": "stdout",
     "output_type": "stream",
     "text": [
      "Uploaded tensorflow_datasets/tensorflow_datasets/downloads/manual_cambrian_dataset/cambrian_dataset_10M_part_00569.parquet\n"
     ]
    },
    {
     "name": "stderr",
     "output_type": "stream",
     "text": [
      "Converting to Parquet: 571it [03:35,  3.19it/s]"
     ]
    },
    {
     "name": "stdout",
     "output_type": "stream",
     "text": [
      "Uploaded tensorflow_datasets/tensorflow_datasets/downloads/manual_cambrian_dataset/cambrian_dataset_10M_part_00570.parquet\n"
     ]
    },
    {
     "name": "stderr",
     "output_type": "stream",
     "text": [
      "Converting to Parquet: 572it [03:36,  3.23it/s]"
     ]
    },
    {
     "name": "stdout",
     "output_type": "stream",
     "text": [
      "Uploaded tensorflow_datasets/tensorflow_datasets/downloads/manual_cambrian_dataset/cambrian_dataset_10M_part_00571.parquet\n"
     ]
    },
    {
     "name": "stderr",
     "output_type": "stream",
     "text": [
      "Converting to Parquet: 573it [03:36,  3.15it/s]"
     ]
    },
    {
     "name": "stdout",
     "output_type": "stream",
     "text": [
      "Uploaded tensorflow_datasets/tensorflow_datasets/downloads/manual_cambrian_dataset/cambrian_dataset_10M_part_00572.parquet\n"
     ]
    },
    {
     "name": "stderr",
     "output_type": "stream",
     "text": [
      "Converting to Parquet: 574it [03:36,  3.16it/s]"
     ]
    },
    {
     "name": "stdout",
     "output_type": "stream",
     "text": [
      "Uploaded tensorflow_datasets/tensorflow_datasets/downloads/manual_cambrian_dataset/cambrian_dataset_10M_part_00573.parquet\n"
     ]
    },
    {
     "name": "stderr",
     "output_type": "stream",
     "text": [
      "Converting to Parquet: 575it [03:37,  3.16it/s]"
     ]
    },
    {
     "name": "stdout",
     "output_type": "stream",
     "text": [
      "Uploaded tensorflow_datasets/tensorflow_datasets/downloads/manual_cambrian_dataset/cambrian_dataset_10M_part_00574.parquet\n"
     ]
    },
    {
     "name": "stderr",
     "output_type": "stream",
     "text": [
      "Converting to Parquet: 576it [03:37,  3.14it/s]"
     ]
    },
    {
     "name": "stdout",
     "output_type": "stream",
     "text": [
      "Uploaded tensorflow_datasets/tensorflow_datasets/downloads/manual_cambrian_dataset/cambrian_dataset_10M_part_00575.parquet\n"
     ]
    },
    {
     "name": "stderr",
     "output_type": "stream",
     "text": [
      "Converting to Parquet: 577it [03:37,  3.22it/s]"
     ]
    },
    {
     "name": "stdout",
     "output_type": "stream",
     "text": [
      "Uploaded tensorflow_datasets/tensorflow_datasets/downloads/manual_cambrian_dataset/cambrian_dataset_10M_part_00576.parquet\n"
     ]
    },
    {
     "name": "stderr",
     "output_type": "stream",
     "text": [
      "Converting to Parquet: 578it [03:38,  3.12it/s]"
     ]
    },
    {
     "name": "stdout",
     "output_type": "stream",
     "text": [
      "Uploaded tensorflow_datasets/tensorflow_datasets/downloads/manual_cambrian_dataset/cambrian_dataset_10M_part_00577.parquet\n"
     ]
    },
    {
     "name": "stderr",
     "output_type": "stream",
     "text": [
      "Converting to Parquet: 579it [03:38,  2.97it/s]"
     ]
    },
    {
     "name": "stdout",
     "output_type": "stream",
     "text": [
      "Uploaded tensorflow_datasets/tensorflow_datasets/downloads/manual_cambrian_dataset/cambrian_dataset_10M_part_00578.parquet\n"
     ]
    },
    {
     "name": "stderr",
     "output_type": "stream",
     "text": [
      "Converting to Parquet: 580it [03:38,  2.98it/s]"
     ]
    },
    {
     "name": "stdout",
     "output_type": "stream",
     "text": [
      "Uploaded tensorflow_datasets/tensorflow_datasets/downloads/manual_cambrian_dataset/cambrian_dataset_10M_part_00579.parquet\n"
     ]
    },
    {
     "name": "stderr",
     "output_type": "stream",
     "text": [
      "Converting to Parquet: 581it [03:39,  2.98it/s]"
     ]
    },
    {
     "name": "stdout",
     "output_type": "stream",
     "text": [
      "Uploaded tensorflow_datasets/tensorflow_datasets/downloads/manual_cambrian_dataset/cambrian_dataset_10M_part_00580.parquet\n"
     ]
    },
    {
     "name": "stderr",
     "output_type": "stream",
     "text": [
      "Converting to Parquet: 582it [03:39,  3.04it/s]"
     ]
    },
    {
     "name": "stdout",
     "output_type": "stream",
     "text": [
      "Uploaded tensorflow_datasets/tensorflow_datasets/downloads/manual_cambrian_dataset/cambrian_dataset_10M_part_00581.parquet\n"
     ]
    },
    {
     "name": "stderr",
     "output_type": "stream",
     "text": [
      "Converting to Parquet: 583it [03:39,  3.04it/s]"
     ]
    },
    {
     "name": "stdout",
     "output_type": "stream",
     "text": [
      "Uploaded tensorflow_datasets/tensorflow_datasets/downloads/manual_cambrian_dataset/cambrian_dataset_10M_part_00582.parquet\n"
     ]
    },
    {
     "name": "stderr",
     "output_type": "stream",
     "text": [
      "Converting to Parquet: 584it [03:40,  3.08it/s]"
     ]
    },
    {
     "name": "stdout",
     "output_type": "stream",
     "text": [
      "Uploaded tensorflow_datasets/tensorflow_datasets/downloads/manual_cambrian_dataset/cambrian_dataset_10M_part_00583.parquet\n"
     ]
    },
    {
     "name": "stderr",
     "output_type": "stream",
     "text": [
      "Converting to Parquet: 585it [03:40,  3.07it/s]"
     ]
    },
    {
     "name": "stdout",
     "output_type": "stream",
     "text": [
      "Uploaded tensorflow_datasets/tensorflow_datasets/downloads/manual_cambrian_dataset/cambrian_dataset_10M_part_00584.parquet\n"
     ]
    },
    {
     "name": "stderr",
     "output_type": "stream",
     "text": [
      "Converting to Parquet: 586it [03:40,  3.07it/s]"
     ]
    },
    {
     "name": "stdout",
     "output_type": "stream",
     "text": [
      "Uploaded tensorflow_datasets/tensorflow_datasets/downloads/manual_cambrian_dataset/cambrian_dataset_10M_part_00585.parquet\n"
     ]
    },
    {
     "name": "stderr",
     "output_type": "stream",
     "text": [
      "Converting to Parquet: 587it [03:41,  3.13it/s]"
     ]
    },
    {
     "name": "stdout",
     "output_type": "stream",
     "text": [
      "Uploaded tensorflow_datasets/tensorflow_datasets/downloads/manual_cambrian_dataset/cambrian_dataset_10M_part_00586.parquet\n"
     ]
    },
    {
     "name": "stderr",
     "output_type": "stream",
     "text": [
      "Converting to Parquet: 588it [03:41,  3.20it/s]"
     ]
    },
    {
     "name": "stdout",
     "output_type": "stream",
     "text": [
      "Uploaded tensorflow_datasets/tensorflow_datasets/downloads/manual_cambrian_dataset/cambrian_dataset_10M_part_00587.parquet\n"
     ]
    },
    {
     "name": "stderr",
     "output_type": "stream",
     "text": [
      "Converting to Parquet: 589it [03:41,  3.10it/s]"
     ]
    },
    {
     "name": "stdout",
     "output_type": "stream",
     "text": [
      "Uploaded tensorflow_datasets/tensorflow_datasets/downloads/manual_cambrian_dataset/cambrian_dataset_10M_part_00588.parquet\n"
     ]
    },
    {
     "name": "stderr",
     "output_type": "stream",
     "text": [
      "Converting to Parquet: 590it [03:42,  3.03it/s]"
     ]
    },
    {
     "name": "stdout",
     "output_type": "stream",
     "text": [
      "Uploaded tensorflow_datasets/tensorflow_datasets/downloads/manual_cambrian_dataset/cambrian_dataset_10M_part_00589.parquet\n"
     ]
    },
    {
     "name": "stderr",
     "output_type": "stream",
     "text": [
      "Converting to Parquet: 591it [03:42,  3.06it/s]"
     ]
    },
    {
     "name": "stdout",
     "output_type": "stream",
     "text": [
      "Uploaded tensorflow_datasets/tensorflow_datasets/downloads/manual_cambrian_dataset/cambrian_dataset_10M_part_00590.parquet\n"
     ]
    },
    {
     "name": "stderr",
     "output_type": "stream",
     "text": [
      "Converting to Parquet: 592it [03:42,  3.10it/s]"
     ]
    },
    {
     "name": "stdout",
     "output_type": "stream",
     "text": [
      "Uploaded tensorflow_datasets/tensorflow_datasets/downloads/manual_cambrian_dataset/cambrian_dataset_10M_part_00591.parquet\n"
     ]
    },
    {
     "name": "stderr",
     "output_type": "stream",
     "text": [
      "Converting to Parquet: 593it [03:42,  3.15it/s]"
     ]
    },
    {
     "name": "stdout",
     "output_type": "stream",
     "text": [
      "Uploaded tensorflow_datasets/tensorflow_datasets/downloads/manual_cambrian_dataset/cambrian_dataset_10M_part_00592.parquet\n"
     ]
    },
    {
     "name": "stderr",
     "output_type": "stream",
     "text": [
      "Converting to Parquet: 594it [03:43,  3.13it/s]"
     ]
    },
    {
     "name": "stdout",
     "output_type": "stream",
     "text": [
      "Uploaded tensorflow_datasets/tensorflow_datasets/downloads/manual_cambrian_dataset/cambrian_dataset_10M_part_00593.parquet\n"
     ]
    },
    {
     "name": "stderr",
     "output_type": "stream",
     "text": [
      "Converting to Parquet: 595it [03:43,  3.23it/s]"
     ]
    },
    {
     "name": "stdout",
     "output_type": "stream",
     "text": [
      "Uploaded tensorflow_datasets/tensorflow_datasets/downloads/manual_cambrian_dataset/cambrian_dataset_10M_part_00594.parquet\n"
     ]
    },
    {
     "name": "stderr",
     "output_type": "stream",
     "text": [
      "Converting to Parquet: 596it [03:43,  3.21it/s]"
     ]
    },
    {
     "name": "stdout",
     "output_type": "stream",
     "text": [
      "Uploaded tensorflow_datasets/tensorflow_datasets/downloads/manual_cambrian_dataset/cambrian_dataset_10M_part_00595.parquet\n"
     ]
    },
    {
     "name": "stderr",
     "output_type": "stream",
     "text": [
      "Converting to Parquet: 597it [03:44,  3.18it/s]"
     ]
    },
    {
     "name": "stdout",
     "output_type": "stream",
     "text": [
      "Uploaded tensorflow_datasets/tensorflow_datasets/downloads/manual_cambrian_dataset/cambrian_dataset_10M_part_00596.parquet\n"
     ]
    },
    {
     "name": "stderr",
     "output_type": "stream",
     "text": [
      "Converting to Parquet: 598it [03:44,  3.17it/s]"
     ]
    },
    {
     "name": "stdout",
     "output_type": "stream",
     "text": [
      "Uploaded tensorflow_datasets/tensorflow_datasets/downloads/manual_cambrian_dataset/cambrian_dataset_10M_part_00597.parquet\n"
     ]
    },
    {
     "name": "stderr",
     "output_type": "stream",
     "text": [
      "Converting to Parquet: 599it [03:44,  3.15it/s]"
     ]
    },
    {
     "name": "stdout",
     "output_type": "stream",
     "text": [
      "Uploaded tensorflow_datasets/tensorflow_datasets/downloads/manual_cambrian_dataset/cambrian_dataset_10M_part_00598.parquet\n"
     ]
    },
    {
     "name": "stderr",
     "output_type": "stream",
     "text": [
      "Converting to Parquet: 601it [03:45,  3.47it/s]"
     ]
    },
    {
     "name": "stdout",
     "output_type": "stream",
     "text": [
      "Uploaded tensorflow_datasets/tensorflow_datasets/downloads/manual_cambrian_dataset/cambrian_dataset_10M_part_00599.parquet\n",
      "Uploaded tensorflow_datasets/tensorflow_datasets/downloads/manual_cambrian_dataset/cambrian_dataset_10M_part_00600.parquet\n"
     ]
    },
    {
     "name": "stderr",
     "output_type": "stream",
     "text": [
      "Converting to Parquet: 602it [03:45,  3.94it/s]"
     ]
    },
    {
     "name": "stdout",
     "output_type": "stream",
     "text": [
      "Uploaded tensorflow_datasets/tensorflow_datasets/downloads/manual_cambrian_dataset/cambrian_dataset_10M_part_00601.parquet\n"
     ]
    },
    {
     "name": "stderr",
     "output_type": "stream",
     "text": [
      "Converting to Parquet: 604it [03:45,  4.40it/s]"
     ]
    },
    {
     "name": "stdout",
     "output_type": "stream",
     "text": [
      "Uploaded tensorflow_datasets/tensorflow_datasets/downloads/manual_cambrian_dataset/cambrian_dataset_10M_part_00602.parquet\n",
      "Uploaded tensorflow_datasets/tensorflow_datasets/downloads/manual_cambrian_dataset/cambrian_dataset_10M_part_00603.parquet\n"
     ]
    },
    {
     "name": "stderr",
     "output_type": "stream",
     "text": [
      "Converting to Parquet: 606it [03:46,  5.30it/s]"
     ]
    },
    {
     "name": "stdout",
     "output_type": "stream",
     "text": [
      "Uploaded tensorflow_datasets/tensorflow_datasets/downloads/manual_cambrian_dataset/cambrian_dataset_10M_part_00604.parquet\n",
      "Uploaded tensorflow_datasets/tensorflow_datasets/downloads/manual_cambrian_dataset/cambrian_dataset_10M_part_00605.parquet\n"
     ]
    },
    {
     "name": "stderr",
     "output_type": "stream",
     "text": [
      "Converting to Parquet: 607it [03:46,  5.40it/s]"
     ]
    },
    {
     "name": "stdout",
     "output_type": "stream",
     "text": [
      "Uploaded tensorflow_datasets/tensorflow_datasets/downloads/manual_cambrian_dataset/cambrian_dataset_10M_part_00606.parquet\n"
     ]
    },
    {
     "name": "stderr",
     "output_type": "stream",
     "text": [
      "Converting to Parquet: 609it [03:46,  5.24it/s]"
     ]
    },
    {
     "name": "stdout",
     "output_type": "stream",
     "text": [
      "Uploaded tensorflow_datasets/tensorflow_datasets/downloads/manual_cambrian_dataset/cambrian_dataset_10M_part_00607.parquet\n",
      "Uploaded tensorflow_datasets/tensorflow_datasets/downloads/manual_cambrian_dataset/cambrian_dataset_10M_part_00608.parquet\n"
     ]
    },
    {
     "name": "stderr",
     "output_type": "stream",
     "text": [
      "Converting to Parquet: 610it [03:47,  5.58it/s]"
     ]
    },
    {
     "name": "stdout",
     "output_type": "stream",
     "text": [
      "Uploaded tensorflow_datasets/tensorflow_datasets/downloads/manual_cambrian_dataset/cambrian_dataset_10M_part_00609.parquet\n"
     ]
    },
    {
     "name": "stderr",
     "output_type": "stream",
     "text": [
      "Converting to Parquet: 612it [03:47,  5.52it/s]"
     ]
    },
    {
     "name": "stdout",
     "output_type": "stream",
     "text": [
      "Uploaded tensorflow_datasets/tensorflow_datasets/downloads/manual_cambrian_dataset/cambrian_dataset_10M_part_00610.parquet\n",
      "Uploaded tensorflow_datasets/tensorflow_datasets/downloads/manual_cambrian_dataset/cambrian_dataset_10M_part_00611.parquet\n"
     ]
    },
    {
     "name": "stderr",
     "output_type": "stream",
     "text": [
      "Converting to Parquet: 614it [03:47,  6.12it/s]"
     ]
    },
    {
     "name": "stdout",
     "output_type": "stream",
     "text": [
      "Uploaded tensorflow_datasets/tensorflow_datasets/downloads/manual_cambrian_dataset/cambrian_dataset_10M_part_00612.parquet\n",
      "Uploaded tensorflow_datasets/tensorflow_datasets/downloads/manual_cambrian_dataset/cambrian_dataset_10M_part_00613.parquet\n"
     ]
    },
    {
     "name": "stderr",
     "output_type": "stream",
     "text": [
      "Converting to Parquet: 616it [03:47,  6.48it/s]"
     ]
    },
    {
     "name": "stdout",
     "output_type": "stream",
     "text": [
      "Uploaded tensorflow_datasets/tensorflow_datasets/downloads/manual_cambrian_dataset/cambrian_dataset_10M_part_00614.parquet\n",
      "Uploaded tensorflow_datasets/tensorflow_datasets/downloads/manual_cambrian_dataset/cambrian_dataset_10M_part_00615.parquet\n"
     ]
    },
    {
     "name": "stderr",
     "output_type": "stream",
     "text": [
      "Converting to Parquet: 618it [03:48,  6.31it/s]"
     ]
    },
    {
     "name": "stdout",
     "output_type": "stream",
     "text": [
      "Uploaded tensorflow_datasets/tensorflow_datasets/downloads/manual_cambrian_dataset/cambrian_dataset_10M_part_00616.parquet\n",
      "Uploaded tensorflow_datasets/tensorflow_datasets/downloads/manual_cambrian_dataset/cambrian_dataset_10M_part_00617.parquet\n"
     ]
    },
    {
     "name": "stderr",
     "output_type": "stream",
     "text": [
      "Converting to Parquet: 620it [03:48,  6.29it/s]"
     ]
    },
    {
     "name": "stdout",
     "output_type": "stream",
     "text": [
      "Uploaded tensorflow_datasets/tensorflow_datasets/downloads/manual_cambrian_dataset/cambrian_dataset_10M_part_00618.parquet\n",
      "Uploaded tensorflow_datasets/tensorflow_datasets/downloads/manual_cambrian_dataset/cambrian_dataset_10M_part_00619.parquet\n"
     ]
    },
    {
     "name": "stderr",
     "output_type": "stream",
     "text": [
      "Converting to Parquet: 622it [03:48,  6.39it/s]"
     ]
    },
    {
     "name": "stdout",
     "output_type": "stream",
     "text": [
      "Uploaded tensorflow_datasets/tensorflow_datasets/downloads/manual_cambrian_dataset/cambrian_dataset_10M_part_00620.parquet\n",
      "Uploaded tensorflow_datasets/tensorflow_datasets/downloads/manual_cambrian_dataset/cambrian_dataset_10M_part_00621.parquet\n"
     ]
    },
    {
     "name": "stderr",
     "output_type": "stream",
     "text": [
      "Converting to Parquet: 624it [03:49,  6.28it/s]"
     ]
    },
    {
     "name": "stdout",
     "output_type": "stream",
     "text": [
      "Uploaded tensorflow_datasets/tensorflow_datasets/downloads/manual_cambrian_dataset/cambrian_dataset_10M_part_00622.parquet\n",
      "Uploaded tensorflow_datasets/tensorflow_datasets/downloads/manual_cambrian_dataset/cambrian_dataset_10M_part_00623.parquet\n"
     ]
    },
    {
     "name": "stderr",
     "output_type": "stream",
     "text": [
      "Converting to Parquet: 625it [03:49,  6.51it/s]"
     ]
    },
    {
     "name": "stdout",
     "output_type": "stream",
     "text": [
      "Uploaded tensorflow_datasets/tensorflow_datasets/downloads/manual_cambrian_dataset/cambrian_dataset_10M_part_00624.parquet\n"
     ]
    },
    {
     "name": "stderr",
     "output_type": "stream",
     "text": [
      "Converting to Parquet: 627it [03:49,  5.38it/s]"
     ]
    },
    {
     "name": "stdout",
     "output_type": "stream",
     "text": [
      "Uploaded tensorflow_datasets/tensorflow_datasets/downloads/manual_cambrian_dataset/cambrian_dataset_10M_part_00625.parquet\n",
      "Uploaded tensorflow_datasets/tensorflow_datasets/downloads/manual_cambrian_dataset/cambrian_dataset_10M_part_00626.parquet\n"
     ]
    },
    {
     "name": "stderr",
     "output_type": "stream",
     "text": [
      "Converting to Parquet: 629it [03:50,  5.64it/s]"
     ]
    },
    {
     "name": "stdout",
     "output_type": "stream",
     "text": [
      "Uploaded tensorflow_datasets/tensorflow_datasets/downloads/manual_cambrian_dataset/cambrian_dataset_10M_part_00627.parquet\n",
      "Uploaded tensorflow_datasets/tensorflow_datasets/downloads/manual_cambrian_dataset/cambrian_dataset_10M_part_00628.parquet\n"
     ]
    },
    {
     "name": "stderr",
     "output_type": "stream",
     "text": [
      "Converting to Parquet: 631it [03:50,  5.88it/s]"
     ]
    },
    {
     "name": "stdout",
     "output_type": "stream",
     "text": [
      "Uploaded tensorflow_datasets/tensorflow_datasets/downloads/manual_cambrian_dataset/cambrian_dataset_10M_part_00629.parquet\n",
      "Uploaded tensorflow_datasets/tensorflow_datasets/downloads/manual_cambrian_dataset/cambrian_dataset_10M_part_00630.parquet\n"
     ]
    },
    {
     "name": "stderr",
     "output_type": "stream",
     "text": [
      "Converting to Parquet: 633it [03:50,  6.24it/s]"
     ]
    },
    {
     "name": "stdout",
     "output_type": "stream",
     "text": [
      "Uploaded tensorflow_datasets/tensorflow_datasets/downloads/manual_cambrian_dataset/cambrian_dataset_10M_part_00631.parquet\n",
      "Uploaded tensorflow_datasets/tensorflow_datasets/downloads/manual_cambrian_dataset/cambrian_dataset_10M_part_00632.parquet\n"
     ]
    },
    {
     "name": "stderr",
     "output_type": "stream",
     "text": [
      "Converting to Parquet: 635it [03:51,  6.47it/s]"
     ]
    },
    {
     "name": "stdout",
     "output_type": "stream",
     "text": [
      "Uploaded tensorflow_datasets/tensorflow_datasets/downloads/manual_cambrian_dataset/cambrian_dataset_10M_part_00633.parquet\n",
      "Uploaded tensorflow_datasets/tensorflow_datasets/downloads/manual_cambrian_dataset/cambrian_dataset_10M_part_00634.parquet\n"
     ]
    },
    {
     "name": "stderr",
     "output_type": "stream",
     "text": [
      "Converting to Parquet: 637it [03:51,  6.65it/s]"
     ]
    },
    {
     "name": "stdout",
     "output_type": "stream",
     "text": [
      "Uploaded tensorflow_datasets/tensorflow_datasets/downloads/manual_cambrian_dataset/cambrian_dataset_10M_part_00635.parquet\n",
      "Uploaded tensorflow_datasets/tensorflow_datasets/downloads/manual_cambrian_dataset/cambrian_dataset_10M_part_00636.parquet\n"
     ]
    },
    {
     "name": "stderr",
     "output_type": "stream",
     "text": [
      "Converting to Parquet: 639it [03:51,  6.31it/s]"
     ]
    },
    {
     "name": "stdout",
     "output_type": "stream",
     "text": [
      "Uploaded tensorflow_datasets/tensorflow_datasets/downloads/manual_cambrian_dataset/cambrian_dataset_10M_part_00637.parquet\n",
      "Uploaded tensorflow_datasets/tensorflow_datasets/downloads/manual_cambrian_dataset/cambrian_dataset_10M_part_00638.parquet\n"
     ]
    },
    {
     "name": "stderr",
     "output_type": "stream",
     "text": [
      "Converting to Parquet: 641it [03:52,  5.60it/s]"
     ]
    },
    {
     "name": "stdout",
     "output_type": "stream",
     "text": [
      "Uploaded tensorflow_datasets/tensorflow_datasets/downloads/manual_cambrian_dataset/cambrian_dataset_10M_part_00639.parquet\n",
      "Uploaded tensorflow_datasets/tensorflow_datasets/downloads/manual_cambrian_dataset/cambrian_dataset_10M_part_00640.parquet\n"
     ]
    },
    {
     "name": "stderr",
     "output_type": "stream",
     "text": [
      "Converting to Parquet: 643it [03:52,  6.31it/s]"
     ]
    },
    {
     "name": "stdout",
     "output_type": "stream",
     "text": [
      "Uploaded tensorflow_datasets/tensorflow_datasets/downloads/manual_cambrian_dataset/cambrian_dataset_10M_part_00641.parquet\n",
      "Uploaded tensorflow_datasets/tensorflow_datasets/downloads/manual_cambrian_dataset/cambrian_dataset_10M_part_00642.parquet\n"
     ]
    },
    {
     "name": "stderr",
     "output_type": "stream",
     "text": [
      "Converting to Parquet: 644it [03:52,  5.62it/s]"
     ]
    },
    {
     "name": "stdout",
     "output_type": "stream",
     "text": [
      "Uploaded tensorflow_datasets/tensorflow_datasets/downloads/manual_cambrian_dataset/cambrian_dataset_10M_part_00643.parquet\n"
     ]
    },
    {
     "name": "stderr",
     "output_type": "stream",
     "text": [
      "Converting to Parquet: 646it [03:53,  5.15it/s]"
     ]
    },
    {
     "name": "stdout",
     "output_type": "stream",
     "text": [
      "Uploaded tensorflow_datasets/tensorflow_datasets/downloads/manual_cambrian_dataset/cambrian_dataset_10M_part_00644.parquet\n",
      "Uploaded tensorflow_datasets/tensorflow_datasets/downloads/manual_cambrian_dataset/cambrian_dataset_10M_part_00645.parquet\n"
     ]
    },
    {
     "name": "stderr",
     "output_type": "stream",
     "text": [
      "Converting to Parquet: 648it [03:53,  5.01it/s]"
     ]
    },
    {
     "name": "stdout",
     "output_type": "stream",
     "text": [
      "Uploaded tensorflow_datasets/tensorflow_datasets/downloads/manual_cambrian_dataset/cambrian_dataset_10M_part_00646.parquet\n",
      "Uploaded tensorflow_datasets/tensorflow_datasets/downloads/manual_cambrian_dataset/cambrian_dataset_10M_part_00647.parquet\n"
     ]
    },
    {
     "name": "stderr",
     "output_type": "stream",
     "text": [
      "Converting to Parquet: 650it [03:53,  5.12it/s]"
     ]
    },
    {
     "name": "stdout",
     "output_type": "stream",
     "text": [
      "Uploaded tensorflow_datasets/tensorflow_datasets/downloads/manual_cambrian_dataset/cambrian_dataset_10M_part_00648.parquet\n",
      "Uploaded tensorflow_datasets/tensorflow_datasets/downloads/manual_cambrian_dataset/cambrian_dataset_10M_part_00649.parquet\n"
     ]
    },
    {
     "name": "stderr",
     "output_type": "stream",
     "text": [
      "Converting to Parquet: 652it [03:54,  4.89it/s]"
     ]
    },
    {
     "name": "stdout",
     "output_type": "stream",
     "text": [
      "Uploaded tensorflow_datasets/tensorflow_datasets/downloads/manual_cambrian_dataset/cambrian_dataset_10M_part_00650.parquet\n",
      "Uploaded tensorflow_datasets/tensorflow_datasets/downloads/manual_cambrian_dataset/cambrian_dataset_10M_part_00651.parquet\n"
     ]
    },
    {
     "name": "stderr",
     "output_type": "stream",
     "text": [
      "Converting to Parquet: 653it [03:54,  4.93it/s]"
     ]
    },
    {
     "name": "stdout",
     "output_type": "stream",
     "text": [
      "Uploaded tensorflow_datasets/tensorflow_datasets/downloads/manual_cambrian_dataset/cambrian_dataset_10M_part_00652.parquet\n"
     ]
    },
    {
     "name": "stderr",
     "output_type": "stream",
     "text": [
      "Converting to Parquet: 654it [03:54,  4.81it/s]"
     ]
    },
    {
     "name": "stdout",
     "output_type": "stream",
     "text": [
      "Uploaded tensorflow_datasets/tensorflow_datasets/downloads/manual_cambrian_dataset/cambrian_dataset_10M_part_00653.parquet\n"
     ]
    },
    {
     "name": "stderr",
     "output_type": "stream",
     "text": [
      "Converting to Parquet: 655it [03:54,  4.43it/s]"
     ]
    },
    {
     "name": "stdout",
     "output_type": "stream",
     "text": [
      "Uploaded tensorflow_datasets/tensorflow_datasets/downloads/manual_cambrian_dataset/cambrian_dataset_10M_part_00654.parquet\n"
     ]
    },
    {
     "name": "stderr",
     "output_type": "stream",
     "text": [
      "Converting to Parquet: 656it [03:55,  4.37it/s]"
     ]
    },
    {
     "name": "stdout",
     "output_type": "stream",
     "text": [
      "Uploaded tensorflow_datasets/tensorflow_datasets/downloads/manual_cambrian_dataset/cambrian_dataset_10M_part_00655.parquet\n"
     ]
    },
    {
     "name": "stderr",
     "output_type": "stream",
     "text": [
      "Converting to Parquet: 657it [03:55,  3.77it/s]"
     ]
    },
    {
     "name": "stdout",
     "output_type": "stream",
     "text": [
      "Uploaded tensorflow_datasets/tensorflow_datasets/downloads/manual_cambrian_dataset/cambrian_dataset_10M_part_00656.parquet\n"
     ]
    },
    {
     "name": "stderr",
     "output_type": "stream",
     "text": [
      "Converting to Parquet: 659it [03:55,  4.42it/s]"
     ]
    },
    {
     "name": "stdout",
     "output_type": "stream",
     "text": [
      "Uploaded tensorflow_datasets/tensorflow_datasets/downloads/manual_cambrian_dataset/cambrian_dataset_10M_part_00657.parquet\n",
      "Uploaded tensorflow_datasets/tensorflow_datasets/downloads/manual_cambrian_dataset/cambrian_dataset_10M_part_00658.parquet\n"
     ]
    },
    {
     "name": "stderr",
     "output_type": "stream",
     "text": [
      "Converting to Parquet: 660it [03:56,  4.26it/s]"
     ]
    },
    {
     "name": "stdout",
     "output_type": "stream",
     "text": [
      "Uploaded tensorflow_datasets/tensorflow_datasets/downloads/manual_cambrian_dataset/cambrian_dataset_10M_part_00659.parquet\n"
     ]
    },
    {
     "name": "stderr",
     "output_type": "stream",
     "text": [
      "Converting to Parquet: 661it [03:56,  4.01it/s]"
     ]
    },
    {
     "name": "stdout",
     "output_type": "stream",
     "text": [
      "Uploaded tensorflow_datasets/tensorflow_datasets/downloads/manual_cambrian_dataset/cambrian_dataset_10M_part_00660.parquet\n"
     ]
    },
    {
     "name": "stderr",
     "output_type": "stream",
     "text": [
      "Converting to Parquet: 662it [03:56,  3.87it/s]"
     ]
    },
    {
     "name": "stdout",
     "output_type": "stream",
     "text": [
      "Uploaded tensorflow_datasets/tensorflow_datasets/downloads/manual_cambrian_dataset/cambrian_dataset_10M_part_00661.parquet\n"
     ]
    },
    {
     "name": "stderr",
     "output_type": "stream",
     "text": [
      "Converting to Parquet: 663it [03:57,  3.65it/s]"
     ]
    },
    {
     "name": "stdout",
     "output_type": "stream",
     "text": [
      "Uploaded tensorflow_datasets/tensorflow_datasets/downloads/manual_cambrian_dataset/cambrian_dataset_10M_part_00662.parquet\n"
     ]
    },
    {
     "name": "stderr",
     "output_type": "stream",
     "text": [
      "Converting to Parquet: 664it [03:57,  2.59it/s]"
     ]
    },
    {
     "name": "stdout",
     "output_type": "stream",
     "text": [
      "Uploaded tensorflow_datasets/tensorflow_datasets/downloads/manual_cambrian_dataset/cambrian_dataset_10M_part_00663.parquet\n"
     ]
    },
    {
     "name": "stderr",
     "output_type": "stream",
     "text": [
      "Converting to Parquet: 665it [03:58,  2.19it/s]"
     ]
    },
    {
     "name": "stdout",
     "output_type": "stream",
     "text": [
      "Uploaded tensorflow_datasets/tensorflow_datasets/downloads/manual_cambrian_dataset/cambrian_dataset_10M_part_00664.parquet\n"
     ]
    },
    {
     "name": "stderr",
     "output_type": "stream",
     "text": [
      "Converting to Parquet: 666it [03:58,  1.98it/s]"
     ]
    },
    {
     "name": "stdout",
     "output_type": "stream",
     "text": [
      "Uploaded tensorflow_datasets/tensorflow_datasets/downloads/manual_cambrian_dataset/cambrian_dataset_10M_part_00665.parquet\n"
     ]
    },
    {
     "name": "stderr",
     "output_type": "stream",
     "text": [
      "Converting to Parquet: 667it [03:59,  1.80it/s]"
     ]
    },
    {
     "name": "stdout",
     "output_type": "stream",
     "text": [
      "Uploaded tensorflow_datasets/tensorflow_datasets/downloads/manual_cambrian_dataset/cambrian_dataset_10M_part_00666.parquet\n"
     ]
    },
    {
     "name": "stderr",
     "output_type": "stream",
     "text": [
      "Converting to Parquet: 668it [04:00,  1.66it/s]"
     ]
    },
    {
     "name": "stdout",
     "output_type": "stream",
     "text": [
      "Uploaded tensorflow_datasets/tensorflow_datasets/downloads/manual_cambrian_dataset/cambrian_dataset_10M_part_00667.parquet\n"
     ]
    },
    {
     "name": "stderr",
     "output_type": "stream",
     "text": [
      "Converting to Parquet: 669it [04:01,  1.49it/s]"
     ]
    },
    {
     "name": "stdout",
     "output_type": "stream",
     "text": [
      "Uploaded tensorflow_datasets/tensorflow_datasets/downloads/manual_cambrian_dataset/cambrian_dataset_10M_part_00668.parquet\n"
     ]
    },
    {
     "name": "stderr",
     "output_type": "stream",
     "text": [
      "Converting to Parquet: 670it [04:01,  1.44it/s]"
     ]
    },
    {
     "name": "stdout",
     "output_type": "stream",
     "text": [
      "Uploaded tensorflow_datasets/tensorflow_datasets/downloads/manual_cambrian_dataset/cambrian_dataset_10M_part_00669.parquet\n"
     ]
    },
    {
     "name": "stderr",
     "output_type": "stream",
     "text": [
      "Converting to Parquet: 672it [04:02,  2.27it/s]"
     ]
    },
    {
     "name": "stdout",
     "output_type": "stream",
     "text": [
      "Uploaded tensorflow_datasets/tensorflow_datasets/downloads/manual_cambrian_dataset/cambrian_dataset_10M_part_00670.parquet\n",
      "Uploaded tensorflow_datasets/tensorflow_datasets/downloads/manual_cambrian_dataset/cambrian_dataset_10M_part_00671.parquet\n"
     ]
    },
    {
     "name": "stderr",
     "output_type": "stream",
     "text": [
      "Converting to Parquet: 673it [04:02,  2.70it/s]"
     ]
    },
    {
     "name": "stdout",
     "output_type": "stream",
     "text": [
      "Uploaded tensorflow_datasets/tensorflow_datasets/downloads/manual_cambrian_dataset/cambrian_dataset_10M_part_00672.parquet\n"
     ]
    },
    {
     "name": "stderr",
     "output_type": "stream",
     "text": [
      "Converting to Parquet: 674it [04:02,  3.12it/s]"
     ]
    },
    {
     "name": "stdout",
     "output_type": "stream",
     "text": [
      "Uploaded tensorflow_datasets/tensorflow_datasets/downloads/manual_cambrian_dataset/cambrian_dataset_10M_part_00673.parquet\n"
     ]
    },
    {
     "name": "stderr",
     "output_type": "stream",
     "text": [
      "Converting to Parquet: 675it [04:02,  3.41it/s]"
     ]
    },
    {
     "name": "stdout",
     "output_type": "stream",
     "text": [
      "Uploaded tensorflow_datasets/tensorflow_datasets/downloads/manual_cambrian_dataset/cambrian_dataset_10M_part_00674.parquet\n"
     ]
    },
    {
     "name": "stderr",
     "output_type": "stream",
     "text": [
      "Converting to Parquet: 677it [04:03,  4.14it/s]"
     ]
    },
    {
     "name": "stdout",
     "output_type": "stream",
     "text": [
      "Uploaded tensorflow_datasets/tensorflow_datasets/downloads/manual_cambrian_dataset/cambrian_dataset_10M_part_00675.parquet\n",
      "Uploaded tensorflow_datasets/tensorflow_datasets/downloads/manual_cambrian_dataset/cambrian_dataset_10M_part_00676.parquet\n"
     ]
    },
    {
     "name": "stderr",
     "output_type": "stream",
     "text": [
      "Converting to Parquet: 678it [04:03,  4.24it/s]"
     ]
    },
    {
     "name": "stdout",
     "output_type": "stream",
     "text": [
      "Uploaded tensorflow_datasets/tensorflow_datasets/downloads/manual_cambrian_dataset/cambrian_dataset_10M_part_00677.parquet\n"
     ]
    },
    {
     "name": "stderr",
     "output_type": "stream",
     "text": [
      "Converting to Parquet: 679it [04:03,  4.16it/s]"
     ]
    },
    {
     "name": "stdout",
     "output_type": "stream",
     "text": [
      "Uploaded tensorflow_datasets/tensorflow_datasets/downloads/manual_cambrian_dataset/cambrian_dataset_10M_part_00678.parquet\n"
     ]
    },
    {
     "name": "stderr",
     "output_type": "stream",
     "text": [
      "Converting to Parquet: 680it [04:04,  4.37it/s]"
     ]
    },
    {
     "name": "stdout",
     "output_type": "stream",
     "text": [
      "Uploaded tensorflow_datasets/tensorflow_datasets/downloads/manual_cambrian_dataset/cambrian_dataset_10M_part_00679.parquet\n"
     ]
    },
    {
     "name": "stderr",
     "output_type": "stream",
     "text": [
      "Converting to Parquet: 682it [04:04,  4.73it/s]"
     ]
    },
    {
     "name": "stdout",
     "output_type": "stream",
     "text": [
      "Uploaded tensorflow_datasets/tensorflow_datasets/downloads/manual_cambrian_dataset/cambrian_dataset_10M_part_00680.parquet\n",
      "Uploaded tensorflow_datasets/tensorflow_datasets/downloads/manual_cambrian_dataset/cambrian_dataset_10M_part_00681.parquet\n"
     ]
    },
    {
     "name": "stderr",
     "output_type": "stream",
     "text": [
      "Converting to Parquet: 683it [04:04,  4.77it/s]"
     ]
    },
    {
     "name": "stdout",
     "output_type": "stream",
     "text": [
      "Uploaded tensorflow_datasets/tensorflow_datasets/downloads/manual_cambrian_dataset/cambrian_dataset_10M_part_00682.parquet\n"
     ]
    },
    {
     "name": "stderr",
     "output_type": "stream",
     "text": [
      "Converting to Parquet: 685it [04:05,  4.83it/s]"
     ]
    },
    {
     "name": "stdout",
     "output_type": "stream",
     "text": [
      "Uploaded tensorflow_datasets/tensorflow_datasets/downloads/manual_cambrian_dataset/cambrian_dataset_10M_part_00683.parquet\n",
      "Uploaded tensorflow_datasets/tensorflow_datasets/downloads/manual_cambrian_dataset/cambrian_dataset_10M_part_00684.parquet\n"
     ]
    },
    {
     "name": "stderr",
     "output_type": "stream",
     "text": [
      "Converting to Parquet: 687it [04:05,  4.94it/s]"
     ]
    },
    {
     "name": "stdout",
     "output_type": "stream",
     "text": [
      "Uploaded tensorflow_datasets/tensorflow_datasets/downloads/manual_cambrian_dataset/cambrian_dataset_10M_part_00685.parquet\n",
      "Uploaded tensorflow_datasets/tensorflow_datasets/downloads/manual_cambrian_dataset/cambrian_dataset_10M_part_00686.parquet\n"
     ]
    },
    {
     "name": "stderr",
     "output_type": "stream",
     "text": [
      "Converting to Parquet: 688it [04:05,  4.92it/s]"
     ]
    },
    {
     "name": "stdout",
     "output_type": "stream",
     "text": [
      "Uploaded tensorflow_datasets/tensorflow_datasets/downloads/manual_cambrian_dataset/cambrian_dataset_10M_part_00687.parquet\n"
     ]
    },
    {
     "name": "stderr",
     "output_type": "stream",
     "text": [
      "Converting to Parquet: 690it [04:06,  4.91it/s]"
     ]
    },
    {
     "name": "stdout",
     "output_type": "stream",
     "text": [
      "Uploaded tensorflow_datasets/tensorflow_datasets/downloads/manual_cambrian_dataset/cambrian_dataset_10M_part_00688.parquet\n",
      "Uploaded tensorflow_datasets/tensorflow_datasets/downloads/manual_cambrian_dataset/cambrian_dataset_10M_part_00689.parquet\n"
     ]
    },
    {
     "name": "stderr",
     "output_type": "stream",
     "text": [
      "Converting to Parquet: 692it [04:06,  4.84it/s]"
     ]
    },
    {
     "name": "stdout",
     "output_type": "stream",
     "text": [
      "Uploaded tensorflow_datasets/tensorflow_datasets/downloads/manual_cambrian_dataset/cambrian_dataset_10M_part_00690.parquet\n",
      "Uploaded tensorflow_datasets/tensorflow_datasets/downloads/manual_cambrian_dataset/cambrian_dataset_10M_part_00691.parquet\n"
     ]
    },
    {
     "name": "stderr",
     "output_type": "stream",
     "text": [
      "Converting to Parquet: 693it [04:06,  4.77it/s]"
     ]
    },
    {
     "name": "stdout",
     "output_type": "stream",
     "text": [
      "Uploaded tensorflow_datasets/tensorflow_datasets/downloads/manual_cambrian_dataset/cambrian_dataset_10M_part_00692.parquet\n"
     ]
    },
    {
     "name": "stderr",
     "output_type": "stream",
     "text": [
      "Converting to Parquet: 694it [04:06,  4.79it/s]"
     ]
    },
    {
     "name": "stdout",
     "output_type": "stream",
     "text": [
      "Uploaded tensorflow_datasets/tensorflow_datasets/downloads/manual_cambrian_dataset/cambrian_dataset_10M_part_00693.parquet\n"
     ]
    },
    {
     "name": "stderr",
     "output_type": "stream",
     "text": [
      "Converting to Parquet: 696it [04:07,  4.77it/s]"
     ]
    },
    {
     "name": "stdout",
     "output_type": "stream",
     "text": [
      "Uploaded tensorflow_datasets/tensorflow_datasets/downloads/manual_cambrian_dataset/cambrian_dataset_10M_part_00694.parquet\n",
      "Uploaded tensorflow_datasets/tensorflow_datasets/downloads/manual_cambrian_dataset/cambrian_dataset_10M_part_00695.parquet\n"
     ]
    },
    {
     "name": "stderr",
     "output_type": "stream",
     "text": [
      "Converting to Parquet: 697it [04:07,  4.89it/s]"
     ]
    },
    {
     "name": "stdout",
     "output_type": "stream",
     "text": [
      "Uploaded tensorflow_datasets/tensorflow_datasets/downloads/manual_cambrian_dataset/cambrian_dataset_10M_part_00696.parquet\n"
     ]
    },
    {
     "name": "stderr",
     "output_type": "stream",
     "text": [
      "Converting to Parquet: 698it [04:07,  4.27it/s]"
     ]
    },
    {
     "name": "stdout",
     "output_type": "stream",
     "text": [
      "Uploaded tensorflow_datasets/tensorflow_datasets/downloads/manual_cambrian_dataset/cambrian_dataset_10M_part_00697.parquet\n"
     ]
    },
    {
     "name": "stderr",
     "output_type": "stream",
     "text": [
      "Converting to Parquet: 699it [04:08,  3.69it/s]"
     ]
    },
    {
     "name": "stdout",
     "output_type": "stream",
     "text": [
      "Uploaded tensorflow_datasets/tensorflow_datasets/downloads/manual_cambrian_dataset/cambrian_dataset_10M_part_00698.parquet\n"
     ]
    },
    {
     "name": "stderr",
     "output_type": "stream",
     "text": [
      "Converting to Parquet: 700it [04:08,  3.48it/s]"
     ]
    },
    {
     "name": "stdout",
     "output_type": "stream",
     "text": [
      "Uploaded tensorflow_datasets/tensorflow_datasets/downloads/manual_cambrian_dataset/cambrian_dataset_10M_part_00699.parquet\n"
     ]
    },
    {
     "name": "stderr",
     "output_type": "stream",
     "text": [
      "Converting to Parquet: 701it [04:08,  3.39it/s]"
     ]
    },
    {
     "name": "stdout",
     "output_type": "stream",
     "text": [
      "Uploaded tensorflow_datasets/tensorflow_datasets/downloads/manual_cambrian_dataset/cambrian_dataset_10M_part_00700.parquet\n"
     ]
    },
    {
     "name": "stderr",
     "output_type": "stream",
     "text": [
      "Converting to Parquet: 702it [04:09,  3.08it/s]"
     ]
    },
    {
     "name": "stdout",
     "output_type": "stream",
     "text": [
      "Uploaded tensorflow_datasets/tensorflow_datasets/downloads/manual_cambrian_dataset/cambrian_dataset_10M_part_00701.parquet\n"
     ]
    },
    {
     "name": "stderr",
     "output_type": "stream",
     "text": [
      "Converting to Parquet: 703it [04:09,  2.74it/s]"
     ]
    },
    {
     "name": "stdout",
     "output_type": "stream",
     "text": [
      "Uploaded tensorflow_datasets/tensorflow_datasets/downloads/manual_cambrian_dataset/cambrian_dataset_10M_part_00702.parquet\n"
     ]
    },
    {
     "name": "stderr",
     "output_type": "stream",
     "text": [
      "Converting to Parquet: 704it [04:10,  2.59it/s]"
     ]
    },
    {
     "name": "stdout",
     "output_type": "stream",
     "text": [
      "Uploaded tensorflow_datasets/tensorflow_datasets/downloads/manual_cambrian_dataset/cambrian_dataset_10M_part_00703.parquet\n"
     ]
    },
    {
     "name": "stderr",
     "output_type": "stream",
     "text": [
      "Converting to Parquet: 705it [04:10,  2.69it/s]"
     ]
    },
    {
     "name": "stdout",
     "output_type": "stream",
     "text": [
      "Uploaded tensorflow_datasets/tensorflow_datasets/downloads/manual_cambrian_dataset/cambrian_dataset_10M_part_00704.parquet\n"
     ]
    },
    {
     "name": "stderr",
     "output_type": "stream",
     "text": [
      "Converting to Parquet: 706it [04:10,  2.62it/s]"
     ]
    },
    {
     "name": "stdout",
     "output_type": "stream",
     "text": [
      "Uploaded tensorflow_datasets/tensorflow_datasets/downloads/manual_cambrian_dataset/cambrian_dataset_10M_part_00705.parquet\n"
     ]
    },
    {
     "name": "stderr",
     "output_type": "stream",
     "text": [
      "Converting to Parquet: 707it [04:11,  2.68it/s]"
     ]
    },
    {
     "name": "stdout",
     "output_type": "stream",
     "text": [
      "Uploaded tensorflow_datasets/tensorflow_datasets/downloads/manual_cambrian_dataset/cambrian_dataset_10M_part_00706.parquet\n"
     ]
    },
    {
     "name": "stderr",
     "output_type": "stream",
     "text": [
      "Converting to Parquet: 708it [04:11,  2.80it/s]"
     ]
    },
    {
     "name": "stdout",
     "output_type": "stream",
     "text": [
      "Uploaded tensorflow_datasets/tensorflow_datasets/downloads/manual_cambrian_dataset/cambrian_dataset_10M_part_00707.parquet\n"
     ]
    },
    {
     "name": "stderr",
     "output_type": "stream",
     "text": [
      "Converting to Parquet: 709it [04:11,  2.89it/s]"
     ]
    },
    {
     "name": "stdout",
     "output_type": "stream",
     "text": [
      "Uploaded tensorflow_datasets/tensorflow_datasets/downloads/manual_cambrian_dataset/cambrian_dataset_10M_part_00708.parquet\n"
     ]
    },
    {
     "name": "stderr",
     "output_type": "stream",
     "text": [
      "Converting to Parquet: 710it [04:12,  2.93it/s]"
     ]
    },
    {
     "name": "stdout",
     "output_type": "stream",
     "text": [
      "Uploaded tensorflow_datasets/tensorflow_datasets/downloads/manual_cambrian_dataset/cambrian_dataset_10M_part_00709.parquet\n"
     ]
    },
    {
     "name": "stderr",
     "output_type": "stream",
     "text": [
      "Converting to Parquet: 711it [04:12,  2.89it/s]"
     ]
    },
    {
     "name": "stdout",
     "output_type": "stream",
     "text": [
      "Uploaded tensorflow_datasets/tensorflow_datasets/downloads/manual_cambrian_dataset/cambrian_dataset_10M_part_00710.parquet\n"
     ]
    },
    {
     "name": "stderr",
     "output_type": "stream",
     "text": [
      "Converting to Parquet: 713it [04:13,  3.51it/s]"
     ]
    },
    {
     "name": "stdout",
     "output_type": "stream",
     "text": [
      "Uploaded tensorflow_datasets/tensorflow_datasets/downloads/manual_cambrian_dataset/cambrian_dataset_10M_part_00711.parquet\n",
      "Uploaded tensorflow_datasets/tensorflow_datasets/downloads/manual_cambrian_dataset/cambrian_dataset_10M_part_00712.parquet\n"
     ]
    },
    {
     "name": "stderr",
     "output_type": "stream",
     "text": [
      "Converting to Parquet: 715it [04:13,  4.41it/s]"
     ]
    },
    {
     "name": "stdout",
     "output_type": "stream",
     "text": [
      "Uploaded tensorflow_datasets/tensorflow_datasets/downloads/manual_cambrian_dataset/cambrian_dataset_10M_part_00713.parquet\n",
      "Uploaded tensorflow_datasets/tensorflow_datasets/downloads/manual_cambrian_dataset/cambrian_dataset_10M_part_00714.parquet\n"
     ]
    },
    {
     "name": "stderr",
     "output_type": "stream",
     "text": [
      "Converting to Parquet: 716it [04:13,  4.78it/s]"
     ]
    },
    {
     "name": "stdout",
     "output_type": "stream",
     "text": [
      "Uploaded tensorflow_datasets/tensorflow_datasets/downloads/manual_cambrian_dataset/cambrian_dataset_10M_part_00715.parquet\n"
     ]
    },
    {
     "name": "stderr",
     "output_type": "stream",
     "text": [
      "Converting to Parquet: 717it [04:13,  4.65it/s]"
     ]
    },
    {
     "name": "stdout",
     "output_type": "stream",
     "text": [
      "Uploaded tensorflow_datasets/tensorflow_datasets/downloads/manual_cambrian_dataset/cambrian_dataset_10M_part_00716.parquet\n"
     ]
    },
    {
     "name": "stderr",
     "output_type": "stream",
     "text": [
      "Converting to Parquet: 718it [04:13,  4.70it/s]"
     ]
    },
    {
     "name": "stdout",
     "output_type": "stream",
     "text": [
      "Uploaded tensorflow_datasets/tensorflow_datasets/downloads/manual_cambrian_dataset/cambrian_dataset_10M_part_00717.parquet\n"
     ]
    },
    {
     "name": "stderr",
     "output_type": "stream",
     "text": [
      "Converting to Parquet: 720it [04:14,  4.70it/s]"
     ]
    },
    {
     "name": "stdout",
     "output_type": "stream",
     "text": [
      "Uploaded tensorflow_datasets/tensorflow_datasets/downloads/manual_cambrian_dataset/cambrian_dataset_10M_part_00718.parquet\n",
      "Uploaded tensorflow_datasets/tensorflow_datasets/downloads/manual_cambrian_dataset/cambrian_dataset_10M_part_00719.parquet\n"
     ]
    },
    {
     "name": "stderr",
     "output_type": "stream",
     "text": [
      "Converting to Parquet: 721it [04:14,  4.73it/s]"
     ]
    },
    {
     "name": "stdout",
     "output_type": "stream",
     "text": [
      "Uploaded tensorflow_datasets/tensorflow_datasets/downloads/manual_cambrian_dataset/cambrian_dataset_10M_part_00720.parquet\n"
     ]
    },
    {
     "name": "stderr",
     "output_type": "stream",
     "text": [
      "Converting to Parquet: 722it [04:14,  4.76it/s]"
     ]
    },
    {
     "name": "stdout",
     "output_type": "stream",
     "text": [
      "Uploaded tensorflow_datasets/tensorflow_datasets/downloads/manual_cambrian_dataset/cambrian_dataset_10M_part_00721.parquet\n"
     ]
    },
    {
     "name": "stderr",
     "output_type": "stream",
     "text": [
      "Converting to Parquet: 723it [04:15,  4.71it/s]"
     ]
    },
    {
     "name": "stdout",
     "output_type": "stream",
     "text": [
      "Uploaded tensorflow_datasets/tensorflow_datasets/downloads/manual_cambrian_dataset/cambrian_dataset_10M_part_00722.parquet\n"
     ]
    },
    {
     "name": "stderr",
     "output_type": "stream",
     "text": [
      "Converting to Parquet: 725it [04:15,  5.28it/s]"
     ]
    },
    {
     "name": "stdout",
     "output_type": "stream",
     "text": [
      "Uploaded tensorflow_datasets/tensorflow_datasets/downloads/manual_cambrian_dataset/cambrian_dataset_10M_part_00723.parquet\n",
      "Uploaded tensorflow_datasets/tensorflow_datasets/downloads/manual_cambrian_dataset/cambrian_dataset_10M_part_00724.parquet\n"
     ]
    },
    {
     "name": "stderr",
     "output_type": "stream",
     "text": [
      "Converting to Parquet: 727it [04:15,  5.72it/s]"
     ]
    },
    {
     "name": "stdout",
     "output_type": "stream",
     "text": [
      "Uploaded tensorflow_datasets/tensorflow_datasets/downloads/manual_cambrian_dataset/cambrian_dataset_10M_part_00725.parquet\n",
      "Uploaded tensorflow_datasets/tensorflow_datasets/downloads/manual_cambrian_dataset/cambrian_dataset_10M_part_00726.parquet\n"
     ]
    },
    {
     "name": "stderr",
     "output_type": "stream",
     "text": [
      "Converting to Parquet: 729it [04:16,  6.01it/s]"
     ]
    },
    {
     "name": "stdout",
     "output_type": "stream",
     "text": [
      "Uploaded tensorflow_datasets/tensorflow_datasets/downloads/manual_cambrian_dataset/cambrian_dataset_10M_part_00727.parquet\n",
      "Uploaded tensorflow_datasets/tensorflow_datasets/downloads/manual_cambrian_dataset/cambrian_dataset_10M_part_00728.parquet\n"
     ]
    },
    {
     "name": "stderr",
     "output_type": "stream",
     "text": [
      "Converting to Parquet: 730it [04:16,  5.77it/s]"
     ]
    },
    {
     "name": "stdout",
     "output_type": "stream",
     "text": [
      "Uploaded tensorflow_datasets/tensorflow_datasets/downloads/manual_cambrian_dataset/cambrian_dataset_10M_part_00729.parquet\n"
     ]
    },
    {
     "name": "stderr",
     "output_type": "stream",
     "text": [
      "Converting to Parquet: 732it [04:16,  5.40it/s]"
     ]
    },
    {
     "name": "stdout",
     "output_type": "stream",
     "text": [
      "Uploaded tensorflow_datasets/tensorflow_datasets/downloads/manual_cambrian_dataset/cambrian_dataset_10M_part_00730.parquet\n",
      "Uploaded tensorflow_datasets/tensorflow_datasets/downloads/manual_cambrian_dataset/cambrian_dataset_10M_part_00731.parquet\n"
     ]
    },
    {
     "name": "stderr",
     "output_type": "stream",
     "text": [
      "Converting to Parquet: 733it [04:16,  5.35it/s]"
     ]
    },
    {
     "name": "stdout",
     "output_type": "stream",
     "text": [
      "Uploaded tensorflow_datasets/tensorflow_datasets/downloads/manual_cambrian_dataset/cambrian_dataset_10M_part_00732.parquet\n"
     ]
    },
    {
     "name": "stderr",
     "output_type": "stream",
     "text": [
      "Converting to Parquet: 735it [04:17,  5.23it/s]"
     ]
    },
    {
     "name": "stdout",
     "output_type": "stream",
     "text": [
      "Uploaded tensorflow_datasets/tensorflow_datasets/downloads/manual_cambrian_dataset/cambrian_dataset_10M_part_00733.parquet\n",
      "Uploaded tensorflow_datasets/tensorflow_datasets/downloads/manual_cambrian_dataset/cambrian_dataset_10M_part_00734.parquet\n"
     ]
    },
    {
     "name": "stderr",
     "output_type": "stream",
     "text": [
      "Converting to Parquet: 737it [04:17,  5.34it/s]"
     ]
    },
    {
     "name": "stdout",
     "output_type": "stream",
     "text": [
      "Uploaded tensorflow_datasets/tensorflow_datasets/downloads/manual_cambrian_dataset/cambrian_dataset_10M_part_00735.parquet\n",
      "Uploaded tensorflow_datasets/tensorflow_datasets/downloads/manual_cambrian_dataset/cambrian_dataset_10M_part_00736.parquet\n"
     ]
    },
    {
     "name": "stderr",
     "output_type": "stream",
     "text": [
      "Converting to Parquet: 738it [04:17,  5.22it/s]"
     ]
    },
    {
     "name": "stdout",
     "output_type": "stream",
     "text": [
      "Uploaded tensorflow_datasets/tensorflow_datasets/downloads/manual_cambrian_dataset/cambrian_dataset_10M_part_00737.parquet\n"
     ]
    },
    {
     "name": "stderr",
     "output_type": "stream",
     "text": [
      "Converting to Parquet: 739it [04:17,  5.06it/s]"
     ]
    },
    {
     "name": "stdout",
     "output_type": "stream",
     "text": [
      "Uploaded tensorflow_datasets/tensorflow_datasets/downloads/manual_cambrian_dataset/cambrian_dataset_10M_part_00738.parquet\n"
     ]
    },
    {
     "name": "stderr",
     "output_type": "stream",
     "text": [
      "Converting to Parquet: 741it [04:18,  5.10it/s]"
     ]
    },
    {
     "name": "stdout",
     "output_type": "stream",
     "text": [
      "Uploaded tensorflow_datasets/tensorflow_datasets/downloads/manual_cambrian_dataset/cambrian_dataset_10M_part_00739.parquet\n",
      "Uploaded tensorflow_datasets/tensorflow_datasets/downloads/manual_cambrian_dataset/cambrian_dataset_10M_part_00740.parquet\n"
     ]
    },
    {
     "name": "stderr",
     "output_type": "stream",
     "text": [
      "Converting to Parquet: 743it [04:18,  5.91it/s]"
     ]
    },
    {
     "name": "stdout",
     "output_type": "stream",
     "text": [
      "Uploaded tensorflow_datasets/tensorflow_datasets/downloads/manual_cambrian_dataset/cambrian_dataset_10M_part_00741.parquet\n",
      "Uploaded tensorflow_datasets/tensorflow_datasets/downloads/manual_cambrian_dataset/cambrian_dataset_10M_part_00742.parquet\n"
     ]
    },
    {
     "name": "stderr",
     "output_type": "stream",
     "text": [
      "Converting to Parquet: 744it [04:18,  6.02it/s]"
     ]
    },
    {
     "name": "stdout",
     "output_type": "stream",
     "text": [
      "Uploaded tensorflow_datasets/tensorflow_datasets/downloads/manual_cambrian_dataset/cambrian_dataset_10M_part_00743.parquet\n"
     ]
    },
    {
     "name": "stderr",
     "output_type": "stream",
     "text": [
      "Converting to Parquet: 746it [04:19,  5.58it/s]"
     ]
    },
    {
     "name": "stdout",
     "output_type": "stream",
     "text": [
      "Uploaded tensorflow_datasets/tensorflow_datasets/downloads/manual_cambrian_dataset/cambrian_dataset_10M_part_00744.parquet\n",
      "Uploaded tensorflow_datasets/tensorflow_datasets/downloads/manual_cambrian_dataset/cambrian_dataset_10M_part_00745.parquet\n"
     ]
    },
    {
     "name": "stderr",
     "output_type": "stream",
     "text": [
      "Converting to Parquet: 748it [04:19,  5.76it/s]"
     ]
    },
    {
     "name": "stdout",
     "output_type": "stream",
     "text": [
      "Uploaded tensorflow_datasets/tensorflow_datasets/downloads/manual_cambrian_dataset/cambrian_dataset_10M_part_00746.parquet\n",
      "Uploaded tensorflow_datasets/tensorflow_datasets/downloads/manual_cambrian_dataset/cambrian_dataset_10M_part_00747.parquet\n"
     ]
    },
    {
     "name": "stderr",
     "output_type": "stream",
     "text": [
      "Converting to Parquet: 750it [04:19,  5.30it/s]"
     ]
    },
    {
     "name": "stdout",
     "output_type": "stream",
     "text": [
      "Uploaded tensorflow_datasets/tensorflow_datasets/downloads/manual_cambrian_dataset/cambrian_dataset_10M_part_00748.parquet\n",
      "Uploaded tensorflow_datasets/tensorflow_datasets/downloads/manual_cambrian_dataset/cambrian_dataset_10M_part_00749.parquet\n"
     ]
    },
    {
     "name": "stderr",
     "output_type": "stream",
     "text": [
      "Converting to Parquet: 752it [04:20,  5.44it/s]"
     ]
    },
    {
     "name": "stdout",
     "output_type": "stream",
     "text": [
      "Uploaded tensorflow_datasets/tensorflow_datasets/downloads/manual_cambrian_dataset/cambrian_dataset_10M_part_00750.parquet\n",
      "Uploaded tensorflow_datasets/tensorflow_datasets/downloads/manual_cambrian_dataset/cambrian_dataset_10M_part_00751.parquet\n"
     ]
    },
    {
     "name": "stderr",
     "output_type": "stream",
     "text": [
      "Converting to Parquet: 754it [04:20,  5.55it/s]"
     ]
    },
    {
     "name": "stdout",
     "output_type": "stream",
     "text": [
      "Uploaded tensorflow_datasets/tensorflow_datasets/downloads/manual_cambrian_dataset/cambrian_dataset_10M_part_00752.parquet\n",
      "Uploaded tensorflow_datasets/tensorflow_datasets/downloads/manual_cambrian_dataset/cambrian_dataset_10M_part_00753.parquet\n"
     ]
    },
    {
     "name": "stderr",
     "output_type": "stream",
     "text": [
      "Converting to Parquet: 755it [04:20,  5.08it/s]"
     ]
    },
    {
     "name": "stdout",
     "output_type": "stream",
     "text": [
      "Uploaded tensorflow_datasets/tensorflow_datasets/downloads/manual_cambrian_dataset/cambrian_dataset_10M_part_00754.parquet\n"
     ]
    },
    {
     "name": "stderr",
     "output_type": "stream",
     "text": [
      "Converting to Parquet: 757it [04:21,  5.02it/s]"
     ]
    },
    {
     "name": "stdout",
     "output_type": "stream",
     "text": [
      "Uploaded tensorflow_datasets/tensorflow_datasets/downloads/manual_cambrian_dataset/cambrian_dataset_10M_part_00755.parquet\n",
      "Uploaded tensorflow_datasets/tensorflow_datasets/downloads/manual_cambrian_dataset/cambrian_dataset_10M_part_00756.parquet\n"
     ]
    },
    {
     "name": "stderr",
     "output_type": "stream",
     "text": [
      "Converting to Parquet: 758it [04:21,  4.79it/s]"
     ]
    },
    {
     "name": "stdout",
     "output_type": "stream",
     "text": [
      "Uploaded tensorflow_datasets/tensorflow_datasets/downloads/manual_cambrian_dataset/cambrian_dataset_10M_part_00757.parquet\n"
     ]
    },
    {
     "name": "stderr",
     "output_type": "stream",
     "text": [
      "Converting to Parquet: 760it [04:21,  4.97it/s]"
     ]
    },
    {
     "name": "stdout",
     "output_type": "stream",
     "text": [
      "Uploaded tensorflow_datasets/tensorflow_datasets/downloads/manual_cambrian_dataset/cambrian_dataset_10M_part_00758.parquet\n",
      "Uploaded tensorflow_datasets/tensorflow_datasets/downloads/manual_cambrian_dataset/cambrian_dataset_10M_part_00759.parquet\n"
     ]
    },
    {
     "name": "stderr",
     "output_type": "stream",
     "text": [
      "Converting to Parquet: 762it [04:22,  5.34it/s]"
     ]
    },
    {
     "name": "stdout",
     "output_type": "stream",
     "text": [
      "Uploaded tensorflow_datasets/tensorflow_datasets/downloads/manual_cambrian_dataset/cambrian_dataset_10M_part_00760.parquet\n",
      "Uploaded tensorflow_datasets/tensorflow_datasets/downloads/manual_cambrian_dataset/cambrian_dataset_10M_part_00761.parquet\n"
     ]
    },
    {
     "name": "stderr",
     "output_type": "stream",
     "text": [
      "Converting to Parquet: 764it [04:22,  5.25it/s]"
     ]
    },
    {
     "name": "stdout",
     "output_type": "stream",
     "text": [
      "Uploaded tensorflow_datasets/tensorflow_datasets/downloads/manual_cambrian_dataset/cambrian_dataset_10M_part_00762.parquet\n",
      "Uploaded tensorflow_datasets/tensorflow_datasets/downloads/manual_cambrian_dataset/cambrian_dataset_10M_part_00763.parquet\n"
     ]
    },
    {
     "name": "stderr",
     "output_type": "stream",
     "text": [
      "Converting to Parquet: 766it [04:23,  5.40it/s]"
     ]
    },
    {
     "name": "stdout",
     "output_type": "stream",
     "text": [
      "Uploaded tensorflow_datasets/tensorflow_datasets/downloads/manual_cambrian_dataset/cambrian_dataset_10M_part_00764.parquet\n",
      "Uploaded tensorflow_datasets/tensorflow_datasets/downloads/manual_cambrian_dataset/cambrian_dataset_10M_part_00765.parquet\n"
     ]
    },
    {
     "name": "stderr",
     "output_type": "stream",
     "text": [
      "Converting to Parquet: 768it [04:23,  5.29it/s]"
     ]
    },
    {
     "name": "stdout",
     "output_type": "stream",
     "text": [
      "Uploaded tensorflow_datasets/tensorflow_datasets/downloads/manual_cambrian_dataset/cambrian_dataset_10M_part_00766.parquet\n",
      "Uploaded tensorflow_datasets/tensorflow_datasets/downloads/manual_cambrian_dataset/cambrian_dataset_10M_part_00767.parquet\n"
     ]
    },
    {
     "name": "stderr",
     "output_type": "stream",
     "text": [
      "Converting to Parquet: 769it [04:23,  5.37it/s]"
     ]
    },
    {
     "name": "stdout",
     "output_type": "stream",
     "text": [
      "Uploaded tensorflow_datasets/tensorflow_datasets/downloads/manual_cambrian_dataset/cambrian_dataset_10M_part_00768.parquet\n"
     ]
    },
    {
     "name": "stderr",
     "output_type": "stream",
     "text": [
      "Converting to Parquet: 771it [04:24,  5.20it/s]"
     ]
    },
    {
     "name": "stdout",
     "output_type": "stream",
     "text": [
      "Uploaded tensorflow_datasets/tensorflow_datasets/downloads/manual_cambrian_dataset/cambrian_dataset_10M_part_00769.parquet\n",
      "Uploaded tensorflow_datasets/tensorflow_datasets/downloads/manual_cambrian_dataset/cambrian_dataset_10M_part_00770.parquet\n"
     ]
    },
    {
     "name": "stderr",
     "output_type": "stream",
     "text": [
      "Converting to Parquet: 773it [04:24,  5.38it/s]"
     ]
    },
    {
     "name": "stdout",
     "output_type": "stream",
     "text": [
      "Uploaded tensorflow_datasets/tensorflow_datasets/downloads/manual_cambrian_dataset/cambrian_dataset_10M_part_00771.parquet\n",
      "Uploaded tensorflow_datasets/tensorflow_datasets/downloads/manual_cambrian_dataset/cambrian_dataset_10M_part_00772.parquet\n"
     ]
    },
    {
     "name": "stderr",
     "output_type": "stream",
     "text": [
      "Converting to Parquet: 775it [04:24,  5.50it/s]"
     ]
    },
    {
     "name": "stdout",
     "output_type": "stream",
     "text": [
      "Uploaded tensorflow_datasets/tensorflow_datasets/downloads/manual_cambrian_dataset/cambrian_dataset_10M_part_00773.parquet\n",
      "Uploaded tensorflow_datasets/tensorflow_datasets/downloads/manual_cambrian_dataset/cambrian_dataset_10M_part_00774.parquet\n"
     ]
    },
    {
     "name": "stderr",
     "output_type": "stream",
     "text": [
      "Converting to Parquet: 776it [04:24,  5.54it/s]"
     ]
    },
    {
     "name": "stdout",
     "output_type": "stream",
     "text": [
      "Uploaded tensorflow_datasets/tensorflow_datasets/downloads/manual_cambrian_dataset/cambrian_dataset_10M_part_00775.parquet\n"
     ]
    },
    {
     "name": "stderr",
     "output_type": "stream",
     "text": [
      "Converting to Parquet: 778it [04:25,  5.30it/s]"
     ]
    },
    {
     "name": "stdout",
     "output_type": "stream",
     "text": [
      "Uploaded tensorflow_datasets/tensorflow_datasets/downloads/manual_cambrian_dataset/cambrian_dataset_10M_part_00776.parquet\n",
      "Uploaded tensorflow_datasets/tensorflow_datasets/downloads/manual_cambrian_dataset/cambrian_dataset_10M_part_00777.parquet\n"
     ]
    },
    {
     "name": "stderr",
     "output_type": "stream",
     "text": [
      "Converting to Parquet: 780it [04:25,  5.17it/s]"
     ]
    },
    {
     "name": "stdout",
     "output_type": "stream",
     "text": [
      "Uploaded tensorflow_datasets/tensorflow_datasets/downloads/manual_cambrian_dataset/cambrian_dataset_10M_part_00778.parquet\n",
      "Uploaded tensorflow_datasets/tensorflow_datasets/downloads/manual_cambrian_dataset/cambrian_dataset_10M_part_00779.parquet\n"
     ]
    },
    {
     "name": "stderr",
     "output_type": "stream",
     "text": [
      "Converting to Parquet: 782it [04:26,  5.39it/s]"
     ]
    },
    {
     "name": "stdout",
     "output_type": "stream",
     "text": [
      "Uploaded tensorflow_datasets/tensorflow_datasets/downloads/manual_cambrian_dataset/cambrian_dataset_10M_part_00780.parquet\n",
      "Uploaded tensorflow_datasets/tensorflow_datasets/downloads/manual_cambrian_dataset/cambrian_dataset_10M_part_00781.parquet\n"
     ]
    },
    {
     "name": "stderr",
     "output_type": "stream",
     "text": [
      "Converting to Parquet: 783it [04:26,  5.44it/s]"
     ]
    },
    {
     "name": "stdout",
     "output_type": "stream",
     "text": [
      "Uploaded tensorflow_datasets/tensorflow_datasets/downloads/manual_cambrian_dataset/cambrian_dataset_10M_part_00782.parquet\n"
     ]
    },
    {
     "name": "stderr",
     "output_type": "stream",
     "text": [
      "Converting to Parquet: 785it [04:26,  5.20it/s]"
     ]
    },
    {
     "name": "stdout",
     "output_type": "stream",
     "text": [
      "Uploaded tensorflow_datasets/tensorflow_datasets/downloads/manual_cambrian_dataset/cambrian_dataset_10M_part_00783.parquet\n",
      "Uploaded tensorflow_datasets/tensorflow_datasets/downloads/manual_cambrian_dataset/cambrian_dataset_10M_part_00784.parquet\n"
     ]
    },
    {
     "name": "stderr",
     "output_type": "stream",
     "text": [
      "Converting to Parquet: 787it [04:27,  5.37it/s]"
     ]
    },
    {
     "name": "stdout",
     "output_type": "stream",
     "text": [
      "Uploaded tensorflow_datasets/tensorflow_datasets/downloads/manual_cambrian_dataset/cambrian_dataset_10M_part_00785.parquet\n",
      "Uploaded tensorflow_datasets/tensorflow_datasets/downloads/manual_cambrian_dataset/cambrian_dataset_10M_part_00786.parquet\n"
     ]
    },
    {
     "name": "stderr",
     "output_type": "stream",
     "text": [
      "Converting to Parquet: 789it [04:27,  5.30it/s]"
     ]
    },
    {
     "name": "stdout",
     "output_type": "stream",
     "text": [
      "Uploaded tensorflow_datasets/tensorflow_datasets/downloads/manual_cambrian_dataset/cambrian_dataset_10M_part_00787.parquet\n",
      "Uploaded tensorflow_datasets/tensorflow_datasets/downloads/manual_cambrian_dataset/cambrian_dataset_10M_part_00788.parquet\n"
     ]
    },
    {
     "name": "stderr",
     "output_type": "stream",
     "text": [
      "Converting to Parquet: 790it [04:27,  5.44it/s]"
     ]
    },
    {
     "name": "stdout",
     "output_type": "stream",
     "text": [
      "Uploaded tensorflow_datasets/tensorflow_datasets/downloads/manual_cambrian_dataset/cambrian_dataset_10M_part_00789.parquet\n",
      "Uploaded tensorflow_datasets/tensorflow_datasets/downloads/manual_cambrian_dataset/cambrian_dataset_10M_part_00790.parquet\n"
     ]
    },
    {
     "name": "stderr",
     "output_type": "stream",
     "text": [
      "Converting to Parquet: 793it [04:28,  5.49it/s]"
     ]
    },
    {
     "name": "stdout",
     "output_type": "stream",
     "text": [
      "Uploaded tensorflow_datasets/tensorflow_datasets/downloads/manual_cambrian_dataset/cambrian_dataset_10M_part_00791.parquet\n",
      "Uploaded tensorflow_datasets/tensorflow_datasets/downloads/manual_cambrian_dataset/cambrian_dataset_10M_part_00792.parquet\n"
     ]
    },
    {
     "name": "stderr",
     "output_type": "stream",
     "text": [
      "Converting to Parquet: 795it [04:28,  5.38it/s]"
     ]
    },
    {
     "name": "stdout",
     "output_type": "stream",
     "text": [
      "Uploaded tensorflow_datasets/tensorflow_datasets/downloads/manual_cambrian_dataset/cambrian_dataset_10M_part_00793.parquet\n",
      "Uploaded tensorflow_datasets/tensorflow_datasets/downloads/manual_cambrian_dataset/cambrian_dataset_10M_part_00794.parquet\n"
     ]
    },
    {
     "name": "stderr",
     "output_type": "stream",
     "text": [
      "Converting to Parquet: 796it [04:28,  5.35it/s]"
     ]
    },
    {
     "name": "stdout",
     "output_type": "stream",
     "text": [
      "Uploaded tensorflow_datasets/tensorflow_datasets/downloads/manual_cambrian_dataset/cambrian_dataset_10M_part_00795.parquet\n"
     ]
    },
    {
     "name": "stderr",
     "output_type": "stream",
     "text": [
      "Converting to Parquet: 797it [04:28,  5.21it/s]"
     ]
    },
    {
     "name": "stdout",
     "output_type": "stream",
     "text": [
      "Uploaded tensorflow_datasets/tensorflow_datasets/downloads/manual_cambrian_dataset/cambrian_dataset_10M_part_00796.parquet\n"
     ]
    },
    {
     "name": "stderr",
     "output_type": "stream",
     "text": [
      "Converting to Parquet: 798it [04:29,  4.95it/s]"
     ]
    },
    {
     "name": "stdout",
     "output_type": "stream",
     "text": [
      "Uploaded tensorflow_datasets/tensorflow_datasets/downloads/manual_cambrian_dataset/cambrian_dataset_10M_part_00797.parquet\n"
     ]
    },
    {
     "name": "stderr",
     "output_type": "stream",
     "text": [
      "Converting to Parquet: 800it [04:29,  5.35it/s]"
     ]
    },
    {
     "name": "stdout",
     "output_type": "stream",
     "text": [
      "Uploaded tensorflow_datasets/tensorflow_datasets/downloads/manual_cambrian_dataset/cambrian_dataset_10M_part_00798.parquet\n",
      "Uploaded tensorflow_datasets/tensorflow_datasets/downloads/manual_cambrian_dataset/cambrian_dataset_10M_part_00799.parquet\n"
     ]
    },
    {
     "name": "stderr",
     "output_type": "stream",
     "text": [
      "Converting to Parquet: 802it [04:29,  6.28it/s]"
     ]
    },
    {
     "name": "stdout",
     "output_type": "stream",
     "text": [
      "Uploaded tensorflow_datasets/tensorflow_datasets/downloads/manual_cambrian_dataset/cambrian_dataset_10M_part_00800.parquet\n",
      "Uploaded tensorflow_datasets/tensorflow_datasets/downloads/manual_cambrian_dataset/cambrian_dataset_10M_part_00801.parquet\n"
     ]
    },
    {
     "name": "stderr",
     "output_type": "stream",
     "text": [
      "Converting to Parquet: 803it [04:29,  5.69it/s]"
     ]
    },
    {
     "name": "stdout",
     "output_type": "stream",
     "text": [
      "Uploaded tensorflow_datasets/tensorflow_datasets/downloads/manual_cambrian_dataset/cambrian_dataset_10M_part_00802.parquet\n"
     ]
    },
    {
     "name": "stderr",
     "output_type": "stream",
     "text": [
      "Converting to Parquet: 804it [04:30,  5.20it/s]"
     ]
    },
    {
     "name": "stdout",
     "output_type": "stream",
     "text": [
      "Uploaded tensorflow_datasets/tensorflow_datasets/downloads/manual_cambrian_dataset/cambrian_dataset_10M_part_00803.parquet\n"
     ]
    },
    {
     "name": "stderr",
     "output_type": "stream",
     "text": [
      "Converting to Parquet: 806it [04:30,  4.39it/s]"
     ]
    },
    {
     "name": "stdout",
     "output_type": "stream",
     "text": [
      "Uploaded tensorflow_datasets/tensorflow_datasets/downloads/manual_cambrian_dataset/cambrian_dataset_10M_part_00804.parquet\n",
      "Uploaded tensorflow_datasets/tensorflow_datasets/downloads/manual_cambrian_dataset/cambrian_dataset_10M_part_00805.parquet\n"
     ]
    },
    {
     "name": "stderr",
     "output_type": "stream",
     "text": [
      "Converting to Parquet: 808it [04:31,  5.23it/s]"
     ]
    },
    {
     "name": "stdout",
     "output_type": "stream",
     "text": [
      "Uploaded tensorflow_datasets/tensorflow_datasets/downloads/manual_cambrian_dataset/cambrian_dataset_10M_part_00806.parquet\n",
      "Uploaded tensorflow_datasets/tensorflow_datasets/downloads/manual_cambrian_dataset/cambrian_dataset_10M_part_00807.parquet\n"
     ]
    },
    {
     "name": "stderr",
     "output_type": "stream",
     "text": [
      "Converting to Parquet: 809it [04:31,  5.74it/s]"
     ]
    },
    {
     "name": "stdout",
     "output_type": "stream",
     "text": [
      "Uploaded tensorflow_datasets/tensorflow_datasets/downloads/manual_cambrian_dataset/cambrian_dataset_10M_part_00808.parquet\n"
     ]
    },
    {
     "name": "stderr",
     "output_type": "stream",
     "text": [
      "Converting to Parquet: 810it [04:31,  4.82it/s]"
     ]
    },
    {
     "name": "stdout",
     "output_type": "stream",
     "text": [
      "Uploaded tensorflow_datasets/tensorflow_datasets/downloads/manual_cambrian_dataset/cambrian_dataset_10M_part_00809.parquet\n"
     ]
    },
    {
     "name": "stderr",
     "output_type": "stream",
     "text": [
      "Converting to Parquet: 812it [04:31,  4.63it/s]"
     ]
    },
    {
     "name": "stdout",
     "output_type": "stream",
     "text": [
      "Uploaded tensorflow_datasets/tensorflow_datasets/downloads/manual_cambrian_dataset/cambrian_dataset_10M_part_00810.parquet\n",
      "Uploaded tensorflow_datasets/tensorflow_datasets/downloads/manual_cambrian_dataset/cambrian_dataset_10M_part_00811.parquet\n"
     ]
    },
    {
     "name": "stderr",
     "output_type": "stream",
     "text": [
      "Converting to Parquet: 814it [04:32,  5.10it/s]"
     ]
    },
    {
     "name": "stdout",
     "output_type": "stream",
     "text": [
      "Uploaded tensorflow_datasets/tensorflow_datasets/downloads/manual_cambrian_dataset/cambrian_dataset_10M_part_00812.parquet\n",
      "Uploaded tensorflow_datasets/tensorflow_datasets/downloads/manual_cambrian_dataset/cambrian_dataset_10M_part_00813.parquet\n"
     ]
    },
    {
     "name": "stderr",
     "output_type": "stream",
     "text": [
      "Converting to Parquet: 816it [04:32,  5.37it/s]"
     ]
    },
    {
     "name": "stdout",
     "output_type": "stream",
     "text": [
      "Uploaded tensorflow_datasets/tensorflow_datasets/downloads/manual_cambrian_dataset/cambrian_dataset_10M_part_00814.parquet\n",
      "Uploaded tensorflow_datasets/tensorflow_datasets/downloads/manual_cambrian_dataset/cambrian_dataset_10M_part_00815.parquet\n"
     ]
    },
    {
     "name": "stderr",
     "output_type": "stream",
     "text": [
      "Converting to Parquet: 818it [04:33,  5.56it/s]"
     ]
    },
    {
     "name": "stdout",
     "output_type": "stream",
     "text": [
      "Uploaded tensorflow_datasets/tensorflow_datasets/downloads/manual_cambrian_dataset/cambrian_dataset_10M_part_00816.parquet\n",
      "Uploaded tensorflow_datasets/tensorflow_datasets/downloads/manual_cambrian_dataset/cambrian_dataset_10M_part_00817.parquet\n"
     ]
    },
    {
     "name": "stderr",
     "output_type": "stream",
     "text": [
      "Converting to Parquet: 819it [04:33,  5.30it/s]"
     ]
    },
    {
     "name": "stdout",
     "output_type": "stream",
     "text": [
      "Uploaded tensorflow_datasets/tensorflow_datasets/downloads/manual_cambrian_dataset/cambrian_dataset_10M_part_00818.parquet\n"
     ]
    },
    {
     "name": "stderr",
     "output_type": "stream",
     "text": [
      "Converting to Parquet: 821it [04:33,  5.36it/s]"
     ]
    },
    {
     "name": "stdout",
     "output_type": "stream",
     "text": [
      "Uploaded tensorflow_datasets/tensorflow_datasets/downloads/manual_cambrian_dataset/cambrian_dataset_10M_part_00819.parquet\n",
      "Uploaded tensorflow_datasets/tensorflow_datasets/downloads/manual_cambrian_dataset/cambrian_dataset_10M_part_00820.parquet\n"
     ]
    },
    {
     "name": "stderr",
     "output_type": "stream",
     "text": [
      "Converting to Parquet: 823it [04:33,  5.50it/s]"
     ]
    },
    {
     "name": "stdout",
     "output_type": "stream",
     "text": [
      "Uploaded tensorflow_datasets/tensorflow_datasets/downloads/manual_cambrian_dataset/cambrian_dataset_10M_part_00821.parquet\n",
      "Uploaded tensorflow_datasets/tensorflow_datasets/downloads/manual_cambrian_dataset/cambrian_dataset_10M_part_00822.parquet\n"
     ]
    },
    {
     "name": "stderr",
     "output_type": "stream",
     "text": [
      "Converting to Parquet: 825it [04:34,  5.42it/s]"
     ]
    },
    {
     "name": "stdout",
     "output_type": "stream",
     "text": [
      "Uploaded tensorflow_datasets/tensorflow_datasets/downloads/manual_cambrian_dataset/cambrian_dataset_10M_part_00823.parquet\n",
      "Uploaded tensorflow_datasets/tensorflow_datasets/downloads/manual_cambrian_dataset/cambrian_dataset_10M_part_00824.parquet\n"
     ]
    },
    {
     "name": "stderr",
     "output_type": "stream",
     "text": [
      "Converting to Parquet: 827it [04:34,  5.52it/s]"
     ]
    },
    {
     "name": "stdout",
     "output_type": "stream",
     "text": [
      "Uploaded tensorflow_datasets/tensorflow_datasets/downloads/manual_cambrian_dataset/cambrian_dataset_10M_part_00825.parquet\n",
      "Uploaded tensorflow_datasets/tensorflow_datasets/downloads/manual_cambrian_dataset/cambrian_dataset_10M_part_00826.parquet\n"
     ]
    },
    {
     "name": "stderr",
     "output_type": "stream",
     "text": [
      "Converting to Parquet: 829it [04:34,  5.81it/s]"
     ]
    },
    {
     "name": "stdout",
     "output_type": "stream",
     "text": [
      "Uploaded tensorflow_datasets/tensorflow_datasets/downloads/manual_cambrian_dataset/cambrian_dataset_10M_part_00827.parquet\n",
      "Uploaded tensorflow_datasets/tensorflow_datasets/downloads/manual_cambrian_dataset/cambrian_dataset_10M_part_00828.parquet\n"
     ]
    },
    {
     "name": "stderr",
     "output_type": "stream",
     "text": [
      "Converting to Parquet: 830it [04:35,  5.66it/s]"
     ]
    },
    {
     "name": "stdout",
     "output_type": "stream",
     "text": [
      "Uploaded tensorflow_datasets/tensorflow_datasets/downloads/manual_cambrian_dataset/cambrian_dataset_10M_part_00829.parquet\n"
     ]
    },
    {
     "name": "stderr",
     "output_type": "stream",
     "text": [
      "Converting to Parquet: 832it [04:35,  5.40it/s]"
     ]
    },
    {
     "name": "stdout",
     "output_type": "stream",
     "text": [
      "Uploaded tensorflow_datasets/tensorflow_datasets/downloads/manual_cambrian_dataset/cambrian_dataset_10M_part_00830.parquet\n",
      "Uploaded tensorflow_datasets/tensorflow_datasets/downloads/manual_cambrian_dataset/cambrian_dataset_10M_part_00831.parquet\n"
     ]
    },
    {
     "name": "stderr",
     "output_type": "stream",
     "text": [
      "Converting to Parquet: 833it [04:36,  3.64it/s]"
     ]
    },
    {
     "name": "stdout",
     "output_type": "stream",
     "text": [
      "Uploaded tensorflow_datasets/tensorflow_datasets/downloads/manual_cambrian_dataset/cambrian_dataset_10M_part_00832.parquet\n"
     ]
    },
    {
     "name": "stderr",
     "output_type": "stream",
     "text": [
      "Converting to Parquet: 834it [04:36,  3.40it/s]"
     ]
    },
    {
     "name": "stdout",
     "output_type": "stream",
     "text": [
      "Uploaded tensorflow_datasets/tensorflow_datasets/downloads/manual_cambrian_dataset/cambrian_dataset_10M_part_00833.parquet\n"
     ]
    },
    {
     "name": "stderr",
     "output_type": "stream",
     "text": [
      "Converting to Parquet: 835it [04:36,  3.67it/s]"
     ]
    },
    {
     "name": "stdout",
     "output_type": "stream",
     "text": [
      "Uploaded tensorflow_datasets/tensorflow_datasets/downloads/manual_cambrian_dataset/cambrian_dataset_10M_part_00834.parquet\n"
     ]
    },
    {
     "name": "stderr",
     "output_type": "stream",
     "text": [
      "Converting to Parquet: 836it [04:36,  3.81it/s]"
     ]
    },
    {
     "name": "stdout",
     "output_type": "stream",
     "text": [
      "Uploaded tensorflow_datasets/tensorflow_datasets/downloads/manual_cambrian_dataset/cambrian_dataset_10M_part_00835.parquet\n"
     ]
    },
    {
     "name": "stderr",
     "output_type": "stream",
     "text": [
      "Converting to Parquet: 837it [04:37,  3.93it/s]"
     ]
    },
    {
     "name": "stdout",
     "output_type": "stream",
     "text": [
      "Uploaded tensorflow_datasets/tensorflow_datasets/downloads/manual_cambrian_dataset/cambrian_dataset_10M_part_00836.parquet\n"
     ]
    },
    {
     "name": "stderr",
     "output_type": "stream",
     "text": [
      "Converting to Parquet: 839it [04:37,  4.58it/s]"
     ]
    },
    {
     "name": "stdout",
     "output_type": "stream",
     "text": [
      "Uploaded tensorflow_datasets/tensorflow_datasets/downloads/manual_cambrian_dataset/cambrian_dataset_10M_part_00837.parquet\n",
      "Uploaded tensorflow_datasets/tensorflow_datasets/downloads/manual_cambrian_dataset/cambrian_dataset_10M_part_00838.parquet\n"
     ]
    },
    {
     "name": "stderr",
     "output_type": "stream",
     "text": [
      "Converting to Parquet: 841it [04:37,  4.97it/s]"
     ]
    },
    {
     "name": "stdout",
     "output_type": "stream",
     "text": [
      "Uploaded tensorflow_datasets/tensorflow_datasets/downloads/manual_cambrian_dataset/cambrian_dataset_10M_part_00839.parquet\n",
      "Uploaded tensorflow_datasets/tensorflow_datasets/downloads/manual_cambrian_dataset/cambrian_dataset_10M_part_00840.parquet\n"
     ]
    },
    {
     "name": "stderr",
     "output_type": "stream",
     "text": [
      "Converting to Parquet: 843it [04:38,  5.31it/s]"
     ]
    },
    {
     "name": "stdout",
     "output_type": "stream",
     "text": [
      "Uploaded tensorflow_datasets/tensorflow_datasets/downloads/manual_cambrian_dataset/cambrian_dataset_10M_part_00841.parquet\n",
      "Uploaded tensorflow_datasets/tensorflow_datasets/downloads/manual_cambrian_dataset/cambrian_dataset_10M_part_00842.parquet\n"
     ]
    },
    {
     "name": "stderr",
     "output_type": "stream",
     "text": [
      "Converting to Parquet: 844it [04:38,  5.48it/s]"
     ]
    },
    {
     "name": "stdout",
     "output_type": "stream",
     "text": [
      "Uploaded tensorflow_datasets/tensorflow_datasets/downloads/manual_cambrian_dataset/cambrian_dataset_10M_part_00843.parquet\n"
     ]
    },
    {
     "name": "stderr",
     "output_type": "stream",
     "text": [
      "Converting to Parquet: 845it [04:38,  5.06it/s]"
     ]
    },
    {
     "name": "stdout",
     "output_type": "stream",
     "text": [
      "Uploaded tensorflow_datasets/tensorflow_datasets/downloads/manual_cambrian_dataset/cambrian_dataset_10M_part_00844.parquet\n"
     ]
    },
    {
     "name": "stderr",
     "output_type": "stream",
     "text": [
      "Converting to Parquet: 846it [04:38,  4.75it/s]"
     ]
    },
    {
     "name": "stdout",
     "output_type": "stream",
     "text": [
      "Uploaded tensorflow_datasets/tensorflow_datasets/downloads/manual_cambrian_dataset/cambrian_dataset_10M_part_00845.parquet\n"
     ]
    },
    {
     "name": "stderr",
     "output_type": "stream",
     "text": [
      "Converting to Parquet: 848it [04:39,  4.84it/s]"
     ]
    },
    {
     "name": "stdout",
     "output_type": "stream",
     "text": [
      "Uploaded tensorflow_datasets/tensorflow_datasets/downloads/manual_cambrian_dataset/cambrian_dataset_10M_part_00846.parquet\n",
      "Uploaded tensorflow_datasets/tensorflow_datasets/downloads/manual_cambrian_dataset/cambrian_dataset_10M_part_00847.parquet\n"
     ]
    },
    {
     "name": "stderr",
     "output_type": "stream",
     "text": [
      "Converting to Parquet: 850it [04:39,  5.05it/s]"
     ]
    },
    {
     "name": "stdout",
     "output_type": "stream",
     "text": [
      "Uploaded tensorflow_datasets/tensorflow_datasets/downloads/manual_cambrian_dataset/cambrian_dataset_10M_part_00848.parquet\n",
      "Uploaded tensorflow_datasets/tensorflow_datasets/downloads/manual_cambrian_dataset/cambrian_dataset_10M_part_00849.parquet\n"
     ]
    },
    {
     "name": "stderr",
     "output_type": "stream",
     "text": [
      "Converting to Parquet: 852it [04:39,  5.29it/s]"
     ]
    },
    {
     "name": "stdout",
     "output_type": "stream",
     "text": [
      "Uploaded tensorflow_datasets/tensorflow_datasets/downloads/manual_cambrian_dataset/cambrian_dataset_10M_part_00850.parquet\n",
      "Uploaded tensorflow_datasets/tensorflow_datasets/downloads/manual_cambrian_dataset/cambrian_dataset_10M_part_00851.parquet\n"
     ]
    },
    {
     "name": "stderr",
     "output_type": "stream",
     "text": [
      "Converting to Parquet: 854it [04:40,  5.25it/s]"
     ]
    },
    {
     "name": "stdout",
     "output_type": "stream",
     "text": [
      "Uploaded tensorflow_datasets/tensorflow_datasets/downloads/manual_cambrian_dataset/cambrian_dataset_10M_part_00852.parquet\n",
      "Uploaded tensorflow_datasets/tensorflow_datasets/downloads/manual_cambrian_dataset/cambrian_dataset_10M_part_00853.parquet\n"
     ]
    },
    {
     "name": "stderr",
     "output_type": "stream",
     "text": [
      "Converting to Parquet: 856it [04:40,  5.24it/s]"
     ]
    },
    {
     "name": "stdout",
     "output_type": "stream",
     "text": [
      "Uploaded tensorflow_datasets/tensorflow_datasets/downloads/manual_cambrian_dataset/cambrian_dataset_10M_part_00854.parquet\n",
      "Uploaded tensorflow_datasets/tensorflow_datasets/downloads/manual_cambrian_dataset/cambrian_dataset_10M_part_00855.parquet\n"
     ]
    },
    {
     "name": "stderr",
     "output_type": "stream",
     "text": [
      "Converting to Parquet: 857it [04:40,  5.25it/s]"
     ]
    },
    {
     "name": "stdout",
     "output_type": "stream",
     "text": [
      "Uploaded tensorflow_datasets/tensorflow_datasets/downloads/manual_cambrian_dataset/cambrian_dataset_10M_part_00856.parquet\n"
     ]
    },
    {
     "name": "stderr",
     "output_type": "stream",
     "text": [
      "Converting to Parquet: 859it [04:41,  5.12it/s]"
     ]
    },
    {
     "name": "stdout",
     "output_type": "stream",
     "text": [
      "Uploaded tensorflow_datasets/tensorflow_datasets/downloads/manual_cambrian_dataset/cambrian_dataset_10M_part_00857.parquet\n",
      "Uploaded tensorflow_datasets/tensorflow_datasets/downloads/manual_cambrian_dataset/cambrian_dataset_10M_part_00858.parquet\n"
     ]
    },
    {
     "name": "stderr",
     "output_type": "stream",
     "text": [
      "Converting to Parquet: 861it [04:41,  5.33it/s]"
     ]
    },
    {
     "name": "stdout",
     "output_type": "stream",
     "text": [
      "Uploaded tensorflow_datasets/tensorflow_datasets/downloads/manual_cambrian_dataset/cambrian_dataset_10M_part_00859.parquet\n",
      "Uploaded tensorflow_datasets/tensorflow_datasets/downloads/manual_cambrian_dataset/cambrian_dataset_10M_part_00860.parquet\n"
     ]
    },
    {
     "name": "stderr",
     "output_type": "stream",
     "text": [
      "Converting to Parquet: 863it [04:42,  5.35it/s]"
     ]
    },
    {
     "name": "stdout",
     "output_type": "stream",
     "text": [
      "Uploaded tensorflow_datasets/tensorflow_datasets/downloads/manual_cambrian_dataset/cambrian_dataset_10M_part_00861.parquet\n",
      "Uploaded tensorflow_datasets/tensorflow_datasets/downloads/manual_cambrian_dataset/cambrian_dataset_10M_part_00862.parquet\n"
     ]
    },
    {
     "name": "stderr",
     "output_type": "stream",
     "text": [
      "Converting to Parquet: 865it [04:42,  5.17it/s]"
     ]
    },
    {
     "name": "stdout",
     "output_type": "stream",
     "text": [
      "Uploaded tensorflow_datasets/tensorflow_datasets/downloads/manual_cambrian_dataset/cambrian_dataset_10M_part_00863.parquet\n",
      "Uploaded tensorflow_datasets/tensorflow_datasets/downloads/manual_cambrian_dataset/cambrian_dataset_10M_part_00864.parquet\n"
     ]
    },
    {
     "name": "stderr",
     "output_type": "stream",
     "text": [
      "Converting to Parquet: 866it [04:42,  5.01it/s]"
     ]
    },
    {
     "name": "stdout",
     "output_type": "stream",
     "text": [
      "Uploaded tensorflow_datasets/tensorflow_datasets/downloads/manual_cambrian_dataset/cambrian_dataset_10M_part_00865.parquet\n"
     ]
    },
    {
     "name": "stderr",
     "output_type": "stream",
     "text": [
      "Converting to Parquet: 867it [04:42,  4.92it/s]"
     ]
    },
    {
     "name": "stdout",
     "output_type": "stream",
     "text": [
      "Uploaded tensorflow_datasets/tensorflow_datasets/downloads/manual_cambrian_dataset/cambrian_dataset_10M_part_00866.parquet\n"
     ]
    },
    {
     "name": "stderr",
     "output_type": "stream",
     "text": [
      "Converting to Parquet: 868it [04:43,  4.81it/s]"
     ]
    },
    {
     "name": "stdout",
     "output_type": "stream",
     "text": [
      "Uploaded tensorflow_datasets/tensorflow_datasets/downloads/manual_cambrian_dataset/cambrian_dataset_10M_part_00867.parquet\n"
     ]
    },
    {
     "name": "stderr",
     "output_type": "stream",
     "text": [
      "Converting to Parquet: 869it [04:43,  4.55it/s]"
     ]
    },
    {
     "name": "stdout",
     "output_type": "stream",
     "text": [
      "Uploaded tensorflow_datasets/tensorflow_datasets/downloads/manual_cambrian_dataset/cambrian_dataset_10M_part_00868.parquet\n"
     ]
    },
    {
     "name": "stderr",
     "output_type": "stream",
     "text": [
      "Converting to Parquet: 870it [04:43,  4.23it/s]"
     ]
    },
    {
     "name": "stdout",
     "output_type": "stream",
     "text": [
      "Uploaded tensorflow_datasets/tensorflow_datasets/downloads/manual_cambrian_dataset/cambrian_dataset_10M_part_00869.parquet\n"
     ]
    },
    {
     "name": "stderr",
     "output_type": "stream",
     "text": [
      "Converting to Parquet: 871it [04:43,  4.27it/s]"
     ]
    },
    {
     "name": "stdout",
     "output_type": "stream",
     "text": [
      "Uploaded tensorflow_datasets/tensorflow_datasets/downloads/manual_cambrian_dataset/cambrian_dataset_10M_part_00870.parquet\n"
     ]
    },
    {
     "name": "stderr",
     "output_type": "stream",
     "text": [
      "Converting to Parquet: 872it [04:44,  4.35it/s]"
     ]
    },
    {
     "name": "stdout",
     "output_type": "stream",
     "text": [
      "Uploaded tensorflow_datasets/tensorflow_datasets/downloads/manual_cambrian_dataset/cambrian_dataset_10M_part_00871.parquet\n"
     ]
    },
    {
     "name": "stderr",
     "output_type": "stream",
     "text": [
      "Converting to Parquet: 873it [04:44,  4.28it/s]"
     ]
    },
    {
     "name": "stdout",
     "output_type": "stream",
     "text": [
      "Uploaded tensorflow_datasets/tensorflow_datasets/downloads/manual_cambrian_dataset/cambrian_dataset_10M_part_00872.parquet\n"
     ]
    },
    {
     "name": "stderr",
     "output_type": "stream",
     "text": [
      "Converting to Parquet: 874it [04:44,  4.27it/s]"
     ]
    },
    {
     "name": "stdout",
     "output_type": "stream",
     "text": [
      "Uploaded tensorflow_datasets/tensorflow_datasets/downloads/manual_cambrian_dataset/cambrian_dataset_10M_part_00873.parquet\n"
     ]
    },
    {
     "name": "stderr",
     "output_type": "stream",
     "text": [
      "Converting to Parquet: 875it [04:44,  4.28it/s]"
     ]
    },
    {
     "name": "stdout",
     "output_type": "stream",
     "text": [
      "Uploaded tensorflow_datasets/tensorflow_datasets/downloads/manual_cambrian_dataset/cambrian_dataset_10M_part_00874.parquet\n"
     ]
    },
    {
     "name": "stderr",
     "output_type": "stream",
     "text": [
      "Converting to Parquet: 876it [04:45,  4.29it/s]"
     ]
    },
    {
     "name": "stdout",
     "output_type": "stream",
     "text": [
      "Uploaded tensorflow_datasets/tensorflow_datasets/downloads/manual_cambrian_dataset/cambrian_dataset_10M_part_00875.parquet\n"
     ]
    },
    {
     "name": "stderr",
     "output_type": "stream",
     "text": [
      "Converting to Parquet: 877it [04:45,  4.05it/s]"
     ]
    },
    {
     "name": "stdout",
     "output_type": "stream",
     "text": [
      "Uploaded tensorflow_datasets/tensorflow_datasets/downloads/manual_cambrian_dataset/cambrian_dataset_10M_part_00876.parquet\n"
     ]
    },
    {
     "name": "stderr",
     "output_type": "stream",
     "text": [
      "Converting to Parquet: 878it [04:45,  4.09it/s]"
     ]
    },
    {
     "name": "stdout",
     "output_type": "stream",
     "text": [
      "Uploaded tensorflow_datasets/tensorflow_datasets/downloads/manual_cambrian_dataset/cambrian_dataset_10M_part_00877.parquet\n"
     ]
    },
    {
     "name": "stderr",
     "output_type": "stream",
     "text": [
      "Converting to Parquet: 879it [04:45,  4.13it/s]"
     ]
    },
    {
     "name": "stdout",
     "output_type": "stream",
     "text": [
      "Uploaded tensorflow_datasets/tensorflow_datasets/downloads/manual_cambrian_dataset/cambrian_dataset_10M_part_00878.parquet\n"
     ]
    },
    {
     "name": "stderr",
     "output_type": "stream",
     "text": [
      "Converting to Parquet: 880it [04:46,  4.27it/s]"
     ]
    },
    {
     "name": "stdout",
     "output_type": "stream",
     "text": [
      "Uploaded tensorflow_datasets/tensorflow_datasets/downloads/manual_cambrian_dataset/cambrian_dataset_10M_part_00879.parquet\n"
     ]
    },
    {
     "name": "stderr",
     "output_type": "stream",
     "text": [
      "Converting to Parquet: 881it [04:46,  4.25it/s]"
     ]
    },
    {
     "name": "stdout",
     "output_type": "stream",
     "text": [
      "Uploaded tensorflow_datasets/tensorflow_datasets/downloads/manual_cambrian_dataset/cambrian_dataset_10M_part_00880.parquet\n"
     ]
    },
    {
     "name": "stderr",
     "output_type": "stream",
     "text": [
      "Converting to Parquet: 882it [04:46,  4.23it/s]"
     ]
    },
    {
     "name": "stdout",
     "output_type": "stream",
     "text": [
      "Uploaded tensorflow_datasets/tensorflow_datasets/downloads/manual_cambrian_dataset/cambrian_dataset_10M_part_00881.parquet\n"
     ]
    },
    {
     "name": "stderr",
     "output_type": "stream",
     "text": [
      "Converting to Parquet: 883it [04:46,  4.24it/s]"
     ]
    },
    {
     "name": "stdout",
     "output_type": "stream",
     "text": [
      "Uploaded tensorflow_datasets/tensorflow_datasets/downloads/manual_cambrian_dataset/cambrian_dataset_10M_part_00882.parquet\n"
     ]
    },
    {
     "name": "stderr",
     "output_type": "stream",
     "text": [
      "Converting to Parquet: 884it [04:46,  4.31it/s]"
     ]
    },
    {
     "name": "stdout",
     "output_type": "stream",
     "text": [
      "Uploaded tensorflow_datasets/tensorflow_datasets/downloads/manual_cambrian_dataset/cambrian_dataset_10M_part_00883.parquet\n"
     ]
    },
    {
     "name": "stderr",
     "output_type": "stream",
     "text": [
      "Converting to Parquet: 885it [04:47,  4.28it/s]"
     ]
    },
    {
     "name": "stdout",
     "output_type": "stream",
     "text": [
      "Uploaded tensorflow_datasets/tensorflow_datasets/downloads/manual_cambrian_dataset/cambrian_dataset_10M_part_00884.parquet\n"
     ]
    },
    {
     "name": "stderr",
     "output_type": "stream",
     "text": [
      "Converting to Parquet: 886it [04:47,  4.27it/s]"
     ]
    },
    {
     "name": "stdout",
     "output_type": "stream",
     "text": [
      "Uploaded tensorflow_datasets/tensorflow_datasets/downloads/manual_cambrian_dataset/cambrian_dataset_10M_part_00885.parquet\n"
     ]
    },
    {
     "name": "stderr",
     "output_type": "stream",
     "text": [
      "Converting to Parquet: 887it [04:47,  4.33it/s]"
     ]
    },
    {
     "name": "stdout",
     "output_type": "stream",
     "text": [
      "Uploaded tensorflow_datasets/tensorflow_datasets/downloads/manual_cambrian_dataset/cambrian_dataset_10M_part_00886.parquet\n"
     ]
    },
    {
     "name": "stderr",
     "output_type": "stream",
     "text": [
      "Converting to Parquet: 888it [04:47,  4.42it/s]"
     ]
    },
    {
     "name": "stdout",
     "output_type": "stream",
     "text": [
      "Uploaded tensorflow_datasets/tensorflow_datasets/downloads/manual_cambrian_dataset/cambrian_dataset_10M_part_00887.parquet\n"
     ]
    },
    {
     "name": "stderr",
     "output_type": "stream",
     "text": [
      "Converting to Parquet: 889it [04:48,  4.38it/s]"
     ]
    },
    {
     "name": "stdout",
     "output_type": "stream",
     "text": [
      "Uploaded tensorflow_datasets/tensorflow_datasets/downloads/manual_cambrian_dataset/cambrian_dataset_10M_part_00888.parquet\n"
     ]
    },
    {
     "name": "stderr",
     "output_type": "stream",
     "text": [
      "Converting to Parquet: 890it [04:48,  4.16it/s]"
     ]
    },
    {
     "name": "stdout",
     "output_type": "stream",
     "text": [
      "Uploaded tensorflow_datasets/tensorflow_datasets/downloads/manual_cambrian_dataset/cambrian_dataset_10M_part_00889.parquet\n"
     ]
    },
    {
     "name": "stderr",
     "output_type": "stream",
     "text": [
      "Converting to Parquet: 891it [04:48,  4.27it/s]"
     ]
    },
    {
     "name": "stdout",
     "output_type": "stream",
     "text": [
      "Uploaded tensorflow_datasets/tensorflow_datasets/downloads/manual_cambrian_dataset/cambrian_dataset_10M_part_00890.parquet\n"
     ]
    },
    {
     "name": "stderr",
     "output_type": "stream",
     "text": [
      "Converting to Parquet: 892it [04:48,  4.16it/s]"
     ]
    },
    {
     "name": "stdout",
     "output_type": "stream",
     "text": [
      "Uploaded tensorflow_datasets/tensorflow_datasets/downloads/manual_cambrian_dataset/cambrian_dataset_10M_part_00891.parquet\n"
     ]
    },
    {
     "name": "stderr",
     "output_type": "stream",
     "text": [
      "Converting to Parquet: 893it [04:49,  4.26it/s]"
     ]
    },
    {
     "name": "stdout",
     "output_type": "stream",
     "text": [
      "Uploaded tensorflow_datasets/tensorflow_datasets/downloads/manual_cambrian_dataset/cambrian_dataset_10M_part_00892.parquet\n"
     ]
    },
    {
     "name": "stderr",
     "output_type": "stream",
     "text": [
      "Converting to Parquet: 894it [04:49,  4.24it/s]"
     ]
    },
    {
     "name": "stdout",
     "output_type": "stream",
     "text": [
      "Uploaded tensorflow_datasets/tensorflow_datasets/downloads/manual_cambrian_dataset/cambrian_dataset_10M_part_00893.parquet\n"
     ]
    },
    {
     "name": "stderr",
     "output_type": "stream",
     "text": [
      "Converting to Parquet: 896it [04:49,  4.87it/s]"
     ]
    },
    {
     "name": "stdout",
     "output_type": "stream",
     "text": [
      "Uploaded tensorflow_datasets/tensorflow_datasets/downloads/manual_cambrian_dataset/cambrian_dataset_10M_part_00894.parquet\n",
      "Uploaded tensorflow_datasets/tensorflow_datasets/downloads/manual_cambrian_dataset/cambrian_dataset_10M_part_00895.parquet\n"
     ]
    },
    {
     "name": "stderr",
     "output_type": "stream",
     "text": [
      "Converting to Parquet: 898it [04:49,  6.08it/s]"
     ]
    },
    {
     "name": "stdout",
     "output_type": "stream",
     "text": [
      "Uploaded tensorflow_datasets/tensorflow_datasets/downloads/manual_cambrian_dataset/cambrian_dataset_10M_part_00896.parquet\n",
      "Uploaded tensorflow_datasets/tensorflow_datasets/downloads/manual_cambrian_dataset/cambrian_dataset_10M_part_00897.parquet\n"
     ]
    },
    {
     "name": "stderr",
     "output_type": "stream",
     "text": [
      "Converting to Parquet: 899it [04:50,  5.74it/s]"
     ]
    },
    {
     "name": "stdout",
     "output_type": "stream",
     "text": [
      "Uploaded tensorflow_datasets/tensorflow_datasets/downloads/manual_cambrian_dataset/cambrian_dataset_10M_part_00898.parquet\n"
     ]
    },
    {
     "name": "stderr",
     "output_type": "stream",
     "text": [
      "Converting to Parquet: 900it [04:50,  5.18it/s]"
     ]
    },
    {
     "name": "stdout",
     "output_type": "stream",
     "text": [
      "Uploaded tensorflow_datasets/tensorflow_datasets/downloads/manual_cambrian_dataset/cambrian_dataset_10M_part_00899.parquet\n"
     ]
    },
    {
     "name": "stderr",
     "output_type": "stream",
     "text": [
      "Converting to Parquet: 901it [04:50,  4.78it/s]"
     ]
    },
    {
     "name": "stdout",
     "output_type": "stream",
     "text": [
      "Uploaded tensorflow_datasets/tensorflow_datasets/downloads/manual_cambrian_dataset/cambrian_dataset_10M_part_00900.parquet\n"
     ]
    },
    {
     "name": "stderr",
     "output_type": "stream",
     "text": [
      "Converting to Parquet: 902it [04:50,  4.46it/s]"
     ]
    },
    {
     "name": "stdout",
     "output_type": "stream",
     "text": [
      "Uploaded tensorflow_datasets/tensorflow_datasets/downloads/manual_cambrian_dataset/cambrian_dataset_10M_part_00901.parquet\n"
     ]
    },
    {
     "name": "stderr",
     "output_type": "stream",
     "text": [
      "Converting to Parquet: 903it [04:51,  4.23it/s]"
     ]
    },
    {
     "name": "stdout",
     "output_type": "stream",
     "text": [
      "Uploaded tensorflow_datasets/tensorflow_datasets/downloads/manual_cambrian_dataset/cambrian_dataset_10M_part_00902.parquet\n"
     ]
    },
    {
     "name": "stderr",
     "output_type": "stream",
     "text": [
      "Converting to Parquet: 904it [04:51,  4.20it/s]"
     ]
    },
    {
     "name": "stdout",
     "output_type": "stream",
     "text": [
      "Uploaded tensorflow_datasets/tensorflow_datasets/downloads/manual_cambrian_dataset/cambrian_dataset_10M_part_00903.parquet\n"
     ]
    },
    {
     "name": "stderr",
     "output_type": "stream",
     "text": [
      "Converting to Parquet: 905it [04:51,  4.25it/s]"
     ]
    },
    {
     "name": "stdout",
     "output_type": "stream",
     "text": [
      "Uploaded tensorflow_datasets/tensorflow_datasets/downloads/manual_cambrian_dataset/cambrian_dataset_10M_part_00904.parquet\n"
     ]
    },
    {
     "name": "stderr",
     "output_type": "stream",
     "text": [
      "Converting to Parquet: 906it [04:51,  4.27it/s]"
     ]
    },
    {
     "name": "stdout",
     "output_type": "stream",
     "text": [
      "Uploaded tensorflow_datasets/tensorflow_datasets/downloads/manual_cambrian_dataset/cambrian_dataset_10M_part_00905.parquet\n"
     ]
    },
    {
     "name": "stderr",
     "output_type": "stream",
     "text": [
      "Converting to Parquet: 907it [04:52,  4.36it/s]"
     ]
    },
    {
     "name": "stdout",
     "output_type": "stream",
     "text": [
      "Uploaded tensorflow_datasets/tensorflow_datasets/downloads/manual_cambrian_dataset/cambrian_dataset_10M_part_00906.parquet\n"
     ]
    },
    {
     "name": "stderr",
     "output_type": "stream",
     "text": [
      "Converting to Parquet: 908it [04:52,  4.18it/s]"
     ]
    },
    {
     "name": "stdout",
     "output_type": "stream",
     "text": [
      "Uploaded tensorflow_datasets/tensorflow_datasets/downloads/manual_cambrian_dataset/cambrian_dataset_10M_part_00907.parquet\n"
     ]
    },
    {
     "name": "stderr",
     "output_type": "stream",
     "text": [
      "Converting to Parquet: 909it [04:52,  4.24it/s]"
     ]
    },
    {
     "name": "stdout",
     "output_type": "stream",
     "text": [
      "Uploaded tensorflow_datasets/tensorflow_datasets/downloads/manual_cambrian_dataset/cambrian_dataset_10M_part_00908.parquet\n"
     ]
    },
    {
     "name": "stderr",
     "output_type": "stream",
     "text": [
      "Converting to Parquet: 910it [04:52,  4.23it/s]"
     ]
    },
    {
     "name": "stdout",
     "output_type": "stream",
     "text": [
      "Uploaded tensorflow_datasets/tensorflow_datasets/downloads/manual_cambrian_dataset/cambrian_dataset_10M_part_00909.parquet\n"
     ]
    },
    {
     "name": "stderr",
     "output_type": "stream",
     "text": [
      "Converting to Parquet: 911it [04:52,  4.18it/s]"
     ]
    },
    {
     "name": "stdout",
     "output_type": "stream",
     "text": [
      "Uploaded tensorflow_datasets/tensorflow_datasets/downloads/manual_cambrian_dataset/cambrian_dataset_10M_part_00910.parquet\n"
     ]
    },
    {
     "name": "stderr",
     "output_type": "stream",
     "text": [
      "Converting to Parquet: 912it [04:53,  4.22it/s]"
     ]
    },
    {
     "name": "stdout",
     "output_type": "stream",
     "text": [
      "Uploaded tensorflow_datasets/tensorflow_datasets/downloads/manual_cambrian_dataset/cambrian_dataset_10M_part_00911.parquet\n"
     ]
    },
    {
     "name": "stderr",
     "output_type": "stream",
     "text": [
      "Converting to Parquet: 913it [04:53,  4.12it/s]"
     ]
    },
    {
     "name": "stdout",
     "output_type": "stream",
     "text": [
      "Uploaded tensorflow_datasets/tensorflow_datasets/downloads/manual_cambrian_dataset/cambrian_dataset_10M_part_00912.parquet\n"
     ]
    },
    {
     "name": "stderr",
     "output_type": "stream",
     "text": [
      "Converting to Parquet: 914it [04:53,  4.09it/s]"
     ]
    },
    {
     "name": "stdout",
     "output_type": "stream",
     "text": [
      "Uploaded tensorflow_datasets/tensorflow_datasets/downloads/manual_cambrian_dataset/cambrian_dataset_10M_part_00913.parquet\n"
     ]
    },
    {
     "name": "stderr",
     "output_type": "stream",
     "text": [
      "Converting to Parquet: 915it [04:53,  4.30it/s]"
     ]
    },
    {
     "name": "stdout",
     "output_type": "stream",
     "text": [
      "Uploaded tensorflow_datasets/tensorflow_datasets/downloads/manual_cambrian_dataset/cambrian_dataset_10M_part_00914.parquet\n"
     ]
    },
    {
     "name": "stderr",
     "output_type": "stream",
     "text": [
      "Converting to Parquet: 916it [04:54,  4.27it/s]"
     ]
    },
    {
     "name": "stdout",
     "output_type": "stream",
     "text": [
      "Uploaded tensorflow_datasets/tensorflow_datasets/downloads/manual_cambrian_dataset/cambrian_dataset_10M_part_00915.parquet\n"
     ]
    },
    {
     "name": "stderr",
     "output_type": "stream",
     "text": [
      "Converting to Parquet: 917it [04:54,  4.31it/s]"
     ]
    },
    {
     "name": "stdout",
     "output_type": "stream",
     "text": [
      "Uploaded tensorflow_datasets/tensorflow_datasets/downloads/manual_cambrian_dataset/cambrian_dataset_10M_part_00916.parquet\n"
     ]
    },
    {
     "name": "stderr",
     "output_type": "stream",
     "text": [
      "Converting to Parquet: 918it [04:54,  4.44it/s]"
     ]
    },
    {
     "name": "stdout",
     "output_type": "stream",
     "text": [
      "Uploaded tensorflow_datasets/tensorflow_datasets/downloads/manual_cambrian_dataset/cambrian_dataset_10M_part_00917.parquet\n"
     ]
    },
    {
     "name": "stderr",
     "output_type": "stream",
     "text": [
      "Converting to Parquet: 919it [04:54,  4.45it/s]"
     ]
    },
    {
     "name": "stdout",
     "output_type": "stream",
     "text": [
      "Uploaded tensorflow_datasets/tensorflow_datasets/downloads/manual_cambrian_dataset/cambrian_dataset_10M_part_00918.parquet\n"
     ]
    },
    {
     "name": "stderr",
     "output_type": "stream",
     "text": [
      "Converting to Parquet: 920it [04:55,  4.34it/s]"
     ]
    },
    {
     "name": "stdout",
     "output_type": "stream",
     "text": [
      "Uploaded tensorflow_datasets/tensorflow_datasets/downloads/manual_cambrian_dataset/cambrian_dataset_10M_part_00919.parquet\n"
     ]
    },
    {
     "name": "stderr",
     "output_type": "stream",
     "text": [
      "Converting to Parquet: 921it [04:55,  4.40it/s]"
     ]
    },
    {
     "name": "stdout",
     "output_type": "stream",
     "text": [
      "Uploaded tensorflow_datasets/tensorflow_datasets/downloads/manual_cambrian_dataset/cambrian_dataset_10M_part_00920.parquet\n"
     ]
    },
    {
     "name": "stderr",
     "output_type": "stream",
     "text": [
      "Converting to Parquet: 922it [04:55,  4.31it/s]"
     ]
    },
    {
     "name": "stdout",
     "output_type": "stream",
     "text": [
      "Uploaded tensorflow_datasets/tensorflow_datasets/downloads/manual_cambrian_dataset/cambrian_dataset_10M_part_00921.parquet\n"
     ]
    },
    {
     "name": "stderr",
     "output_type": "stream",
     "text": [
      "Converting to Parquet: 923it [04:55,  4.35it/s]"
     ]
    },
    {
     "name": "stdout",
     "output_type": "stream",
     "text": [
      "Uploaded tensorflow_datasets/tensorflow_datasets/downloads/manual_cambrian_dataset/cambrian_dataset_10M_part_00922.parquet\n"
     ]
    },
    {
     "name": "stderr",
     "output_type": "stream",
     "text": [
      "Converting to Parquet: 924it [04:55,  4.44it/s]"
     ]
    },
    {
     "name": "stdout",
     "output_type": "stream",
     "text": [
      "Uploaded tensorflow_datasets/tensorflow_datasets/downloads/manual_cambrian_dataset/cambrian_dataset_10M_part_00923.parquet\n"
     ]
    },
    {
     "name": "stderr",
     "output_type": "stream",
     "text": [
      "Converting to Parquet: 925it [04:56,  4.47it/s]"
     ]
    },
    {
     "name": "stdout",
     "output_type": "stream",
     "text": [
      "Uploaded tensorflow_datasets/tensorflow_datasets/downloads/manual_cambrian_dataset/cambrian_dataset_10M_part_00924.parquet\n"
     ]
    },
    {
     "name": "stderr",
     "output_type": "stream",
     "text": [
      "Converting to Parquet: 926it [04:56,  4.28it/s]"
     ]
    },
    {
     "name": "stdout",
     "output_type": "stream",
     "text": [
      "Uploaded tensorflow_datasets/tensorflow_datasets/downloads/manual_cambrian_dataset/cambrian_dataset_10M_part_00925.parquet\n"
     ]
    },
    {
     "name": "stderr",
     "output_type": "stream",
     "text": [
      "Converting to Parquet: 927it [04:56,  4.33it/s]"
     ]
    },
    {
     "name": "stdout",
     "output_type": "stream",
     "text": [
      "Uploaded tensorflow_datasets/tensorflow_datasets/downloads/manual_cambrian_dataset/cambrian_dataset_10M_part_00926.parquet\n"
     ]
    },
    {
     "name": "stderr",
     "output_type": "stream",
     "text": [
      "Converting to Parquet: 928it [04:56,  4.38it/s]"
     ]
    },
    {
     "name": "stdout",
     "output_type": "stream",
     "text": [
      "Uploaded tensorflow_datasets/tensorflow_datasets/downloads/manual_cambrian_dataset/cambrian_dataset_10M_part_00927.parquet\n"
     ]
    },
    {
     "name": "stderr",
     "output_type": "stream",
     "text": [
      "Converting to Parquet: 929it [04:57,  4.15it/s]"
     ]
    },
    {
     "name": "stdout",
     "output_type": "stream",
     "text": [
      "Uploaded tensorflow_datasets/tensorflow_datasets/downloads/manual_cambrian_dataset/cambrian_dataset_10M_part_00928.parquet\n"
     ]
    },
    {
     "name": "stderr",
     "output_type": "stream",
     "text": [
      "Converting to Parquet: 930it [04:57,  3.99it/s]"
     ]
    },
    {
     "name": "stdout",
     "output_type": "stream",
     "text": [
      "Uploaded tensorflow_datasets/tensorflow_datasets/downloads/manual_cambrian_dataset/cambrian_dataset_10M_part_00929.parquet\n"
     ]
    },
    {
     "name": "stderr",
     "output_type": "stream",
     "text": [
      "Converting to Parquet: 931it [04:57,  4.03it/s]"
     ]
    },
    {
     "name": "stdout",
     "output_type": "stream",
     "text": [
      "Uploaded tensorflow_datasets/tensorflow_datasets/downloads/manual_cambrian_dataset/cambrian_dataset_10M_part_00930.parquet\n"
     ]
    },
    {
     "name": "stderr",
     "output_type": "stream",
     "text": [
      "Converting to Parquet: 932it [04:57,  3.98it/s]"
     ]
    },
    {
     "name": "stdout",
     "output_type": "stream",
     "text": [
      "Uploaded tensorflow_datasets/tensorflow_datasets/downloads/manual_cambrian_dataset/cambrian_dataset_10M_part_00931.parquet\n"
     ]
    },
    {
     "name": "stderr",
     "output_type": "stream",
     "text": [
      "Converting to Parquet: 933it [04:58,  4.20it/s]"
     ]
    },
    {
     "name": "stdout",
     "output_type": "stream",
     "text": [
      "Uploaded tensorflow_datasets/tensorflow_datasets/downloads/manual_cambrian_dataset/cambrian_dataset_10M_part_00932.parquet\n"
     ]
    },
    {
     "name": "stderr",
     "output_type": "stream",
     "text": [
      "Converting to Parquet: 934it [04:58,  4.07it/s]"
     ]
    },
    {
     "name": "stdout",
     "output_type": "stream",
     "text": [
      "Uploaded tensorflow_datasets/tensorflow_datasets/downloads/manual_cambrian_dataset/cambrian_dataset_10M_part_00933.parquet\n"
     ]
    },
    {
     "name": "stderr",
     "output_type": "stream",
     "text": [
      "Converting to Parquet: 935it [04:58,  4.10it/s]"
     ]
    },
    {
     "name": "stdout",
     "output_type": "stream",
     "text": [
      "Uploaded tensorflow_datasets/tensorflow_datasets/downloads/manual_cambrian_dataset/cambrian_dataset_10M_part_00934.parquet\n"
     ]
    },
    {
     "name": "stderr",
     "output_type": "stream",
     "text": [
      "Converting to Parquet: 936it [04:58,  4.11it/s]"
     ]
    },
    {
     "name": "stdout",
     "output_type": "stream",
     "text": [
      "Uploaded tensorflow_datasets/tensorflow_datasets/downloads/manual_cambrian_dataset/cambrian_dataset_10M_part_00935.parquet\n"
     ]
    },
    {
     "name": "stderr",
     "output_type": "stream",
     "text": [
      "Converting to Parquet: 937it [04:59,  4.04it/s]"
     ]
    },
    {
     "name": "stdout",
     "output_type": "stream",
     "text": [
      "Uploaded tensorflow_datasets/tensorflow_datasets/downloads/manual_cambrian_dataset/cambrian_dataset_10M_part_00936.parquet\n"
     ]
    },
    {
     "name": "stderr",
     "output_type": "stream",
     "text": [
      "Converting to Parquet: 938it [04:59,  3.79it/s]"
     ]
    },
    {
     "name": "stdout",
     "output_type": "stream",
     "text": [
      "Uploaded tensorflow_datasets/tensorflow_datasets/downloads/manual_cambrian_dataset/cambrian_dataset_10M_part_00937.parquet\n"
     ]
    },
    {
     "name": "stderr",
     "output_type": "stream",
     "text": [
      "Converting to Parquet: 939it [04:59,  3.88it/s]"
     ]
    },
    {
     "name": "stdout",
     "output_type": "stream",
     "text": [
      "Uploaded tensorflow_datasets/tensorflow_datasets/downloads/manual_cambrian_dataset/cambrian_dataset_10M_part_00938.parquet\n"
     ]
    },
    {
     "name": "stderr",
     "output_type": "stream",
     "text": [
      "Converting to Parquet: 940it [05:00,  3.72it/s]"
     ]
    },
    {
     "name": "stdout",
     "output_type": "stream",
     "text": [
      "Uploaded tensorflow_datasets/tensorflow_datasets/downloads/manual_cambrian_dataset/cambrian_dataset_10M_part_00939.parquet\n"
     ]
    },
    {
     "name": "stderr",
     "output_type": "stream",
     "text": [
      "Converting to Parquet: 941it [05:00,  3.96it/s]"
     ]
    },
    {
     "name": "stdout",
     "output_type": "stream",
     "text": [
      "Uploaded tensorflow_datasets/tensorflow_datasets/downloads/manual_cambrian_dataset/cambrian_dataset_10M_part_00940.parquet\n"
     ]
    },
    {
     "name": "stderr",
     "output_type": "stream",
     "text": [
      "Converting to Parquet: 942it [05:00,  3.75it/s]"
     ]
    },
    {
     "name": "stdout",
     "output_type": "stream",
     "text": [
      "Uploaded tensorflow_datasets/tensorflow_datasets/downloads/manual_cambrian_dataset/cambrian_dataset_10M_part_00941.parquet\n"
     ]
    },
    {
     "name": "stderr",
     "output_type": "stream",
     "text": [
      "Converting to Parquet: 943it [05:00,  3.66it/s]"
     ]
    },
    {
     "name": "stdout",
     "output_type": "stream",
     "text": [
      "Uploaded tensorflow_datasets/tensorflow_datasets/downloads/manual_cambrian_dataset/cambrian_dataset_10M_part_00942.parquet\n"
     ]
    },
    {
     "name": "stderr",
     "output_type": "stream",
     "text": [
      "Converting to Parquet: 944it [05:01,  3.54it/s]"
     ]
    },
    {
     "name": "stdout",
     "output_type": "stream",
     "text": [
      "Uploaded tensorflow_datasets/tensorflow_datasets/downloads/manual_cambrian_dataset/cambrian_dataset_10M_part_00943.parquet\n"
     ]
    },
    {
     "name": "stderr",
     "output_type": "stream",
     "text": [
      "Converting to Parquet: 945it [05:01,  3.74it/s]"
     ]
    },
    {
     "name": "stdout",
     "output_type": "stream",
     "text": [
      "Uploaded tensorflow_datasets/tensorflow_datasets/downloads/manual_cambrian_dataset/cambrian_dataset_10M_part_00944.parquet\n"
     ]
    },
    {
     "name": "stderr",
     "output_type": "stream",
     "text": [
      "Converting to Parquet: 946it [05:01,  3.88it/s]"
     ]
    },
    {
     "name": "stdout",
     "output_type": "stream",
     "text": [
      "Uploaded tensorflow_datasets/tensorflow_datasets/downloads/manual_cambrian_dataset/cambrian_dataset_10M_part_00945.parquet\n"
     ]
    },
    {
     "name": "stderr",
     "output_type": "stream",
     "text": [
      "Converting to Parquet: 947it [05:01,  3.90it/s]"
     ]
    },
    {
     "name": "stdout",
     "output_type": "stream",
     "text": [
      "Uploaded tensorflow_datasets/tensorflow_datasets/downloads/manual_cambrian_dataset/cambrian_dataset_10M_part_00946.parquet\n"
     ]
    },
    {
     "name": "stderr",
     "output_type": "stream",
     "text": [
      "Converting to Parquet: 948it [05:02,  3.94it/s]"
     ]
    },
    {
     "name": "stdout",
     "output_type": "stream",
     "text": [
      "Uploaded tensorflow_datasets/tensorflow_datasets/downloads/manual_cambrian_dataset/cambrian_dataset_10M_part_00947.parquet\n"
     ]
    },
    {
     "name": "stderr",
     "output_type": "stream",
     "text": [
      "Converting to Parquet: 949it [05:02,  3.99it/s]"
     ]
    },
    {
     "name": "stdout",
     "output_type": "stream",
     "text": [
      "Uploaded tensorflow_datasets/tensorflow_datasets/downloads/manual_cambrian_dataset/cambrian_dataset_10M_part_00948.parquet\n"
     ]
    },
    {
     "name": "stderr",
     "output_type": "stream",
     "text": [
      "Converting to Parquet: 950it [05:02,  4.13it/s]"
     ]
    },
    {
     "name": "stdout",
     "output_type": "stream",
     "text": [
      "Uploaded tensorflow_datasets/tensorflow_datasets/downloads/manual_cambrian_dataset/cambrian_dataset_10M_part_00949.parquet\n"
     ]
    },
    {
     "name": "stderr",
     "output_type": "stream",
     "text": [
      "Converting to Parquet: 951it [05:02,  4.13it/s]"
     ]
    },
    {
     "name": "stdout",
     "output_type": "stream",
     "text": [
      "Uploaded tensorflow_datasets/tensorflow_datasets/downloads/manual_cambrian_dataset/cambrian_dataset_10M_part_00950.parquet\n"
     ]
    },
    {
     "name": "stderr",
     "output_type": "stream",
     "text": [
      "Converting to Parquet: 952it [05:03,  4.23it/s]"
     ]
    },
    {
     "name": "stdout",
     "output_type": "stream",
     "text": [
      "Uploaded tensorflow_datasets/tensorflow_datasets/downloads/manual_cambrian_dataset/cambrian_dataset_10M_part_00951.parquet\n"
     ]
    },
    {
     "name": "stderr",
     "output_type": "stream",
     "text": [
      "Converting to Parquet: 953it [05:03,  4.42it/s]"
     ]
    },
    {
     "name": "stdout",
     "output_type": "stream",
     "text": [
      "Uploaded tensorflow_datasets/tensorflow_datasets/downloads/manual_cambrian_dataset/cambrian_dataset_10M_part_00952.parquet\n"
     ]
    },
    {
     "name": "stderr",
     "output_type": "stream",
     "text": [
      "Converting to Parquet: 954it [05:03,  4.36it/s]"
     ]
    },
    {
     "name": "stdout",
     "output_type": "stream",
     "text": [
      "Uploaded tensorflow_datasets/tensorflow_datasets/downloads/manual_cambrian_dataset/cambrian_dataset_10M_part_00953.parquet\n"
     ]
    },
    {
     "name": "stderr",
     "output_type": "stream",
     "text": [
      "Converting to Parquet: 955it [05:03,  4.27it/s]"
     ]
    },
    {
     "name": "stdout",
     "output_type": "stream",
     "text": [
      "Uploaded tensorflow_datasets/tensorflow_datasets/downloads/manual_cambrian_dataset/cambrian_dataset_10M_part_00954.parquet\n"
     ]
    },
    {
     "name": "stderr",
     "output_type": "stream",
     "text": [
      "Converting to Parquet: 956it [05:03,  4.40it/s]"
     ]
    },
    {
     "name": "stdout",
     "output_type": "stream",
     "text": [
      "Uploaded tensorflow_datasets/tensorflow_datasets/downloads/manual_cambrian_dataset/cambrian_dataset_10M_part_00955.parquet\n"
     ]
    },
    {
     "name": "stderr",
     "output_type": "stream",
     "text": [
      "Converting to Parquet: 957it [05:04,  4.36it/s]"
     ]
    },
    {
     "name": "stdout",
     "output_type": "stream",
     "text": [
      "Uploaded tensorflow_datasets/tensorflow_datasets/downloads/manual_cambrian_dataset/cambrian_dataset_10M_part_00956.parquet\n"
     ]
    },
    {
     "name": "stderr",
     "output_type": "stream",
     "text": [
      "Converting to Parquet: 958it [05:04,  4.39it/s]"
     ]
    },
    {
     "name": "stdout",
     "output_type": "stream",
     "text": [
      "Uploaded tensorflow_datasets/tensorflow_datasets/downloads/manual_cambrian_dataset/cambrian_dataset_10M_part_00957.parquet\n"
     ]
    },
    {
     "name": "stderr",
     "output_type": "stream",
     "text": [
      "Converting to Parquet: 959it [05:04,  4.30it/s]"
     ]
    },
    {
     "name": "stdout",
     "output_type": "stream",
     "text": [
      "Uploaded tensorflow_datasets/tensorflow_datasets/downloads/manual_cambrian_dataset/cambrian_dataset_10M_part_00958.parquet\n"
     ]
    },
    {
     "name": "stderr",
     "output_type": "stream",
     "text": [
      "Converting to Parquet: 960it [05:04,  4.03it/s]"
     ]
    },
    {
     "name": "stdout",
     "output_type": "stream",
     "text": [
      "Uploaded tensorflow_datasets/tensorflow_datasets/downloads/manual_cambrian_dataset/cambrian_dataset_10M_part_00959.parquet\n"
     ]
    },
    {
     "name": "stderr",
     "output_type": "stream",
     "text": [
      "Converting to Parquet: 961it [05:05,  4.24it/s]"
     ]
    },
    {
     "name": "stdout",
     "output_type": "stream",
     "text": [
      "Uploaded tensorflow_datasets/tensorflow_datasets/downloads/manual_cambrian_dataset/cambrian_dataset_10M_part_00960.parquet\n"
     ]
    },
    {
     "name": "stderr",
     "output_type": "stream",
     "text": [
      "Converting to Parquet: 962it [05:05,  4.06it/s]"
     ]
    },
    {
     "name": "stdout",
     "output_type": "stream",
     "text": [
      "Uploaded tensorflow_datasets/tensorflow_datasets/downloads/manual_cambrian_dataset/cambrian_dataset_10M_part_00961.parquet\n"
     ]
    },
    {
     "name": "stderr",
     "output_type": "stream",
     "text": [
      "Converting to Parquet: 963it [05:05,  3.96it/s]"
     ]
    },
    {
     "name": "stdout",
     "output_type": "stream",
     "text": [
      "Uploaded tensorflow_datasets/tensorflow_datasets/downloads/manual_cambrian_dataset/cambrian_dataset_10M_part_00962.parquet\n"
     ]
    },
    {
     "name": "stderr",
     "output_type": "stream",
     "text": [
      "Converting to Parquet: 964it [05:05,  3.95it/s]"
     ]
    },
    {
     "name": "stdout",
     "output_type": "stream",
     "text": [
      "Uploaded tensorflow_datasets/tensorflow_datasets/downloads/manual_cambrian_dataset/cambrian_dataset_10M_part_00963.parquet\n"
     ]
    },
    {
     "name": "stderr",
     "output_type": "stream",
     "text": [
      "Converting to Parquet: 965it [05:06,  3.91it/s]"
     ]
    },
    {
     "name": "stdout",
     "output_type": "stream",
     "text": [
      "Uploaded tensorflow_datasets/tensorflow_datasets/downloads/manual_cambrian_dataset/cambrian_dataset_10M_part_00964.parquet\n"
     ]
    },
    {
     "name": "stderr",
     "output_type": "stream",
     "text": [
      "Converting to Parquet: 966it [05:06,  4.02it/s]"
     ]
    },
    {
     "name": "stdout",
     "output_type": "stream",
     "text": [
      "Uploaded tensorflow_datasets/tensorflow_datasets/downloads/manual_cambrian_dataset/cambrian_dataset_10M_part_00965.parquet\n"
     ]
    },
    {
     "name": "stderr",
     "output_type": "stream",
     "text": [
      "Converting to Parquet: 967it [05:06,  4.07it/s]"
     ]
    },
    {
     "name": "stdout",
     "output_type": "stream",
     "text": [
      "Uploaded tensorflow_datasets/tensorflow_datasets/downloads/manual_cambrian_dataset/cambrian_dataset_10M_part_00966.parquet\n"
     ]
    },
    {
     "name": "stderr",
     "output_type": "stream",
     "text": [
      "Converting to Parquet: 968it [05:06,  3.78it/s]"
     ]
    },
    {
     "name": "stdout",
     "output_type": "stream",
     "text": [
      "Uploaded tensorflow_datasets/tensorflow_datasets/downloads/manual_cambrian_dataset/cambrian_dataset_10M_part_00967.parquet\n"
     ]
    },
    {
     "name": "stderr",
     "output_type": "stream",
     "text": [
      "Converting to Parquet: 969it [05:07,  3.88it/s]"
     ]
    },
    {
     "name": "stdout",
     "output_type": "stream",
     "text": [
      "Uploaded tensorflow_datasets/tensorflow_datasets/downloads/manual_cambrian_dataset/cambrian_dataset_10M_part_00968.parquet\n"
     ]
    },
    {
     "name": "stderr",
     "output_type": "stream",
     "text": [
      "Converting to Parquet: 970it [05:07,  4.01it/s]"
     ]
    },
    {
     "name": "stdout",
     "output_type": "stream",
     "text": [
      "Uploaded tensorflow_datasets/tensorflow_datasets/downloads/manual_cambrian_dataset/cambrian_dataset_10M_part_00969.parquet\n"
     ]
    },
    {
     "name": "stderr",
     "output_type": "stream",
     "text": [
      "Converting to Parquet: 971it [05:07,  4.06it/s]"
     ]
    },
    {
     "name": "stdout",
     "output_type": "stream",
     "text": [
      "Uploaded tensorflow_datasets/tensorflow_datasets/downloads/manual_cambrian_dataset/cambrian_dataset_10M_part_00970.parquet\n"
     ]
    },
    {
     "name": "stderr",
     "output_type": "stream",
     "text": [
      "Converting to Parquet: 972it [05:07,  4.09it/s]"
     ]
    },
    {
     "name": "stdout",
     "output_type": "stream",
     "text": [
      "Uploaded tensorflow_datasets/tensorflow_datasets/downloads/manual_cambrian_dataset/cambrian_dataset_10M_part_00971.parquet\n"
     ]
    },
    {
     "name": "stderr",
     "output_type": "stream",
     "text": [
      "Converting to Parquet: 973it [05:08,  3.89it/s]"
     ]
    },
    {
     "name": "stdout",
     "output_type": "stream",
     "text": [
      "Uploaded tensorflow_datasets/tensorflow_datasets/downloads/manual_cambrian_dataset/cambrian_dataset_10M_part_00972.parquet\n"
     ]
    },
    {
     "name": "stderr",
     "output_type": "stream",
     "text": [
      "Converting to Parquet: 974it [05:08,  4.00it/s]"
     ]
    },
    {
     "name": "stdout",
     "output_type": "stream",
     "text": [
      "Uploaded tensorflow_datasets/tensorflow_datasets/downloads/manual_cambrian_dataset/cambrian_dataset_10M_part_00973.parquet\n"
     ]
    },
    {
     "name": "stderr",
     "output_type": "stream",
     "text": [
      "Converting to Parquet: 975it [05:08,  4.02it/s]"
     ]
    },
    {
     "name": "stdout",
     "output_type": "stream",
     "text": [
      "Uploaded tensorflow_datasets/tensorflow_datasets/downloads/manual_cambrian_dataset/cambrian_dataset_10M_part_00974.parquet\n"
     ]
    },
    {
     "name": "stderr",
     "output_type": "stream",
     "text": [
      "Converting to Parquet: 976it [05:08,  4.06it/s]"
     ]
    },
    {
     "name": "stdout",
     "output_type": "stream",
     "text": [
      "Uploaded tensorflow_datasets/tensorflow_datasets/downloads/manual_cambrian_dataset/cambrian_dataset_10M_part_00975.parquet\n"
     ]
    },
    {
     "name": "stderr",
     "output_type": "stream",
     "text": [
      "Converting to Parquet: 977it [05:09,  4.08it/s]"
     ]
    },
    {
     "name": "stdout",
     "output_type": "stream",
     "text": [
      "Uploaded tensorflow_datasets/tensorflow_datasets/downloads/manual_cambrian_dataset/cambrian_dataset_10M_part_00976.parquet\n"
     ]
    },
    {
     "name": "stderr",
     "output_type": "stream",
     "text": [
      "Converting to Parquet: 979it [05:09,  4.53it/s]"
     ]
    },
    {
     "name": "stdout",
     "output_type": "stream",
     "text": [
      "Uploaded tensorflow_datasets/tensorflow_datasets/downloads/manual_cambrian_dataset/cambrian_dataset_10M_part_00977.parquet\n",
      "Uploaded tensorflow_datasets/tensorflow_datasets/downloads/manual_cambrian_dataset/cambrian_dataset_10M_part_00978.parquet\n"
     ]
    },
    {
     "name": "stderr",
     "output_type": "stream",
     "text": [
      "Converting to Parquet: 979it [05:21,  3.05it/s]"
     ]
    },
    {
     "name": "stdout",
     "output_type": "stream",
     "text": [
      "Conversion and upload complete\n"
     ]
    },
    {
     "name": "stderr",
     "output_type": "stream",
     "text": [
      "\n"
     ]
    }
   ],
   "source": [
    "import json\n",
    "import pandas as pd\n",
    "import pyarrow as pa\n",
    "import pyarrow.parquet as pq\n",
    "from google.cloud import storage\n",
    "import io\n",
    "from tqdm import tqdm\n",
    "import os\n",
    "\n",
    "def json_to_parquet_gcs(json_file, gcs_bucket, gcs_prefix, chunk_size=10000):\n",
    "    # Initialize GCS client\n",
    "    storage_client = storage.Client()\n",
    "    bucket = storage_client.bucket(gcs_bucket)\n",
    "\n",
    "    # Comment out the deletion code\n",
    "    # # Remove all existing files in the destination folder\n",
    "    # blobs = bucket.list_blobs(prefix=gcs_prefix)\n",
    "    # for blob in blobs:\n",
    "    #     blob.delete()\n",
    "    # print(f\"Deleted all existing files in {gcs_prefix}\")\n",
    "\n",
    "    # Function to read JSON in chunks\n",
    "    def read_json_chunks(file, chunk_size):\n",
    "        with open(file, 'r') as f:\n",
    "            data = json.load(f)\n",
    "            for i in range(0, len(data), chunk_size):\n",
    "                yield i, data[i:i + chunk_size]\n",
    "\n",
    "    # Get the list of existing files\n",
    "    existing_files = list(bucket.list_blobs(prefix=gcs_prefix))\n",
    "    existing_parts = set(int(blob.name.split('_')[-1].split('.')[0]) for blob in existing_files)\n",
    "\n",
    "    # Process the JSON file in chunks\n",
    "    for i, chunk in tqdm(read_json_chunks(json_file, chunk_size), desc=\"Converting to Parquet\"):\n",
    "        # Skip if this part has already been processed\n",
    "        if i // chunk_size in existing_parts:\n",
    "            print(f\"Skipping part {i // chunk_size}, already processed\")\n",
    "            continue\n",
    "\n",
    "        # Convert chunk to DataFrame\n",
    "        df = pd.DataFrame(chunk)\n",
    "        \n",
    "        # Convert 'id' column to string\n",
    "        if 'id' in df.columns:\n",
    "            df['id'] = df['id'].astype(str)\n",
    "\n",
    "        # Convert DataFrame to PyArrow Table\n",
    "        table = pa.Table.from_pandas(df)\n",
    "        \n",
    "        # Write to Parquet in memory\n",
    "        buf = io.BytesIO()\n",
    "        pq.write_table(table, buf)\n",
    "        buf.seek(0)\n",
    "        \n",
    "        # Upload to GCS\n",
    "        blob_name = f\"{gcs_prefix}/cambrian_dataset_10M_part_{i // chunk_size:05d}.parquet\"\n",
    "        blob = bucket.blob(blob_name)\n",
    "        blob.upload_from_file(buf, content_type='application/octet-stream')\n",
    "        \n",
    "        print(f\"Uploaded {blob_name}\")\n",
    "\n",
    "# File paths and GCS details\n",
    "json_file = \"/mnt/disks/storage/data/finetune_data/clean_9784k.json\"\n",
    "gcs_bucket = \"us-central2-storage\"\n",
    "gcs_prefix = \"tensorflow_datasets/tensorflow_datasets/downloads/manual_cambrian_dataset\"\n",
    "\n",
    "# Convert JSON to Parquet and upload to GCS\n",
    "json_to_parquet_gcs(json_file, gcs_bucket, gcs_prefix)\n",
    "\n",
    "print(\"Conversion and upload complete\")"
   ]
  },
  {
   "cell_type": "code",
   "execution_count": 9,
   "metadata": {},
   "outputs": [
    {
     "name": "stdout",
     "output_type": "stream",
     "text": [
      "Sample 14879:\n",
      "{'id': '000000441407', 'image': 'coco/train2017/000000441407.jpg', 'conversations': array([{'from': 'human', 'value': 'What color is the horse in the image?\\n<image>'},\n",
      "       {'from': 'gpt', 'value': 'The horse in the image is white.'},\n",
      "       {'from': 'human', 'value': 'What is the horse doing in the field?'},\n",
      "       {'from': 'gpt', 'value': 'The horse is standing and grazing on the grass in the field.'},\n",
      "       {'from': 'human', 'value': 'What kind of equipment is the horse wearing?'},\n",
      "       {'from': 'gpt', 'value': \"The horse is wearing a bridle (reigns), which is used to control and guide the horse's movements.\"},\n",
      "       {'from': 'human', 'value': 'Can you explain the purpose of a bridle and how it helps in controlling the horse?'},\n",
      "       {'from': 'gpt', 'value': \"A bridle is an essential piece of equipment used in horse riding and comprises several components, such as the headstall, bit, and reins. The primary purpose of a bridle is to facilitate communication and control between the horse rider and the horse, allowing for effective and safe guidance during various equestrian activities. \\n\\nThe headstall is a part of the bridle that fits over the horse's head and holds the bit in place. The bit is a metal bar or piece that goes inside the horse's mouth and rests on the sensitive bars of their lower jaw. The reins are long straps, typically made of leather, that connect to the bit and are held by the rider. \\n\\nWhen the rider uses the reins by applying pressure, pulling, or giving cues, the bit acts as a lever that sends versatile signals to the horse. The horse can feel even slight changes in the pressure applied by the rider via the bit, enabling precise and nuanced communication. Horses are trained to respond to these signals appropriately. For instance, when the rider pulls gently on the reins, the horse understands that it should slow down or stop.\\n\\nIn summary, the bridle, with its interconnected components like the headstall, bit, and reins, enables the rider to communicate effectively with the horse by applying various cues and pressure points. This communication ensures that the horse knows the rider's wishes and actions, making it an essential tool for controlling and guiding the horse during riding activities.\"}],\n",
      "      dtype=object), 'source': 'sharegpt4v_mix665k_cap23k_coco-ap9k_lcs3k_sam9k_div2k.json'}\n",
      "\n",
      "Total number of samples: 9784416\n"
     ]
    }
   ],
   "source": [
    "import os\n",
    "import pyarrow.parquet as pq\n",
    "from google.cloud import storage\n",
    "import math\n",
    "\n",
    "def download_parquet_files(gcs_bucket, gcs_prefix, local_folder):\n",
    "    \"\"\"Download Parquet files if they don't exist locally.\"\"\"\n",
    "    if not os.path.exists(local_folder):\n",
    "        os.makedirs(local_folder)\n",
    "    \n",
    "    storage_client = storage.Client()\n",
    "    bucket = storage_client.bucket(gcs_bucket)\n",
    "    blobs = bucket.list_blobs(prefix=gcs_prefix)\n",
    "    \n",
    "    for blob in blobs:\n",
    "        if blob.name.endswith('.parquet'):\n",
    "            local_file_path = os.path.join(local_folder, os.path.basename(blob.name))\n",
    "            if not os.path.exists(local_file_path):\n",
    "                print(f\"Downloading {blob.name}...\")\n",
    "                blob.download_to_filename(local_file_path)\n",
    "\n",
    "def get_sample_by_id(sample_id, local_folder, samples_per_file=10000):\n",
    "    \"\"\"Read a sample based on its sample_id.\"\"\"\n",
    "    file_index = sample_id // samples_per_file\n",
    "    file_name = f\"cambrian_dataset_10M_part_{file_index:05d}.parquet\"\n",
    "    file_path = os.path.join(local_folder, file_name)\n",
    "    \n",
    "    if not os.path.exists(file_path):\n",
    "        raise FileNotFoundError(f\"Parquet file {file_name} not found in {local_folder}\")\n",
    "    \n",
    "    table = pq.read_table(file_path)\n",
    "    df = table.to_pandas()\n",
    "    \n",
    "    row_index = sample_id % samples_per_file\n",
    "    if row_index >= len(df):\n",
    "        raise ValueError(f\"Sample ID {sample_id} not found in file {file_name}\")\n",
    "    \n",
    "    return df.iloc[row_index].to_dict()\n",
    "\n",
    "def count_total_samples(local_folder):\n",
    "    \"\"\"Count the total number of samples across all Parquet files.\"\"\"\n",
    "    total_samples = 0\n",
    "    for file_name in os.listdir(local_folder):\n",
    "        if file_name.endswith('.parquet'):\n",
    "            file_path = os.path.join(local_folder, file_name)\n",
    "            table = pq.read_table(file_path)\n",
    "            total_samples += table.num_rows\n",
    "    return total_samples\n",
    "\n",
    "# Configuration\n",
    "gcs_bucket = \"us-central2-storage\"\n",
    "gcs_prefix = \"tensorflow_datasets/tensorflow_datasets/downloads/manual_cambrian_dataset\"\n",
    "local_folder = \"/home/austinwang/manual_cambrian_dataset\"\n",
    "\n",
    "# Check if Parquet files exist locally, if not, download them\n",
    "download_parquet_files(gcs_bucket, gcs_prefix, local_folder)\n",
    "\n",
    "# Example usage\n",
    "\n",
    "# Read a sample\n",
    "sample_id = 14879\n",
    "sample = get_sample_by_id(sample_id, local_folder)\n",
    "print(f\"Sample {sample_id}:\")\n",
    "print(sample)\n",
    "\n",
    "# Count total samples\n",
    "total_samples = count_total_samples(local_folder)\n",
    "print(f\"\\nTotal number of samples: {total_samples}\")"
   ]
  },
  {
   "cell_type": "code",
   "execution_count": null,
   "metadata": {},
   "outputs": [],
   "source": []
  }
 ],
 "metadata": {
  "kernelspec": {
   "display_name": "Python 3",
   "language": "python",
   "name": "python3"
  },
  "language_info": {
   "codemirror_mode": {
    "name": "ipython",
    "version": 3
   },
   "file_extension": ".py",
   "mimetype": "text/x-python",
   "name": "python",
   "nbconvert_exporter": "python",
   "pygments_lexer": "ipython3",
   "version": "3.10.14"
  }
 },
 "nbformat": 4,
 "nbformat_minor": 2
}
