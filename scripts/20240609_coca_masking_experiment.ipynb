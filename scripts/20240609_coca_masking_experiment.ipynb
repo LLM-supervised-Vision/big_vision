{
 "cells": [
  {
   "cell_type": "code",
   "execution_count": 11,
   "metadata": {},
   "outputs": [
    {
     "name": "stdout",
     "output_type": "stream",
     "text": [
      "attn_weights shape: (128, 12, 64, 64)\n",
      "targets shape: (128, 64)\n",
      "mask shape: (128, 1, 64, 64)\n",
      "new_attn_weights shape: (128, 12, 64, 64)\n"
     ]
    }
   ],
   "source": [
    "import jax.numpy as jnp\n",
    "from jax import random\n",
    "from flax.linen import make_causal_mask\n",
    "\n",
    "# Set seed for reproducibility\n",
    "seed = 0\n",
    "key = random.PRNGKey(seed)\n",
    "\n",
    "\n",
    "# Generate simulated attn_weights and targets\n",
    "batch_size = 128\n",
    "sequence_length = 64\n",
    "num_heads = 12\n",
    "attn_weights = random.uniform(key, (batch_size, num_heads, sequence_length, sequence_length))\n",
    "targets = random.uniform(key, (batch_size, sequence_length))\n",
    "print(f\"attn_weights shape: {attn_weights.shape}\")\n",
    "print(f\"targets shape: {targets.shape}\")\n",
    "mask = make_causal_mask(targets)\n",
    "print(f\"mask shape: {mask.shape}\")\n",
    "dtype = jnp.float32\n",
    "big_neg = jnp.finfo(dtype).min\n",
    "new_attn_weights = jnp.where(mask, attn_weights, big_neg)\n",
    "print(f\"new_attn_weights shape: {new_attn_weights.shape}\")"
   ]
  },
  {
   "cell_type": "code",
   "execution_count": 27,
   "metadata": {},
   "outputs": [
    {
     "data": {
      "text/plain": [
       "(Array(31.5, dtype=float32), Array(31.5, dtype=float32))"
      ]
     },
     "execution_count": 27,
     "metadata": {},
     "output_type": "execute_result"
    }
   ],
   "source": [
    "(mask==0).sum()/128/64, (new_attn_weights==big_neg).sum()/128/12/64"
   ]
  },
  {
   "cell_type": "code",
   "execution_count": 32,
   "metadata": {},
   "outputs": [
    {
     "data": {
      "text/plain": [
       "Array([ 7.1978688e-02,  5.0874996e-01, -3.4028235e+38, -3.4028235e+38,\n",
       "       -3.4028235e+38, -3.4028235e+38, -3.4028235e+38, -3.4028235e+38,\n",
       "       -3.4028235e+38, -3.4028235e+38, -3.4028235e+38, -3.4028235e+38,\n",
       "       -3.4028235e+38, -3.4028235e+38, -3.4028235e+38, -3.4028235e+38,\n",
       "       -3.4028235e+38, -3.4028235e+38, -3.4028235e+38, -3.4028235e+38,\n",
       "       -3.4028235e+38, -3.4028235e+38, -3.4028235e+38, -3.4028235e+38,\n",
       "       -3.4028235e+38, -3.4028235e+38, -3.4028235e+38, -3.4028235e+38,\n",
       "       -3.4028235e+38, -3.4028235e+38, -3.4028235e+38, -3.4028235e+38,\n",
       "       -3.4028235e+38, -3.4028235e+38, -3.4028235e+38, -3.4028235e+38,\n",
       "       -3.4028235e+38, -3.4028235e+38, -3.4028235e+38, -3.4028235e+38,\n",
       "       -3.4028235e+38, -3.4028235e+38, -3.4028235e+38, -3.4028235e+38,\n",
       "       -3.4028235e+38, -3.4028235e+38, -3.4028235e+38, -3.4028235e+38,\n",
       "       -3.4028235e+38, -3.4028235e+38, -3.4028235e+38, -3.4028235e+38,\n",
       "       -3.4028235e+38, -3.4028235e+38, -3.4028235e+38, -3.4028235e+38,\n",
       "       -3.4028235e+38, -3.4028235e+38, -3.4028235e+38, -3.4028235e+38,\n",
       "       -3.4028235e+38, -3.4028235e+38, -3.4028235e+38, -3.4028235e+38],      dtype=float32)"
      ]
     },
     "execution_count": 32,
     "metadata": {},
     "output_type": "execute_result"
    }
   ],
   "source": [
    "new_attn_weights[0,2,1,:]"
   ]
  },
  {
   "cell_type": "code",
   "execution_count": 17,
   "metadata": {},
   "outputs": [
    {
     "data": {
      "text/plain": [
       "Array([[1., 1., 1., 0., 0.]], dtype=float32)"
      ]
     },
     "execution_count": 17,
     "metadata": {},
     "output_type": "execute_result"
    }
   ],
   "source": [
    "mask[0,:,2,:5]"
   ]
  },
  {
   "cell_type": "code",
   "execution_count": null,
   "metadata": {},
   "outputs": [],
   "source": []
  }
 ],
 "metadata": {
  "kernelspec": {
   "display_name": "Python 3",
   "language": "python",
   "name": "python3"
  },
  "language_info": {
   "codemirror_mode": {
    "name": "ipython",
    "version": 3
   },
   "file_extension": ".py",
   "mimetype": "text/x-python",
   "name": "python",
   "nbconvert_exporter": "python",
   "pygments_lexer": "ipython3",
   "version": "3.11.8"
  }
 },
 "nbformat": 4,
 "nbformat_minor": 2
}
