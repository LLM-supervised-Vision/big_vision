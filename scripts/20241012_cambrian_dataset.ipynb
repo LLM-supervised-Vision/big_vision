{
 "cells": [
  {
   "cell_type": "code",
   "execution_count": 2,
   "metadata": {},
   "outputs": [
    {
     "data": {
      "text/plain": [
       "(9784416,\n",
       " {'id': '000000033471',\n",
       "  'image': 'coco/train2017/000000033471.jpg',\n",
       "  'conversations': [{'from': 'human',\n",
       "    'value': '<image>\\nWhat are the colors of the bus in the image?'},\n",
       "   {'from': 'gpt', 'value': 'The bus in the image is white and red.'},\n",
       "   {'from': 'human',\n",
       "    'value': 'What feature can be seen on the back of the bus?'},\n",
       "   {'from': 'gpt', 'value': 'The back of the bus features an advertisement.'},\n",
       "   {'from': 'human',\n",
       "    'value': 'Is the bus driving down the street or pulled off to the side?'},\n",
       "   {'from': 'gpt',\n",
       "    'value': 'The bus is driving down the street, which is crowded with people and other vehicles.'}],\n",
       "  'source': 'sharegpt4v_mix665k_cap23k_coco-ap9k_lcs3k_sam9k_div2k.json'})"
      ]
     },
     "execution_count": 2,
     "metadata": {},
     "output_type": "execute_result"
    }
   ],
   "source": [
    "import json\n",
    "\n",
    "cambrian_737k_path = \"/mnt/disks/storage/data/finetune_data/jsons/737k.jsonl\"\n",
    "cambrian_10M_path = \"/mnt/disks/storage/data/finetune_data/clean_9784k.json\"\n",
    "\n",
    "data = []\n",
    "# with open(cambrian_737k_path, 'r') as f:\n",
    "    # for line in f: data.append(json.loads(line))\n",
    "with open(cambrian_10M_path, 'r') as f:\n",
    "    data = json.load(f)\n",
    "len(data),data[0]"
   ]
  },
  {
   "cell_type": "code",
   "execution_count": 16,
   "metadata": {},
   "outputs": [
    {
     "name": "stdout",
     "output_type": "stream",
     "text": [
      "Checking idx: 0\n",
      "len(c) == 2 --> idx: 650722, conv: [{'from': 'human', 'value': 'sentry self hosted api 504'}, {'from': 'gpt', 'text': 'A 504 error when using the Sentry self-hosted API typically indicates that the API request timed out. This means that the server hosting the API did not receive a response from the client within the expected time frame.\\n\\nHere are a few possible reasons for a 504 error when using the Sentry self-hosted API:\\n\\nSlow network connection: The API request may be taking longer than expected due to a slow network connection. Check your network connection and try again.\\n\\nServer overload: The server hosting the API may be overloaded with requests. Try again later when the server load has decreased.\\n\\nLarge dataset: If you are trying to retrieve a large amount of data, the API request may take longer than expected. Try breaking up the request into smaller chunks or optimizing the query to retrieve only the necessary data.\\n\\nAPI endpoint issues: There may be issues with the specific API endpoint you are using. Try using a different endpoint or contact the Sentry support team for assistance.\\n\\nTo resolve a 504 error when using the Sentry self-hosted API, try the following:\\n\\nCheck your network connection and ensure that it is stable.\\n\\nVerify that the server hosting the API is not overloaded with requests.\\n\\nOptimize the query to retrieve only the necessary data.\\n\\nTry using a different API endpoint.\\n\\nIf the issue persists, contact the Sentry support team for assistance.', 'value': 'A 504 error when using the Sentry self-hosted API typically indicates that the API request timed out. This means that the server hosting the API did not receive a response from the client within the expected time frame.\\n\\nHere are a few possible reasons for a 504 error when using the Sentry self-hosted API:\\n\\n1. Slow network connection: The API request may be taking longer than expected due to a slow network connection. Check your network connection and try again.\\n2. Server overload: The server hosting the API may be overloaded with requests. Try again later when the server load has decreased.\\n3. Large dataset: If you are trying to retrieve a large amount of data, the API request may take longer than expected. Try breaking up the request into smaller chunks or optimizing the query to retrieve only the necessary data.\\n4. API endpoint issues: There may be issues with the specific API endpoint you are using. Try using a different endpoint or contact the Sentry support team for assistance.\\n\\nTo resolve a 504 error when using the Sentry self-hosted API, try the following:\\n\\n1. Check your network connection and ensure that it is stable.\\n2. Verify that the server hosting the API is not overloaded with requests.\\n3. Optimize the query to retrieve only the necessary data.\\n4. Try using a different API endpoint.\\n\\nIf the issue persists, contact the Sentry support team for assistance.', 'markdown': {'type': 'answer-markdown', 'index': 1, 'answer': 'A 504 error when using the Sentry self-hosted API typically indicates that the API request timed out. This means that the server hosting the API did not receive a response from the client within the expected time frame.\\n\\nHere are a few possible reasons for a 504 error when using the Sentry self-hosted API:\\n\\n1. Slow network connection: The API request may be taking longer than expected due to a slow network connection. Check your network connection and try again.\\n\\n2. Server overload: The server hosting the API may be overloaded with requests. Try again later when the server load has decreased.\\n\\n3. Large dataset: If you are trying to retrieve a large amount of data, the API request may take longer than expected. Try breaking up the request into smaller chunks or optimizing the query to retrieve only the necessary data.\\n\\n4. API endpoint issues: There may be issues with the specific API endpoint you are using. Try using a different endpoint or contact the Sentry support team for assistance.\\n\\nTo resolve a 504 error when using the Sentry self-hosted API, try the following:\\n\\n1. Check your network connection and ensure that it is stable.\\n\\n2. Verify that the server hosting the API is not overloaded with requests.\\n\\n3. Optimize the query to retrieve only the necessary data.\\n\\n4. Try using a different API endpoint.\\n\\nIf the issue persists, contact the Sentry support team for assistance.'}}]\n",
      "{'id': '1EXEvy0_0', 'model': '', 'conversations': [{'from': 'human', 'value': 'sentry self hosted api 504'}, {'from': 'gpt', 'text': 'A 504 error when using the Sentry self-hosted API typically indicates that the API request timed out. This means that the server hosting the API did not receive a response from the client within the expected time frame.\\n\\nHere are a few possible reasons for a 504 error when using the Sentry self-hosted API:\\n\\nSlow network connection: The API request may be taking longer than expected due to a slow network connection. Check your network connection and try again.\\n\\nServer overload: The server hosting the API may be overloaded with requests. Try again later when the server load has decreased.\\n\\nLarge dataset: If you are trying to retrieve a large amount of data, the API request may take longer than expected. Try breaking up the request into smaller chunks or optimizing the query to retrieve only the necessary data.\\n\\nAPI endpoint issues: There may be issues with the specific API endpoint you are using. Try using a different endpoint or contact the Sentry support team for assistance.\\n\\nTo resolve a 504 error when using the Sentry self-hosted API, try the following:\\n\\nCheck your network connection and ensure that it is stable.\\n\\nVerify that the server hosting the API is not overloaded with requests.\\n\\nOptimize the query to retrieve only the necessary data.\\n\\nTry using a different API endpoint.\\n\\nIf the issue persists, contact the Sentry support team for assistance.', 'value': 'A 504 error when using the Sentry self-hosted API typically indicates that the API request timed out. This means that the server hosting the API did not receive a response from the client within the expected time frame.\\n\\nHere are a few possible reasons for a 504 error when using the Sentry self-hosted API:\\n\\n1. Slow network connection: The API request may be taking longer than expected due to a slow network connection. Check your network connection and try again.\\n2. Server overload: The server hosting the API may be overloaded with requests. Try again later when the server load has decreased.\\n3. Large dataset: If you are trying to retrieve a large amount of data, the API request may take longer than expected. Try breaking up the request into smaller chunks or optimizing the query to retrieve only the necessary data.\\n4. API endpoint issues: There may be issues with the specific API endpoint you are using. Try using a different endpoint or contact the Sentry support team for assistance.\\n\\nTo resolve a 504 error when using the Sentry self-hosted API, try the following:\\n\\n1. Check your network connection and ensure that it is stable.\\n2. Verify that the server hosting the API is not overloaded with requests.\\n3. Optimize the query to retrieve only the necessary data.\\n4. Try using a different API endpoint.\\n\\nIf the issue persists, contact the Sentry support team for assistance.', 'markdown': {'type': 'answer-markdown', 'index': 1, 'answer': 'A 504 error when using the Sentry self-hosted API typically indicates that the API request timed out. This means that the server hosting the API did not receive a response from the client within the expected time frame.\\n\\nHere are a few possible reasons for a 504 error when using the Sentry self-hosted API:\\n\\n1. Slow network connection: The API request may be taking longer than expected due to a slow network connection. Check your network connection and try again.\\n\\n2. Server overload: The server hosting the API may be overloaded with requests. Try again later when the server load has decreased.\\n\\n3. Large dataset: If you are trying to retrieve a large amount of data, the API request may take longer than expected. Try breaking up the request into smaller chunks or optimizing the query to retrieve only the necessary data.\\n\\n4. API endpoint issues: There may be issues with the specific API endpoint you are using. Try using a different endpoint or contact the Sentry support team for assistance.\\n\\nTo resolve a 504 error when using the Sentry self-hosted API, try the following:\\n\\n1. Check your network connection and ensure that it is stable.\\n\\n2. Verify that the server hosting the API is not overloaded with requests.\\n\\n3. Optimize the query to retrieve only the necessary data.\\n\\n4. Try using a different API endpoint.\\n\\nIf the issue persists, contact the Sentry support team for assistance.'}}], 'source': 'sharegpt4v_mix665k_cap23k_coco-ap9k_lcs3k_sam9k_div2k.json'}\n",
      "Checking idx: 1000000\n",
      "Checking idx: 2000000\n",
      "Checking idx: 3000000\n",
      "Checking idx: 4000000\n",
      "Checking idx: 5000000\n",
      "Checking idx: 6000000\n",
      "Checking idx: 7000000\n",
      "Checking idx: 8000000\n",
      "len(c) == 2 --> idx: 8373916, conv: [{'from': 'human', 'value': '<image> What mathematical principles can be explored using the angle \\\\\\\\(\\\\'}, {'from': 'gpt', 'value': 'The angle \\\\\\\\(\\\\', ' can offer insightful applications in understanding external angles and their properties. According to the external angle theorem, \\\\\\\\(\\\\': '  ,  is equal to the sum of the two non-adjacent internal angles of the triangle. Analyzing this angle provides insight into the internal geometry of the triangle and can help validate theories regarding the sum of angles in a triangle.'}, {'from': 'human', 'value': 'How does the perpendicularity of l1 and l3 contribute to solving geometrical problems?'}, {'from': 'gpt', 'value': 'The perpendicularity of lines l1 and l3 is crucial as it creates a right angle, which is fundamental in many geometrical calculations. For instance, it facilitates the use of Pythagorean theorem when calculating distances, and it simplifies the determination of other angles through trigonometric relationships. Additionally, it can prove or disprove assumptions made in vector analysis and coordinate geometry.'}]\n",
      "{'id': '5383', 'image': 'geo170k/images/geoqa_plus/11337.png', 'conversations': [{'from': 'human', 'value': '<image> What mathematical principles can be explored using the angle \\\\\\\\(\\\\'}, {'from': 'gpt', 'value': 'The angle \\\\\\\\(\\\\', ' can offer insightful applications in understanding external angles and their properties. According to the external angle theorem, \\\\\\\\(\\\\': '  ,  is equal to the sum of the two non-adjacent internal angles of the triangle. Analyzing this angle provides insight into the internal geometry of the triangle and can help validate theories regarding the sum of angles in a triangle.'}, {'from': 'human', 'value': 'How does the perpendicularity of l1 and l3 contribute to solving geometrical problems?'}, {'from': 'gpt', 'value': 'The perpendicularity of lines l1 and l3 is crucial as it creates a right angle, which is fundamental in many geometrical calculations. For instance, it facilitates the use of Pythagorean theorem when calculating distances, and it simplifies the determination of other angles through trigonometric relationships. Additionally, it can prove or disprove assumptions made in vector analysis and coordinate geometry.'}], 'source': 'gpt77k.json'}\n",
      "len(conv) % 2 == 0 --> idx: 8387299, conv: [{'from': 'human', 'value': '<image> What might be the implications of this lighting for a photographer?'}]\n",
      "{'id': '878', 'image': 'Q-Instruct-DB/spaq_koniq/07826.jpg', 'conversations': [{'from': 'human', 'value': '<image> What might be the implications of this lighting for a photographer?'}], 'source': 'gpt77k.json'}\n",
      "len(conv) % 2 == 0 --> idx: 8390777, conv: [{'from': 'human', 'value': '<image> How does the environment influence the mood of this image?'}]\n",
      "{'id': '4357', 'image': 'web-celebrity/images/Aaron_Paul2.jpg', 'conversations': [{'from': 'human', 'value': '<image> How does the environment influence the mood of this image?'}], 'source': 'gpt77k.json'}\n",
      "Checking idx: 9000000\n"
     ]
    }
   ],
   "source": [
    "count = 10\n",
    "for idx in range(len(data)):\n",
    "    if idx % 1e6 == 0: print(f\"Checking idx: {idx}\")\n",
    "    conv = data[idx]['conversations']\n",
    "    # assert conv is a list of dicts\n",
    "\n",
    "    try:\n",
    "        assert isinstance(conv, list), f\"isinstance(conv, list) --> idx: {idx}, conv: {conv}\"\n",
    "        for i,c in enumerate(conv):\n",
    "            assert isinstance(c, dict), f\"isinstance(c, dict) --> idx: {idx}, conv: {conv}\"\n",
    "            # assert c is a dict with keys 'from' and 'value'\n",
    "            assert 'from' in c, f\"'from' in c --> idx: {idx}, conv: {conv}\"\n",
    "            assert 'value' in c, f\"'value' in c --> idx: {idx}, conv: {conv}\"\n",
    "            # assert 'from' value is one of 'human' and 'gpt'\n",
    "            assert c['from'] in ['human', 'gpt'], f\"c['from'] in ['human', 'gpt'] --> idx: {idx}, conv: {conv}\"\n",
    "            # assert 'value' is a string\n",
    "            assert isinstance(c['value'], str), f\"isinstance(c['value'], str) --> idx: {idx}, conv: {conv}\"\n",
    "            # assert c only has 'from' and 'value' keys\n",
    "            assert len(c) == 2, f\"len(c) == 2 --> idx: {idx}, conv: {conv}\"\n",
    "\n",
    "            if i % 2 == 0:\n",
    "                # assert 'from' is 'human' for even index\n",
    "                assert c['from'] == 'human', f\"c['from'] == 'human' --> idx: {idx}, conv: {conv}\"\n",
    "            else:\n",
    "                # assert 'from' is 'gpt' for odd index\n",
    "                assert c['from'] == 'gpt', f\"c['from'] == 'gpt' --> idx: {idx}, conv: {conv}\"\n",
    "        # assert len(conv) % 2 == 0\n",
    "        assert len(conv) % 2 == 0, f\"len(conv) % 2 == 0 --> idx: {idx}, conv: {conv}\"\n",
    "    except AssertionError as e:\n",
    "        print(e)\n",
    "        print(data[idx])\n",
    "        count -= 1\n",
    "        if count == 0: break"
   ]
  },
  {
   "cell_type": "code",
   "execution_count": 10,
   "metadata": {},
   "outputs": [
    {
     "data": {
      "text/plain": [
       "{'id': '1EXEvy0_0',\n",
       " 'model': '',\n",
       " 'conversations': [{'from': 'human', 'value': 'sentry self hosted api 504'},\n",
       "  {'from': 'gpt',\n",
       "   'text': 'A 504 error when using the Sentry self-hosted API typically indicates that the API request timed out. This means that the server hosting the API did not receive a response from the client within the expected time frame.\\n\\nHere are a few possible reasons for a 504 error when using the Sentry self-hosted API:\\n\\nSlow network connection: The API request may be taking longer than expected due to a slow network connection. Check your network connection and try again.\\n\\nServer overload: The server hosting the API may be overloaded with requests. Try again later when the server load has decreased.\\n\\nLarge dataset: If you are trying to retrieve a large amount of data, the API request may take longer than expected. Try breaking up the request into smaller chunks or optimizing the query to retrieve only the necessary data.\\n\\nAPI endpoint issues: There may be issues with the specific API endpoint you are using. Try using a different endpoint or contact the Sentry support team for assistance.\\n\\nTo resolve a 504 error when using the Sentry self-hosted API, try the following:\\n\\nCheck your network connection and ensure that it is stable.\\n\\nVerify that the server hosting the API is not overloaded with requests.\\n\\nOptimize the query to retrieve only the necessary data.\\n\\nTry using a different API endpoint.\\n\\nIf the issue persists, contact the Sentry support team for assistance.',\n",
       "   'value': 'A 504 error when using the Sentry self-hosted API typically indicates that the API request timed out. This means that the server hosting the API did not receive a response from the client within the expected time frame.\\n\\nHere are a few possible reasons for a 504 error when using the Sentry self-hosted API:\\n\\n1. Slow network connection: The API request may be taking longer than expected due to a slow network connection. Check your network connection and try again.\\n2. Server overload: The server hosting the API may be overloaded with requests. Try again later when the server load has decreased.\\n3. Large dataset: If you are trying to retrieve a large amount of data, the API request may take longer than expected. Try breaking up the request into smaller chunks or optimizing the query to retrieve only the necessary data.\\n4. API endpoint issues: There may be issues with the specific API endpoint you are using. Try using a different endpoint or contact the Sentry support team for assistance.\\n\\nTo resolve a 504 error when using the Sentry self-hosted API, try the following:\\n\\n1. Check your network connection and ensure that it is stable.\\n2. Verify that the server hosting the API is not overloaded with requests.\\n3. Optimize the query to retrieve only the necessary data.\\n4. Try using a different API endpoint.\\n\\nIf the issue persists, contact the Sentry support team for assistance.',\n",
       "   'markdown': {'type': 'answer-markdown',\n",
       "    'index': 1,\n",
       "    'answer': 'A 504 error when using the Sentry self-hosted API typically indicates that the API request timed out. This means that the server hosting the API did not receive a response from the client within the expected time frame.\\n\\nHere are a few possible reasons for a 504 error when using the Sentry self-hosted API:\\n\\n1. Slow network connection: The API request may be taking longer than expected due to a slow network connection. Check your network connection and try again.\\n\\n2. Server overload: The server hosting the API may be overloaded with requests. Try again later when the server load has decreased.\\n\\n3. Large dataset: If you are trying to retrieve a large amount of data, the API request may take longer than expected. Try breaking up the request into smaller chunks or optimizing the query to retrieve only the necessary data.\\n\\n4. API endpoint issues: There may be issues with the specific API endpoint you are using. Try using a different endpoint or contact the Sentry support team for assistance.\\n\\nTo resolve a 504 error when using the Sentry self-hosted API, try the following:\\n\\n1. Check your network connection and ensure that it is stable.\\n\\n2. Verify that the server hosting the API is not overloaded with requests.\\n\\n3. Optimize the query to retrieve only the necessary data.\\n\\n4. Try using a different API endpoint.\\n\\nIf the issue persists, contact the Sentry support team for assistance.'}}],\n",
       " 'source': 'sharegpt4v_mix665k_cap23k_coco-ap9k_lcs3k_sam9k_div2k.json'}"
      ]
     },
     "execution_count": 10,
     "metadata": {},
     "output_type": "execute_result"
    }
   ],
   "source": [
    "data[650722]"
   ]
  },
  {
   "cell_type": "code",
   "execution_count": 22,
   "metadata": {},
   "outputs": [
    {
     "data": {
      "text/plain": [
       "dict_values(['gpt', 'The angle \\\\\\\\(\\\\', '  ,  is equal to the sum of the two non-adjacent internal angles of the triangle. Analyzing this angle provides insight into the internal geometry of the triangle and can help validate theories regarding the sum of angles in a triangle.'])"
      ]
     },
     "execution_count": 22,
     "metadata": {},
     "output_type": "execute_result"
    }
   ],
   "source": [
    "data[8373916]['conversations'][1].values()"
   ]
  },
  {
   "cell_type": "code",
   "execution_count": null,
   "metadata": {},
   "outputs": [],
   "source": []
  }
 ],
 "metadata": {
  "kernelspec": {
   "display_name": "Python 3",
   "language": "python",
   "name": "python3"
  },
  "language_info": {
   "codemirror_mode": {
    "name": "ipython",
    "version": 3
   },
   "file_extension": ".py",
   "mimetype": "text/x-python",
   "name": "python",
   "nbconvert_exporter": "python",
   "pygments_lexer": "ipython3",
   "version": "3.10.14"
  }
 },
 "nbformat": 4,
 "nbformat_minor": 2
}
