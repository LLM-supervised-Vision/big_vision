{
 "cells": [
  {
   "cell_type": "code",
   "execution_count": 1,
   "metadata": {},
   "outputs": [
    {
     "name": "stdout",
     "output_type": "stream",
     "text": [
      "True eos indices: [1 2 2 2 3 3 3 3 1 1 1 3 3 1 2 1 2 2 3 2 2 3 1 1 3 1 2 1 3 2 3 3 3 3 2 1 2\n",
      " 2 2 1 2 2 2 2 3 1 1 2 1 1 3 2 1 3 3 3 2 2 2 1 1 2 1 3 2 1 3 2 3 1 3 1 2 2\n",
      " 2 3 1 3 3 2 3 1 3 2 2 1 2 2 3 2 1 3 2 2 2 2 1 3 1 2 2 3 3 2 3 3 3 1 3 3 2\n",
      " 3 3 2 3 1 2 2 1 3 2 1 3 2 1 3 1 3]\n",
      "Targets shape: (128, 4)\n"
     ]
    }
   ],
   "source": [
    "import jax.numpy as jnp\n",
    "from jax import random\n",
    "\n",
    "def shift_right(x, axis=1, constant_values=0):\n",
    "  \"\"\"Shift to the right on given axis with padding value 0.\"\"\"\n",
    "  pad_widths = [(0, 0)] * len(x.shape)\n",
    "  pad_widths[axis] = (1, 0)\n",
    "  padded = jnp.pad(x, pad_widths, constant_values=constant_values)\n",
    "  # Cuts off the rightmost slice of size along the `axis` dimension.\n",
    "  # Note that `list[:-1]`` is the same as `list[slice(-1)]`.\n",
    "  return padded[tuple(slice(-1 if i == axis else None) for i in range(x.ndim))]\n",
    "\n",
    "# Set seed for reproducibility\n",
    "seed = 0\n",
    "key = random.PRNGKey(seed)\n",
    "\n",
    "# Generate simulated targets\n",
    "batch_size = 128\n",
    "sequence_length = 4\n",
    "embedding_size = 768\n",
    "\n",
    "# Parameters for the special tokens\n",
    "eos_id = 1\n",
    "pad_id = 0\n",
    "\n",
    "# Generating non-padded parts of the sequence with random IDs (excluding 0 and 1)\n",
    "non_pad_tokens = random.randint(key, (batch_size, sequence_length), minval=2, maxval=100)\n",
    "\n",
    "# Generate the ground truth eos indices\n",
    "true_eos_indices = random.randint(key, (batch_size,), minval=1, maxval=sequence_length)\n",
    "print(\"True eos indices:\", true_eos_indices)\n",
    "\n",
    "# Generate the targets by replacing the token at the eos index with the eos token and padding the rest\n",
    "targets = jnp.array([jnp.concatenate((non_pad_tokens[i, :true_eos_indices[i]], jnp.array([eos_id]), jnp.full(sequence_length - true_eos_indices[i] - 1, pad_id))) for i in range(batch_size)])\n",
    "print(\"Targets shape:\", targets.shape)"
   ]
  },
  {
   "cell_type": "code",
   "execution_count": 2,
   "metadata": {},
   "outputs": [
    {
     "name": "stdout",
     "output_type": "stream",
     "text": [
      "Shifted targets shape: (128, 4)\n"
     ]
    },
    {
     "name": "stdout",
     "output_type": "stream",
     "text": [
      "True eos indices: [1 2 2 2 3 3 3 3 1 1 1 3 3 1 2 1 2 2 3 2 2 3 1 1 3 1 2 1 3 2 3 3 3 3 2 1 2\n",
      " 2 2 1 2 2 2 2 3 1 1 2 1 1 3 2 1 3 3 3 2 2 2 1 1 2 1 3 2 1 3 2 3 1 3 1 2 2\n",
      " 2 3 1 3 3 2 3 1 3 2 2 1 2 2 3 2 1 3 2 2 2 2 1 3 1 2 2 3 3 2 3 3 3 1 3 3 2\n",
      " 3 3 2 3 1 2 2 1 3 2 1 3 2 1 3 1 3]\n",
      "Indices of eos tokens: [2 3 3 3 2 2 2 2 3 2 3 3 3 3 2 2 2 3 2 3 3 2 3 3 3 2 3 3 3 3 2 2 3 2 2 3 2\n",
      " 3 3 3 2 2 3 2 3 2 3 2 2 3 3 3 2 3 2 3 3 2 3 3 3 2 3 3 3 3 2 2 3 3 3 2 3 3\n",
      " 2 3 3 2 3 2 3 2 2 0 0 0 0 0 0 0 0 0 0 0 0 0 0 0 0 0 0 0 0 0 0 0 0 0 0 0 0\n",
      " 0 0 0 0 0 0 0 0 0 0 0 0 0 0 0 0 0]\n",
      "Check if the indices match the last position of each sequence:\n",
      "[ True  True  True  True False False False False False  True False False\n",
      " False False False  True False  True False  True  True False False False\n",
      " False  True  True False False  True False False False False False False\n",
      " False  True  True False False False  True False False  True False False\n",
      "  True False False  True  True False False False  True False  True False\n",
      " False False False False  True False False False False False False  True\n",
      "  True  True False False False False False False False  True False False\n",
      " False False False False False False False False False False False False\n",
      " False False False False False False False False False False False False\n",
      " False False False False False False False False False False False False\n",
      " False False False False False False False False]\n"
     ]
    }
   ],
   "source": [
    "shifted_targets = shift_right(targets)\n",
    "print(\"Shifted targets shape:\", shifted_targets.shape)\n",
    "\n",
    "# Your implementation to extract cls token features\n",
    "eos_indices = jnp.where(shifted_targets == eos_id, size=128)  # This should now identify only the final eos tokens\n",
    "\n",
    "# Print some outputs to verify\n",
    "print(\"True eos indices:\", true_eos_indices)\n",
    "print(\"Indices of eos tokens:\", eos_indices[1])\n",
    "\n",
    "# Optional: Verify if the indices match the expected positions (all should be at the last index)\n",
    "print(\"Check if the indices match the last position of each sequence:\")\n",
    "print(eos_indices[1] == true_eos_indices+1)\n"
   ]
  },
  {
   "cell_type": "code",
   "execution_count": 14,
   "metadata": {},
   "outputs": [
    {
     "name": "stdout",
     "output_type": "stream",
     "text": [
      "unimodal_decoder_mask shape: (128, 1, 5, 5)\n",
      "new_cls_mask shape: (128, 1, 5, 5)\n"
     ]
    }
   ],
   "source": [
    "import flax.linen as nn\n",
    "from flax.linen import make_causal_mask\n",
    "\n",
    "unimodal_decoder_mask = nn.make_causal_mask(jnp.empty((targets.shape[0], targets.shape[1]+1))) # [B,1,L+1,L+1]\n",
    "print(f\"unimodal_decoder_mask shape: {unimodal_decoder_mask.shape}\")\n",
    "\n",
    "cls_mask = unimodal_decoder_mask[:,:,-1,:-1].squeeze() # [B,L]\n",
    "new_cls_mask = jnp.where(targets == 0, 0, cls_mask) # [B,L]\n",
    "new_cls_mask = jnp.pad(new_cls_mask, ((0,0),(0,1)), mode='constant', constant_values=1) # [B,L+1]\n",
    "new_cls_mask = new_cls_mask[:,None,None,:] # [B,1,1,L+1]\n",
    "new_cls_mask = jnp.pad(new_cls_mask, ((0,0),(0,0),(targets.shape[1],0),(0,0)), mode='constant', constant_values=0)\n",
    "print(f\"new_cls_mask shape: {new_cls_mask.shape}\")\n",
    "final_unimodal_decoder_mask = jnp.concatenate((unimodal_decoder_mask[:,:,:-1,:], new_cls_mask[:,:,-1:,:]), axis=-2)\n"
   ]
  },
  {
   "cell_type": "code",
   "execution_count": 15,
   "metadata": {},
   "outputs": [
    {
     "data": {
      "text/plain": [
       "(Array([ 0, 61, 20,  1], dtype=int32),\n",
       " Array([61, 20,  1,  0], dtype=int32),\n",
       " Array([[[1., 0., 0., 0., 0.],\n",
       "         [1., 1., 0., 0., 0.],\n",
       "         [1., 1., 1., 0., 0.],\n",
       "         [1., 1., 1., 1., 0.],\n",
       "         [1., 1., 1., 1., 1.]]], dtype=float32),\n",
       " Array([[[0., 0., 0., 0., 0.],\n",
       "         [0., 0., 0., 0., 0.],\n",
       "         [0., 0., 0., 0., 0.],\n",
       "         [0., 0., 0., 0., 0.],\n",
       "         [1., 1., 1., 0., 1.]]], dtype=float32),\n",
       " Array([[[1., 0., 0., 0., 0.],\n",
       "         [1., 1., 0., 0., 0.],\n",
       "         [1., 1., 1., 0., 0.],\n",
       "         [1., 1., 1., 1., 0.],\n",
       "         [1., 1., 1., 0., 1.]]], dtype=float32))"
      ]
     },
     "execution_count": 15,
     "metadata": {},
     "output_type": "execute_result"
    }
   ],
   "source": [
    "idx = 1\n",
    "shifted_targets[idx], targets[idx], unimodal_decoder_mask[idx], new_cls_mask[idx], final_unimodal_decoder_mask[idx]"
   ]
  },
  {
   "cell_type": "code",
   "execution_count": null,
   "metadata": {},
   "outputs": [],
   "source": []
  }
 ],
 "metadata": {
  "kernelspec": {
   "display_name": "Python 3",
   "language": "python",
   "name": "python3"
  },
  "language_info": {
   "codemirror_mode": {
    "name": "ipython",
    "version": 3
   },
   "file_extension": ".py",
   "mimetype": "text/x-python",
   "name": "python",
   "nbconvert_exporter": "python",
   "pygments_lexer": "ipython3",
   "version": "3.11.8"
  }
 },
 "nbformat": 4,
 "nbformat_minor": 2
}
